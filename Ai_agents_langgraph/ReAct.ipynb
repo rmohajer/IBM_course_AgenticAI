{
 "cells": [
  {
   "cell_type": "markdown",
   "id": "e3796875-c1d8-4937-99ae-7aa19d219946",
   "metadata": {},
   "source": [
    "<p style=\"text-align:center\">\n",
    "    <a href=\"https://skills.network\" target=\"_blank\">\n",
    "    <img src=\"https://cf-courses-data.s3.us.cloud-object-storage.appdomain.cloud/assets/logos/SN_web_lightmode.png\" width=\"200\" alt=\"Skills Network Logo\"  />\n",
    "    </a>\n",
    "</p>\n"
   ]
  },
  {
   "cell_type": "markdown",
   "id": "11c34494-5c4a-412d-b4f4-255def6ac88d",
   "metadata": {},
   "source": [
    "# **ReAct: Build Reasoning and Acting AI Agents with LangGraph**\n"
   ]
  },
  {
   "cell_type": "markdown",
   "id": "77238188-3b6e-4147-a6de-850c9989ed5b",
   "metadata": {},
   "source": [
    "Estimated time needed: **90** minutes\n"
   ]
  },
  {
   "cell_type": "markdown",
   "id": "07e89b75-c518-4a87-b607-b2d6f7865d2f",
   "metadata": {},
   "source": [
    "You're a software engineer on a mission: build an AI agent that doesn't just respond—it thinks. In this lab, you'll step into the role of an AI architect, designing a smart assistant that solves tough problems by reasoning through them and taking purposeful actions.\n",
    "\n",
    "Using the ReAct (Reasoning + Acting) framework, you'll teach your agent to think step by step, consult tools like search engines or calculators, and adapt on the fly. It’s not just about answers—it’s about how the agent gets there.\n",
    "\n",
    "By the end of the lab, your AI will face a mystery that can’t be solved with knowledge alone. It will need logic, resourcefulness, and the ability to act—just like you, the engineer who built it.\n",
    "\n",
    "## What is ReAct?\n",
    "\n",
    "**ReAct** stands for **Reasoning + Acting**. It's a framework that combines:\n",
    "\n",
    "1. **Reasoning**: The agent thinks through problems step by step, maintaining an internal dialogue about what it needs to do.\n",
    "2. **Acting**: The agent can use external tools (search engines, calculators, APIs) to gather information or perform actions.\n",
    "3. **Observing**: The agent processes the results from its actions and incorporates them into its reasoning.\n",
    "\n",
    "This creates a powerful loop: **Think → Act → Observe → Think → Act → ...**\n",
    "\n",
    "### Why ReAct Matters\n",
    "\n",
    "Traditional language models are limited by their training data cutoff and can't access real-time information. ReAct agents overcome this by:\n",
    "- Accessing current information through web searches\n",
    "- Performing calculations with specialized tools\n",
    "- Breaking down complex problems into manageable steps\n",
    "- Adapting their approach based on intermediate results\n"
   ]
  },
  {
   "cell_type": "markdown",
   "id": "de78c22f-b389-42cc-8e32-f477cb95ef45",
   "metadata": {},
   "source": [
    "## __Table of Contents__\n",
    "\n",
    "<ol>\n",
    "    <li><a href=\"#Objectives\">Objectives</a></li>\n",
    "    <li>\n",
    "        <a href=\"#Setup-&-Installation\">Setup & Installation</a>\n",
    "        <ol>\n",
    "            <li><a href=\"#Installing-Required-Libraries\">Installing Required Libraries</a></li>\n",
    "            <li><a href=\"#Importing-Required-Libraries\">Importing Required Libraries</a></li>\n",
    "        </ol>\n",
    "    </li>\n",
    "    <li>\n",
    "        <a href=\"#Understanding-Tools-in-ReAct\">Understanding Tools in ReAct</a>\n",
    "        <ol>\n",
    "            <li><a href=\"#1.-Web-Search-Tool\">1. Web Search Tool</a></li>\n",
    "            <li><a href=\"#Theory-behind-Web-Search-Tools\">Theory behind Web Search Tools</a></li>\n",
    "            <li><a href=\"#Testing-the-Search-Tool\">Testing the Search Tool</a></li>\n",
    "            <li><a href=\"#2.-Clothing-Recommendation-Tool\">2. Clothing Recommendation Tool</a></li>\n",
    "            <li><a href=\"#Why-this-Tool-Matters\">Why this Tool Matters</a></li>\n",
    "            <li><a href=\"#Creating-the-tool-Registry\">Creating the tool Registry</a></li>\n",
    "        </ol>\n",
    "    </li>\n",
    "    <li>\n",
    "        <a href=\"#Setting-up-the-Language-Model\">Setting up the Language Model</a>\n",
    "        <ol>\n",
    "            <li><a href=\"#Initializing-the-AI-Model\">Initializing the AI Model</a></li>\n",
    "            <li><a href=\"#Creating-the-System-Prompt\">Creating the System Prompt</a></li>\n",
    "            <li><a href=\"#The-System-Prompt's-Role\">The System Prompt's Role</a></li>\n",
    "            <li><a href=\"#Binding-Tools-to-the-Model\">Binding Tools to the Model</a></li>\n",
    "            <li>\n",
    "                <a href=\"#Understanding-Agent-State\">Understanding Agent State</a>\n",
    "                <ol>\n",
    "                    <li><a href=\"#What-is-Agent-State?\">What is Agent State?</a></li>\n",
    "                    <li><a href=\"#Demonstrating-State-Management\">Demonstrating State Management</a></li>\n",
    "                </ol>\n",
    "            </li>\n",
    "            <li>\n",
    "                <a href=\"#Manual-ReAct-Execution-(Understanding-the-Flow)\">Manual ReAct Execution (Understanding the Flow)</a>\n",
    "                <ol>\n",
    "                    <li><a href=\"#Step-1:-Initial-Query-Processing\">Step 1: Initial Query Processing</a></li>\n",
    "                    <li><a href=\"#Step-2:-Tool-Execution\">Step 2: Tool Execution</a></li>\n",
    "                    <li><a href=\"#Step-3:-Processing-Results-and-Next-Action\">Step 3: Processing Results and Next Action</a></li>\n",
    "                    <li><a href=\"#Step-4:-Final-Response-Generation\">Step 4: Final Response Generation</a></li>\n",
    "                </ol>\n",
    "            </li>\n",
    "            <li>\n",
    "                <a href=\"#Automating-ReAct-with-Graphs\">Automating ReAct with Graphs</a>\n",
    "                <ol>\n",
    "                    <li><a href=\"#Why-Use-Graphs?\">Why Use Graphs?</a></li>\n",
    "                    <li><a href=\"#Building-the-Core-Functions\">Building the Core Functions</a></li>\n",
    "                    <li><a href=\"#Constructing-the-State-Graph\">Constructing the State Graph</a></li>\n",
    "                    <li><a href=\"#Visualizing-the-Graph\">Visualizing the Graph</a></li>\n",
    "                </ol>\n",
    "            </li>\n",
    "            <li>\n",
    "                <a href=\"#Running-the-Complete-ReAct-Agent\">Running the Complete ReAct Agent</a>\n",
    "                <ol>\n",
    "                    <li><a href=\"#Final-Execution\">Final Execution</a></li>\n",
    "                    <li><a href=\"#The-Complete-ReAct-Cycle\">The Complete ReAct Cycle</a></li>\n",
    "                </ol>\n",
    "            </li>\n",
    "        </ol>\n",
    "    </li>\n",
    "    <li>\n",
    "        <a href=\"#Key-Takeaways\">Key Takeaways</a>\n",
    "        <ol>\n",
    "            <li><a href=\"#What-Makes-ReAct-Powerful\">What Makes ReAct Powerful</a></li>\n",
    "            <li><a href=\"#Best-Practices\">Best Practices</a></li>\n",
    "        </ol>\n",
    "    </li>\n",
    "    <li>\n",
    "        <a href=\"#Exercises\">Exercises</a>\n",
    "        <ol>\n",
    "            <li><a href=\"#Exercise-1---Build-a-Calculator-Tool\">Exercise 1 - Build a Calculator Tool</a></li>\n",
    "            <li><a href=\"#Exercise-2---Create-a-News-Summary-Tool\">Exercise 2 - Create a News Summary Tool</a></li>\n",
    "        </ol>\n",
    "    </li>\n",
    "    <li><a href=\"#Testing-Your-Solutions\">Testing Your Solutions</a></li>\n",
    "    <li><a href=\"#Authors\">Authors</a></li>\n",
    "</ol>\n"
   ]
  },
  {
   "cell_type": "markdown",
   "id": "85210caf-3e14-4c8c-a7e0-e00b3f5a319a",
   "metadata": {},
   "source": [
    "## Objectives\n",
    "\n",
    "After completing this lab you will be able to:\n",
    "\n",
    " - Use the ReAct framework to solve multi-step problems with external tools\n",
    " - Teach an AI agent to reason step by step, take actions, and adapt based on results\n",
    " - Build a smart assistant that can handle tasks requiring logic and tool use\n"
   ]
  },
  {
   "cell_type": "markdown",
   "id": "154bfa6b-562d-446b-9a5f-a05e6bbd8001",
   "metadata": {},
   "source": [
    "----\n"
   ]
  },
  {
   "cell_type": "markdown",
   "id": "ccb96a35-34d3-4f1c-9d75-549250d705e6",
   "metadata": {},
   "source": [
    "## Setup & Installation\n"
   ]
  },
  {
   "cell_type": "markdown",
   "id": "3935b2ba-bff1-40ed-b5be-c4fe5bc13bac",
   "metadata": {},
   "source": [
    "For this lab, we will be using the following libraries:\n",
    "\n",
    "\n",
    "- [`LangGraph`](https://www.langchain.com/langgraph): A framework for building stateful, multi-step AI applications using graphs.\n",
    "- [`LangChain`](https://www.langchain.com/): A toolkit that provides tools and abstractions for working with language models.\n",
    "- [`LangChain-OpenAI`](https://python.langchain.com/docs/integrations/llms/openai/): OpenAI integration for LangChain.\n",
    "- [`LangChain-Community`](https://python.langchain.com/api_reference/community/index.html): Community-contributed tools and integrations.\n"
   ]
  },
  {
   "cell_type": "markdown",
   "id": "99bd93a7-1841-44c7-a35f-5b60ae574764",
   "metadata": {},
   "source": [
    "### Installing Required Libraries\n"
   ]
  },
  {
   "cell_type": "code",
   "execution_count": null,
   "id": "948024c8-6100-4911-bf8b-bb68250c577f",
   "metadata": {},
   "outputs": [],
   "source": [
    "!pip install -U langgraph langchain-openai"
   ]
  },
  {
   "cell_type": "code",
   "execution_count": null,
   "id": "07d2a397-1daf-4353-a3a1-868fb7300b35",
   "metadata": {},
   "outputs": [],
   "source": [
    "%%capture\n",
    "!pip install langgraph==0.3.34 langchain-openai==0.3.14 langchainhub==0.1.21 langchain==0.3.24 pygraphviz==1.14 langchain-community==0.3.23"
   ]
  },
  {
   "cell_type": "markdown",
   "id": "25305998-7bb9-47da-a455-bf29b5e81f88",
   "metadata": {},
   "source": [
    "### Understanding Tools in ReAct\n",
    "\n",
    "Tools are the \"acting\" part of ReAct. They give the agent capabilities beyond just generating text. Let's build two essential tools:\n",
    "\n",
    "#### 1. Web Search Tool\n",
    "### Tavily Search API Key Setup\n",
    "\n",
    "We'll use Tavily search as our external research tool. You can get an API key at https://app.tavily.com/sign-in   \n",
    "\n",
    "\n",
    "**Disclaimer:** Signing up for Tavily provides you with free credits, more than enough for this project's needs. If you require additional credits for further use, please add them at your own discretion.\n",
    "\n",
    "![image.png](https://cf-courses-data.s3.us.cloud-object-storage.appdomain.cloud/UjJx1-0vss4_3lwsUF8n0w/image.png)\n",
    "\n",
    "You need to copy the key from Tavily's API website and paste the key on the line ```os.environ[\"TAVILY_API_KEY\"] = \"YOUR_KEY_HERE\"```\n"
   ]
  },
  {
   "cell_type": "code",
   "execution_count": 6,
   "id": "009c13fe-149d-443e-91db-8c6601bc0412",
   "metadata": {},
   "outputs": [],
   "source": [
    "import warnings \n",
    "warnings.filterwarnings('ignore')\n",
    "\n",
    "from langchain_community.tools.tavily_search import TavilySearchResults\n",
    "from langchain_tavily import TavilySearch\n",
    "from langchain.tools import tool\n",
    "import os\n",
    "import json\n",
    "from langchain_core.tools import tool\n",
    "from langchain_groq import ChatGroq\n",
    "from langchain_mistralai import MistralAIEmbeddings\n",
    "import os\n",
    "from dotenv import load_dotenv\n",
    "\n",
    "load_dotenv()\n",
    "\n",
    "groq_api_key = os.getenv(\"GROQ_API_KEY\")\n",
    "mistral_api_key = os.getenv(\"MISTRAL_API_KEY\")\n",
    "TAVILY_API_KEY = os.getenv(\"TAVILY_API_KEY\")\n",
    "\n",
    "model_id = \"qwen/qwen3-32b\" # \tqwen/qwen3-32b  openai/gpt-oss-120b llama3-8b-8192 \n",
    "    \n",
    "llm = ChatGroq(model=model_id,\n",
    "    temperature=0,\n",
    "    max_tokens=None,\n",
    "    timeout=None,\n",
    "    max_retries=2,\n",
    "    verbose=1)\n",
    "\n",
    "\n",
    "\n",
    "tavily_tool=TavilySearch(max_results=1,  api_key=TAVILY_API_KEY)\n",
    "\n",
    "# Initialize the Tavily search tool\n",
    "search = tavily_tool\n",
    "\n",
    "@tool\n",
    "def search_tool(query: str):\n",
    "    \"\"\"\n",
    "    Search the web for information using Tavily API.\n",
    "\n",
    "    :param query: The search query string\n",
    "    :return: Search results related to the query\n",
    "    \"\"\"\n",
    "    return search.invoke(query)"
   ]
  },
  {
   "cell_type": "markdown",
   "id": "10cff683-2579-406d-a327-0d4e042e6495",
   "metadata": {},
   "source": [
    "### Theory behind Web Search Tools:\n",
    "- Enable real-time information retrieval\n",
    "- Overcome the knowledge cutoff limitation of language models\n",
    "- Return structured data that the agent can process and reason about\n",
    "\n",
    "### Testing the Search Tool\n"
   ]
  },
  {
   "cell_type": "code",
   "execution_count": 2,
   "id": "86bce9be-a57b-46ed-af74-37b8c429b13b",
   "metadata": {},
   "outputs": [
    {
     "name": "stderr",
     "output_type": "stream",
     "text": [
      "/var/folders/0z/6z_9lrtd6j3_gnlsyv9rb5b00000gn/T/ipykernel_17125/2774954940.py:1: LangChainDeprecationWarning: The method `BaseTool.__call__` was deprecated in langchain-core 0.1.47 and will be removed in 1.0. Use :meth:`~invoke` instead.\n",
      "  search_tool(\"What's the weather like in Tokyo today?\")\n"
     ]
    },
    {
     "data": {
      "text/plain": [
       "{'query': \"What's the weather like in Tokyo today?\",\n",
       " 'follow_up_questions': None,\n",
       " 'answer': None,\n",
       " 'images': [],\n",
       " 'results': [{'title': 'Weather in Tokyo',\n",
       "   'url': 'https://www.weatherapi.com/',\n",
       "   'content': \"{'location': {'name': 'Tokyo', 'region': 'Tokyo', 'country': 'Japan', 'lat': 35.6895, 'lon': 139.6917, 'tz_id': 'Asia/Tokyo', 'localtime_epoch': 1756557224, 'localtime': '2025-08-30 21:33'}, 'current': {'last_updated_epoch': 1756557000, 'last_updated': '2025-08-30 21:30', 'temp_c': 30.0, 'temp_f': 86.0, 'is_day': 0, 'condition': {'text': 'Clear', 'icon': '//cdn.weatherapi.com/weather/64x64/night/113.png', 'code': 1000}, 'wind_mph': 11.2, 'wind_kph': 18.0, 'wind_degree': 175, 'wind_dir': 'S', 'pressure_mb': 1013.0, 'pressure_in': 29.91, 'precip_mm': 0.0, 'precip_in': 0.0, 'humidity': 75, 'cloud': 0, 'feelslike_c': 33.1, 'feelslike_f': 91.6, 'windchill_c': 31.2, 'windchill_f': 88.1, 'heatindex_c': 35.4, 'heatindex_f': 95.8, 'dewpoint_c': 22.5, 'dewpoint_f': 72.6, 'vis_km': 10.0, 'vis_miles': 6.0, 'uv': 0.0, 'gust_mph': 15.1, 'gust_kph': 24.3}}\",\n",
       "   'score': 0.9584019,\n",
       "   'raw_content': None}],\n",
       " 'response_time': 1.34,\n",
       " 'request_id': '40742d33-1486-4b28-ad25-107bfd835e38'}"
      ]
     },
     "execution_count": 2,
     "metadata": {},
     "output_type": "execute_result"
    }
   ],
   "source": [
    "search_tool(\"What's the weather like in Tokyo today?\")"
   ]
  },
  {
   "cell_type": "markdown",
   "id": "1a22dda3-27cf-4762-aaf3-5a7e66c39756",
   "metadata": {},
   "source": [
    "This test demonstrates how the agent can access current information that wasn't available during training.\n",
    "\n",
    "#### 2. Clothing Recommendation Tool\n"
   ]
  },
  {
   "cell_type": "code",
   "execution_count": 3,
   "id": "3719f3d2-f7df-4229-8a8e-5e3bd8942c06",
   "metadata": {},
   "outputs": [],
   "source": [
    "@tool\n",
    "def recommend_clothing(weather: str) -> str:\n",
    "    \"\"\"\n",
    "    Returns a clothing recommendation based on the provided weather description.\n",
    "\n",
    "    This function examines the input string for specific keywords or temperature indicators \n",
    "    (e.g., \"snow\", \"freezing\", \"rain\", \"85°F\") to suggest appropriate attire. It handles \n",
    "    common weather conditions like snow, rain, heat, and cold by providing simple and practical \n",
    "    clothing advice.\n",
    "\n",
    "    :param weather: A brief description of the weather (e.g., \"Overcast, 64.9°F\")\n",
    "    :return: A string with clothing recommendations suitable for the weather\n",
    "    \"\"\"\n",
    "    weather = weather.lower()\n",
    "    if \"snow\" in weather or \"freezing\" in weather:\n",
    "        return \"Wear a heavy coat, gloves, and boots.\"\n",
    "    elif \"rain\" in weather or \"wet\" in weather:\n",
    "        return \"Bring a raincoat and waterproof shoes.\"\n",
    "    elif \"hot\" in weather or \"85\" in weather:\n",
    "        return \"T-shirt, shorts, and sunscreen recommended.\"\n",
    "    elif \"cold\" in weather or \"50\" in weather:\n",
    "        return \"Wear a warm jacket or sweater.\"\n",
    "    else:\n",
    "        return \"A light jacket should be fine.\""
   ]
  },
  {
   "cell_type": "markdown",
   "id": "8a9b0eb4-6497-4451-8c84-6298bb11f62c",
   "metadata": {},
   "source": [
    "**Why this Tool Matters:**\n",
    "- Demonstrates domain-specific reasoning\n",
    "- Shows how tools can process and interpret data from other tools\n",
    "- Illustrates the composability of ReAct systems\n",
    "\n",
    "#### Creating the Tool Registry\n"
   ]
  },
  {
   "cell_type": "code",
   "execution_count": 5,
   "id": "c35ac489-89cd-44a5-828a-3fba9f7afb46",
   "metadata": {},
   "outputs": [
    {
     "data": {
      "text/plain": [
       "{'search_tool': StructuredTool(name='search_tool', description='Search the web for information using Tavily API.\\n\\n:param query: The search query string\\n:return: Search results related to the query', args_schema=<class 'langchain_core.utils.pydantic.search_tool'>, func=<function search_tool at 0x10f0a20c0>),\n",
       " 'recommend_clothing': StructuredTool(name='recommend_clothing', description='Returns a clothing recommendation based on the provided weather description.\\n\\nThis function examines the input string for specific keywords or temperature indicators \\n(e.g., \"snow\", \"freezing\", \"rain\", \"85°F\") to suggest appropriate attire. It handles \\ncommon weather conditions like snow, rain, heat, and cold by providing simple and practical \\nclothing advice.\\n\\n:param weather: A brief description of the weather (e.g., \"Overcast, 64.9°F\")\\n:return: A string with clothing recommendations suitable for the weather', args_schema=<class 'langchain_core.utils.pydantic.recommend_clothing'>, func=<function recommend_clothing at 0x10f22cf40>)}"
      ]
     },
     "execution_count": 5,
     "metadata": {},
     "output_type": "execute_result"
    }
   ],
   "source": [
    "tools=[search_tool,recommend_clothing]\n",
    "\n",
    "tools_by_name={ tool.name:tool for tool in tools}\n",
    "tools_by_name"
   ]
  },
  {
   "cell_type": "markdown",
   "id": "d513d4b5-f370-4ea8-bac7-9edd70f728cf",
   "metadata": {},
   "source": [
    "This registry allows the agent to dynamically select and invoke the appropriate tool based on the task at hand.\n",
    "\n",
    "## Setting Up the Language Model\n",
    "\n",
    "### Initializing the AI Model\n"
   ]
  },
  {
   "cell_type": "markdown",
   "id": "e9a67f0c-f4b1-4510-9bbe-aa3b302ec5f2",
   "metadata": {},
   "source": [
    "We're using GPT-4o-mini as our reasoning engine. This model will:\n",
    "- Analyze user queries\n",
    "- Decide which tools to use\n",
    "- Process tool results\n",
    "- Generate final responses\n",
    "\n",
    "### Creating the System Prompt\n"
   ]
  },
  {
   "cell_type": "code",
   "execution_count": 7,
   "id": "7a8f8c5b-e6bc-4efd-a5f8-08cde328035f",
   "metadata": {},
   "outputs": [],
   "source": [
    "from langchain_core.prompts import ChatPromptTemplate, MessagesPlaceholder\n",
    "from langchain_core.messages import BaseMessage, HumanMessage, AIMessage, ToolMessage,SystemMessage\n",
    "\n",
    "chat_prompt = ChatPromptTemplate.from_messages([\n",
    "    (\"system\", \"\"\"\n",
    "You are a helpful AI assistant that thinks step-by-step and uses tools when needed.\n",
    "\n",
    "When responding to queries:\n",
    "1. First, think about what information you need\n",
    "2. Use available tools if you need current data or specific capabilities  \n",
    "3. Provide clear, helpful responses based on your reasoning and any tool results\n",
    "\n",
    "Always explain your thinking process to help users understand your approach.\n",
    "\"\"\"),\n",
    "    MessagesPlaceholder(variable_name=\"scratch_pad\")\n",
    "])"
   ]
  },
  {
   "cell_type": "markdown",
   "id": "e246fd0a-2c33-4da8-89c9-ef9953e406fc",
   "metadata": {},
   "source": [
    "**The System Prompt's Role:**\n",
    "- Defines the agent's behavior and personality\n",
    "- Establishes the reasoning pattern (think → act → observe)\n",
    "- Encourages transparency in the decision-making process\n",
    "\n",
    "### Binding Tools to the Model\n"
   ]
  },
  {
   "cell_type": "code",
   "execution_count": 8,
   "id": "8f26dfcc-b938-427e-9ce2-beec3ab9da91",
   "metadata": {},
   "outputs": [],
   "source": [
    "model_react=chat_prompt|llm.bind_tools(tools)"
   ]
  },
  {
   "cell_type": "markdown",
   "id": "a3f83b20-bafa-44a0-8b41-dc71b18d843b",
   "metadata": {},
   "source": [
    "This creates a model that can:\n",
    "- Understand when to use tools\n",
    "- Generate properly formatted tool calls\n",
    "- Process tool results in context\n",
    "\n",
    "## Understanding Agent State\n",
    "\n",
    "### What is Agent State?\n",
    "\n",
    "In ReAct, state management is crucial, as the agent must maintain context across multiple reasoning and acting steps.\n"
   ]
  },
  {
   "cell_type": "code",
   "execution_count": 9,
   "id": "f882443e-8cd9-4906-8d88-c8483c90f1a2",
   "metadata": {},
   "outputs": [],
   "source": [
    "from typing import (Annotated,Sequence,TypedDict)\n",
    "from langchain_core.messages import BaseMessage\n",
    "from langgraph.graph.message import add_messages\n",
    "\n",
    "class AgentState(TypedDict):\n",
    "    \"\"\"The state of the agent.\"\"\"\n",
    "\n",
    "    # add_messages is a reducer\n",
    "    # See https://langchain-ai.github.io/langgraph/concepts/low_level/#reducers\n",
    "    messages: Annotated[Sequence[BaseMessage], add_messages]"
   ]
  },
  {
   "cell_type": "markdown",
   "id": "38807074-1da5-44a1-a9bc-1e692e3167b2",
   "metadata": {},
   "source": [
    "**Key Concepts:**\n",
    "- **State**: Contains the conversation history and context.\n",
    "- **Reducer**: `add_messages` automatically handles adding new messages to the conversation.\n",
    "- **Type Safety**: TypedDict ensures our state structure is well-defined.\n",
    "\n",
    "### Demonstrating State Management\n"
   ]
  },
  {
   "cell_type": "code",
   "execution_count": 10,
   "id": "046f54d3-7eaf-439c-bf54-ff16c161800e",
   "metadata": {},
   "outputs": [
    {
     "name": "stdout",
     "output_type": "stream",
     "text": [
      "After greeting: [HumanMessage(content='Hi', additional_kwargs={}, response_metadata={}, id='ec47b94b-2f8c-418d-a014-3050b31b8875')]\n",
      "After question: {'messages': [HumanMessage(content='Hi', additional_kwargs={}, response_metadata={}, id='ec47b94b-2f8c-418d-a014-3050b31b8875'), HumanMessage(content='Weather in NYC?', additional_kwargs={}, response_metadata={}, id='e9b312e6-e4ed-4e07-86ef-9621d43eea3f')]}\n"
     ]
    }
   ],
   "source": [
    "# Example conversation flow:\n",
    "state: AgentState = {\"messages\": []}\n",
    "\n",
    "# append a message using the reducer properly\n",
    "state[\"messages\"] = add_messages(state[\"messages\"], [HumanMessage(content=\"Hi\")])\n",
    "print(\"After greeting:\", state[\"messages\"])\n",
    "\n",
    "# add another message (e.g. a question)\n",
    "state[\"messages\"] = add_messages(state[\"messages\"], [HumanMessage(content=\"Weather in NYC?\")])\n",
    "print(\"After question:\", state)"
   ]
  },
  {
   "cell_type": "markdown",
   "id": "04f621bb-6b31-4da5-893f-398f8bd13a1d",
   "metadata": {},
   "source": [
    "This demonstrates how the state accumulates context over the conversation.\n"
   ]
  },
  {
   "cell_type": "markdown",
   "id": "aee5119d-b2b9-44d1-90be-13394314d998",
   "metadata": {},
   "source": [
    "## Manual ReAct Execution (Understanding the Flow)\n",
    "\n",
    "Before building the automated graph, let's manually step through a ReAct cycle to understand what happens:\n",
    "\n",
    "### Step 1: Initial Query Processing\n"
   ]
  },
  {
   "cell_type": "code",
   "execution_count": 11,
   "id": "29dc4929-0b46-415c-a851-8321b8dc26b9",
   "metadata": {},
   "outputs": [],
   "source": [
    "dummy_state: AgentState = {\n",
    "    \"messages\": [HumanMessage( \"What's the weather like in Zurich, and what should I wear based on the temperature?\")]}\n",
    "\n",
    "response = model_react.invoke({\"scratch_pad\":dummy_state[\"messages\"]})\n",
    "\n",
    "dummy_state[\"messages\"]=add_messages(dummy_state[\"messages\"],[response])"
   ]
  },
  {
   "cell_type": "code",
   "execution_count": 13,
   "metadata": {},
   "outputs": [
    {
     "data": {
      "text/plain": [
       "{'name': 'search_tool',\n",
       " 'args': {'query': 'current weather in Zurich'},\n",
       " 'id': '47jpjvwj6',\n",
       " 'type': 'tool_call'}"
      ]
     },
     "execution_count": 13,
     "metadata": {},
     "output_type": "execute_result"
    }
   ],
   "source": [
    "response.tool_calls[-1]"
   ]
  },
  {
   "cell_type": "code",
   "execution_count": 12,
   "metadata": {},
   "outputs": [
    {
     "data": {
      "text/plain": [
       "[HumanMessage(content=\"What's the weather like in Zurich, and what should I wear based on the temperature?\", additional_kwargs={}, response_metadata={}, id='a59a2f6f-a051-45ca-918d-f7d8f19d9f73'),\n",
       " AIMessage(content='', additional_kwargs={'reasoning_content': 'Okay, the user is asking about the weather in Zurich and what to wear based on the temperature. Let me break this down.\\n\\nFirst, I need to find the current weather in Zurich. The user mentioned \"temperature,\" so I should look for a description that includes the temperature. The first tool available is the search_tool, which can fetch web information. I\\'ll use that to search for \"current weather in Zurich.\"\\n\\nOnce I get the search results, I should look for a reliable source that gives the current temperature and weather conditions. Let\\'s say the search returns something like \"Sunny, 18°C\" or \"Partly cloudy with a high of 22°F.\" I need to extract that information.\\n\\nNext, the user wants clothing recommendations based on the temperature. The second tool, recommend_clothing, takes a weather description and suggests appropriate attire. So after getting the weather data from the search, I\\'ll pass that description into the recommend_clothing function. For example, if it\\'s 18°C and sunny, the recommendation might be a light jacket and comfortable shoes. If it\\'s colder, like 5°C with snow, then heavy coat and boots would be suggested.\\n\\nI need to make sure I use both tools in sequence: first search for the weather, then use that result to get the clothing advice. Also, check if the temperature is in Celsius or Fahrenheit, but since Zurich uses Celsius, the search result should reflect that. \\n\\nWait, the user specifically mentioned \"based on the temperature,\" so the weather description should include numerical temperature. The recommend_clothing function looks for keywords and temperature indicators, so the input from the search must include those. \\n\\nLet me structure the steps: call search_tool with \"current weather in Zurich,\" get the result, parse the weather description, then call recommend_clothing with that description. Finally, compile both the weather info and the clothing advice into a coherent answer for the user.\\n', 'tool_calls': [{'id': '47jpjvwj6', 'function': {'arguments': '{\"query\":\"current weather in Zurich\"}', 'name': 'search_tool'}, 'type': 'function'}]}, response_metadata={'token_usage': {'completion_tokens': 423, 'prompt_tokens': 430, 'total_tokens': 853, 'completion_time': 2.162816891, 'prompt_time': 0.028474296, 'queue_time': 0.23026116, 'total_time': 2.191291187}, 'model_name': 'qwen/qwen3-32b', 'system_fingerprint': 'fp_5cf921caa2', 'service_tier': 'on_demand', 'finish_reason': 'tool_calls', 'logprobs': None}, id='run--127bcf6a-44de-474b-a609-4fa3701fcc90-0', tool_calls=[{'name': 'search_tool', 'args': {'query': 'current weather in Zurich'}, 'id': '47jpjvwj6', 'type': 'tool_call'}], usage_metadata={'input_tokens': 430, 'output_tokens': 423, 'total_tokens': 853})]"
      ]
     },
     "execution_count": 12,
     "metadata": {},
     "output_type": "execute_result"
    }
   ],
   "source": [
    "dummy_state[\"messages\"]"
   ]
  },
  {
   "cell_type": "markdown",
   "id": "37488afe-36d0-464d-ad5d-7bfa00a99ef5",
   "metadata": {},
   "source": [
    "**What Happens Here:**\n",
    "1. The user asks a complex question requiring current data.\n",
    "2. The model analyzes the query and realizes it needs to search for weather information.\n",
    "3. The model generates a tool call for the search.\n"
   ]
  },
  {
   "cell_type": "markdown",
   "id": "d89b98bb-9027-4cd1-a182-56cec775f2ab",
   "metadata": {},
   "source": [
    "### Step 2: Tool Execution\n"
   ]
  },
  {
   "cell_type": "code",
   "execution_count": 16,
   "id": "55d07745-8df4-4ba4-9332-aa788c3ebc40",
   "metadata": {},
   "outputs": [
    {
     "name": "stdout",
     "output_type": "stream",
     "text": [
      "Tool call: {'name': 'search_tool', 'args': {'query': 'current weather in Zurich'}, 'id': '47jpjvwj6', 'type': 'tool_call'}\n",
      "Tool result preview: Weather in Zurich\n"
     ]
    }
   ],
   "source": [
    "tool_call = response.tool_calls[-1]\n",
    "print(\"Tool call:\", tool_call)\n",
    "\n",
    "tool_result = tools_by_name[tool_call[\"name\"]].invoke(tool_call[\"args\"])\n",
    "print(\"Tool result preview:\", tool_result['results'][0]['title'])\n",
    "\n",
    "tool_message = ToolMessage(\n",
    "    content=json.dumps(tool_result),\n",
    "    name=tool_call[\"name\"],\n",
    "    tool_call_id=tool_call[\"id\"]\n",
    ")\n",
    "dummy_state[\"messages\"] = add_messages(dummy_state[\"messages\"], [tool_message])"
   ]
  },
  {
   "cell_type": "code",
   "execution_count": 17,
   "metadata": {},
   "outputs": [
    {
     "data": {
      "text/plain": [
       "ToolMessage(content='{\"query\": \"current weather in Zurich\", \"follow_up_questions\": null, \"answer\": null, \"images\": [], \"results\": [{\"title\": \"Weather in Zurich\", \"url\": \"https://www.weatherapi.com/\", \"content\": \"{\\'location\\': {\\'name\\': \\'Zurich\\', \\'region\\': \\'\\', \\'country\\': \\'Switzerland\\', \\'lat\\': 47.3667, \\'lon\\': 8.55, \\'tz_id\\': \\'Europe/Zurich\\', \\'localtime_epoch\\': 1756557473, \\'localtime\\': \\'2025-08-30 14:37\\'}, \\'current\\': {\\'last_updated_epoch\\': 1756557000, \\'last_updated\\': \\'2025-08-30 14:30\\', \\'temp_c\\': 20.2, \\'temp_f\\': 68.4, \\'is_day\\': 1, \\'condition\\': {\\'text\\': \\'Partly cloudy\\', \\'icon\\': \\'//cdn.weatherapi.com/weather/64x64/day/116.png\\', \\'code\\': 1003}, \\'wind_mph\\': 5.6, \\'wind_kph\\': 9.0, \\'wind_degree\\': 274, \\'wind_dir\\': \\'W\\', \\'pressure_mb\\': 1014.0, \\'pressure_in\\': 29.94, \\'precip_mm\\': 0.37, \\'precip_in\\': 0.01, \\'humidity\\': 60, \\'cloud\\': 75, \\'feelslike_c\\': 20.2, \\'feelslike_f\\': 68.4, \\'windchill_c\\': 18.3, \\'windchill_f\\': 64.9, \\'heatindex_c\\': 18.3, \\'heatindex_f\\': 64.9, \\'dewpoint_c\\': 12.3, \\'dewpoint_f\\': 54.2, \\'vis_km\\': 9.0, \\'vis_miles\\': 5.0, \\'uv\\': 4.4, \\'gust_mph\\': 6.7, \\'gust_kph\\': 10.8}}\", \"score\": 0.8486395, \"raw_content\": null}], \"response_time\": 1.38, \"request_id\": \"1d039a21-3bbd-441a-84e3-8c94255f31ca\"}', name='search_tool', id='f464e58e-7422-448a-a1c5-2d0b38a7649a', tool_call_id='47jpjvwj6')"
      ]
     },
     "execution_count": 17,
     "metadata": {},
     "output_type": "execute_result"
    }
   ],
   "source": [
    "dummy_state[\"messages\"][-1]"
   ]
  },
  {
   "cell_type": "code",
   "execution_count": null,
   "metadata": {},
   "outputs": [],
   "source": [
    "tool_result"
   ]
  },
  {
   "cell_type": "markdown",
   "id": "b23cb065-82d8-4a4b-a317-ce6e8167ff6d",
   "metadata": {},
   "source": [
    "**What Happens Here:**\n",
    "1. Extract the tool call from the model's response.\n",
    "2. Execute the tool using the specified arguments.\n",
    "3. Create a ToolMessage containing the results.\n",
    "4. Add the tool result to the conversation state.\n"
   ]
  },
  {
   "cell_type": "markdown",
   "id": "038c95d9-6467-49ca-b2f7-3ac694ac2892",
   "metadata": {},
   "source": [
    "### Step 3: Processing Results and Next Action\n"
   ]
  },
  {
   "cell_type": "code",
   "execution_count": 18,
   "id": "479131cd-efce-47e7-8e37-ba6481236dbe",
   "metadata": {},
   "outputs": [],
   "source": [
    "response = model_react.invoke({\"scratch_pad\": dummy_state[\"messages\"]})\n",
    "dummy_state['messages'] = add_messages(dummy_state['messages'], [response])\n",
    "\n",
    "# check if the model wants to use another tool\n",
    "if response.tool_calls:\n",
    "    tool_call = response.tool_calls[0]\n",
    "    tool_result = tools_by_name[tool_call[\"name\"]].invoke(tool_call[\"args\"])\n",
    "    tool_message = ToolMessage(\n",
    "        content=json.dumps(tool_result),\n",
    "        name=tool_call[\"name\"],\n",
    "        tool_call_id=tool_call[\"id\"]\n",
    "    )\n",
    "    dummy_state['messages'] = add_messages(dummy_state['messages'], [tool_message])"
   ]
  },
  {
   "cell_type": "code",
   "execution_count": 19,
   "metadata": {},
   "outputs": [
    {
     "data": {
      "text/plain": [
       "[HumanMessage(content=\"What's the weather like in Zurich, and what should I wear based on the temperature?\", additional_kwargs={}, response_metadata={}, id='a59a2f6f-a051-45ca-918d-f7d8f19d9f73'),\n",
       " AIMessage(content='', additional_kwargs={'reasoning_content': 'Okay, the user is asking about the weather in Zurich and what to wear based on the temperature. Let me break this down.\\n\\nFirst, I need to find the current weather in Zurich. The user mentioned \"temperature,\" so I should look for a description that includes the temperature. The first tool available is the search_tool, which can fetch web information. I\\'ll use that to search for \"current weather in Zurich.\"\\n\\nOnce I get the search results, I should look for a reliable source that gives the current temperature and weather conditions. Let\\'s say the search returns something like \"Sunny, 18°C\" or \"Partly cloudy with a high of 22°F.\" I need to extract that information.\\n\\nNext, the user wants clothing recommendations based on the temperature. The second tool, recommend_clothing, takes a weather description and suggests appropriate attire. So after getting the weather data from the search, I\\'ll pass that description into the recommend_clothing function. For example, if it\\'s 18°C and sunny, the recommendation might be a light jacket and comfortable shoes. If it\\'s colder, like 5°C with snow, then heavy coat and boots would be suggested.\\n\\nI need to make sure I use both tools in sequence: first search for the weather, then use that result to get the clothing advice. Also, check if the temperature is in Celsius or Fahrenheit, but since Zurich uses Celsius, the search result should reflect that. \\n\\nWait, the user specifically mentioned \"based on the temperature,\" so the weather description should include numerical temperature. The recommend_clothing function looks for keywords and temperature indicators, so the input from the search must include those. \\n\\nLet me structure the steps: call search_tool with \"current weather in Zurich,\" get the result, parse the weather description, then call recommend_clothing with that description. Finally, compile both the weather info and the clothing advice into a coherent answer for the user.\\n', 'tool_calls': [{'id': '47jpjvwj6', 'function': {'arguments': '{\"query\":\"current weather in Zurich\"}', 'name': 'search_tool'}, 'type': 'function'}]}, response_metadata={'token_usage': {'completion_tokens': 423, 'prompt_tokens': 430, 'total_tokens': 853, 'completion_time': 2.162816891, 'prompt_time': 0.028474296, 'queue_time': 0.23026116, 'total_time': 2.191291187}, 'model_name': 'qwen/qwen3-32b', 'system_fingerprint': 'fp_5cf921caa2', 'service_tier': 'on_demand', 'finish_reason': 'tool_calls', 'logprobs': None}, id='run--127bcf6a-44de-474b-a609-4fa3701fcc90-0', tool_calls=[{'name': 'search_tool', 'args': {'query': 'current weather in Zurich'}, 'id': '47jpjvwj6', 'type': 'tool_call'}], usage_metadata={'input_tokens': 430, 'output_tokens': 423, 'total_tokens': 853}),\n",
       " ToolMessage(content='{\"query\": \"current weather in Zurich\", \"follow_up_questions\": null, \"answer\": null, \"images\": [], \"results\": [{\"title\": \"Weather in Zurich\", \"url\": \"https://www.weatherapi.com/\", \"content\": \"{\\'location\\': {\\'name\\': \\'Zurich\\', \\'region\\': \\'\\', \\'country\\': \\'Switzerland\\', \\'lat\\': 47.3667, \\'lon\\': 8.55, \\'tz_id\\': \\'Europe/Zurich\\', \\'localtime_epoch\\': 1756557473, \\'localtime\\': \\'2025-08-30 14:37\\'}, \\'current\\': {\\'last_updated_epoch\\': 1756557000, \\'last_updated\\': \\'2025-08-30 14:30\\', \\'temp_c\\': 20.2, \\'temp_f\\': 68.4, \\'is_day\\': 1, \\'condition\\': {\\'text\\': \\'Partly cloudy\\', \\'icon\\': \\'//cdn.weatherapi.com/weather/64x64/day/116.png\\', \\'code\\': 1003}, \\'wind_mph\\': 5.6, \\'wind_kph\\': 9.0, \\'wind_degree\\': 274, \\'wind_dir\\': \\'W\\', \\'pressure_mb\\': 1014.0, \\'pressure_in\\': 29.94, \\'precip_mm\\': 0.37, \\'precip_in\\': 0.01, \\'humidity\\': 60, \\'cloud\\': 75, \\'feelslike_c\\': 20.2, \\'feelslike_f\\': 68.4, \\'windchill_c\\': 18.3, \\'windchill_f\\': 64.9, \\'heatindex_c\\': 18.3, \\'heatindex_f\\': 64.9, \\'dewpoint_c\\': 12.3, \\'dewpoint_f\\': 54.2, \\'vis_km\\': 9.0, \\'vis_miles\\': 5.0, \\'uv\\': 4.4, \\'gust_mph\\': 6.7, \\'gust_kph\\': 10.8}}\", \"score\": 0.8486395, \"raw_content\": null}], \"response_time\": 1.38, \"request_id\": \"1d039a21-3bbd-441a-84e3-8c94255f31ca\"}', name='search_tool', id='f464e58e-7422-448a-a1c5-2d0b38a7649a', tool_call_id='47jpjvwj6'),\n",
       " AIMessage(content='', additional_kwargs={'reasoning_content': 'Okay, let\\'s see. The user asked about the weather in Zurich and what to wear based on the temperature. First, I used the search tool to get the current weather there. The response came back with the temperature at 20.2°C (68.4°F), partly cloudy, 60% humidity, and some wind. Now, I need to figure out the clothing recommendation.\\n\\nLooking at the temperature, 20°C is a bit cool but not too cold. Partly cloudy means maybe a light jacket. The humidity is moderate, so not too sticky. The wind is 5.6 mph, which isn\\'t super strong, but a light wind might make it feel a bit cooler. The user probably wants to know what to wear for comfort.\\n\\nThe recommend_clothing function takes the weather description. The temperature is around 20°C, which is a bit cool. So, maybe suggest a light jacket or sweater. Since it\\'s partly cloudy, maybe mention layers. Also, considering the wind, a light windbreaker could be useful. But the function\\'s description says it looks for keywords like \"snow\", \"rain\", or temperature indicators. Here, the temp is 20°C, which is a mild temperature. The function might suggest a light jacket or long sleeves. Let me check the function\\'s parameters again. It says it examines for keywords and temperature indicators. Since there\\'s no rain or snow, but the temp is 20°C, the recommendation would likely be a light sweater or jacket. So I\\'ll call the recommend_clothing function with the weather info from the search result.\\n', 'tool_calls': [{'id': '9a0rvzdrg', 'function': {'arguments': '{\"weather\":\"Partly cloudy, 20.2°C (68.4°F), 60% humidity, wind 5.6 mph\"}', 'name': 'recommend_clothing'}, 'type': 'function'}]}, response_metadata={'token_usage': {'completion_tokens': 386, 'prompt_tokens': 1029, 'total_tokens': 1415, 'completion_time': 0.895198052, 'prompt_time': 0.057251178, 'queue_time': 0.225745904, 'total_time': 0.95244923}, 'model_name': 'qwen/qwen3-32b', 'system_fingerprint': 'fp_5cf921caa2', 'service_tier': 'on_demand', 'finish_reason': 'tool_calls', 'logprobs': None}, id='run--e250b11f-ebe2-4464-a147-a95b9d952184-0', tool_calls=[{'name': 'recommend_clothing', 'args': {'weather': 'Partly cloudy, 20.2°C (68.4°F), 60% humidity, wind 5.6 mph'}, 'id': '9a0rvzdrg', 'type': 'tool_call'}], usage_metadata={'input_tokens': 1029, 'output_tokens': 386, 'total_tokens': 1415}),\n",
       " ToolMessage(content='\"A light jacket should be fine.\"', name='recommend_clothing', id='ae500ef3-8833-4bad-8392-0d4ed33bd732', tool_call_id='9a0rvzdrg')]"
      ]
     },
     "execution_count": 19,
     "metadata": {},
     "output_type": "execute_result"
    }
   ],
   "source": [
    "dummy_state['messages'] "
   ]
  },
  {
   "cell_type": "markdown",
   "id": "c65a36be-82db-4977-8316-7c9658d1fbc1",
   "metadata": {},
   "source": [
    "**What Happens Here:**\n",
    "1. The model processes the search results.\n",
    "2. It realizes it needs to use the clothing recommendation tool.\n",
    "3. It extracts weather information and calls the clothing tool.\n",
    "4. It receives clothing recommendations based on the weather data.\n"
   ]
  },
  {
   "cell_type": "markdown",
   "id": "f6cfd3e0-91ee-469f-8669-3b2d83777d6e",
   "metadata": {},
   "source": [
    "### Step 4: Final Response Generation\n"
   ]
  },
  {
   "cell_type": "code",
   "execution_count": 20,
   "id": "9e2642dd-c540-4e63-afd7-fa05ba05ca0b",
   "metadata": {},
   "outputs": [
    {
     "name": "stdout",
     "output_type": "stream",
     "text": [
      "Final response generated: True\n",
      "More tools needed: False\n"
     ]
    }
   ],
   "source": [
    "response = model_react.invoke({\"scratch_pad\": dummy_state[\"messages\"]})\n",
    "print(\"Final response generated:\", response.content is not None)\n",
    "print(\"More tools needed:\", bool(response.tool_calls))"
   ]
  },
  {
   "cell_type": "code",
   "execution_count": 22,
   "metadata": {},
   "outputs": [
    {
     "data": {
      "text/plain": [
       "AIMessage(content='The current weather in Zurich is **partly cloudy** with a temperature of **20.2°C (68.4°F)**, **60% humidity**, and **5.6 mph wind**. Based on these conditions, a **light jacket** should be sufficient for comfort.', additional_kwargs={'reasoning_content': \"Okay, let's see. The user asked about the weather in Zurich and what to wear. First, I used the search tool to get the current weather. The response showed it's partly cloudy with a temperature of 20.2°C (68.4°F), 60% humidity, and some wind. Then, I passed that weather info to the recommend_clothing function. The function suggested a light jacket. Now, I need to present this information clearly.\\n\\nI should start by stating the current weather conditions in Zurich, including the temperature, cloud cover, humidity, and wind. Then mention the clothing recommendation. Make sure it's easy to understand and concise. Check if all the details from the tool responses are included accurately. Also, make sure the advice makes sense for the given weather—since it's a mild day with some wind, a light jacket is appropriate. No need for heavy clothing here. Alright, that should cover it.\\n\"}, response_metadata={'token_usage': {'completion_tokens': 259, 'prompt_tokens': 1098, 'total_tokens': 1357, 'completion_time': 0.527190212, 'prompt_time': 0.196863184, 'queue_time': 0.200006076, 'total_time': 0.724053396}, 'model_name': 'qwen/qwen3-32b', 'system_fingerprint': 'fp_5cf921caa2', 'service_tier': 'on_demand', 'finish_reason': 'stop', 'logprobs': None}, id='run--39f23648-73c0-4c5c-8753-f4c8ab976796-0', usage_metadata={'input_tokens': 1098, 'output_tokens': 259, 'total_tokens': 1357})"
      ]
     },
     "execution_count": 22,
     "metadata": {},
     "output_type": "execute_result"
    }
   ],
   "source": [
    "response"
   ]
  },
  {
   "cell_type": "markdown",
   "id": "0910a4a4-8d7b-4951-bc91-c1a596be41b4",
   "metadata": {},
   "source": [
    "**What Happens Here:**\n",
    "1. The model has all necessary information.\n",
    "2. It synthesizes weather data and clothing recommendations.\n",
    "3. It generates a comprehensive response to the user.\n",
    "4. No more tool calls needed—the reasoning cycle is complete.\n"
   ]
  },
  {
   "cell_type": "markdown",
   "id": "0be613d0-5ca1-4292-93c4-2ef5bf1703ca",
   "metadata": {},
   "source": [
    "## Automating ReAct with Graphs\n",
    "\n",
    "### Why Use Graphs?\n",
    "\n",
    "Manual ReAct execution is educational but impractical for real applications. LangGraph automates this process with a state machine that handles the reasoning loop automatically.\n",
    "\n",
    "### Building the Core Functions\n",
    "\n",
    "#### Tool Execution Node\n"
   ]
  },
  {
   "cell_type": "code",
   "execution_count": 23,
   "id": "c8a9380e-2f3a-4b31-8ca4-6119ac3e69af",
   "metadata": {},
   "outputs": [],
   "source": [
    "def tool_node(state: AgentState):\n",
    "    \"\"\"Execute all tool calls from the last message in the state.\"\"\"\n",
    "    outputs = []\n",
    "    for tool_call in state[\"messages\"][-1].tool_calls:\n",
    "        tool_result = tools_by_name[tool_call[\"name\"]].invoke(tool_call[\"args\"])\n",
    "        outputs.append(\n",
    "            ToolMessage(\n",
    "                content=json.dumps(tool_result),\n",
    "                name=tool_call[\"name\"],\n",
    "                tool_call_id=tool_call[\"id\"],\n",
    "            )\n",
    "        )\n",
    "    return {\"messages\": outputs}"
   ]
  },
  {
   "cell_type": "markdown",
   "id": "ec5bc041-0b17-4dd2-b7e3-042d400ea9b7",
   "metadata": {},
   "source": [
    "**Function Purpose:**\n",
    "- Automatically execute all tool calls from the model\n",
    "- Handle multiple simultaneous tool calls\n",
    "- Return properly formatted tool messages\n"
   ]
  },
  {
   "cell_type": "markdown",
   "id": "2fe17035-7018-43cd-a50c-fd87ae4846ea",
   "metadata": {},
   "source": [
    "#### Model Invocation Node\n"
   ]
  },
  {
   "cell_type": "code",
   "execution_count": 24,
   "id": "811353f7-5bec-4243-8ac5-a09ea3c43581",
   "metadata": {},
   "outputs": [],
   "source": [
    "def call_model(state: AgentState):\n",
    "    \"\"\"Invoke the model with the current conversation state.\"\"\"\n",
    "    response = model_react.invoke({\"scratch_pad\": state[\"messages\"]})\n",
    "    return {\"messages\": [response]}"
   ]
  },
  {
   "cell_type": "markdown",
   "id": "79e48050-ea21-4c2b-9ad9-73b7c561eeac",
   "metadata": {},
   "source": [
    "**Function Purpose:**\n",
    "- Call the ReAct-enabled model\n",
    "- Pass the full conversation context\n",
    "- Return the model's response (which may include tool calls)\n",
    "\n",
    "#### Decision Logic\n"
   ]
  },
  {
   "cell_type": "code",
   "execution_count": 25,
   "id": "9cf5dffd-fe57-4ded-8638-ab8802991967",
   "metadata": {},
   "outputs": [],
   "source": [
    "def should_continue(state: AgentState):\n",
    "    \"\"\"Determine whether to continue with tool use or end the conversation.\"\"\"\n",
    "    messages = state[\"messages\"]\n",
    "    last_message = messages[-1]\n",
    "    # If there is no function call, then we finish\n",
    "    if not last_message.tool_calls:\n",
    "        return \"end\"\n",
    "    # Otherwise if there is, we continue\n",
    "    else:\n",
    "        return \"continue\""
   ]
  },
  {
   "cell_type": "markdown",
   "id": "35b25da5-41d2-4c30-8659-d44bb6c279ca",
   "metadata": {},
   "source": [
    "**Function Purpose:**\n",
    "- Implement the control flow logic\n",
    "- Decide whether the agent needs to use more tools\n",
    "- Route the conversation to either tool execution or completion\n",
    "\n",
    "### Constructing the State Graph\n"
   ]
  },
  {
   "cell_type": "code",
   "execution_count": 26,
   "id": "77569b26-8c8c-4607-a6c5-64b1826d1880",
   "metadata": {},
   "outputs": [],
   "source": [
    "from langgraph.graph import StateGraph, END\n",
    "\n",
    "# Define a new graph\n",
    "workflow = StateGraph(AgentState)\n",
    "\n",
    "# Define the two nodes we will cycle between\n",
    "workflow.add_node(\"agent\", call_model)\n",
    "workflow.add_node(\"tools\", tool_node)\n",
    "\n",
    "# Add edges between nodes\n",
    "workflow.add_edge(\"tools\", \"agent\")  # After tools, always go back to agent\n",
    "\n",
    "# Add conditional logic\n",
    "workflow.add_conditional_edges(\n",
    "    \"agent\",\n",
    "    should_continue,\n",
    "    {\n",
    "        \"continue\": \"tools\",  # If tools needed, go to tools node\n",
    "        \"end\": END,          # If done, end the conversation\n",
    "    },\n",
    ")\n",
    "\n",
    "# Set entry point\n",
    "workflow.set_entry_point(\"agent\")\n",
    "\n",
    "# Compile the graph\n",
    "graph = workflow.compile()"
   ]
  },
  {
   "cell_type": "markdown",
   "id": "f806a8c5-35b2-4897-90bc-db60de054929",
   "metadata": {},
   "source": [
    "**Graph Structure Explained:**\n",
    "1. **Agent Node**: Where reasoning happens and tool calls are generated.\n",
    "2. **Tools Node**: Where tool execution occurs.\n",
    "3. **Conditional Edge**: Determines whether to continue or finish.\n",
    "4. **Entry Point**: Conversation always starts with the agent reasoning.\n",
    "### Visualizing the Graph\n"
   ]
  },
  {
   "cell_type": "code",
   "execution_count": null,
   "id": "adad5bef-ee37-4cb8-8c4a-537be84ba332",
   "metadata": {},
   "outputs": [],
   "source": [
    "from IPython.display import Image, display\n",
    "\n",
    "try:\n",
    "    display(Image(graph.get_graph().draw_mermaid_png()))\n",
    "except Exception:\n",
    "    # This requires some extra dependencies and is optional\n",
    "    pass"
   ]
  },
  {
   "cell_type": "markdown",
   "id": "fbc7249c-df41-465f-9a31-c78068d146d0",
   "metadata": {},
   "source": [
    "This visualization shows the flow: Agent → Decision → Tools → Agent → Decision → End\n"
   ]
  },
  {
   "cell_type": "markdown",
   "id": "2879b732-dd8f-456b-8e7d-186a6fc26128",
   "metadata": {},
   "source": [
    "## Running the Complete ReAct Agent\n",
    "\n",
    "### Final Execution\n"
   ]
  },
  {
   "cell_type": "code",
   "execution_count": 27,
   "id": "f0a3e2f6-8ace-4d0f-96e7-0c7a14bde2d3",
   "metadata": {},
   "outputs": [
    {
     "name": "stdout",
     "output_type": "stream",
     "text": [
      "================================\u001b[1m Human Message \u001b[0m=================================\n",
      "\n",
      "What's the weather like in Zurich, and what should I wear based on the temperature?\n",
      "==================================\u001b[1m Ai Message \u001b[0m==================================\n",
      "Tool Calls:\n",
      "  search_tool (2603a84k0)\n",
      " Call ID: 2603a84k0\n",
      "  Args:\n",
      "    query: current weather in Zurich\n",
      "=================================\u001b[1m Tool Message \u001b[0m=================================\n",
      "Name: search_tool\n",
      "\n",
      "{\"query\": \"current weather in Zurich\", \"follow_up_questions\": null, \"answer\": null, \"images\": [], \"results\": [{\"title\": \"Weather in Zurich\", \"url\": \"https://www.weatherapi.com/\", \"content\": \"{'location': {'name': 'Zurich', 'region': '', 'country': 'Switzerland', 'lat': 47.3667, 'lon': 8.55, 'tz_id': 'Europe/Zurich', 'localtime_epoch': 1756558768, 'localtime': '2025-08-30 14:59'}, 'current': {'last_updated_epoch': 1756557900, 'last_updated': '2025-08-30 14:45', 'temp_c': 20.0, 'temp_f': 68.0, 'is_day': 1, 'condition': {'text': 'Partly cloudy', 'icon': '//cdn.weatherapi.com/weather/64x64/day/116.png', 'code': 1003}, 'wind_mph': 5.6, 'wind_kph': 9.0, 'wind_degree': 274, 'wind_dir': 'W', 'pressure_mb': 1014.0, 'pressure_in': 29.94, 'precip_mm': 0.37, 'precip_in': 0.01, 'humidity': 60, 'cloud': 75, 'feelslike_c': 20.0, 'feelslike_f': 68.0, 'windchill_c': 18.3, 'windchill_f': 64.9, 'heatindex_c': 18.3, 'heatindex_f': 64.9, 'dewpoint_c': 12.3, 'dewpoint_f': 54.2, 'vis_km': 9.0, 'vis_miles': 5.0, 'uv': 4.4, 'gust_mph': 6.7, 'gust_kph': 10.8}}\", \"score\": 0.9868055, \"raw_content\": null}], \"response_time\": 1.45, \"request_id\": \"1254f34e-96fb-4215-8946-c6c66a0d1290\"}\n",
      "==================================\u001b[1m Ai Message \u001b[0m==================================\n",
      "Tool Calls:\n",
      "  recommend_clothing (r7pgtqfzt)\n",
      " Call ID: r7pgtqfzt\n",
      "  Args:\n",
      "    weather: Partly cloudy, 20°C, 68°F, 60% humidity, light wind\n",
      "=================================\u001b[1m Tool Message \u001b[0m=================================\n",
      "Name: recommend_clothing\n",
      "\n",
      "\"A light jacket should be fine.\"\n",
      "==================================\u001b[1m Ai Message \u001b[0m==================================\n",
      "\n",
      "The current weather in Zurich is **20°C (68°F)** with partly cloudy skies and 60% humidity. There's a light wind breeze. Based on these conditions, a **light jacket** should be sufficient for comfort.\n"
     ]
    }
   ],
   "source": [
    "def print_stream(stream):\n",
    "    \"\"\"Helper function for formatting the stream nicely.\"\"\"\n",
    "    for s in stream:\n",
    "        message = s[\"messages\"][-1]\n",
    "        if isinstance(message, tuple):\n",
    "            print(message)\n",
    "        else:\n",
    "            message.pretty_print()\n",
    "\n",
    "inputs = {\"messages\": [HumanMessage(content=\"What's the weather like in Zurich, and what should I wear based on the temperature?\")]}\n",
    "\n",
    "print_stream(graph.stream(inputs, stream_mode=\"values\"))"
   ]
  },
  {
   "cell_type": "markdown",
   "id": "e21c01f4-7c6b-4be0-a0d5-3c9650e3ff4d",
   "metadata": {},
   "source": [
    "**What You'll See:**\n",
    "1. **Initial Reasoning**: Agent analyzes the query.\n",
    "2. **Tool Call 1**: Searches for Zurich weather.\n",
    "3. **Tool Result Processing**: Agent examines weather data.\n",
    "4. **Tool Call 2**: Gets clothing recommendations.\n",
    "5. **Final Synthesis**: Agent combines all information into a helpful response.\n"
   ]
  },
  {
   "cell_type": "markdown",
   "id": "4f06679f-ceac-4768-9f21-fe24ad9ebed2",
   "metadata": {},
   "source": [
    "### The Complete ReAct Cycle\n",
    "\n",
    "The final execution demonstrates the full ReAct pattern:\n",
    "\n",
    "1. **Reasoning**: \"I need current weather data for Zurich\".\n",
    "2. **Acting**: Calls search_tool(\"Zurich weather today\").\n",
    "3. **Observing**: Processes search results, extracts temperature.\n",
    "4. **Reasoning**: \"Now I need clothing recommendations for this temperature\".\n",
    "5. **Acting**: Calls recommend_clothing(\"temperature from search\").\n",
    "6. **Observing**: Gets clothing suggestions.\n",
    "7. **Reasoning**: \"I can now provide a complete answer\".\n",
    "8. **Final Response**: Synthesizes weather info and clothing recommendations.\n"
   ]
  },
  {
   "cell_type": "markdown",
   "id": "ef26849c-3979-42e2-8cd9-561e3b44f4ea",
   "metadata": {},
   "source": [
    "## Key Takeaways\n"
   ]
  },
  {
   "cell_type": "markdown",
   "id": "5f76859c-71f3-44fd-a656-334c930baf64",
   "metadata": {},
   "source": [
    "### What Makes ReAct Powerful\n",
    "\n",
    "1. **Transparency**: You can see the agent's reasoning process.\n",
    "2. **Adaptability**: The agent can handle unexpected results and change course.\n",
    "3. **Extensibility**: It's easy to add new tools and capabilities.\n",
    "4. **Reliability**: The structured approach reduces hallucination and improves accuracy\n"
   ]
  },
  {
   "cell_type": "markdown",
   "id": "604facd6-8b3f-4a15-8e1a-8f5a8e90517a",
   "metadata": {},
   "source": [
    "### Best Practices\n",
    "\n",
    "1. **Tool Design**: Make tools focused and reliable.\n",
    "2. **Error Handling**: Plan for tool failures and unexpected results.\n",
    "3. **Context Management**: Keep state manageable and relevant.\n",
    "4. **User Experience**: Provide clear feedback about what the agent is doing.\n",
    "\n",
    "The ReAct framework represents a significant step toward more capable and trustworthy AI agents that can reason through complex problems and take meaningful actions in the real world.\n"
   ]
  },
  {
   "cell_type": "markdown",
   "id": "3fa56b4d-c4ca-4b1b-8918-02fc3d20f910",
   "metadata": {},
   "source": [
    "# Exercises\n",
    "\n",
    "Now it's time to put your ReAct knowledge into practice! These exercises will help you build your own tools and extend the agent's capabilities.\n"
   ]
  },
  {
   "cell_type": "markdown",
   "id": "aad8fe05-18e9-4913-8a32-43895f68726d",
   "metadata": {},
   "source": [
    "## Exercise 1 - Build a Calculator Tool\n",
    "\n",
    "**Objective:** Create a mathematical calculator tool that can handle complex calculations.\n",
    "\n",
    "Your task is to create a calculator tool that can perform mathematical operations. This tool should be able to handle expressions like \"2 + 3 * 4\", \"sqrt(16)\", and \"sin(π/2)\".\n",
    "\n",
    "### Instructions:\n",
    "1. Create a tool called `calculator_tool` using the `@tool` decorator.\n",
    "2. The tool should accept a mathematical expression as a string.\n",
    "3. Use Python's `eval()` function carefully (or better yet, use the `ast` module for safety).\n",
    "4. Test your tool with various mathematical expressions.\n",
    "5. Add your tool to the tools list and test it with the ReAct agent.\n",
    "\n",
    "### Starter Code:\n"
   ]
  },
  {
   "cell_type": "code",
   "execution_count": null,
   "id": "961b0c17-d1e1-4b5a-b7e0-e5c5e05cb5e3",
   "metadata": {},
   "outputs": [],
   "source": [
    "import math\n",
    "import ast\n",
    "import operator\n",
    "\n",
    "@tool\n",
    "def calculator_tool(expression: str) -> str:\n",
    "    \"\"\"\n",
    "    Safely evaluate mathematical expressions.\n",
    "    \n",
    "    :param expression: A mathematical expression as a string (e.g., \"2 + 3 * 4\")\n",
    "    :return: The result of the calculation\n",
    "    \"\"\"\n",
    "    # TODO: Implement safe mathematical evaluation\n",
    "    # Hint: You can use ast.literal_eval for simple expressions\n",
    "    # or create a safe evaluator for more complex math\n",
    "    pass\n",
    "\n",
    "# TODO: Add calculator_tool to your tools list\n",
    "# TODO: Test with the agent: \"What's 15% of 250 plus the square root of 144?\""
   ]
  },
  {
   "cell_type": "markdown",
   "id": "ba8c5dd8-b0aa-4f45-93df-e7593f145a94",
   "metadata": {},
   "source": [
    "## Exercise 2 - Create a News Summary Tool\n",
    "\n",
    "**Objective:** Build a tool that can fetch and summarize recent news articles.\n",
    "\n",
    "Create a news summarization tool that works with the existing search functionality. This tool should take search results and create concise summaries of news articles.\n",
    "\n",
    "### Instructions:\n",
    "1. Create a `news_summarizer_tool` that takes news content and creates summaries.\n",
    "2. The tool should extract key information: headline, date, main points.\n",
    "3. Format the output in a readable way.\n",
    "4. Test it by asking the agent to \"search for recent AI news and summarize the top 3 articles\".\n",
    "\n",
    "### Starter Code:\n"
   ]
  },
  {
   "cell_type": "code",
   "execution_count": 59,
   "id": "3d6d4484-a011-413a-9ec9-956e9d150216",
   "metadata": {},
   "outputs": [],
   "source": [
    "from langchain_core.prompts import PromptTemplate\n",
    "\n",
    "@tool\n",
    "def news_summarizer_tool(news_content: str) -> str:\n",
    "    \"\"\"\n",
    "    Summarize news articles from search results.\n",
    "\n",
    "    :param news_content: Raw news content or search results (JSON string)\n",
    "    :return: A formatted summary of the news\n",
    "    \"\"\"\n",
    "\n",
    "    prompt = PromptTemplate.from_template(\n",
    "        \"Summarize the following news articles:\\n {news_content}\"\n",
    "    )\n",
    "    chain = prompt | llm\n",
    "    summary = chain.invoke({\"news_content\": news_content})\n",
    "    print(summary)\n",
    "\n",
    "    # output = {'title': news_content['title'],\n",
    "    #     \"summary\": summary,\n",
    "    #     \"url\": news_content['url']}\n",
    "\n",
    "    return summary.content\n",
    "\n",
    "\n"
   ]
  },
  {
   "cell_type": "code",
   "execution_count": 60,
   "metadata": {},
   "outputs": [],
   "source": [
    "# Add to tools list\n",
    "tools=[search_tool,recommend_clothing, news_summarizer_tool]\n",
    "\n",
    "tools_by_name={ tool.name:tool for tool in tools}"
   ]
  },
  {
   "cell_type": "code",
   "execution_count": 61,
   "metadata": {},
   "outputs": [],
   "source": [
    "model_react=chat_prompt|llm.bind_tools(tools)"
   ]
  },
  {
   "cell_type": "code",
   "execution_count": 62,
   "metadata": {},
   "outputs": [],
   "source": [
    "from langgraph.graph import StateGraph, END\n",
    "\n",
    "# Define a new graph\n",
    "workflow = StateGraph(AgentState)\n",
    "\n",
    "# Define the two nodes we will cycle between\n",
    "workflow.add_node(\"agent\", call_model)\n",
    "workflow.add_node(\"tools\", tool_node)\n",
    "\n",
    "# Add edges between nodes\n",
    "workflow.add_edge(\"tools\", \"agent\")  # After tools, always go back to agent\n",
    "\n",
    "# Add conditional logic\n",
    "workflow.add_conditional_edges(\n",
    "    \"agent\",\n",
    "    should_continue,\n",
    "    {\n",
    "        \"continue\": \"tools\",  # If tools needed, go to tools node\n",
    "        \"end\": END,          # If done, end the conversation\n",
    "    },\n",
    ")\n",
    "\n",
    "# Set entry point\n",
    "workflow.set_entry_point(\"agent\")\n",
    "\n",
    "# Compile the graph\n",
    "graph = workflow.compile()"
   ]
  },
  {
   "cell_type": "code",
   "execution_count": 63,
   "metadata": {},
   "outputs": [
    {
     "name": "stdout",
     "output_type": "stream",
     "text": [
      "================================\u001b[1m Human Message \u001b[0m=================================\n",
      "\n",
      "Find recent news about artificial intelligence and give me a summary\n",
      "==================================\u001b[1m Ai Message \u001b[0m==================================\n",
      "Tool Calls:\n",
      "  search_tool (r0jd44gdq)\n",
      " Call ID: r0jd44gdq\n",
      "  Args:\n",
      "    query: artificial intelligence recent news\n",
      "=================================\u001b[1m Tool Message \u001b[0m=================================\n",
      "Name: search_tool\n",
      "\n",
      "{\"query\": \"artificial intelligence recent news\", \"follow_up_questions\": null, \"answer\": null, \"images\": [], \"results\": [{\"url\": \"https://www.nbcnews.com/artificial-intelligence\", \"title\": \"Artificial intelligence\", \"content\": \"The latest news and top stories on artificial intelligence, including AI chatbots like Microsoft's ChatGPT, Apple's AI Chatbot and Google's Bard.\", \"score\": 0.8095324, \"raw_content\": null}], \"response_time\": 1.12, \"request_id\": \"99835dff-e9f0-44f0-8180-812c734ea261\"}\n",
      "==================================\u001b[1m Ai Message \u001b[0m==================================\n",
      "\n",
      "Here's a summary of recent AI news from NBC:\n",
      "\n",
      "**Artificial Intelligence Developments (March 2024)**\n",
      "- Microsoft continues to advance its ChatGPT integration across productivity tools\n",
      "- Apple is working on a new AI chatbot to enhance its ecosystem\n",
      "- Google's Bard AI is receiving major updates to improve conversational capabilities\n",
      "\n",
      "These developments show major tech companies are focusing on making AI chatbots more integrated into daily user experiences across their product lines. The competition in AI assistants remains intense as companies strive to improve natural language processing and task automation capabilities.\n"
     ]
    }
   ],
   "source": [
    "inputs = {\"messages\": [HumanMessage(content=\"Find recent news about artificial intelligence and give me a summary\")]}\n",
    "\n",
    "result = print_stream(graph.stream(inputs, stream_mode=\"values\"))"
   ]
  },
  {
   "cell_type": "markdown",
   "id": "ed13ba95-1dbc-49be-811b-6c4a06b4e176",
   "metadata": {},
   "source": [
    "## Testing Your Solutions\n",
    "\n",
    "For each exercise, test your implementation with these commands:\n"
   ]
  },
  {
   "cell_type": "code",
   "execution_count": null,
   "id": "db97de30-c033-43b1-8c8c-eef2cdb89108",
   "metadata": {},
   "outputs": [],
   "source": [
    "# Exercise 1 Test\n",
    "inputs = {\"messages\": [HumanMessage(content=\"Calculate 15% of 250 plus the square root of 144\")]}\n",
    "print_stream(graph.stream(inputs, stream_mode=\"values\"))"
   ]
  },
  {
   "cell_type": "code",
   "execution_count": null,
   "id": "f3f2a9d9-2816-4a6f-9452-b8ee0579a65a",
   "metadata": {},
   "outputs": [],
   "source": [
    "# Exercise 2 Test  \n",
    "inputs = {\"messages\": [HumanMessage(content=\"Find recent AI news and summarize the top 3 articles\")]}\n",
    "print_stream(graph.stream(inputs, stream_mode=\"values\"))"
   ]
  },
  {
   "cell_type": "markdown",
   "id": "d5eb1447-5e4e-46f7-901b-b7c517473c66",
   "metadata": {},
   "source": [
    "## Authors\n"
   ]
  },
  {
   "cell_type": "markdown",
   "id": "694527cd-d918-4c20-af19-cc989df08a59",
   "metadata": {},
   "source": [
    "[Joseph Santarcangelo](https://author.skills.network/instructors/joseph_santarcangelo): Joseph has a Ph.D. in Electrical Engineering, his research focused on using machine learning, signal processing, and computer vision to determine how videos impact human cognition. Joseph has been working for IBM since he completed his PhD.\n",
    "\n",
    "[Tenzin Migmar](https://author.skills.network/instructors/tenzin_migmar): Hi, I'm Tenzin. I'm a data scientist intern at IBM interested in applying machine learning to solve difficult problems. Prior to joining IBM, I worked as a research assistant on projects exploring perspectivism and personalization within large language models. In my free time, I enjoy recreational programming and learning to cook new recipes.\n",
    "\n",
    "[Faranak Heidari](https://www.linkedin.com/in/faranakhdr/) is a data scientist and AI developer in IBM. \n"
   ]
  },
  {
   "cell_type": "markdown",
   "id": "969be618-e1e6-4f57-a65d-49bb175d6e13",
   "metadata": {},
   "source": [
    "<!--#### Change Log\n"
   ]
  },
  {
   "cell_type": "markdown",
   "id": "4fd24331-9f63-4241-a1a8-1f0427ff0c57",
   "metadata": {},
   "source": [
    "<!--\n",
    "|Date (YYYY-MM-DD)|Version|Changed By|Change Description|\n",
    "|-|-|-|-|\n",
    "|2024-02-23|0.2|Elio Di Nino|Update library documentation|\n",
    "|2020-07-17|0.1|Sam|Create lab template|\n",
    "-->\n"
   ]
  },
  {
   "cell_type": "markdown",
   "id": "ab22adc6-3c64-465e-82d5-6e777224edc6",
   "metadata": {},
   "source": [
    "Copyright © IBM Corporation. All rights reserved.\n"
   ]
  }
 ],
 "metadata": {
  "kernelspec": {
   "display_name": "IBM_course",
   "language": "python",
   "name": "python3"
  },
  "language_info": {
   "codemirror_mode": {
    "name": "ipython",
    "version": 3
   },
   "file_extension": ".py",
   "mimetype": "text/x-python",
   "name": "python",
   "nbconvert_exporter": "python",
   "pygments_lexer": "ipython3",
   "version": "3.12.9"
  },
  "prev_pub_hash": "4d4cf4e290a07c811f3b1b768cb569d7d2cfaa146146a1c776a0f3ece8c885c4"
 },
 "nbformat": 4,
 "nbformat_minor": 4
}
