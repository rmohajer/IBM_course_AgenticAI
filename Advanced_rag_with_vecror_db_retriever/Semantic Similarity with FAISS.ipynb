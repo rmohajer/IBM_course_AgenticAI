{
 "cells": [
  {
   "cell_type": "markdown",
   "id": "cca6f05f-9602-40e7-9989-ee399ae5f51e",
   "metadata": {},
   "source": [
    "<p style=\"text-align:center\">\n",
    "    <a href=\"https://skills.network\" target=\"_blank\">\n",
    "    <img src=\"https://cf-courses-data.s3.us.cloud-object-storage.appdomain.cloud/assets/logos/SN_web_lightmode.png\" width=\"200\" alt=\"Skills Network Logo\">\n",
    "    </a>\n",
    "</p>\n"
   ]
  },
  {
   "cell_type": "markdown",
   "id": "7f6587c2-b063-418d-afad-6a7dc49f7bb3",
   "metadata": {},
   "source": [
    "# Semantic Similarity with FAISS\n",
    "\n",
    "Estimated time needed: **60** minutes\n",
    "\n",
    "Welcome to a hands-on exploration of semantic search, where we unravel the intricacies of finding meaning in text. This lab is a beginner's journey into the realm of advanced information retrieval. You'll start by learning the essentials of text preprocessing to enhance data quality. Next, you'll dive into the world of vector spaces, using the Universal Sentence Encoder to convert text into a format that machines understand. Finally, you'll harness the efficiency of FAISS, a library built for rapid similarity search, to compare and retrieve information. By the end of our session, you'll have a functional semantic search engine that not only understands the subtleties of human language but also fetches information that truly matters.\n",
    "\n",
    "<p style='color: red'>Embark on this learning adventure to build a search engine that sees beyond the obvious, leveraging context and semantics to satisfy the quest for information.</p>\n"
   ]
  },
  {
   "cell_type": "markdown",
   "id": "bcb8f365-a6ec-4cfa-9e20-a3ed68b5ac28",
   "metadata": {},
   "source": [
    "# __Table of Contents__\n",
    "\n",
    "<ol>\n",
    "    <li><a href=\"#Objectives\">Objectives</a></li>\n",
    "    <li>\n",
    "        <a href=\"#Setup\">Setup</a>\n",
    "        <ol>\n",
    "            <li><a href=\"#Installing-Required-Libraries\">Installing Required Libraries</a></li>\n",
    "            <li><a href=\"#Importing-Required-Libraries\">Importing Required Libraries</a></li>\n",
    "        </ol>\n",
    "    </li>\n",
    "    <li>\n",
    "        <a href=\"#Understanding-Semantic-Search\">Understanding Semantic Search</a>\n",
    "    </li>\n",
    "    <li><a href=\"#Understanding-Vectorization-and-Indexing\">Understanding Vectorization and Indexing</a></li>\n",
    "    <li><a href=\"#The-20-Newsgroups-Dataset\">The 20 Newsgroups Dataset</a></li>\n",
    "    <li><a href=\"#Pre-processing-Data\">Pre-processing Data</a></li>\n",
    "    <li><a href=\"#Universal-Sentence-Encoder\">Universal Sentence Encoder</a></li>\n",
    "    <li><a href=\"#Indexing-with-FAISS\">Indexing with FAISS</a></li>\n",
    "</ol>\n"
   ]
  },
  {
   "cell_type": "markdown",
   "id": "f50057af-abfe-428a-a054-15a4abc10078",
   "metadata": {},
   "source": [
    "---\n"
   ]
  },
  {
   "cell_type": "markdown",
   "id": "97aa8f58-43d5-4107-a821-cc1425629fe0",
   "metadata": {},
   "source": [
    "# Objectives\n",
    "\n",
    "In this lab, our objectives are to:\n",
    "\n",
    "- Understand the fundamentals of semantic search and its advantages over traditional search methods.\n",
    "- Familiarize with the process of preparing text data for semantic analysis, including cleaning and standardization techniques.\n",
    "- Learn how to utilize the Universal Sentence Encoder to convert text into high-dimensional vector space representations.\n",
    "- Gain practical experience with FAISS (Facebook AI Similarity Search), an efficient library for indexing and searching high-dimensional vectors.\n",
    "- Apply these techniques to build a fully functioning semantic search engine that can interpret and respond to natural language queries.\n",
    "\n",
    "By accomplishing these objectives, you will acquire a comprehensive skill set that underpins advanced search functionalities in modern AI-driven systems, preparing you for further exploration and development in the field of natural language processing and information retrieval.\n"
   ]
  },
  {
   "cell_type": "markdown",
   "id": "eb269ef4-2e7a-47af-95b6-811aa6bce449",
   "metadata": {},
   "source": [
    "---\n"
   ]
  },
  {
   "cell_type": "markdown",
   "id": "342ea841-da4e-4d6b-b2e8-6dfe1c4cd1fd",
   "metadata": {},
   "source": [
    "# Setup\n",
    "\n",
    "To ensure a smooth experience throughout this lab, we need to set up our environment properly. This includes installing necessary libraries, importing them, and preparing helper functions that will be used later in the lab.\n",
    "\n",
    "## Installing Required Libraries\n",
    "\n",
    "Before we start, you need to install the following libraries if you haven't already:\n",
    "\n",
    "- `tensorflow`: The core library for TensorFlow, required for working with the Universal Sentence Encoder.\n",
    "- `tensorflow-hub`: A library that makes it easy to download and deploy pre-trained TensorFlow models, including the Universal Sentence Encoder.\n",
    "- `faiss-cpu`: A library for efficient similarity search and clustering of dense vectors.\n",
    "- `numpy`: A library for numerical computing, which we will use to handle arrays and matrices.\n",
    "- `scikit-learn`: A machine learning library that provides various tools for data mining and data analysis, useful for additional tasks like data splitting and evaluation metrics.\n",
    "\n",
    "You can install these libraries using `pip` with the following commands:\n"
   ]
  },
  {
   "cell_type": "markdown",
   "id": "0b3fe435-9a6e-4b41-bfad-f228376e84e4",
   "metadata": {},
   "source": [
    "The following required libraries are __not__ pre-installed in the Skills Network Labs environment. __You will need to run the following cell__ to install them:\n"
   ]
  },
  {
   "cell_type": "code",
   "execution_count": null,
   "id": "20913cb8-c6fc-46ad-8258-4c5ca529e960",
   "metadata": {},
   "outputs": [],
   "source": [
    "# !pip install faiss-cpu numpy scikit-learn\n",
    "# !pip install \"tensorflow>=2.0.0\"\n",
    "# !pip install --upgrade tensorflow-hub"
   ]
  },
  {
   "cell_type": "code",
   "execution_count": 2,
   "metadata": {},
   "outputs": [
    {
     "name": "stdout",
     "output_type": "stream",
     "text": [
      "\u001b[2mAudited \u001b[1m3 packages\u001b[0m \u001b[2min 25ms\u001b[0m\u001b[0m\n"
     ]
    }
   ],
   "source": [
    "!uv pip install 'faiss-cpu' \"tensorflow>=2.0.0\" 'tensorflow-hub'"
   ]
  },
  {
   "cell_type": "markdown",
   "id": "a671aa3e-b469-4792-a360-e2debb4d2236",
   "metadata": {},
   "source": [
    "### Importing Required Libraries\n",
    "\n",
    "_We recommend you import all required libraries in one place (here):_\n"
   ]
  },
  {
   "cell_type": "code",
   "execution_count": 4,
   "id": "3be498aa-7902-45e9-914e-5587372d3bf4",
   "metadata": {},
   "outputs": [
    {
     "ename": "",
     "evalue": "",
     "output_type": "error",
     "traceback": [
      "\u001b[1;31mThe Kernel crashed while executing code in the current cell or a previous cell. \n",
      "\u001b[1;31mPlease review the code in the cell(s) to identify a possible cause of the failure. \n",
      "\u001b[1;31mClick <a href='https://aka.ms/vscodeJupyterKernelCrash'>here</a> for more info. \n",
      "\u001b[1;31mView Jupyter <a href='command:jupyter.viewOutput'>log</a> for further details."
     ]
    }
   ],
   "source": [
    "import numpy as np\n",
    "import tensorflow as tf\n",
    "import tensorflow_hub as hub\n",
    "import faiss\n",
    "import re\n",
    "from sklearn.datasets import fetch_20newsgroups\n",
    "from sklearn.feature_extraction.text import TfidfVectorizer\n",
    "from pprint import pprint\n",
    "\n",
    "# Suppressing warnings\n",
    "def warn(*args, **kwargs):\n",
    "    pass\n",
    "\n",
    "import warnings\n",
    "warnings.warn = warn\n",
    "warnings.filterwarnings('ignore')"
   ]
  },
  {
   "cell_type": "markdown",
   "id": "55ec24e6-0731-43d5-8feb-73e5a5bed524",
   "metadata": {},
   "source": [
    "---\n"
   ]
  },
  {
   "cell_type": "markdown",
   "id": "4933298c-2555-4759-a847-d08eb8122e43",
   "metadata": {},
   "source": [
    "## Understanding Semantic Search\n",
    "\n",
    "When we're looking to build a semantic search engine, it's important to start with the basics. Let's break down what semantic search is and why it's a game-changer in finding information.\n",
    "\n",
    "### What is Semantic Search?\n",
    "\n",
    "Semantic search transcends the limitations of traditional keyword searches by understanding the context and nuances of language in user queries. At its core, semantic search:\n",
    "\n",
    "- Enhances the search experience by interpreting the intent and contextual meaning behind search queries.\n",
    "- Delivers more accurate and relevant search results by analyzing the relationships between words and phrases within the search context.\n",
    "- Adapts to user behavior and preferences, refining search results for better user satisfaction.\n",
    "\n",
    "### How Semantic Search Works - The Simple Version\n",
    "\n",
    "Now, how does this smart assistant do its job? It uses some clever tricks from a field called Natural Language Processing, or NLP for short. Here’s the simple version of the process:\n",
    "\n",
    "- **Getting the Gist**: First up, the search engine listens to your query and tries to get the gist of it. Instead of just spotting keywords, it digs deeper to find the real meaning.\n",
    "- **Making Connections**: Next, it thinks about all the different ways words can be related (like \"doctor\" and \"physician\" meaning the same thing). This helps it get a better sense of what you're asking for.\n",
    "- **Picking the Best**: Finally, it acts like a librarian who knows every book in the library. It sorts through tons of information to pick what matches your query best, considering what you probably mean.\n",
    "\n",
    "### The Technical Side of Semantic Search\n",
    "\n",
    "After understanding the basics, let's peek under the hood at the technical engine powering semantic search. This part is a bit like math class, where we learn about vectors — no, not the ones you learned in physics, but something similar that we use in search engines.\n",
    "\n",
    "#### Vectors: The Language of Semantic Search\n",
    "\n",
    "In the world of semantic search, a vector is a list of numbers that a computer uses to represent the meaning of words or sentences. Imagine each word or sentence as a point in space. The closer two points are, the more similar their meanings.\n",
    "\n",
    "- **Creating Vectors**: We start by turning words or sentences into vectors using models like the Universal Sentence Encoder. It's like giving each piece of text its unique numerical fingerprint.\n",
    "- **Calculating Similarity**: To find out how similar two pieces of text are, we measure how close their vectors are in space. This is done using mathematical formulas, such as cosine similarity, which tells us how similar or different two text fingerprints are.\n",
    "- **Using Vectors for Search**: When you search for something, the search engine looks for the vectors closest to the vector of your query. The closest vectors represent the most relevant results to what you're asking.\n",
    "\n",
    "#### How Vectors Power Our Search\n",
    "\n",
    "Vectors are powerful because they can capture the subtle meanings of language that go beyond the surface of words. Here's what happens in a semantic search engine:\n",
    "\n",
    "1. **Vectorization**: When we type in a search query, the engine immediately turns our words into a vector.\n",
    "2. **Indexing**: It then quickly scans through a massive index of other vectors, each representing different pieces of information.\n",
    "3. **Retrieval**: By finding the closest matching vectors, the engine retrieves information that's not just textually similar but semantically related.\n",
    "\n",
    "By the end of this guide, you'll understand how to create a search engine that does all of this and more. We'll start simple and build up step by step. Ready? Let's get started!\n"
   ]
  },
  {
   "cell_type": "markdown",
   "id": "6b0baf93-892a-431f-adcc-a272029c4589",
   "metadata": {},
   "source": [
    "---\n"
   ]
  },
  {
   "cell_type": "markdown",
   "id": "3d16c4f9-7fc7-4919-8c3b-2311942aa4ef",
   "metadata": {},
   "source": [
    "## Understanding Vectorization and Indexing\n",
    "\n",
    "Vectorization and indexing are key components of building a semantic search engine. Let's explore how they work using the Universal Sentence Encoder (USE) and FAISS.\n",
    "\n",
    "### What does the Universal Sentence Encoder do?\n",
    "\n",
    "The Universal Sentence Encoder (USE) takes sentences, no matter how complex, and turns them into vectors. These vectors are arrays of numbers that capture the essence of sentences. Here's why it's amazing:\n",
    "\n",
    "- **Language Comprehension**: USE understands the meaning of sentences by considering the context in which each word is used.\n",
    "- **Versatility**: It's trained on a variety of data sources, enabling it to handle a wide range of topics and sentence structures.\n",
    "- **Speed**: Once trained, USE can quickly convert sentences to vectors, making it highly efficient.\n",
    "\n",
    "### How does the Universal Sentence Encoder work?\n",
    "\n",
    "The magic of USE lies in its training. It uses deep learning models to digest vast amounts of text. Here’s what it does:\n",
    "\n",
    "1. **Analyzes Words**: It looks at each word in a sentence and the words around it to get a full picture of their meaning.\n",
    "2. **Understands Context**: It pays attention to the order of words and how they're used together to grasp the sentence's intent.\n",
    "3. **Creates Vectors**: It converts all this understanding into a numeric vector that represents the sentence.\n",
    "\n",
    "### What is FAISS and what does it do?\n",
    "\n",
    "FAISS, developed by Facebook AI, is a library for efficient similarity search. After we have vectors from USE, we need a way to search through them quickly to find the most relevant ones to a query. FAISS does just that:\n",
    "\n",
    "- **Efficient Searching**: It uses optimized algorithms to rapidly search through large collections of vectors.\n",
    "- **Scalability**: It can handle databases of vectors that are too large to fit in memory, making it suitable for big data applications.\n",
    "- **Accuracy**: It provides highly accurate search results, thanks to its advanced indexing strategies.\n",
    "\n",
    "### How does FAISS work?\n",
    "\n",
    "FAISS creates an index of all the vectors, which allows it to search through them efficiently. Here's a simplified version of its process:\n",
    "\n",
    "1. **Index Building**: It organizes vectors in a way that similar ones are near each other, making it faster to find matches.\n",
    "2. **Searching**: When you search with a new vector, FAISS quickly identifies which part of the index to look at for the closest matches.\n",
    "3. **Retrieving Results**: It then retrieves the most similar vectors, which correspond to the most relevant search results.\n",
    "\n",
    "Putting it all together:\n",
    "\n",
    "With USE and FAISS, we have a powerful duo. USE helps us understand language in numerical terms, and FAISS lets us search through these numbers to find meaningful connections. Combining them, we create a semantic search engine that's both smart and swift.\n",
    "\n",
    "<!-- Insert a diagram that visually represents the flow from text input to vectorization with USE to searching and indexing with FAISS -->\n"
   ]
  },
  {
   "cell_type": "markdown",
   "id": "c95a9016-26ca-4a35-bed3-e003378c21d2",
   "metadata": {},
   "source": [
    "---\n"
   ]
  },
  {
   "cell_type": "markdown",
   "id": "80b217ec-c213-48aa-862a-1ac51263a7e9",
   "metadata": {},
   "source": [
    "## The 20 Newsgroups Dataset\n",
    "\n",
    "In this project, we'll be using the 20 Newsgroups dataset, a collection of approximately 20,000 newsgroup documents, partitioned across 20 different newsgroups. It's a go-to dataset in the NLP community because it presents real-world challenges:\n",
    "\n",
    "### What is the 20 Newsgroups Dataset?\n",
    "\n",
    "- **Diverse Topics**: The dataset spans 20 different topics, from sports and science to politics and religion, reflecting the diverse interests of newsgroup members.\n",
    "- **Natural Language**: It contains actual discussions, with all the nuances of human language, making it ideal for semantic search.\n",
    "- **Prevalence of Context**: The conversations within it require understanding of context to differentiate between the topics effectively.\n",
    "\n",
    "### How are we using the 20 Newsgroups Dataset?\n",
    "\n",
    "1. **Exploring Data**: We'll start by loading the dataset and exploring its structure to understand the kind of information it holds.\n",
    "2. **Preprocessing**: We'll clean the text data, removing any unwanted noise that could affect our semantic analysis.\n",
    "3. **Vectorization**: We'll then use the Universal Sentence Encoder to transform this text into numerical vectors that capture the essence of each document.\n",
    "4. **Semantic Search Implementation**: Finally, we'll use FAISS to index these vectors, allowing us to perform fast and efficient semantic searches across the dataset.\n",
    "\n",
    "By working with the 20 Newsgroups dataset, you'll gain hands-on experience with real-world data and the end-to-end process of building a semantic search engine.\n",
    "\n",
    "<!-- An image of a sample newsgroup post or a chart showing the distribution of topics within the dataset can be helpful here -->\n"
   ]
  },
  {
   "cell_type": "code",
   "execution_count": 2,
   "id": "415c4a78-b02a-421a-b817-e6d28fa410d1",
   "metadata": {},
   "outputs": [],
   "source": [
    "from sklearn.datasets import fetch_20newsgroups\n",
    "newsgroups_train = fetch_20newsgroups(subset='train')"
   ]
  },
  {
   "cell_type": "code",
   "execution_count": 3,
   "id": "83ec8512-dc09-4ac6-a412-dadee693fea1",
   "metadata": {},
   "outputs": [
    {
     "name": "stdout",
     "output_type": "stream",
     "text": [
      "Pretty printing has been turned OFF\n"
     ]
    }
   ],
   "source": [
    "pprint(list(newsgroups_train.target_names))"
   ]
  },
  {
   "cell_type": "code",
   "execution_count": null,
   "id": "7e3fd320-cfef-43c0-aacb-41feb8c0578d",
   "metadata": {},
   "outputs": [],
   "source": [
    "# Display the first 3 posts from the dataset\n",
    "for i in range(3):\n",
    "    print(f\"Sample post {i+1}:\\n\")\n",
    "    pprint(newsgroups_train.data[i])\n",
    "    print(\"\\n\" + \"-\"*80 + \"\\n\")"
   ]
  },
  {
   "cell_type": "markdown",
   "id": "e811a1ea-cfca-467c-bdf7-09d97ded06c6",
   "metadata": {},
   "source": [
    "---\n"
   ]
  },
  {
   "cell_type": "markdown",
   "id": "539eae39-f44f-40f4-9ea1-df0ee19ab5c2",
   "metadata": {},
   "source": [
    "# Pre-processing Data\n",
    "\n",
    "In this section, we focus on preparing the text data from the 20 Newsgroups dataset for our semantic search engine. Preprocessing is a critical step to ensure the quality and consistency of the data before it's fed into the Universal Sentence Encoder.\n",
    "\n",
    "## Steps in Preprocessing:\n",
    "\n",
    "1. **Fetching Data**: \n",
    "   - We load the complete 20 Newsgroups dataset using `fetch_20newsgroups` from `sklearn.datasets`. \n",
    "   - `documents = newsgroups.data` stores all the newsgroup documents in a list.\n",
    "\n",
    "2. **Defining the Preprocessing Function**:\n",
    "   - The `preprocess_text` function is designed to clean each text document. Here's what it does to every piece of text:\n",
    "     - **Removes Email Headers**: Strips off lines that start with 'From:' as they usually contain metadata like email addresses.\n",
    "     - **Eliminates Email Addresses**: Finds patterns resembling email addresses and removes them.\n",
    "     - **Strips Punctuations and Numbers**: Removes all characters except alphabets, aiding in focusing on textual data.\n",
    "     - **Converts to Lowercase**: Standardizes the text by converting all characters to lowercase, ensuring uniformity.\n",
    "     - **Trims Excess Whitespace**: Cleans up any extra spaces, tabs, or line breaks.\n",
    "\n",
    "3. **Applying Preprocessing**:\n",
    "   - We iterate over each document in the `documents` list and apply our `preprocess_text` function.\n",
    "   - The cleaned documents are stored in `processed_documents`, ready for further processing.\n",
    "\n",
    "By preprocessing the text data in this way, we reduce noise and standardize the text, which is essential for achieving meaningful semantic analysis in later steps.\n"
   ]
  },
  {
   "cell_type": "code",
   "execution_count": null,
   "id": "432af00f-5b97-4335-82f5-7838769b773c",
   "metadata": {},
   "outputs": [],
   "source": [
    "newsgroups = fetch_20newsgroups(subset='all')\n",
    "documents = newsgroups.data\n",
    "\n",
    "# Basic preprocessing of text data\n",
    "def preprocess_text(text):\n",
    "    # Remove email headers\n",
    "    text = re.sub(r'^From:.*\\n?', '', text, flags=re.MULTILINE)\n",
    "    # Remove email addresses\n",
    "    text = re.sub(r'\\S*@\\S*\\s?', '', text)\n",
    "    # Remove punctuations and numbers\n",
    "    text = re.sub(r'[^a-zA-Z\\s]', '', text)\n",
    "    # Convert to lowercase\n",
    "    text = text.lower()\n",
    "    # Remove excess whitespace\n",
    "    text = re.sub(r'\\s+', ' ', text).strip()\n",
    "    return text\n",
    "\n",
    "# Preprocess each document\n",
    "processed_documents = [preprocess_text(doc) for doc in documents]"
   ]
  },
  {
   "cell_type": "code",
   "execution_count": null,
   "id": "12af3848-590e-472a-bdb1-4c5fdd336457",
   "metadata": {},
   "outputs": [],
   "source": [
    "# Choose a sample post to display\n",
    "sample_index = 0  # for example, the first post in the dataset\n",
    "\n",
    "# Print the original post\n",
    "print(\"Original post:\\n\")\n",
    "print(newsgroups_train.data[sample_index])\n",
    "print(\"\\n\" + \"-\"*80 + \"\\n\")\n",
    "\n",
    "# Print the preprocessed post\n",
    "print(\"Preprocessed post:\\n\")\n",
    "print(preprocess_text(newsgroups_train.data[sample_index]))\n",
    "print(\"\\n\" + \"-\"*80 + \"\\n\")"
   ]
  },
  {
   "cell_type": "markdown",
   "id": "382f6c36-64e1-4d36-ba0e-12bafcaa5cbf",
   "metadata": {},
   "source": [
    "---\n"
   ]
  },
  {
   "cell_type": "markdown",
   "id": "9275ca89-9a3d-4173-8e25-16b5505645c0",
   "metadata": {},
   "source": [
    "# Universal Sentence Encoder\n",
    "\n",
    "After preprocessing the text data, the next step is to transform this cleaned text into numerical vectors using the Universal Sentence Encoder (USE). These vectors capture the semantic essence of the text.\n",
    "\n",
    "### Loading the USE Module:\n",
    "\n",
    "- We use TensorFlow Hub (`hub`) to load the pre-trained Universal Sentence Encoder.\n",
    "- `embed = hub.load(\"https://tfhub.dev/google/universal-sentence-encoder/4\")` fetches the USE module, making it ready for vectorization.\n",
    "\n",
    "### Defining the Embedding Function:\n",
    "\n",
    "- The `embed_text` function is defined to take a piece of text as input and return its vector representation.\n",
    "- Inside the function, `embed(text)` converts the text into a high-dimensional vector, capturing the nuanced semantic meaning.\n",
    "- `.numpy()` is used to convert the result from a TensorFlow tensor to a NumPy array, which is a more versatile format for subsequent operations.\n",
    "\n",
    "### Vectorizing Preprocessed Documents:\n",
    "\n",
    "- We then apply the `embed_text` function to each document in our preprocessed dataset, `processed_documents`.\n",
    "- `np.vstack([...])` stacks the vectors vertically to create a 2D array, where each row represents a document.\n",
    "- The resulting array `X_use` holds the vectorized representations of all the preprocessed documents, ready to be used for semantic search indexing and querying.\n",
    "\n",
    "By vectorizing the text with USE, we've now converted our textual data into a format that can be efficiently processed by machine learning algorithms, setting the stage for the next step: indexing with FAISS.\n"
   ]
  },
  {
   "cell_type": "code",
   "execution_count": null,
   "id": "9e2de3b3-541e-4270-be07-2ef134b49138",
   "metadata": {},
   "outputs": [],
   "source": [
    "# Load the Universal Sentence Encoder's TF Hub module\n",
    "embed = hub.load(\"https://tfhub.dev/google/universal-sentence-encoder/4\")\n",
    "\n",
    "# Function to generate embeddings\n",
    "def embed_text(text):\n",
    "    return embed(text).numpy()\n",
    "\n",
    "# Generate embeddings for each preprocessed document\n",
    "X_use = np.vstack([embed_text([doc]) for doc in processed_documents])"
   ]
  },
  {
   "cell_type": "markdown",
   "id": "7daeea34-77ac-4e21-b56e-c6e849c7ab3e",
   "metadata": {},
   "source": [
    "---\n"
   ]
  },
  {
   "cell_type": "markdown",
   "id": "9e94a5b5-c4d1-4b18-80e7-3bda09d7910c",
   "metadata": {},
   "source": [
    "# Indexing with FAISS\n",
    "\n",
    "With our documents now represented as vectors using the Universal Sentence Encoder, the next step is to use FAISS (Facebook AI Similarity Search) for efficient similarity searching.\n",
    "\n",
    "## Creating a FAISS Index:\n",
    "\n",
    "- We first determine the dimension of our vectors from `X_use` using `X_use.shape[1]`.\n",
    "- A FAISS index (`index`) is created specifically for L2 distance (Euclidean distance) using `faiss.IndexFlatL2(dimension)`.\n",
    "- We add our document vectors to this index with `index.add(X_use)`. This step effectively creates a searchable space for our document vectors.\n",
    "\n",
    "### Choosing the Right Index:\n",
    "\n",
    "- In this project, we use `IndexFlatL2` for its simplicity and effectiveness in handling small to medium-sized datasets.\n",
    "- FAISS offers a variety of indexes tailored for different use cases and dataset sizes. Depending on your specific needs and the complexity of your data, you might consider other indexes for more efficient searching.\n",
    "- For larger datasets or more advanced use cases, indexes like `IndexIVFFlat`, `IndexIVFPQ`, and others can provide faster search times and reduced memory usage. Explore more at [FAISS indexes wiki](https://github.com/facebookresearch/faiss/wiki/Faiss-indexes).\n"
   ]
  },
  {
   "cell_type": "code",
   "execution_count": null,
   "id": "a2baf25d-7fdc-4ab5-9607-86e732efa825",
   "metadata": {},
   "outputs": [],
   "source": [
    "dimension = X_use.shape[1]\n",
    "index = faiss.IndexFlatL2(dimension)  # Creating a FAISS index\n",
    "index.add(X_use)  # Adding the document vectors to the index"
   ]
  },
  {
   "cell_type": "markdown",
   "id": "0faef8c9-92fa-4fbf-83b5-58532cc4cab0",
   "metadata": {},
   "source": [
    "##  Quering with FAISS\n",
    "### Defining the Search Function:\n",
    "\n",
    "- The `search` function is designed to find documents that are semantically similar to a given query.\n",
    "- It preprocesses the query text using the `preprocess_text` function to ensure consistency.\n",
    "- The query text is then converted to a vector using `embed_text`.\n",
    "- FAISS performs a search for the nearest neighbors (`k`) to this query vector in our index.\n",
    "- It returns the distances and indices of these nearest neighbors.\n",
    "\n",
    "### Executing a Query and Displaying Results:\n",
    "\n",
    "- We test our search engine with an example query (e.g., \"motorcycle\").\n",
    "- The `search` function returns the indices of the documents in the index that are most similar to the query.\n",
    "- For each result, we display:\n",
    "   - The ranking of the result (based on distance).\n",
    "   - The distance value itself, indicating how close the document is to the query.\n",
    "   - The actual text of the document. We display both the preprocessed and original versions of each document for comparison.\n",
    "\n",
    "This functionality showcases the practical application of semantic search: retrieving information that is contextually relevant to the query, not just based on keyword matching. The displayed results will give a clear idea of how our semantic search engine interprets and responds to natural language queries.\n"
   ]
  },
  {
   "cell_type": "code",
   "execution_count": null,
   "id": "d8fd42dd-e345-4836-a7e9-ef18f1df6676",
   "metadata": {},
   "outputs": [],
   "source": [
    "# Function to perform a query using the Faiss index\n",
    "def search(query_text, k=5):\n",
    "    # Preprocess the query text\n",
    "    preprocessed_query = preprocess_text(query_text)\n",
    "    # Generate the query vector\n",
    "    query_vector = embed_text([preprocessed_query])\n",
    "    # Perform the search\n",
    "    distances, indices = index.search(query_vector.astype('float32'), k)\n",
    "    return distances, indices\n",
    "\n",
    "# Example Query\n",
    "query_text = \"motorcycle\"\n",
    "distances, indices = search(query_text)\n",
    "\n",
    "# Display the results\n",
    "for i, idx in enumerate(indices[0]):\n",
    "    # Ensure that the displayed document is the preprocessed one\n",
    "    print(f\"Rank {i+1}: (Distance: {distances[0][i]})\\n{processed_documents[idx]}\\n\")"
   ]
  },
  {
   "cell_type": "code",
   "execution_count": null,
   "id": "f0c6780d-87c8-4956-8939-0b8ac430c7df",
   "metadata": {},
   "outputs": [],
   "source": [
    "# Display the results\n",
    "for i, idx in enumerate(indices[0]):\n",
    "    # Displaying the original (unprocessed) document corresponding to the search result\n",
    "    print(f\"Rank {i+1}: (Distance: {distances[0][i]})\\n{documents[idx]}\\n\")"
   ]
  },
  {
   "cell_type": "markdown",
   "id": "c446d6df-dc4e-4717-9683-76c4571bba97",
   "metadata": {},
   "source": [
    "---\n"
   ]
  },
  {
   "cell_type": "markdown",
   "id": "75c185cb-2074-479c-8492-6943f27ea1fc",
   "metadata": {},
   "source": [
    "# Congratulations! You have completed the lab\n"
   ]
  },
  {
   "cell_type": "markdown",
   "id": "8cdf0a73-8bbf-4847-a006-2b2d0fef689e",
   "metadata": {},
   "source": [
    "## Authors\n"
   ]
  },
  {
   "cell_type": "markdown",
   "id": "1ddb4a34-e2fc-45ef-a95b-3df9114e5fa5",
   "metadata": {},
   "source": [
    "[Ashutosh Sagar](https://www.linkedin.com/in/ashutoshsagar/) is completing his MS in CS from Dalhousie University. He has previous experience working with Natural Language Processing and as a Data Scientist.\n"
   ]
  },
  {
   "cell_type": "markdown",
   "id": "077e88a3-160a-49d7-ae89-03fa1e2217b3",
   "metadata": {},
   "source": [
    "## Change Log\n",
    "\n",
    "<details>\n",
    "    <summary>Click here for the changelog</summary>\n",
    "\n",
    "|Date (YYYY-MM-DD)|Version|Changed By|Change Description|\n",
    "|-|-|-|-|\n",
    "|2024-01-08|0.1|Ashutosh Sagar|SME initial creation|\n",
    "|2025-07-17|0.2|Steve Ryan|ID review and format fixes|\n",
    "|2025-07-25|0.3|Steve Ryan|ID fixed TOC and lab title|\n",
    "\n",
    "</detials>\n"
   ]
  },
  {
   "cell_type": "markdown",
   "id": "43bbf712-4734-4ad0-87e7-66007fc0a63b",
   "metadata": {},
   "source": [
    "Copyright © IBM Corporation. All rights reserved.\n"
   ]
  }
 ],
 "metadata": {
  "kernelspec": {
   "display_name": "IBM_course_AgenticAI",
   "language": "python",
   "name": "python3"
  },
  "language_info": {
   "codemirror_mode": {
    "name": "ipython",
    "version": 3
   },
   "file_extension": ".py",
   "mimetype": "text/x-python",
   "name": "python",
   "nbconvert_exporter": "python",
   "pygments_lexer": "ipython3",
   "version": "3.12.9"
  },
  "prev_pub_hash": "faf67be6dc53caed3c38c6e488c2b44148930d55cdd4791ae555934f1d44b563"
 },
 "nbformat": 4,
 "nbformat_minor": 4
}
