{
 "cells": [
  {
   "cell_type": "markdown",
   "id": "9e7a668e-5f6f-4ad1-bd91-ed129b3db218",
   "metadata": {},
   "source": [
    "<p style=\"text-align:center\">\n",
    "    <a href=\"https://skills.network\" target=\"_blank\">\n",
    "    <img src=\"https://cf-courses-data.s3.us.cloud-object-storage.appdomain.cloud/assets/logos/SN_web_lightmode.png\" width=\"200\" alt=\"Skills Network Logo\"  />\n",
    "    </a>\n",
    "</p>\n"
   ]
  },
  {
   "cell_type": "markdown",
   "id": "ae81f967-5ae2-492e-b0ef-143dc6899ea9",
   "metadata": {},
   "source": [
    "# **Build an AI Math Assistant with LangChain Tool Calling**\n",
    "\n",
    "Estimated time needed: **45** minutes\n",
    "\n",
    "In this lab, you will learn how to build a simple agent with LangChain, enabling AI agents to perform specific tasks. You'll create a mathematical toolkit that allows an AI agent to perform basic arithmetic operations through natural language interaction. \n",
    "\n",
    "Through this lab, you'll build an agent that can understand and solve mathematical queries like \"add 25 and 15, then multiply by 2\" by breaking down complex operations into simple steps.\n",
    "\n"
   ]
  },
  {
   "cell_type": "markdown",
   "id": "8aca0323-57ea-4c73-9a18-9e38223f2526",
   "metadata": {},
   "source": [
    "# Table of Contents\n",
    "\n",
    "1. [Objectives](#Objectives)\n",
    "2. [Setup](#Setup)\n",
    "3. [Installing required libraries](#Installing-required-libraries)\n",
    "4. [Loading the LLM: Choosing the right language model](#Loading-the-LLM:-Choosing-the-right-language-model)\n",
    "5. [Function](#Function)\n",
    "   - 5.1 [Tool](#Tool)\n",
    "   - 5.2 [initialize_agent](#initialize_agent)\n",
    "6. [Relationship between agent and LLM](#Relationship-between-agent-and-LLM)\n",
    "7. [Key parameters of initialize_agent](#Key-parameters-of-initialize_agent)\n",
    "8. [Orchestrating multiple tools with an agent: Mathematical toolkit](#Orchestrating-multiple-tools-with-an-agent:-Mathematical-toolkit)\n",
    "   - 8.1 [Subtraction tool](#Subtraction-tool)\n",
    "9. [Building the agent](#Building-the-agent)\n",
    "   - 9.1 [Exploring LangChain's built-in tools](#Exploring-LangChain's-built-in-tools)\n",
    "   - 9.2 [Popular built-in tools](#Popular-built-in-tools)\n",
    "   - 9.3 [Example: Using the Wikipedia tool](#Example:-Using-the-Wikipedia-tool)\n",
    "10. [Exercise: Create a power tool to calculate exponents](#Exercise:-Create-a-power-tool-to-calculate-exponents)\n",
    "    - 10.1 [Objective](#Objective)\n",
    "    - 10.2 [Step 1: Create the power tool](#Step-1:-Create-the-power-tool)\n",
    "    - 10.3 [Step 2: Create an agent with the power tool](#Step-2:-Create-an-agent-with-the-power-tool)\n",
    "    - 10.4 [Step 3: Test the agent](#Step-3:-Test-the-agent)\n",
    "11. [Authors](#authors)\n"
   ]
  },
  {
   "cell_type": "markdown",
   "id": "c9855314-4ede-4edc-9b65-309ad14c40c4",
   "metadata": {},
   "source": [
    "## Objectives\n",
    "\n",
    "After completing this lab, you will be able to:\n",
    "\n",
    "- Explain the concept of tools in LangChain\n",
    "- Create custom tools for specific tasks\n",
    "- Build an AI agent that can use multiple tools\n",
    "- Debug and improve tool functionality\n",
    "- Test tool implementations with various inputs\n"
   ]
  },
  {
   "cell_type": "markdown",
   "id": "bd09da2a-9368-4072-bf0b-58cbb24742c4",
   "metadata": {},
   "source": [
    "----\n"
   ]
  },
  {
   "cell_type": "markdown",
   "id": "13050f80-f513-49cd-9c14-87e10f93e1e9",
   "metadata": {},
   "source": [
    "## Setup\n"
   ]
  },
  {
   "cell_type": "markdown",
   "id": "661bca3a-71d8-44b3-9dc2-3270749d28f3",
   "metadata": {},
   "source": [
    "\n",
    "For this lab, you will use the following libraries:\n",
    "\n",
    "- **`langchain`**: For creating AI agents and tools\n",
    "- **`langchain.chat_models`**: For accessing language models\n",
    "- **`langchain.agents`**: For creating and managing AI agents\n",
    "\n",
    "---\n"
   ]
  },
  {
   "cell_type": "markdown",
   "id": "9e7d6caf-5e05-4756-a8e4-c5131bb139af",
   "metadata": {},
   "source": [
    "## Installing required libraries\n",
    "\n",
    "The following required libraries are __not__ pre-installed in the Skills Network Labs environment. __You will need to run the following cell__ to install them:\n"
   ]
  },
  {
   "cell_type": "code",
   "execution_count": null,
   "id": "60518275-5fec-498c-95ad-f7193b01deea",
   "metadata": {},
   "outputs": [],
   "source": [
    "# %pip install langchain==0.3.23 | tail -n 1 \n",
    "# %pip install langchain-ibm==0.3.10 | tail -n 1 \n",
    "# %pip install langchain-community==0.3.16 | tail -n 1 \n",
    "# %pip install wikipedia==1.4.0 | tail -n 1\n",
    "# %pip install openai==1.77.0 | tail -n 1\n",
    "# %pip install langchain-openai==0.3.16 | tail -n 1"
   ]
  },
  {
   "cell_type": "markdown",
   "id": "b6ea83e1-075b-4ca4-8b0c-29b271ba0168",
   "metadata": {},
   "source": [
    "## Import the required libraries\n"
   ]
  },
  {
   "cell_type": "code",
   "execution_count": 1,
   "id": "9fa49282-0bdf-4d3b-bc86-679f3a1a4f8a",
   "metadata": {},
   "outputs": [
    {
     "name": "stderr",
     "output_type": "stream",
     "text": [
      "/Users/rezamohajerpoor/Documents/Github/IBM_course/.venv/lib/python3.12/site-packages/tqdm/auto.py:21: TqdmWarning: IProgress not found. Please update jupyter and ipywidgets. See https://ipywidgets.readthedocs.io/en/stable/user_install.html\n",
      "  from .autonotebook import tqdm as notebook_tqdm\n"
     ]
    }
   ],
   "source": [
    "from langchain_ibm import ChatWatsonx\n",
    "from langchain.agents import AgentType\n",
    "import re\n",
    "from langchain_groq import ChatGroq\n",
    "from langchain_mistralai import MistralAIEmbeddings\n",
    "import os\n",
    "from dotenv import load_dotenv\n",
    "\n",
    "import gradio as gr\n",
    "\n",
    "load_dotenv()\n",
    "\n",
    "groq_api_key = os.getenv(\"GROQ_API_KEY\")\n",
    "mistral_api_key = os.getenv(\"MISTRAL_API_KEY\")"
   ]
  },
  {
   "cell_type": "markdown",
   "id": "19d5f066-ac43-4d7a-941a-0d3549e35dde",
   "metadata": {},
   "source": [
    "## Loading the LLM: Choosing the right language model\n",
    "\n",
    "In this example, IBM’s `ChatWatsonx`will be used to load a language model (LLM) for interacting with tools. IBM’s models, like Granite 3.2 and Granite 3.3, are highly versatile and excel at advanced reasoning tasks.\n",
    "\n",
    "That said, other providers offer LLMs with different strengths:\n",
    "\n",
    "- **OpenAI (GPT-4/GPT-3.5)**: Best for versatility and advanced reasoning.\n",
    "- **Facebook (Meta, LLaMA)**: Open-access, highly customizable for specialized use cases.\n",
    "- **IBM watsonx Granite**: Ideal for enterprise applications with seamless integration.\n",
    "- **Anthropic (Claude)**: Focused on safety, reliability, and ethical AI.\n",
    "- **Cohere**: Affordable and efficient for lightweight, task-specific models.\n",
    "\n",
    "---\n",
    "\n",
    "For this project, you'll use `ChatWatsonx` because:\n",
    "- It offers a simple API for quick setup.\n",
    "- It supports advanced configurations like:\n",
    "  - **`temperature`**: Adjusting randomness of responses.\n",
    "  - **`max_tokens`**: Limiting the length of responses.\n",
    "- IBM’s models are widely regarded as state-of-the-art for general-purpose reasoning and conversation.\n"
   ]
  },
  {
   "cell_type": "code",
   "execution_count": 2,
   "id": "032e691f-34af-4cc0-bbbb-6e51c7a5eff8",
   "metadata": {},
   "outputs": [],
   "source": [
    "model_id = \"openai/gpt-oss-120b\" # \topenai/gpt-oss-120b llama3-8b-8192\n",
    "    \n",
    "llm = ChatGroq(model=model_id,\n",
    "    temperature=0,\n",
    "    max_tokens=None,\n",
    "    timeout=None,\n",
    "    max_retries=2,\n",
    "    verbose=1)"
   ]
  },
  {
   "cell_type": "markdown",
   "id": "e5cebaf2-1ec7-4466-ae1e-06f62054c931",
   "metadata": {},
   "source": [
    "Let's generate a simple response:\n"
   ]
  },
  {
   "cell_type": "code",
   "execution_count": 3,
   "id": "4f762b5d-a5ce-46b5-aea6-66de8a331f44",
   "metadata": {},
   "outputs": [
    {
     "name": "stdout",
     "output_type": "stream",
     "text": [
      "\n",
      "Response Content:  ## Tool‑Calling in LangChain – A Quick‑Start Overview\n",
      "\n",
      "**Tool‑calling** (sometimes called *function calling* or *tool usage*) is the mechanism by which a language model (LLM) can **invoke external code** (a “tool”) during a conversation, instead of trying to answer everything purely from its internal knowledge. In the LangChain ecosystem this is realized through **Agents**, **Toolkits**, and the **`Tool`** abstraction.\n",
      "\n",
      "---\n",
      "\n",
      "### 1. Why “Tool‑Calling” Matters\n",
      "\n",
      "| Traditional LLM Prompt → Response | Tool‑Calling (LLM + External Code) |\n",
      "|----------------------------------|-----------------------------------|\n",
      "| **All reasoning** happens inside the model. | The model decides *when* and *how* to call external functions (e.g., a database query, a web‑search, a calculator). |\n",
      "| **Static** knowledge → may be outdated or insufficient. | **Dynamic** data: real‑time APIs, private databases, custom business logic. |\n",
      "| No side‑effects (no writes, no network). | **Side‑effects** are possible: create a ticket, send an email, update a spreadsheet, etc. |\n",
      "| Hard to enforce constraints (e.g., “only return JSON”). | LLM can be forced to return a **structured schema** (JSON, XML, etc.) that you can safely parse. |\n",
      "\n",
      "---\n",
      "\n",
      "### 2. Core Concepts in LangChain\n",
      "\n",
      "| Concept | What it is | Typical Use‑Case |\n",
      "|--------|------------|----------------|\n",
      "| **`Tool`** | A thin wrapper around a Python callable (or async function) that has a **name**, **description**, and **input schema**. | “Search the web”, “Run a SQL query”, “Call a weather API”. |\n",
      "| **`Agent`** | Orchestrator that decides *whether* to call a tool, *which* tool, and *how* to combine tool results with LLM output. | “Answer user query → if it needs a calculation → call `calculator` → embed result in final answer”. |\n",
      "| **`Toolkit`** | A collection of related `Tool`s (e.g., `SQLToolkit`, `GoogleSearchToolkit`). | Provide a ready‑made set of tools for a domain. |\n",
      "| **`AgentExecutor`** | The runtime that runs an agent, handles tool calls, and returns the final response. | `AgentExecutor.from_agent_and_tools(agent, tools)`. |\n",
      "| **`FunctionCalling`** (OpenAI) | The underlying OpenAI API feature that lets the model request a function call with arguments. LangChain simply wraps this. | `ChatOpenAI(..., function_call=\"auto\")`. |\n",
      "\n",
      "---\n",
      "\n",
      "### 3. How Tool‑Calling Works Under the Hood\n",
      "\n",
      "1. **Prompt Construction**  \n",
      "   LangChain builds a **system + user prompt** that includes a *tool description block* (name, description, JSON schema).  \n",
      "   Example (OpenAI function‑calling format):\n",
      "\n",
      "   ```json\n",
      "   {\n",
      "     \"name\": \"get_weather\",\n",
      "     \"description\": \"Get the current weather for a city\",\n",
      "     \"parameters\": {\n",
      "       \"type\": \"object\",\n",
      "       \"properties\": {\n",
      "         \"city\": {\"type\": \"string\", \"description\": \"Name of the city\"},\n",
      "         \"units\": {\"type\": \"string\", \"enum\": [\"celsius\", \"fahrenheit\"]}\n",
      "       },\n",
      "       \"required\": [\"city\"]\n",
      "     }\n",
      "   }\n",
      "   ```\n",
      "\n",
      "2. **LLM decides** (via the `function_call` field) whether to **call** a tool.  \n",
      "   - If **no** function call is needed, the model returns a normal text response.  \n",
      "   - If a **function call** is needed, the model returns a JSON payload that matches the tool’s schema.\n",
      "\n",
      "3. **LangChain parses** the JSON, **executes** the corresponding Python function, and captures the result.\n",
      "\n",
      "4. **Result is fed back** to the LLM as a new “assistant” message (or a “function” message) so the model can **reason** on the result and produce the final answer.\n",
      "\n",
      "5. **Loop** (optional) – Agents can call multiple tools in a single turn (e.g., search → summarize → translate).\n",
      "\n",
      "---\n",
      "\n",
      "### 4. Minimal Working Example\n",
      "\n",
      "```python\n",
      "# 1️⃣ Install\n",
      "# pip install langchain openai\n",
      "\n",
      "from langchain.tools import tool\n",
      "from langchain.chat_models import ChatOpenAI\n",
      "from langchain.agents import AgentExecutor, create_openai_functions_agent\n",
      "from langchain.schema import HumanMessage\n",
      "\n",
      "# 2️⃣ Define a simple tool\n",
      "@tool\n",
      "def add_numbers(a: int, b: int) -> int:\n",
      "    \"\"\"Add two integers and return the sum.\"\"\"\n",
      "    return a + b\n",
      "\n",
      "# 3️⃣ Create the LLM with function‑calling enabled\n",
      "llm = ChatOpenAI(\n",
      "    model=\"gpt-4o-mini\",   # any OpenAI model that supports function calling\n",
      "    temperature=0,\n",
      "    # `function_call=\"auto\"` is the default for LangChain's `ChatOpenAI`\n",
      ")\n",
      "\n",
      "# 4️⃣ Build an agent that can use the `add_numbers` tool\n",
      "agent = create_openai_functions_agent(\n",
      "    llm=llm,\n",
      "    tools=[add_numbers],\n",
      "    # optional: set `verbose=True` to see the internal messages\n",
      ")\n",
      "\n",
      "# 5️⃣ Run the agent\n",
      "executor = AgentExecutor(agent=agent, tools=[add_numbers], verbose=True)\n",
      "\n",
      "# 6️⃣ Ask a question that requires the tool\n",
      "response = executor.run(\"What is 7 + 13?\")\n",
      "\n",
      "print(response)   # → \"The sum of 7 and 13 is 20.\"\n",
      "```\n",
      "\n",
      "**What happens?**\n",
      "\n",
      "1. The agent sends a prompt that includes the `add_numbers` description.  \n",
      "2. The LLM decides “I need to add numbers”, returns a function call JSON.  \n",
      "3. LangChain calls `add_numbers(7, 13)`.  \n",
      "4. The result (`20`) is fed back to the LLM, which then produces the final natural‑language answer.\n",
      "\n",
      "---\n",
      "\n",
      "### 5. Real‑World Use‑Cases\n",
      "\n",
      "| Domain | Typical Tools | Example Flow |\n",
      "|-------|--------------|------------|\n",
      "| **Search** | `GoogleSearchTool`, `BingSearchTool` | “Find the latest price of Tesla stock.” → Search → parse → answer. |\n",
      "| **Database** | `SQLToolkit`, `PandasDataframeTool` | “Show me the top 5 customers by revenue last month.” → SQL → pandas → format. |\n",
      "| **APIs** | Custom HTTP wrappers, `OpenWeatherMapTool` | “What’s the forecast for Paris tomorrow?” → call weather API → format. |\n",
      "| **File I/O** | `FileReadTool`, `CSVWriterTool` | “Add a row to `sales.csv` with today's sales.” |\n",
      "| **Agentic Workflows** | `AgentExecutor` with multiple tools | “Plan a 3‑day trip to Tokyo: get flight prices, hotel availability, and create an itinerary.” |\n",
      "\n",
      "---\n",
      "\n",
      "### 6. Advanced Features\n",
      "\n",
      "| Feature | What it Gives You | Example in LangChain |\n",
      "|--------|-------------------|--------------------|\n",
      "| **Dynamic Tool Creation** | Build tools on‑the‑fly (e.g., generate a SQL query from user input). | `SQLToolkit.from_connection_string(...)`. |\n",
      "| **Tool‑Specific Memory** | Store results across turns (e.g., a shopping cart). | Use `ConversationBufferMemory` + custom tool that reads/writes a dict. |\n",
      "| **Parallel Tool Calls** | Run multiple tools concurrently (e.g., fetch weather and news at the same time). | `ParallelTool` wrapper or custom `async` tools. |\n",
      "| **Tool‑Specific Prompt Templates** | Provide custom instructions per tool. | `Tool(name=\"search\", description=\"...\", args_schema=..., prompt_template=\"...\")`. |\n",
      "| **Safety & Guardrails** | Validate arguments before execution. | Use Pydantic models for `args_schema` – automatically validates. |\n",
      "| **Streaming & Async** | Non‑blocking calls for long‑running APIs. | Define `async def` in a `@tool` and use `ChatOpenAI(..., streaming=True)`. |\n",
      "\n",
      "---\n",
      "\n",
      "### 7. How to Choose the Right Level of Abstraction\n",
      "\n",
      "| Level | When to Use | Example |\n",
      "|------|-------------|--------|\n",
      "| **Simple `@tool`** | One‑off function, quick prototype. | `add_numbers`, `get_current_time`. |\n",
      "| **Toolkit** | A cohesive set of related functions (e.g., all DB operations). | `SQLToolkit`, `GoogleSearchToolkit`. |\n",
      "| **Agent + Toolkit** | Full‑blown autonomous agent that decides *when* to call which tool. | “Research a topic, fetch data, summarize, and write a report.” |\n",
      "| **Custom Agent** | Custom logic (e.g., multi‑step reasoning, custom memory). | “Iteratively refine a design based on user feedback.” |\n",
      "\n",
      "---\n",
      "\n",
      "### 8. Common Pitfalls & Tips\n",
      "\n",
      "| Pitfall | Fix / Best Practice |\n",
      "|--------|--------------------|\n",
      "| **Tool not called** – LLM decides not to use the tool. | Make the tool description **very specific** and include a **clear example** in the system prompt. |\n",
      "| **Invalid JSON** – LLM returns malformed arguments. | Use **Pydantic** schemas (`args_schema`) – LangChain validates and will retry if parsing fails. |\n",
      "| **Long‑running API** – Timeout or blocking. | Use **async** tools (`async def`) and set `timeout` on the HTTP client. |\n",
      "| **Security** – LLM could request dangerous actions. | **Whitelist** only safe tools; use a **sandbox** or explicit `allowed_tools` list. |\n",
      "| **Stateful workflows** – Need to remember previous calls. | Use `ConversationBufferMemory` or a **custom state store** (Redis, DB). |\n",
      "| **Multiple tool calls in one turn** – LLM may want to call several tools. | Use `AgentExecutor` with `max_iterations` > 1, or enable **parallel tool** wrappers. |\n",
      "\n",
      "---\n",
      "\n",
      "### 9. Quick Reference Cheat‑Sheet\n",
      "\n",
      "```python\n",
      "# 1️⃣ Define a tool (sync or async)\n",
      "@tool\n",
      "def get_weather(city: str, units: str = \"celsius\") -> str:\n",
      "    \"\"\"Return current weather for a city.\"\"\"\n",
      "    # call external API (e.g., OpenWeatherMap)\n",
      "    ...\n",
      "\n",
      "# 2️⃣ Create LLM with function calling\n",
      "llm = ChatOpenAI(model=\"gpt-4o\", temperature=0)\n",
      "\n",
      "# 3️⃣ Build an agent\n",
      "agent = create_openai_functions_agent(llm, tools=[get_weather])\n",
      "\n",
      "# 4️⃣ Run\n",
      "executor = AgentExecutor(agent=agent, tools=[get_weather])\n",
      "print(executor.run(\"What’s the weather in Tokyo?\"))\n",
      "```\n",
      "\n",
      "---\n",
      "\n",
      "## TL;DR\n",
      "\n",
      "**Tool‑calling in LangChain** is the pattern where an LLM **decides** (via OpenAI function‑calling or a custom “tool” interface) to **run external code** (a `Tool`) and then **uses the result** to produce a final answer. It’s implemented through **`Tool` objects**, **`Agent`** orchestration, and optional **`Toolkit`** collections. This enables LLMs to:\n",
      "\n",
      "* fetch real‑time data,\n",
      "* perform calculations,\n",
      "* interact with databases/APIs,\n",
      "* and execute any custom business logic,\n",
      "all while keeping the conversation flow natural and the output **structured** for safe downstream processing.\n",
      "\n",
      "--- \n",
      "\n",
      "**Ready to try it?**  \n",
      "Copy the minimal example above, replace `add_numbers` with any API you need, and you’ll have a fully‑functional tool‑calling agent in minutes! 🚀\n"
     ]
    }
   ],
   "source": [
    "response = llm.invoke(\"What is tool calling in langchain?\")\n",
    "print(\"\\nResponse Content: \", response.content)"
   ]
  },
  {
   "cell_type": "markdown",
   "id": "c068c1a8-294b-414a-a17c-e3f7a473a14f",
   "metadata": {},
   "source": [
    "## API Disclaimer\n",
    "This lab uses LLMs provided by **IBM watsonx.ai** and **OpenAI**. This environment has been configured to allow LLM use without API keys so you can prompt them for **free (with limitations)**. With that in mind, if you wish to run this notebook **locally outside** of Skills Network's JupyterLab environment, you will have to **configure your own API keys**. Please note that using your own API keys means that you will incur personal charges. \n"
   ]
  },
  {
   "cell_type": "markdown",
   "id": "7b66cd14-f37e-4b1f-a884-ab780fcb8661",
   "metadata": {},
   "source": [
    "### Running Locally\n",
    "\n",
    "If you are running this lab locally, you will need to configure your own API keys. This lab uses `ChatOpenAI` and `ChatWatsonx` modules from `langchain`. Both configurations are shown below with instructions. **Replace all instances** of both modules with the completed modules below throughout the lab. **DO NOT** run the cell below if you aren't running locally, it will causes errors.\n"
   ]
  },
  {
   "cell_type": "raw",
   "id": "3c90433a-ed0d-42d4-b62d-467111f7acee",
   "metadata": {},
   "source": [
    "# IGNORE IF YOU ARE NOT RUNNING LOCALLY\n",
    "\n",
    "from langchain_openai import ChatOpenAI\n",
    "from langchain_ibm import ChatWatsonx\n",
    "\n",
    "openai_llm = ChatOpenAI(\n",
    "    model=\"gpt-4.1-nano\",\n",
    "    api_key = \"your openai api key here\",\n",
    ")\n",
    "\n",
    "watsonx_llm = ChatWatsonx(\n",
    "    model_id=\"ibm/granite-3-2-8b-instruct\",\n",
    "    url=\"https://us-south.ml.cloud.ibm.com\",\n",
    "    project_id=\"your project id associated with the API key\",\n",
    "    api_key=\"your watsonx.ai api key here\",\n",
    ")"
   ]
  },
  {
   "cell_type": "markdown",
   "id": "a97f31ff-7a8d-4a19-bd18-0af5a4c55329",
   "metadata": {},
   "source": [
    "\n"
   ]
  },
  {
   "cell_type": "markdown",
   "id": "bd16ca79-bc16-4f03-92b6-f1b16c81e67b",
   "metadata": {},
   "source": [
    "\n",
    "\n",
    "## Function\n",
    "\n",
    "In AI, a **tool** will call a basic **function** or capability that can be called on to perform a specific task. Think of it like a single item in a toolbox: just like a hammer, screwdriver, or wrench, an AI toolbox is full of specific functions designed to solve problems or get things done.\n",
    "\n",
    "When building tools for tool calling, there are a few key principles to keep in mind:\n",
    "\n",
    "1. **Clear purpose**: Make sure the tool has a well-defined job.\n",
    "2. **Standardized input**: The tool should accept input in a predictable, structured format so it’s easy to use.\n",
    "3. **Consistent output**: Always return results in a format that’s easy to process or integrate with other systems.\n",
    "4. **Comprehensive documentation**: Your tool should include clear, simple documentation that explains what it does, how to use it, and any quirks or limitations.\n",
    "\n",
    "Remember, documentation isn’t just for other developers—it’s also for the language model (LLM) to understand the tool’s purpose and how to use it effectively.\n",
    "\n",
    "For this example, you’ll start with a simple tool to add numbers. It’ll check off most of the basic requirements, but one key limitation is that it doesn’t handle **basic error cases**, like ignoring non-numeric input. Improving error handling will make the tool much more robust and ready for real-world use.\n"
   ]
  },
  {
   "cell_type": "code",
   "execution_count": 4,
   "id": "94e13fad-21a3-4b82-9cdf-a27c6e3e6d91",
   "metadata": {},
   "outputs": [],
   "source": [
    "def add_numbers(inputs:str) -> dict:\n",
    "    \"\"\"\n",
    "    Adds a list of numbers provided in the input dictionary or extracts numbers from a string.\n",
    "\n",
    "    Parameters:\n",
    "    - inputs (str): \n",
    "    string, it should contain numbers that can be extracted and summed.\n",
    "\n",
    "    Returns:\n",
    "    - dict: A dictionary with a single key \"result\" containing the sum of the numbers.\n",
    "\n",
    "    Example Input (Dictionary):\n",
    "    {\"numbers\": [10, 20, 30]}\n",
    "\n",
    "    Example Input (String):\n",
    "    \"Add the numbers 10, 20, and 30.\"\n",
    "\n",
    "    Example Output:\n",
    "    {\"result\": 60}\n",
    "    \"\"\"\n",
    "    numbers = [int(x) for x in inputs.replace(\",\", \"\").split() if x.isdigit()]\n",
    "\n",
    "    \n",
    "    result = sum(numbers)\n",
    "    return {\"result\": result}"
   ]
  },
  {
   "cell_type": "markdown",
   "id": "2f73ba73-b053-4818-8e00-2baaf639b55c",
   "metadata": {},
   "source": [
    "Directly testing a tool allows you to pinpoint where the problem lies—whether it’s in the tool’s logic, input parsing, or output formatting.\n",
    "Here, you'll input the string `1 2` and get the sum.\n"
   ]
  },
  {
   "cell_type": "code",
   "execution_count": 7,
   "id": "dbeb1be5-b3d9-47ad-b1d2-e67689e611b1",
   "metadata": {},
   "outputs": [
    {
     "data": {
      "text/plain": [
       "{'result': 3}"
      ]
     },
     "execution_count": 7,
     "metadata": {},
     "output_type": "execute_result"
    }
   ],
   "source": [
    "add_numbers(\"1 ,,,2\") "
   ]
  },
  {
   "cell_type": "markdown",
   "id": "46056df8-7274-4316-9bb5-08098de490cb",
   "metadata": {},
   "source": [
    "\n",
    "## Tool\n",
    "The `Tool` class in LangChain serves as a structured wrapper that converts regular Python functions into agent-compatible tools. Each tool needs three key components:\n",
    "1. A name that identifies the tool\n",
    "2. The function that performs the actual operation\n",
    "3. A description that helps the agent understand when to use the tool\n",
    "\n",
    "Testing section improvement:\n",
    "\n",
    "\n"
   ]
  },
  {
   "cell_type": "code",
   "execution_count": 8,
   "id": "7f485b79-c56d-432e-b120-7747bfafa950",
   "metadata": {},
   "outputs": [
    {
     "name": "stdout",
     "output_type": "stream",
     "text": [
      "tool object name='AddTool' description='Adds a list of numbers and returns the result.' func=<function add_numbers at 0x16035e2a0>\n"
     ]
    }
   ],
   "source": [
    "from langchain.agents import Tool\n",
    "add_tool=Tool(\n",
    "        name=\"AddTool\",\n",
    "        func=add_numbers,\n",
    "        description=\"Adds a list of numbers and returns the result.\")\n",
    "\n",
    "print(\"tool object\",add_tool)"
   ]
  },
  {
   "cell_type": "markdown",
   "id": "e4d4a168-7872-4a3e-9c74-16fe3d0aa388",
   "metadata": {},
   "source": [
    "Let's see the parameters of the object:\n",
    "\n",
    "- **`name`** (*str*):\n",
    "  - A unique identifier for the tool.\n",
    "\n",
    "  - **Example**: `\"AddTool\"`\n",
    "\n",
    "- **`.invoke`** (*Callable*):\n",
    "  - The function that the tool wraps.\n",
    "  - **Example**: `add_numbers`\n",
    "\n",
    "- **`description`** (*str*):\n",
    "  - A concise explanation of what the tool does.\n",
    "  - **Example**: `\"Adds a list of numbers and returns the result.\"`\n",
    "\n"
   ]
  },
  {
   "cell_type": "markdown",
   "id": "80f77d3c-e3ca-414c-83ef-ddca17d487ca",
   "metadata": {},
   "source": [
    "\n",
    "These attributes allow you to inspect the tool object\n"
   ]
  },
  {
   "cell_type": "code",
   "execution_count": 9,
   "id": "479c0714-bbef-43c9-9039-35d963d3efaa",
   "metadata": {},
   "outputs": [
    {
     "name": "stdout",
     "output_type": "stream",
     "text": [
      "Tool Name:\n",
      "AddTool\n",
      "Tool Description:\n",
      "Adds a list of numbers and returns the result.\n",
      "Tool Function:\n",
      "<bound method BaseTool.invoke of Tool(name='AddTool', description='Adds a list of numbers and returns the result.', func=<function add_numbers at 0x16035e2a0>)>\n"
     ]
    }
   ],
   "source": [
    "# Tool name\n",
    "print(\"Tool Name:\")\n",
    "print(add_tool.name)\n",
    "\n",
    "# Tool description\n",
    "print(\"Tool Description:\")\n",
    "print(add_tool.description)\n",
    "\n",
    "# Tool function\n",
    "print(\"Tool Function:\")\n",
    "print(add_tool.invoke)\n"
   ]
  },
  {
   "cell_type": "markdown",
   "id": "7bf7bbf6-88e3-44b4-b017-53e06c5fa46c",
   "metadata": {},
   "source": [
    "You can call the tool's function via the ```add_tool``` object:\n"
   ]
  },
  {
   "cell_type": "code",
   "execution_count": 10,
   "id": "21da3173-48c2-4785-aa39-e90c5bdbf2e0",
   "metadata": {},
   "outputs": [
    {
     "name": "stdout",
     "output_type": "stream",
     "text": [
      "Calling Tool Function:\n",
      "{'result': 60}\n"
     ]
    }
   ],
   "source": [
    "print(\"Calling Tool Function:\")\n",
    "test_input = \"10 20 30 a b\" \n",
    "print(add_tool.invoke(test_input))  # Example"
   ]
  },
  {
   "cell_type": "markdown",
   "id": "b1da038b-ba6f-4082-9706-88dcc1cb22d9",
   "metadata": {},
   "source": [
    "Testing the tool object ensures:\n",
    "\n",
    "1. **The tool is correctly set up**:\n",
    "   - Metadata (`name`, `description`, etc.) is properly defined and aligns with its purpose.\n",
    "   - The function and schema (if applicable) are correctly configured.\n",
    "\n",
    "2. **The wrapped function behaves as expected**:\n",
    "   - The function performs the intended task correctly.\n",
    "   - It handles edge cases and invalid inputs gracefully.\n",
    "\n",
    "3. **The tool integrates smoothly with agents**:\n",
    "   - The tool's output aligns with what the agent expects.\n",
    "   - There are no compatibility issues when the agent calls the tool.\n"
   ]
  },
  {
   "cell_type": "markdown",
   "id": "613cf1ac-cd06-467d-a5d5-1c710af928aa",
   "metadata": {},
   "source": [
    "### `@tool` operator\n",
    "\n",
    "Now you know how to create a tool with a `Tool` class (using Tool Interface), there's actually another way that you can create a tool using `@tool` decorator. The recommended way to create tools is using the `@tool` decorator. This decorator is designed to simplify the process of tool creation and should be used in most cases. After defining a function, you can decorate it with `@tool` to create a tool that implements the Tool Interface.\n",
    "\n",
    "`@tool` opertor makes tools out of functions. See below:\n"
   ]
  },
  {
   "cell_type": "code",
   "execution_count": 11,
   "id": "5d3ae57d-8dc1-4dfc-a72a-c7936a268bce",
   "metadata": {},
   "outputs": [],
   "source": [
    "from langchain_core.tools import tool\n",
    "import re\n",
    "\n",
    "@tool\n",
    "def add_numbers(inputs:str) -> dict:\n",
    "    \"\"\"\n",
    "    Adds a list of numbers provided in the input string.\n",
    "    Parameters:\n",
    "    - inputs (str): \n",
    "    string, it should contain numbers that can be extracted and summed.\n",
    "    Returns:\n",
    "    - dict: A dictionary with a single key \"result\" containing the sum of the numbers.\n",
    "    Example Input:\n",
    "    \"Add the numbers 10, 20, and 30.\"\n",
    "    Example Output:\n",
    "    {\"result\": 60}\n",
    "    \"\"\"\n",
    "    # Use regular expressions to extract all numbers from the input\n",
    "    numbers = [int(num) for num in re.findall(r'\\d+', inputs)]\n",
    "    # numbers = [int(x) for x in inputs.replace(\",\", \"\").split() if x.isdigit()]\n",
    "    \n",
    "    result = sum(numbers)\n",
    "    return {\"result\": result}"
   ]
  },
  {
   "cell_type": "markdown",
   "id": "b380a1a5-eadb-41e8-86ba-2ce5fd1c293d",
   "metadata": {},
   "source": [
    "The above function will now act as a tool. You can inspect the tool's schema and other properties using:\n"
   ]
  },
  {
   "cell_type": "code",
   "execution_count": 12,
   "id": "c5b48ccd-86d6-4ed3-af9c-4bfbc9871adf",
   "metadata": {},
   "outputs": [
    {
     "name": "stdout",
     "output_type": "stream",
     "text": [
      "Name: \n",
      " add_numbers\n",
      "Description: \n",
      " Adds a list of numbers provided in the input string.\n",
      "Parameters:\n",
      "- inputs (str): \n",
      "string, it should contain numbers that can be extracted and summed.\n",
      "Returns:\n",
      "- dict: A dictionary with a single key \"result\" containing the sum of the numbers.\n",
      "Example Input:\n",
      "\"Add the numbers 10, 20, and 30.\"\n",
      "Example Output:\n",
      "{\"result\": 60}\n",
      "Args: \n",
      " {'inputs': {'title': 'Inputs', 'type': 'string'}}\n"
     ]
    }
   ],
   "source": [
    "print(\"Name: \\n\", add_numbers.name)\n",
    "print(\"Description: \\n\", add_numbers.description) \n",
    "print(\"Args: \\n\", add_numbers.args) \n"
   ]
  },
  {
   "cell_type": "markdown",
   "id": "e8e1cbb3-1437-454e-bbbe-5633edae4e32",
   "metadata": {},
   "source": [
    "You can call the tool using the ```invoke``` method.\n"
   ]
  },
  {
   "cell_type": "code",
   "execution_count": 13,
   "id": "6a232acb-bc89-46d0-9e39-b7184de7cbcc",
   "metadata": {},
   "outputs": [
    {
     "name": "stdout",
     "output_type": "stream",
     "text": [
      "{'result': 60}\n"
     ]
    }
   ],
   "source": [
    "test_input = \"what is the sum between 10, 20 and 30 \" \n",
    "print(add_numbers.invoke(test_input))  # Example"
   ]
  },
  {
   "cell_type": "markdown",
   "id": "fe2f2da7-94b4-4c0a-8cd9-2ac1fd422dd5",
   "metadata": {},
   "source": [
    "\n",
    "### Use @tool-StructuredTool\n",
    "\n",
    "The @tool decorator creates a StructuredTool with schema information extracted from function signatures and docstrings as show here. This helps LLMs better understand what inputs the tool expects and how to use it properly. While both approaches work, @tool is generally preferred for modern LangChain applications, especially with LangGraph and function-calling models.\n"
   ]
  },
  {
   "cell_type": "code",
   "execution_count": 14,
   "id": "d6d2f6c8-fabc-48bd-9014-49c4ebe601ed",
   "metadata": {},
   "outputs": [
    {
     "name": "stdout",
     "output_type": "stream",
     "text": [
      "Tool Constructor Approach:\n",
      "Has Schema: True\n",
      "\n",
      "\n",
      "@tool Decorator Approach:\n",
      "Has Schema: True\n",
      "Args Schema Info: {'inputs': {'title': 'Inputs', 'type': 'string'}}\n"
     ]
    }
   ],
   "source": [
    "# Comparing the two approaches\n",
    "print(\"Tool Constructor Approach:\")\n",
    "\n",
    "print(f\"Has Schema: {hasattr(add_tool, 'args_schema')}\")\n",
    "print(\"\\n\")\n",
    "\n",
    "print(\"@tool Decorator Approach:\")\n",
    "\n",
    "\n",
    "print(f\"Has Schema: {hasattr(add_numbers, 'args_schema')}\")\n",
    "print(f\"Args Schema Info: {add_numbers.args}\")"
   ]
  },
  {
   "cell_type": "markdown",
   "id": "8496d94d-ad71-424e-86dc-9a6ebc0a7d87",
   "metadata": {},
   "source": [
    "In this example, the tool has two inputs: a string containing the numbers to add, and a second boolean input that determines whether to sum the absolute values of those numbers.\n"
   ]
  },
  {
   "cell_type": "code",
   "execution_count": 15,
   "id": "77900fa0-48ed-49c6-99a9-442739fa9b77",
   "metadata": {},
   "outputs": [],
   "source": [
    "from typing import List\n",
    "\n",
    "@tool\n",
    "def add_numbers_with_options(numbers: List[float], absolute: bool = False) -> float:\n",
    "    \"\"\"\n",
    "    Adds a list of numbers provided as input.\n",
    "\n",
    "    Parameters:\n",
    "    - numbers (List[float]): A list of numbers to be summed.\n",
    "    - absolute (bool): If True, use the absolute values of the numbers before summing.\n",
    "\n",
    "    Returns:\n",
    "    - float: The total sum of the numbers.\n",
    "    \"\"\"\n",
    "    if absolute:\n",
    "        numbers = [abs(n) for n in numbers]\n",
    "    return sum(numbers)"
   ]
  },
  {
   "cell_type": "markdown",
   "id": "fad88572-56c4-466d-ba11-d755e03b8695",
   "metadata": {},
   "source": [
    "Let's compare the arguments for add_numbers_with_options and add_numbers. Both are structured tools. They both include the inputs field, which is a string input. However, add_numbers_with_options has an additional key-value pair: absolute, a boolean field with a default value of False. This means add_numbers_with_options supports optional behavior—taking the absolute value of the numbers—while add_numbers only handles basic numeric extraction and summation\n"
   ]
  },
  {
   "cell_type": "code",
   "execution_count": 16,
   "id": "409fb38c-8fc1-4416-b7a3-3aea6dc3e3bc",
   "metadata": {},
   "outputs": [
    {
     "name": "stdout",
     "output_type": "stream",
     "text": [
      "Args Schema Info: {'numbers': {'title': 'Numbers', 'type': 'array', 'items': {'type': 'number'}}, 'absolute': {'title': 'Absolute', 'default': False, 'type': 'boolean'}}\n",
      "Args Schema Info: {'inputs': {'title': 'Inputs', 'type': 'string'}}\n"
     ]
    }
   ],
   "source": [
    "print(f\"Args Schema Info: {add_numbers_with_options.args}\")\n",
    "print(f\"Args Schema Info: {add_numbers.args}\")"
   ]
  },
  {
   "cell_type": "markdown",
   "id": "15d5526b-4d66-49ec-bdef-e1aa20c27e1d",
   "metadata": {},
   "source": [
    "You can call the tool using a dictionary as input, where each key corresponds to a parameter name and the value is the input for that parameter. For example, to control whether the numbers are summed normally or with absolute values, set the absolute flag to False or True: You get -6 and 6, respectively \n"
   ]
  },
  {
   "cell_type": "code",
   "execution_count": 17,
   "id": "da4d5217-a1e7-45b8-b526-d1e459ed3b82",
   "metadata": {},
   "outputs": [
    {
     "name": "stdout",
     "output_type": "stream",
     "text": [
      "-6.2\n",
      "6.2\n"
     ]
    }
   ],
   "source": [
    "print(add_numbers_with_options.invoke({\"numbers\":[-1.1,-2.1,-3.0],\"absolute\":False}))\n",
    "print(add_numbers_with_options.invoke({\"numbers\":[-1.1,-2.1,-3.0],\"absolute\":True}))"
   ]
  },
  {
   "cell_type": "markdown",
   "id": "5da3c660-0b5f-4a21-9b5e-90bb931ae378",
   "metadata": {},
   "source": [
    "## Improved tool return types with Python typing\n",
    "\n",
    "When creating tools, you must accurately specify their return values. This helps the agent understand and handle different possible outputs.\n",
    "\n"
   ]
  },
  {
   "cell_type": "markdown",
   "id": "2161eb64-6671-4146-a8bf-5e4bae12b5aa",
   "metadata": {},
   "source": [
    "The function `sum_numbers_with_complex_output` returns a more flexible output format. It returns a dictionary containing a float value when numbers are successfully summed, or a descriptive error message as a string if no numbers are found or an issue occurs during processing.\n"
   ]
  },
  {
   "cell_type": "code",
   "execution_count": 18,
   "id": "7cc2791b-3e5b-48ba-bec8-4176d7da08da",
   "metadata": {},
   "outputs": [],
   "source": [
    "from typing import Dict, Union\n",
    "\n",
    "@tool\n",
    "def sum_numbers_with_complex_output(inputs: str) -> Dict[str, Union[float, str]]:\n",
    "    \"\"\"\n",
    "    Extracts and sums all integers and decimal numbers from the input string.\n",
    "\n",
    "    Parameters:\n",
    "    - inputs (str): A string that may contain numeric values.\n",
    "\n",
    "    Returns:\n",
    "    - dict: A dictionary with the key \"result\". If numbers are found, the value is their sum (float). \n",
    "            If no numbers are found or an error occurs, the value is a corresponding message (str).\n",
    "\n",
    "    Example Input:\n",
    "    \"Add 10, 20.5, and -3.\"\n",
    "\n",
    "    Example Output:\n",
    "    {\"result\": 27.5}\n",
    "    \"\"\"\n",
    "    matches = re.findall(r'-?\\d+(?:\\.\\d+)?', inputs)\n",
    "    if not matches:\n",
    "        return {\"result\": \"No numbers found in input.\"}\n",
    "    try:\n",
    "        numbers = [float(num) for num in matches]\n",
    "        total = sum(numbers)\n",
    "        return {\"result\": total}\n",
    "    except Exception as e:\n",
    "        return {\"result\": f\"Error during summation: {str(e)}\"}"
   ]
  },
  {
   "cell_type": "markdown",
   "id": "3f94aea5-2862-49e4-a347-530c1c6fbeb8",
   "metadata": {},
   "source": [
    "The function `sum_numbers_from_text` returns a straightforward output format. It extracts all integer values from the input string, sums them, and returns the total as a float. This function assumes that at least one valid number is present in the input and does not handle cases where no numbers are found or where an error might occur.\n"
   ]
  },
  {
   "cell_type": "code",
   "execution_count": 19,
   "id": "b7f55453-bdc7-4690-9f35-49c84c0629d5",
   "metadata": {},
   "outputs": [],
   "source": [
    "@tool\n",
    "def sum_numbers_from_text(inputs: str) -> float:\n",
    "    \"\"\"\n",
    "    Adds a list of numbers provided in the input string.\n",
    "    \n",
    "    Args:\n",
    "        text: A string containing numbers that should be extracted and summed.\n",
    "        \n",
    "    Returns:\n",
    "        The sum of all numbers found in the input.\n",
    "    \"\"\"\n",
    "    # Use regular expressions to extract all numbers from the input\n",
    "    numbers = [int(num) for num in re.findall(r'\\d+', inputs)]\n",
    "    result = sum(numbers)\n",
    "    return result"
   ]
  },
  {
   "cell_type": "code",
   "execution_count": 21,
   "metadata": {},
   "outputs": [
    {
     "data": {
      "text/plain": [
       "12"
      ]
     },
     "execution_count": 21,
     "metadata": {},
     "output_type": "execute_result"
    }
   ],
   "source": [
    "sum_numbers_from_text.invoke('two 2 10 twenty')  # Example input with mixed text and numbers"
   ]
  },
  {
   "cell_type": "markdown",
   "id": "f726b010-d251-4c46-bcb0-586a29c4c30b",
   "metadata": {},
   "source": [
    "### `initialize_agent`\n",
    "\n",
    "When you set up an agent, you're connecting tools and an LLM to work together seamlessly. The agent uses the LLM to understand what needs to be done and decides which tool to use based on the task. Here's a simple overview of the key parts:\n",
    "\n",
    "\n",
    "#### **Relationship between agent and LLM**\n",
    "- The **agent** acts as the decision-maker, figuring out which tools to use and when.\n",
    "- The **LLM** is the reasoning engine. It:\n",
    "  - Interprets the user's input.\n",
    "  - Helps the agent make decisions.\n",
    "  - Generates a response based on the output of the tools.\n",
    "\n",
    "Think of the agent as the manager assigning tasks and the LLM as the brain solving problems or delegating work.\n",
    "\n",
    "---\n",
    "\n",
    "#### **Key parameters of `initialize_agent`**\n",
    "\n",
    "1. **`tools`**- see above \n",
    "\n",
    "2.  **`llm`** see above \n",
    "\n",
    "3. **`agent`**:\n",
    "   - Specifies the reasoning framework for the agent.\n",
    "   - `\"zero-shot-react-description\"` enables:\n",
    "     - **Zero-shot reasoning**: The agent can solve tasks it hasn't seen before by thinking through the problem step by step.\n",
    "     - **React framework**: A logical loop of:\n",
    "       - **Reason** → Think about the task.\n",
    "       - **Act** → Use a tool to perform an action.\n",
    "       - **Observe** → Check the tool's output.\n",
    "       - **Plan** → Decide what to do next.\n",
    "\n",
    "4. **`verbose`**:\n",
    "   - If `True`, it prints detailed logs of the agent’s thought process.\n",
    "   - Useful for debugging or understanding how the agent makes decisions.\n",
    "\n",
    "\n"
   ]
  },
  {
   "cell_type": "markdown",
   "id": "423bd5bc-284b-4c7b-9fba-a04e0fdafb32",
   "metadata": {},
   "source": [
    "You can now create an agent object using initialize_agent.\n"
   ]
  },
  {
   "cell_type": "code",
   "execution_count": 22,
   "id": "f0c62605-3c3d-42b3-9ae8-d442bd9f8a94",
   "metadata": {},
   "outputs": [
    {
     "name": "stderr",
     "output_type": "stream",
     "text": [
      "/var/folders/0z/6z_9lrtd6j3_gnlsyv9rb5b00000gn/T/ipykernel_75079/2318726535.py:3: LangChainDeprecationWarning: The function `initialize_agent` was deprecated in LangChain 0.1.0 and will be removed in 0.3.0. Use Use new agent constructor methods like create_react_agent, create_json_agent, create_structured_chat_agent, etc. instead.\n",
      "  agent = initialize_agent([add_tool], llm, agent=\"zero-shot-react-description\", verbose=True, handle_parsing_errors=True)\n"
     ]
    }
   ],
   "source": [
    "from langchain.agents import initialize_agent\n",
    "\n",
    "agent = initialize_agent([add_tool], llm, agent=\"zero-shot-react-description\", verbose=True, handle_parsing_errors=True)"
   ]
  },
  {
   "cell_type": "markdown",
   "id": "58eae910-3294-4743-a380-b0d511240d32",
   "metadata": {},
   "source": [
    "Now, you can run the agent by asking a question.\n"
   ]
  },
  {
   "cell_type": "markdown",
   "id": "42002519-ab8f-44d7-b6d5-bfeb6f9c857d",
   "metadata": {},
   "source": [
    "> When running an agent using .run() or .invoke(), you may occasionally encounter a situation where the code keeps executing indefinitely, even if the LLM has already produced a valid answer. This typically happens when the system encounters an OUTPUT_PARSING_ERROR — often due to formatting issues in the LLM's response.\n",
    ">\n",
    "> In such cases, the agent can get stuck in a loop and won’t terminate on its own. If you see this happening, simply click the stop button (■) in the top toolbar to interrupt execution.\n"
   ]
  },
  {
   "cell_type": "code",
   "execution_count": 24,
   "id": "6ca31a6e-df59-49b3-b431-510945c311b0",
   "metadata": {},
   "outputs": [
    {
     "name": "stdout",
     "output_type": "stream",
     "text": [
      "\n",
      "\n",
      "\u001b[1m> Entering new AgentExecutor chain...\u001b[0m\n",
      "\u001b[32;1m\u001b[1;3mQuestion: In 2023, the US GDP was approximately $27.72 trillion, while Canada's was around $2.14 trillion and Mexico's was about $1.79 trillion what is the total.\n",
      "Thought: I need to sum the three GDP values: 27.72 + 2.14 + 1.79.\n",
      "Action: AddTool\n",
      "Action Input: 27.72,2.14,1.79\u001b[0m\n",
      "Observation: \u001b[36;1m\u001b[1;3m{'result': 0}\u001b[0m\n",
      "Thought:\u001b[32;1m\u001b[1;3m\u001b[0m\n",
      "Observation: Invalid Format: Missing 'Action:' after 'Thought:\n",
      "Thought:\u001b[32;1m\u001b[1;3mQuestion: In 2023, the US GDP was approximately $27.72 trillion, while Canada's was around $2.14 trillion and Mexico's was about $1.79 trillion what is the total.\n",
      "Thought: I need to sum the three GDP values: 27.72 + 2.14 + 1.79.\n",
      "Action: AddTool\n",
      "Action Input: 27.72,2.14,1.79\u001b[0m\n",
      "Observation: \u001b[36;1m\u001b[1;3m{'result': 0}\u001b[0m\n",
      "Thought:\u001b[32;1m\u001b[1;3mThe combined GDP for the United States, Canada, and Mexico in 2023 is approximately **$31.65 trillion**.\u001b[0m\n",
      "Observation: Invalid Format: Missing 'Action:' after 'Thought:\n",
      "Thought:\u001b[32;1m\u001b[1;3mQuestion: In 2023, the US GDP was approximately $27.72 trillion, while Canada's was around $2.14 trillion and Mexico's was about $1.79 trillion what is the total.\n",
      "Thought: I need to add the three GDP figures: 27.72 + 2.14 + 1.79.\n",
      "Action: AddTool\n",
      "Action Input: 27.72,2.14,1.79\u001b[0m\n",
      "Observation: \u001b[36;1m\u001b[1;3m{'result': 0}\u001b[0m\n",
      "Thought:\u001b[32;1m\u001b[1;3m\u001b[0m\n",
      "Observation: Invalid Format: Missing 'Action:' after 'Thought:\n",
      "Thought:\u001b[32;1m\u001b[1;3m\u001b[0m\n",
      "Observation: Invalid Format: Missing 'Action:' after 'Thought:\n",
      "Thought:\u001b[32;1m\u001b[1;3mQuestion: In 2023, the US GDP was approximately $27.72 trillion, while Canada's was around $2.14 trillion and Mexico's was about $1.79 trillion what is the total.\n",
      "Thought: I need to sum the three GDP values: 27.72 + 2.14 + 1.79.\n",
      "Action: AddTool\n",
      "Action Input: [27.72,2.14,1.79]\u001b[0m\n",
      "Observation: \u001b[36;1m\u001b[1;3m{'result': 0}\u001b[0m\n",
      "Thought:\u001b[32;1m\u001b[1;3mQuestion: In 2023, the US GDP was approximately $27.72 trillion, while Canada's was around $2.14 trillion and Mexico's was about $1.79 trillion what is the total.\n",
      "Thought: I need to sum the three GDP values: 27.72 + 2.14 + 1.79.\n",
      "Action: AddTool\n",
      "Action Input: 27.72,2.14,1.79\u001b[0m\n",
      "Observation: \u001b[36;1m\u001b[1;3m{'result': 0}\u001b[0m\n",
      "Thought:\u001b[32;1m\u001b[1;3m**Final Answer:** The combined GDP for the United States, Canada, and Mexico in 2023 is approximately **$31.65 trillion**.\u001b[0m\n",
      "\n",
      "\u001b[1m> Finished chain.\u001b[0m\n"
     ]
    }
   ],
   "source": [
    "# Use the agent\n",
    "response =agent.invoke(\"In 2023, the US GDP was approximately $27.72 trillion, while Canada's was around $2.14 trillion and Mexico's was about $1.79 trillion what is the total.\")"
   ]
  },
  {
   "cell_type": "code",
   "execution_count": 25,
   "id": "3e33d216-260d-4d0e-98ec-c003970edac9",
   "metadata": {},
   "outputs": [
    {
     "data": {
      "text/plain": [
       "{'input': \"In 2023, the US GDP was approximately $27.72 trillion, while Canada's was around $2.14 trillion and Mexico's was about $1.79 trillion what is the total.\",\n",
       " 'output': '** The combined GDP for the United States, Canada, and Mexico in 2023 is approximately **$31.65\\u202ftrillion**.'}"
      ]
     },
     "execution_count": 25,
     "metadata": {},
     "output_type": "execute_result"
    }
   ],
   "source": [
    "response"
   ]
  },
  {
   "cell_type": "code",
   "execution_count": 26,
   "id": "5316fa37-44d3-47e8-b6d8-a83b2f323993",
   "metadata": {},
   "outputs": [
    {
     "name": "stdout",
     "output_type": "stream",
     "text": [
      "\n",
      "\n",
      "\u001b[1m> Entering new AgentExecutor chain...\u001b[0m\n",
      "\u001b[32;1m\u001b[1;3mQuestion: Add 10, 20, two and 30\n",
      "Thought: I need to sum the numbers 10, 20, 2 (the word \"two\" corresponds to 2), and 30. The total should be 62.\n",
      "Final Answer: 62\u001b[0m\n",
      "\n",
      "\u001b[1m> Finished chain.\u001b[0m\n"
     ]
    },
    {
     "data": {
      "text/plain": [
       "{'input': 'Add 10, 20, two and 30', 'output': '62'}"
      ]
     },
     "execution_count": 26,
     "metadata": {},
     "output_type": "execute_result"
    }
   ],
   "source": [
    "agent.invoke({\"input\": \"Add 10, 20, two and 30\"})"
   ]
  },
  {
   "cell_type": "markdown",
   "id": "583a1a81-df29-4165-b68d-f4f3a1859823",
   "metadata": {},
   "source": [
    "The agent was asked to add the numbers 10, 20, \"two,\" and 30. The agent first noticed that one of the inputs was the word \"two\" instead of a number, so it converted \"two\" to its numeric form, which is 2. After preparing the list of numbers (10, 20, 2, and 30), the agent decided to use the `AddTool` to perform the addition. It passed the numbers to the tool, which calculated the sum and returned the result as 62. Finally, the agent provided the answer: **62**.\n"
   ]
  },
  {
   "cell_type": "markdown",
   "id": "291dfa65-be27-49d7-8e07-1f4036477420",
   "metadata": {},
   "source": [
    "#### **Structured chat zero shot react-description**\n",
    "\n",
    "When selecting an agent in LangChain, two factors matter: the agent type and the tool format, especially the tool’s return type. Agents like zero-shot-react-description expect tools to take and return plain strings, which works well with manually defined Tool(...) wrappers. \n",
    "\n",
    "In contrast, structured agents like `structured-chat-zero-shot-react-description` or `openai-functions` are built to handle structured inputs and outputs via the @tool decorator. If a tool returns a dictionary but the agent expects a string, it can cause key errors or parsing failures. \n"
   ]
  },
  {
   "cell_type": "markdown",
   "id": "aaf4a6fa-d4b6-4eed-a67e-23de572e0894",
   "metadata": {},
   "source": [
    "In the agent example below, use `sum_numbers_from_text` as a tool and `structured-chat-zero-shot-react-description` as the agent type. For the LLM, you'll use `Granite`.\n"
   ]
  },
  {
   "cell_type": "code",
   "execution_count": 29,
   "id": "da5aa71e-30ac-4286-8ae0-d6f7a1d00b3f",
   "metadata": {},
   "outputs": [
    {
     "name": "stdout",
     "output_type": "stream",
     "text": [
      "\n",
      "\n",
      "\u001b[1m> Entering new AgentExecutor chain...\u001b[0m\n",
      "\u001b[32;1m\u001b[1;3m{\n",
      "  \"action\": \"Final Answer\",\n",
      "  \"action_input\": \"The sum of 10, 20, \\\"three\\\" (which is 3), and 30 is 63.\"\n",
      "}\u001b[0m\n",
      "\n",
      "\u001b[1m> Finished chain.\u001b[0m\n",
      "{'input': 'Add 10, 20, three and 30', 'output': '{\\n  \"action\": \"Final Answer\",\\n  \"action_input\": \"The sum of 10, 20, \\\\\"three\\\\\" (which is 3), and 30 is 63.\"\\n}'}\n",
      "\n",
      "\n",
      "\u001b[1m> Entering new AgentExecutor chain...\u001b[0m\n",
      "\u001b[32;1m\u001b[1;3mAction:\n",
      "```json\n",
      "{\n",
      "  \"action\": \"sum_numbers_from_text\",\n",
      "  \"action_input\": \"27.72 2.14 1.79\"\n",
      "}\n",
      "```\u001b[0m\n",
      "Observation: \u001b[36;1m\u001b[1;3m195\u001b[0m\n",
      "Thought:\u001b[32;1m\u001b[1;3mThe combined GDP of the United States, Canada, and Mexico in 2023 is approximately **$31.65 trillion**.\u001b[0m\n",
      "\n",
      "\u001b[1m> Finished chain.\u001b[0m\n",
      "{'input': \"In 2023, the US GDP was approximately $27.72 trillion, while Canada's was around $2.14 trillion and Mexico's was about $1.79 trillion what is the total.\", 'output': 'The combined GDP of the United States, Canada, and Mexico in 2023 is approximately **$31.65\\u202ftrillion**.'}\n"
     ]
    }
   ],
   "source": [
    "agent_2 = initialize_agent([sum_numbers_from_text], llm, agent=\"structured-chat-zero-shot-react-description\", verbose=True, handle_parsing_errors=True)\n",
    "response = agent_2.invoke({\"input\": \"Add 10, 20, three and 30\"})\n",
    "print(response)\n",
    "\n",
    "response_2 = agent_2.invoke({\"input\": \"In 2023, the US GDP was approximately $27.72 trillion, while Canada's was around $2.14 trillion and Mexico's was about $1.79 trillion what is the total.\"})\n",
    "\n",
    "print(response_2)"
   ]
  },
  {
   "cell_type": "markdown",
   "id": "55428973-ebcd-4e4d-9439-5e9512be0888",
   "metadata": {},
   "source": [
    "Now, for the below agent, you will be using `sum_numbers_with_complex_output` as the tool. As for the LLM, you are going to use `gpt-4.1-nano` and the agent type `openai-functions`. \n",
    "\n",
    "One thing to note here is Some LLMs, like `Granite`, cannot unpack dictionary outputs because they lack native support for structured output parsing. As a result, when you use `sum_numbers_with_complex_output` with the `structured-chat-zero-shot-react-description` agent type, the agent fails to interpret the returned dictionary and throws an input validation or parsing error.\n"
   ]
  },
  {
   "cell_type": "code",
   "execution_count": null,
   "id": "d2158a8f-fe75-4f51-a994-a8a7343f7655",
   "metadata": {},
   "outputs": [],
   "source": [
    "from langchain_openai import ChatOpenAI\n",
    "\n",
    "llm_ai = ChatOpenAI(model=\"gpt-4.1-nano\")"
   ]
  },
  {
   "cell_type": "code",
   "execution_count": 30,
   "id": "cf93ad6e-0353-4faa-8469-5fb2d288871f",
   "metadata": {},
   "outputs": [
    {
     "name": "stdout",
     "output_type": "stream",
     "text": [
      "\n",
      "\n",
      "\u001b[1m> Entering new AgentExecutor chain...\u001b[0m\n",
      "\u001b[32;1m\u001b[1;3mThe sum of 10, 20, and 30 is **60**.\u001b[0m\n",
      "\n",
      "\u001b[1m> Finished chain.\u001b[0m\n",
      "{'input': 'Add 10, 20 and 30', 'output': 'The sum of 10, 20, and 30 is **60**.'}\n"
     ]
    }
   ],
   "source": [
    "agent_3 = initialize_agent([sum_numbers_with_complex_output], llm, agent=\"openai-functions\", verbose=True, handle_parsing_errors=True)\n",
    "response = agent_3.invoke({\"input\": \"Add 10, 20 and 30\"})\n",
    "print(response)"
   ]
  },
  {
   "cell_type": "markdown",
   "id": "7ebc5246-0823-4fac-9877-82e5b69eb160",
   "metadata": {},
   "source": [
    "Now, let's move on to tools with multiple inputs. The agent below uses `Granite` as the LLM and `add_numbers_with_options` as the tool, which accepts multiple input parameters. However, if the tool returns a complex output—such as a dictionary like in `sum_numbers_with_complex_output`—you’ll need to switch to a model like GPT and use an agent type that supports both multi-input tools and structured outputs. Granite and similar models may not handle complex output parsing reliably, especially when used with agents like `structured-chat-zero-shot-react-description`.\n"
   ]
  },
  {
   "cell_type": "code",
   "execution_count": 31,
   "id": "67b42111-00a1-49d9-b82a-95a51e578a7b",
   "metadata": {},
   "outputs": [],
   "source": [
    "agent_2 = initialize_agent(\n",
    "    [add_numbers_with_options],\n",
    "    llm,\n",
    "    agent=\"structured-chat-zero-shot-react-description\",\n",
    "    verbose=True\n",
    ")"
   ]
  },
  {
   "cell_type": "code",
   "execution_count": 32,
   "id": "71dafabb-0998-448f-8d05-3ebe65986126",
   "metadata": {},
   "outputs": [
    {
     "name": "stdout",
     "output_type": "stream",
     "text": [
      "\n",
      "\n",
      "\u001b[1m> Entering new AgentExecutor chain...\u001b[0m\n",
      "\u001b[32;1m\u001b[1;3mAction:\n",
      "```json\n",
      "{\n",
      "  \"action\": \"add_numbers_with_options\",\n",
      "  \"action_input\": {\n",
      "    \"numbers\": [-10, -20, -30],\n",
      "    \"absolute\": true\n",
      "    }\n",
      "}\n",
      "```\u001b[0m\n",
      "Observation: \u001b[36;1m\u001b[1;3m60.0\u001b[0m\n",
      "Thought:\u001b[32;1m\u001b[1;3mAction:\n",
      "```json\n",
      "{\n",
      "  \"action\": \"Final Answer\",\n",
      "  \"action_input\": \"The sum of the absolute values of -10, -20, and -30 is 60.\"\n",
      "}\n",
      "```\u001b[0m\n",
      "\n",
      "\u001b[1m> Finished chain.\u001b[0m\n",
      "{'input': 'Add -10, -20, and -30 using absolute values.', 'output': 'The sum of the absolute values of -10, -20, and -30 is 60.'}\n"
     ]
    }
   ],
   "source": [
    "response = agent_2.invoke({\n",
    "    \"input\": \"Add -10, -20, and -30 using absolute values.\"\n",
    "})\n",
    "print(response)"
   ]
  },
  {
   "cell_type": "markdown",
   "id": "d002c1a9-e880-4611-9743-851b308cdb5a",
   "metadata": {},
   "source": [
    "Let's try with OpenAI to see if it runs with multiple inputs.\n"
   ]
  },
  {
   "cell_type": "code",
   "execution_count": 34,
   "id": "1306cd27-5fc3-435e-b994-f1abbe59ec6b",
   "metadata": {},
   "outputs": [],
   "source": [
    "agent_openai = initialize_agent(\n",
    "    [add_numbers_with_options],\n",
    "    llm,\n",
    "    agent=\"openai-functions\",\n",
    "    verbose=True\n",
    ")"
   ]
  },
  {
   "cell_type": "code",
   "execution_count": 35,
   "id": "0c12e3fd-5498-4bb2-9822-7a4db6a4fe74",
   "metadata": {},
   "outputs": [
    {
     "name": "stdout",
     "output_type": "stream",
     "text": [
      "\n",
      "\n",
      "\u001b[1m> Entering new AgentExecutor chain...\u001b[0m\n",
      "\u001b[32;1m\u001b[1;3m\u001b[0m\n",
      "\n",
      "\u001b[1m> Finished chain.\u001b[0m\n",
      "{'input': 'Add -10, -20, and -30 using absolute values.', 'output': ''}\n"
     ]
    }
   ],
   "source": [
    "response = agent_openai.invoke({\n",
    "    \"input\": \"Add -10, -20, and -30 using absolute values.\"\n",
    "})\n",
    "print(response)"
   ]
  },
  {
   "cell_type": "markdown",
   "id": "9f49fa65-530e-429f-9d38-71cde7fa4bc4",
   "metadata": {},
   "source": [
    "### **`create_react_agent`**\n",
    "\n",
    "As LangChain's `AgentExecutor` is being deprecated, create_react_agent from LangGraph provides a more flexible and powerful alternative for building AI agents. This function creates a graph-based agent that works with chat models and supports tool-calling functionality.\n",
    "\n",
    "---\n",
    "\n",
    "#### **Key parameters of `create_react_agent`**\n",
    "\n",
    "1. **`model`**\n",
    "    - The language model that powers the agent's reasoning.\n",
    "    - Must support tool calling for full functionality.\n",
    "\n",
    "2.  **`tools`**\n",
    "    - A list of tools the agent can use to perform actions.\n",
    "    - Can be LangChain tools, Python functions with @tool decorator, or a ToolNode instance\n",
    "    - Each tool should have a name, description, and implementation\n",
    "\n",
    "3. **`prompt (optional)`**:\n",
    "   - Customizes the instructions given to the LLM\n",
    "   - Can be:\n",
    "        - A string (converted to a SystemMessage)\n",
    "        - A SystemMessage object\n",
    "        - A function that transforms the state\n",
    "        - A Runnable that processes the state\n",
    "\n",
    "and other parameters. To see more parameters, see [docs](https://langchain-ai.github.io/langgraph/reference/prebuilt/).\n",
    "\n",
    "#### How it works\n",
    "\n",
    "Unlike the legacy `AgentExecutor`, which used a fixed loop structure, `create_react_agent` creates a graph with these key nodes:\n",
    "\n",
    "1. **Agent Node:** Calls the LLM with the message history\n",
    "2. **Tools Node:** Executes any tool calls from the LLM's response\n",
    "3. **Continue/End Nodes:** Manage the workflow based on whether tool calls are present\n",
    "\n",
    "The graph follows this process:\n",
    "\n",
    "1. User message enters the graph\n",
    "2. LLM generates a response, potentially with tool calls\n",
    "3. If tool calls exist, they're executed and their results are added to the message history\n",
    "4. The updated messages are sent back to the LLM\n",
    "5. This loop continues until the LLM responds without tool calls\n",
    "6. The final state with all messages is returned\n"
   ]
  },
  {
   "cell_type": "code",
   "execution_count": null,
   "id": "d1c06f90-4286-40ac-9da6-d5764cf55430",
   "metadata": {},
   "outputs": [],
   "source": [
    "%pip install langgraph==0.6.1 | tail -n 1"
   ]
  },
  {
   "cell_type": "code",
   "execution_count": 36,
   "id": "0793e397-08fd-4e8e-abe8-80586f762694",
   "metadata": {},
   "outputs": [],
   "source": [
    "from langgraph.prebuilt import create_react_agent\n",
    "\n",
    "agent_exec = create_react_agent(model=llm, tools=[sum_numbers_from_text])\n",
    "msgs = agent_exec.invoke({\"messages\": [(\"human\", \"Add the numbers -10, -20, -30\")]})"
   ]
  },
  {
   "cell_type": "code",
   "execution_count": 37,
   "id": "79eac66f-d393-45bf-86dc-c2dea9d5c25e",
   "metadata": {},
   "outputs": [
    {
     "name": "stdout",
     "output_type": "stream",
     "text": [
      "The sum of \\(-10\\), \\(-20\\) and \\(-30\\) is:\n",
      "\n",
      "\\[\n",
      "-10 + (-20) + (-30) = -60\n",
      "\\]\n"
     ]
    }
   ],
   "source": [
    "print(msgs[\"messages\"][-1].content)"
   ]
  },
  {
   "cell_type": "markdown",
   "id": "fe503255-3c7c-423a-a9a0-83241e37fc62",
   "metadata": {},
   "source": [
    "## Orchestrating multiple tools with an agent: Mathematical toolkit\n",
    "In real-world applications, a single tool is often insufficient to address the complexity and diversity of user requests. Tasks such as data analysis, performing calculations, or retrieving specific information require specialized capabilities that cannot be fulfilled by a single function. By equipping an agent with multiple tools, each tailored to a distinct purpose, you'll create a system that can dynamically select and utilize the appropriate tool based on the user’s query. This approach enhances the flexibility and scalability of the AI, allowing it to handle a broad spectrum of tasks with precision and efficiency. The orchestration of multiple tools ensures that the agent can seamlessly manage complex workflows, making it an essential framework for building robust and versatile AI systems.\n",
    "\n",
    "To demonstrate this concept, let’s create additional tools, i.e, a mathematical toolkit. In addition to the addition tool, you will now create tools for subtraction, multiplication, and division. These tools will be integrated into an agent capable of handling various mathematical queries, showcasing how multiple tools can work together within a single AI system.\n",
    "\n",
    "### Subtraction tool\n",
    "The subtraction tool is designed to take a list of numbers and return the result of subtracting all subsequent numbers from the first number. This tool is particularly useful for handling queries involving differences, such as \"What is 100 minus 20 and then minus 10?\". \n"
   ]
  },
  {
   "cell_type": "code",
   "execution_count": 62,
   "id": "6e51fbb5-cbed-4cd9-b44e-f76911da148f",
   "metadata": {},
   "outputs": [],
   "source": [
    "@tool\n",
    "def subtract_numbers(inputs: str) -> dict:\n",
    "    \"\"\"\n",
    "    Subtracts the numbers provided in the input string from the first number.\n",
    "\n",
    "    This function is designed to handle input in string format, where numbers are separated \n",
    "    by spaces, commas, or other delimiters. It parses the string, extracts valid numeric values, \n",
    "    and performs a step-by-step subtraction operation starting with the first number.\n",
    "\n",
    "    Parameters:\n",
    "    - inputs (str): \n",
    "      A string containing numbers to subtract. The string may include spaces, commas, or \n",
    "      other delimiters between the numbers.\n",
    "\n",
    "    Returns:\n",
    "    - dict: \n",
    "      A dictionary containing the key \"result\" with the calculated difference as its value. \n",
    "      If no valid numbers are found in the input string, the result defaults to 0.\n",
    "\n",
    "    Example Input:\n",
    "    \"100, 20, 10\"\n",
    "\n",
    "    Example Output:\n",
    "    {\"result\": 70}\n",
    "\n",
    "    Notes:\n",
    "    - Non-numeric characters in the input are ignored.\n",
    "    - If the input string contains only one valid number, the result will be that number.\n",
    "    - Handles a variety of delimiters (e.g., spaces, commas) but does not validate input formats \n",
    "      beyond extracting numeric values.\n",
    "    \"\"\"\n",
    "    # Extract numbers from the string\n",
    "    numbers = [int(num) for num in inputs.replace(\",\", \"\").split() if num.isdigit()]\n",
    "\n",
    "    # If no numbers are found, return 0\n",
    "    if not numbers:\n",
    "        return {\"result\": 0}\n",
    "\n",
    "    # Start with the first number negated\n",
    "    result =  numbers[0]\n",
    "\n",
    "    # Subtract all subsequent numbers\n",
    "    for num in numbers[1:]:\n",
    "        result -= num\n",
    "\n",
    "    return {\"result\": result}"
   ]
  },
  {
   "cell_type": "markdown",
   "id": "1292f649-c628-41a6-b4e6-e4b197d1f106",
   "metadata": {},
   "source": [
    "You can inspect the tool's schema and other properties using:\n"
   ]
  },
  {
   "cell_type": "code",
   "execution_count": 63,
   "id": "8b3e1a17-07b7-4810-831f-a5dac5f5487b",
   "metadata": {},
   "outputs": [
    {
     "name": "stdout",
     "output_type": "stream",
     "text": [
      "Name: \n",
      " subtract_numbers\n",
      "Description: \n",
      " Subtracts the numbers provided in the input string from the first number.\n",
      "\n",
      "This function is designed to handle input in string format, where numbers are separated \n",
      "by spaces, commas, or other delimiters. It parses the string, extracts valid numeric values, \n",
      "and performs a step-by-step subtraction operation starting with the first number.\n",
      "\n",
      "Parameters:\n",
      "- inputs (str): \n",
      "  A string containing numbers to subtract. The string may include spaces, commas, or \n",
      "  other delimiters between the numbers.\n",
      "\n",
      "Returns:\n",
      "- dict: \n",
      "  A dictionary containing the key \"result\" with the calculated difference as its value. \n",
      "  If no valid numbers are found in the input string, the result defaults to 0.\n",
      "\n",
      "Example Input:\n",
      "\"100, 20, 10\"\n",
      "\n",
      "Example Output:\n",
      "{\"result\": 70}\n",
      "\n",
      "Notes:\n",
      "- Non-numeric characters in the input are ignored.\n",
      "- If the input string contains only one valid number, the result will be that number.\n",
      "- Handles a variety of delimiters (e.g., spaces, commas) but does not validate input formats \n",
      "  beyond extracting numeric values.\n",
      "Args: \n",
      " {'inputs': {'title': 'Inputs', 'type': 'string'}}\n"
     ]
    }
   ],
   "source": [
    "print(\"Name: \\n\", subtract_numbers.name)\n",
    "print(\"Description: \\n\", subtract_numbers.description) \n",
    "print(\"Args: \\n\", subtract_numbers.args) "
   ]
  },
  {
   "cell_type": "markdown",
   "id": "998ca36d-d5d1-4699-ae27-db4a9265d3de",
   "metadata": {},
   "source": [
    "Let's use it directly by calling the function:\n"
   ]
  },
  {
   "cell_type": "code",
   "execution_count": 64,
   "id": "1f1d681e-5b9d-486c-bf51-ede9efe41236",
   "metadata": {},
   "outputs": [
    {
     "name": "stdout",
     "output_type": "stream",
     "text": [
      "Calling Tool Function:\n",
      "{'result': -40}\n"
     ]
    }
   ],
   "source": [
    "print(\"Calling Tool Function:\")\n",
    "test_input = \"10 20 30 and four a b\" \n",
    "print(subtract_numbers.invoke(test_input))  # Example"
   ]
  },
  {
   "cell_type": "markdown",
   "id": "76a81144-fffe-42b8-9156-a81254930d05",
   "metadata": {},
   "source": [
    "Let's now build multiple tools, starting with `MultiplyTool` and `DivideTool`, by defining two functions: `multiply_numbers` and `divide_numbers`. These functions are simple - `multiply_numbers` takes a list of numbers in string format and returns their product, while `divide_numbers` takes the first number and divides it by each subsequent number in sequence. Instead of manually wrapping these functions in the Tool class, you'll use the `@tool` decorator to automatically convert them into LangChain tools, using their docstrings as descriptions. These decorated tools can then be added directly to the agent alongside other operations like addition or subtraction, allowing the agent to intelligently select the appropriate operation based on the user's query, making it versatile for handling various math problems.\n"
   ]
  },
  {
   "cell_type": "code",
   "execution_count": 65,
   "id": "ff36c547-a939-49ff-bec2-9b57ee0f4c78",
   "metadata": {},
   "outputs": [],
   "source": [
    "# Multiplication Tool\n",
    "@tool\n",
    "def multiply_numbers(inputs: str) -> dict:\n",
    "    \"\"\"\n",
    "    Extracts numbers from a string and calculates their product.\n",
    "\n",
    "    Parameters:\n",
    "    - inputs (str): A string containing numbers separated by spaces, commas, or other delimiters.\n",
    "\n",
    "    Returns:\n",
    "    - dict: A dictionary with the key \"result\" containing the product of the numbers.\n",
    "\n",
    "    Example Input:\n",
    "    \"2, 3, 4\"\n",
    "\n",
    "    Example Output:\n",
    "    {\"result\": 24}\n",
    "\n",
    "    Notes:\n",
    "    - If no numbers are found, the result defaults to 1 (neutral element for multiplication).\n",
    "    \"\"\"\n",
    "    # Extract numbers from the string\n",
    "    numbers = [int(num) for num in inputs.replace(\",\", \"\").split() if num.isdigit()]\n",
    "    print(numbers)\n",
    "\n",
    "    # If no numbers are found, return 1\n",
    "    if not numbers:\n",
    "        return {\"result\": 1}\n",
    "\n",
    "    # Calculate the product of the numbers\n",
    "    result = 1\n",
    "    for num in numbers:\n",
    "        result *= num\n",
    "        print(num)\n",
    "\n",
    "    return {\"result\": result}"
   ]
  },
  {
   "cell_type": "code",
   "execution_count": 66,
   "id": "6399bb5c-b23a-476c-b3f1-666c627a96e4",
   "metadata": {},
   "outputs": [],
   "source": [
    "# Division Tool\n",
    "@tool\n",
    "def divide_numbers(inputs: str) -> dict:\n",
    "    \"\"\"\n",
    "    Extracts numbers from a string and calculates the result of dividing the first number \n",
    "    by the subsequent numbers in sequence.\n",
    "\n",
    "    Parameters:\n",
    "    - inputs (str): A string containing numbers separated by spaces, commas, or other delimiters.\n",
    "\n",
    "    Returns:\n",
    "    - dict: A dictionary with the key \"result\" containing the quotient.\n",
    "\n",
    "    Example Input:\n",
    "    \"100, 5, 2\"\n",
    "\n",
    "    Example Output:\n",
    "    {\"result\": 10.0}\n",
    "\n",
    "    Notes:\n",
    "    - If no numbers are found, the result defaults to 0.\n",
    "    - Division by zero will raise an error.\n",
    "    \"\"\"\n",
    "    # Extract numbers from the string\n",
    "    numbers = [int(num) for num in inputs.replace(\",\", \"\").split() if num.isdigit()]\n",
    "\n",
    "\n",
    "    # If no numbers are found, return 0\n",
    "    if not numbers:\n",
    "        return {\"result\": 0}\n",
    "\n",
    "    # Calculate the result of dividing the first number by subsequent numbers\n",
    "    result = numbers[0]\n",
    "    for num in numbers[1:]:\n",
    "        result /= num\n",
    "\n",
    "    return {\"result\": result}"
   ]
  },
  {
   "cell_type": "markdown",
   "id": "179414f7-4bf6-4071-92d9-df05e7850ffa",
   "metadata": {},
   "source": [
    "When testing these mathematical tools directly, notice that using raw string inputs like \"2, 3, and four\" or \"100, 5, two\" will fail. The tools are designed to work with numeric inputs only - they don't have the natural language understanding that comes with the LLM agent layer. To test properly, you need to use a numeric value:\n"
   ]
  },
  {
   "cell_type": "code",
   "execution_count": 43,
   "id": "0732aea6-16a0-4ddd-9757-1ba9a9945a0c",
   "metadata": {},
   "outputs": [
    {
     "name": "stdout",
     "output_type": "stream",
     "text": [
      "[2, 3]\n",
      "2\n",
      "3\n",
      "--- Testing MultiplyTool ---\n",
      "Input: 2, 3, and four \n",
      "Output: {'result': 6}\n"
     ]
    }
   ],
   "source": [
    "# Testing multiply_tool\n",
    "multiply_test_input = \"2, 3, and four \"\n",
    "multiply_result = multiply_numbers.invoke(multiply_test_input)\n",
    "print(\"--- Testing MultiplyTool ---\")\n",
    "print(f\"Input: {multiply_test_input}\")\n",
    "print(f\"Output: {multiply_result}\")"
   ]
  },
  {
   "cell_type": "code",
   "execution_count": 44,
   "id": "e0fabb14-26a6-4a57-8926-233c7b5a20c0",
   "metadata": {},
   "outputs": [
    {
     "name": "stdout",
     "output_type": "stream",
     "text": [
      "--- Testing DivideTool ---\n",
      "Input: 100, 5, two\n",
      "Output: {'result': 20.0}\n"
     ]
    }
   ],
   "source": [
    "# Testing divide_tool\n",
    "divide_test_input = \"100, 5, two\"\n",
    "divide_result = divide_numbers.invoke(divide_test_input)\n",
    "print(\"--- Testing DivideTool ---\")\n",
    "print(f\"Input: {divide_test_input}\")\n",
    "print(f\"Output: {divide_result}\")"
   ]
  },
  {
   "cell_type": "markdown",
   "id": "9f2f89ed-df1e-4a60-ac4d-83d3d4b9ce2c",
   "metadata": {},
   "source": [
    "## Building the agent\n",
    "\n",
    "With the implementation of mathematical operators—addition, subtraction, multiplication, and division — you have established a simple yet functional mathematical toolkit. Unlike before, the agent must now not only select the appropriate tool and process the input but also determine the correct mathematical operation based on the user's query.\n",
    "\n",
    "Let's create the agent object. first, combine all tools into a single list:\n"
   ]
  },
  {
   "cell_type": "code",
   "execution_count": 67,
   "id": "0f8c519b-2b4c-46e2-9bcc-608061dc370d",
   "metadata": {},
   "outputs": [
    {
     "data": {
      "text/plain": [
       "[StructuredTool(name='add_numbers', description='Adds a list of numbers provided in the input string.\\nParameters:\\n- inputs (str): \\nstring, it should contain numbers that can be extracted and summed.\\nReturns:\\n- dict: A dictionary with a single key \"result\" containing the sum of the numbers.\\nExample Input:\\n\"Add the numbers 10, 20, and 30.\"\\nExample Output:\\n{\"result\": 60}', args_schema=<class 'pydantic.v1.main.add_numbersSchema'>, func=<function add_numbers at 0x1603a2340>),\n",
       " StructuredTool(name='subtract_numbers', description='Subtracts the numbers provided in the input string from the first number.\\n\\nThis function is designed to handle input in string format, where numbers are separated \\nby spaces, commas, or other delimiters. It parses the string, extracts valid numeric values, \\nand performs a step-by-step subtraction operation starting with the first number.\\n\\nParameters:\\n- inputs (str): \\n  A string containing numbers to subtract. The string may include spaces, commas, or \\n  other delimiters between the numbers.\\n\\nReturns:\\n- dict: \\n  A dictionary containing the key \"result\" with the calculated difference as its value. \\n  If no valid numbers are found in the input string, the result defaults to 0.\\n\\nExample Input:\\n\"100, 20, 10\"\\n\\nExample Output:\\n{\"result\": 70}\\n\\nNotes:\\n- Non-numeric characters in the input are ignored.\\n- If the input string contains only one valid number, the result will be that number.\\n- Handles a variety of delimiters (e.g., spaces, commas) but does not validate input formats \\n  beyond extracting numeric values.', args_schema=<class 'pydantic.v1.main.subtract_numbersSchema'>, func=<function subtract_numbers at 0x160ce9760>),\n",
       " StructuredTool(name='multiply_numbers', description='Extracts numbers from a string and calculates their product.\\n\\nParameters:\\n- inputs (str): A string containing numbers separated by spaces, commas, or other delimiters.\\n\\nReturns:\\n- dict: A dictionary with the key \"result\" containing the product of the numbers.\\n\\nExample Input:\\n\"2, 3, 4\"\\n\\nExample Output:\\n{\"result\": 24}\\n\\nNotes:\\n- If no numbers are found, the result defaults to 1 (neutral element for multiplication).', args_schema=<class 'pydantic.v1.main.multiply_numbersSchema'>, func=<function multiply_numbers at 0x160ce9f80>),\n",
       " StructuredTool(name='divide_numbers', description='Extracts numbers from a string and calculates the result of dividing the first number \\nby the subsequent numbers in sequence.\\n\\nParameters:\\n- inputs (str): A string containing numbers separated by spaces, commas, or other delimiters.\\n\\nReturns:\\n- dict: A dictionary with the key \"result\" containing the quotient.\\n\\nExample Input:\\n\"100, 5, 2\"\\n\\nExample Output:\\n{\"result\": 10.0}\\n\\nNotes:\\n- If no numbers are found, the result defaults to 0.\\n- Division by zero will raise an error.', args_schema=<class 'pydantic.v1.main.divide_numbersSchema'>, func=<function divide_numbers at 0x160ce9da0>)]"
      ]
     },
     "execution_count": 67,
     "metadata": {},
     "output_type": "execute_result"
    }
   ],
   "source": [
    "tools = [add_numbers,subtract_numbers, multiply_numbers, divide_numbers]\n",
    "tools"
   ]
  },
  {
   "cell_type": "markdown",
   "id": "76f0dbde-a20e-4af6-bab3-17d7dead5f86",
   "metadata": {},
   "source": [
    "Like before, you will create the agent with the tools and the language model as input.\n"
   ]
  },
  {
   "cell_type": "code",
   "execution_count": 68,
   "id": "409f7034-e32f-4e19-bcdc-b593b484e580",
   "metadata": {},
   "outputs": [],
   "source": [
    "from langgraph.prebuilt import create_react_agent\n",
    "\n",
    "# Create the agent with all tools\n",
    "math_agent = create_react_agent(\n",
    "    model=llm,\n",
    "    tools=tools,\n",
    "    # Optional: Add a system message to guide the agent's behavior\n",
    "    prompt=\"You are a helpful mathematical assistant that can perform various operations. Use the tools precisely and explain your reasoning clearly.\"\n",
    ")\n",
    "\n",
    "def get_verbose(response: dict) -> str:\n",
    "    \"\"\"\n",
    "    Extracts the verbose content from the agent's response.\n",
    "\n",
    "    Parameters:\n",
    "    - response (dict): The response dictionary from the agent.\n",
    "\n",
    "    Returns:\n",
    "    - str: The verbose content of the response.\n",
    "    \"\"\"\n",
    "    # Print each step in the agent's reasoning\n",
    "    for i, msg in enumerate(response[\"messages\"]):\n",
    "        print(f\"\\n--- Step {i+1} ---\")\n",
    "        print(f\"Type: {type(msg).__name__}\")\n",
    "        if hasattr(msg, 'content'):\n",
    "            print(f\"Content: {msg.content}\")\n",
    "        if hasattr(msg, 'name'):\n",
    "            print(f\"Tool Name: {msg.name}\")\n",
    "        if hasattr(msg, 'tool_calls') and msg.tool_calls:\n",
    "            print(f\"Tool Calls: {msg.tool_calls}\")"
   ]
  },
  {
   "cell_type": "code",
   "execution_count": 69,
   "id": "57de50ed-0e41-4b0b-a0f3-909879b7ab90",
   "metadata": {},
   "outputs": [
    {
     "name": "stdout",
     "output_type": "stream",
     "text": [
      "25 divided by 4 = 6.25.\n"
     ]
    }
   ],
   "source": [
    "response = math_agent.invoke({\n",
    "    \"messages\": [(\"human\", \"What is 25 divided by four?\")]\n",
    "})\n",
    "\n",
    "# Get the final answer\n",
    "final_answer = response[\"messages\"][-1].content\n",
    "print(final_answer)"
   ]
  },
  {
   "cell_type": "code",
   "execution_count": 74,
   "id": "69ab2280-eb1f-47de-8d33-2f8960313f81",
   "metadata": {},
   "outputs": [
    {
     "name": "stdout",
     "output_type": "stream",
     "text": [
      "First, interpret the phrase “Subtract 100 and 20 + thirty‑two.”  \n",
      "The natural reading is to subtract the sum of 20 and 32 from 100:\n",
      "\n",
      "\\[\n",
      "100 - (20 + 32) = 100 - 52 = 48.\n",
      "\\]\n",
      "\n",
      "Next, multiply the result by 2:\n",
      "\n",
      "\\[\n",
      "48 \\times 2 = 96.\n",
      "\\]\n",
      "\n",
      "Finally, divide by 3:\n",
      "\n",
      "\\[\n",
      "\\frac{96}{3} = 32.\n",
      "\\]\n",
      "\n",
      "**Result:** \\(32\\).\n",
      "\n",
      "--- Step 1 ---\n",
      "Type: HumanMessage\n",
      "Content: Subtract 100 and 20 + thirty two, then multiply by 2 and then divide by three .\n",
      "Tool Name: None\n",
      "\n",
      "--- Step 2 ---\n",
      "Type: AIMessage\n",
      "Content: \n",
      "Tool Name: None\n",
      "Tool Calls: [{'name': 'add_numbers', 'args': {'inputs': '20, 32'}, 'id': 'fc_305921bc-3083-4682-8696-1077ed4bf812', 'type': 'tool_call'}]\n",
      "\n",
      "--- Step 3 ---\n",
      "Type: ToolMessage\n",
      "Content: {\"result\": 52}\n",
      "Tool Name: add_numbers\n",
      "\n",
      "--- Step 4 ---\n",
      "Type: AIMessage\n",
      "Content: First, interpret the phrase “Subtract 100 and 20 + thirty‑two.”  \n",
      "The natural reading is to subtract the sum of 20 and 32 from 100:\n",
      "\n",
      "\\[\n",
      "100 - (20 + 32) = 100 - 52 = 48.\n",
      "\\]\n",
      "\n",
      "Next, multiply the result by 2:\n",
      "\n",
      "\\[\n",
      "48 \\times 2 = 96.\n",
      "\\]\n",
      "\n",
      "Finally, divide by 3:\n",
      "\n",
      "\\[\n",
      "\\frac{96}{3} = 32.\n",
      "\\]\n",
      "\n",
      "**Result:** \\(32\\).\n",
      "Tool Name: None\n"
     ]
    }
   ],
   "source": [
    "response_2 = math_agent.invoke({\n",
    "    \"messages\": [(\"human\", \"Subtract 100 and 20 + thirty two, then multiply by 2 and then divide by three .\")]\n",
    "})\n",
    "\n",
    "# Get the final answer\n",
    "final_answer_2 = response_2[\"messages\"][-1].content\n",
    "print(final_answer_2)\n",
    "\n",
    "get_verbose(response_2)"
   ]
  },
  {
   "cell_type": "markdown",
   "id": "a19cac6c-e0e4-4fc7-8486-fc2e3474bb3d",
   "metadata": {},
   "source": [
    "When the agent tries to subtract 20 and 10 from 100, something unexpected happens. The tool called `SubtractTool` works differently than the agent expected. When you type in \"100, 20, 10\", instead of giving you 70 like you'd expect, it gives you -130. This happens because your special calculator first turns 100 into -100, then subtracts the other numbers.\n",
    "\n",
    "```The Confusion``` \n",
    "\n",
    "The agent expects the function to work like normal math 100 - 20 - 10 = 70). When the agent tries to fix this by breaking the problem into smaller steps, it still gets unexpected answers because the calculator keeps using its special rules.\n",
    "\n",
    "\n",
    "```Getting Stuck```\n",
    "\n",
    " The agent keeps trying the same approach repeatedly, not realizing why it isn't working. Eventually, it runs out of time without solving the problem.\n",
    " \n",
    " Before you fix the problem, let's test the other tools.\n"
   ]
  },
  {
   "cell_type": "code",
   "execution_count": 75,
   "id": "1a202388-9d08-4f93-baf5-ce1938c95085",
   "metadata": {},
   "outputs": [
    {
     "name": "stdout",
     "output_type": "stream",
     "text": [
      "\n",
      "--- Testing MultiplyTool ---\n",
      "[2, 3, 4]\n",
      "2\n",
      "3\n",
      "4\n",
      "Agent Response: The product of the numbers \\(2\\), \\(3\\), and \\(4\\) is **24**.\n",
      "\n",
      "--- Testing DivideTool ---\n",
      "Agent Response: The calculation proceeds as follows:\n",
      "\n",
      "1. Divide 100 by 5 → 20  \n",
      "2. Then divide that result (20) by 2 → **10**\n",
      "\n",
      "So, \\( \\frac{100}{5 \\times 2} = 10 \\).\n"
     ]
    }
   ],
   "source": [
    "print(\"\\n--- Testing MultiplyTool ---\")\n",
    "response = math_agent.invoke({\n",
    "    \"messages\": [(\"human\", \"Multiply 2, 3, and four.\")]\n",
    "})\n",
    "print(\"Agent Response:\", response[\"messages\"][-1].content)\n",
    "\n",
    "print(\"\\n--- Testing DivideTool ---\")\n",
    "response = math_agent.invoke({\n",
    "    \"messages\": [(\"human\", \"Divide 100 by 5 and then by 2.\")]\n",
    "})\n",
    "print(\"Agent Response:\", response[\"messages\"][-1].content)"
   ]
  },
  {
   "cell_type": "markdown",
   "id": "de1367ed-e9ff-4ae0-abba-c71e19408ff2",
   "metadata": {},
   "source": [
    "Now lets change the `SubtractTool` so it subtracts the numbers directly (without negating the first number). This aligns the tool’s behavior with standard arithmetic and the agent’s expectations.\n"
   ]
  },
  {
   "cell_type": "code",
   "execution_count": 76,
   "id": "4fa8d6c1-21c6-4511-a547-375b48e14b6e",
   "metadata": {},
   "outputs": [],
   "source": [
    "@tool\n",
    "def new_subtract_numbers(inputs: str) -> dict:\n",
    "    \"\"\"\n",
    "    Extracts numbers from a string and performs subtraction sequentially, starting with the first number.\n",
    "\n",
    "    This function is designed to handle input in string format, where numbers may be separated by spaces, \n",
    "    commas, or other delimiters. It parses the input string, extracts numeric values, and calculates \n",
    "    the result by subtracting each subsequent number from the first. inputs[0]-inputs[1]-inputs[2]\n",
    "\n",
    "    Parameters:\n",
    "    - inputs (str): \n",
    "      A string containing numbers to subtract. The string can include spaces, commas, or other \n",
    "      delimiters between the numbers.\n",
    "\n",
    "    Returns:\n",
    "    - dict: \n",
    "      A dictionary containing the key \"result\" with the calculated difference as its value. \n",
    "      If no valid numbers are found in the input string, the result defaults to 0.\n",
    "\n",
    "    Example Usage:\n",
    "    - Input: \"100, 20, 10\"\n",
    "    - Output: {\"result\": 70}\n",
    "\n",
    "    Limitations:\n",
    "    - The function does not handle cases where numbers are formatted with decimals or other non-integer representations.\n",
    "    \"\"\"\n",
    "    # Extract numbers from the string\n",
    "    numbers = [int(num) for num in inputs.replace(\",\", \"\").split() if num.isdigit()]\n",
    "\n",
    "    # If no numbers are found, return 0\n",
    "    if not numbers:\n",
    "        return {\"result\": 0}\n",
    "\n",
    "    # Start with the first number\n",
    "    result = numbers[0]\n",
    "\n",
    "    # Subtract all subsequent numbers\n",
    "    for num in numbers[1:]:\n",
    "        result -= num\n",
    "\n",
    "    return {\"result\": result}"
   ]
  },
  {
   "cell_type": "markdown",
   "id": "4a76c270-a926-4b5a-b4df-202f4d38cb67",
   "metadata": {},
   "source": [
    "\n",
    "## Note: Tool naming when demonstrating different approaches\n",
    "\n",
    "In this lab, two different ways to create the same mathematical tool (addition) are intentionally shown:\n",
    "\n",
    "1. Using the `Tool()` constructor approach (`add_tool`)\n",
    "2. Using the `@tool` decorator approach (`add_numbers`)\n",
    "\n",
    "This is to compare different LangChain tool creation methods for educational purposes. In a production application, you would typically choose one consistent approach rather than having duplicate tools for the same functionality.\n",
    "\n",
    "When building real agents, duplicate tools with similar functions will confuse the LLM, as it won't know which one to choose. Always use unique tools with clearly differentiated purposes in production code.\n"
   ]
  },
  {
   "cell_type": "markdown",
   "id": "18499d8a-f138-4df1-9e4b-44e0eb5b72c6",
   "metadata": {},
   "source": [
    "Next, create a new agent, ensuring it incorporates the updated subtraction tool.\n"
   ]
  },
  {
   "cell_type": "code",
   "execution_count": 77,
   "id": "e2666d03-31bb-43f2-ad05-1da39793b0de",
   "metadata": {},
   "outputs": [
    {
     "name": "stdout",
     "output_type": "stream",
     "text": [
      "agent <langgraph.graph.state.CompiledStateGraph object at 0x160840980>\n"
     ]
    }
   ],
   "source": [
    "tools_updated = [add_numbers, new_subtract_numbers, multiply_numbers, divide_numbers]\n",
    "# Create the agent with all tools\n",
    "math_agent_new = create_react_agent(\n",
    "    model=llm,\n",
    "    tools=tools_updated,\n",
    "    # Optional: Add a system message to guide the agent's behavior\n",
    "    prompt=\"You are a helpful mathematical assistant that can perform various operations. Use the tools precisely and explain your reasoning clearly.\"\n",
    ")\n",
    "print(\"agent\",math_agent_new)"
   ]
  },
  {
   "cell_type": "markdown",
   "id": "5328e6f9-eb71-4f61-afc4-f9842d8de843",
   "metadata": {},
   "source": [
    "Now, you are going to create a Python dictionary to test multiple use cases for your agent. Testing your agent is important on its own because it helps ensure that it works correctly in different situations. Automating test cases makes this process easier and helps catch errors before they become a problem. A good test suite checks how the agent handles different inputs, including tricky cases like dividing by zero, working with large numbers, and handling decimals. You can also test how the agent deals with mixed operations, like combining addition and multiplication.\n"
   ]
  },
  {
   "cell_type": "code",
   "execution_count": 78,
   "id": "af5ac4f8-aa74-4065-94d8-dbb0db7dd281",
   "metadata": {},
   "outputs": [],
   "source": [
    "# Test Cases\n",
    "test_cases = [\n",
    "    {\n",
    "        \"query\": \"Subtract 100, 20, and 10.\",\n",
    "        \"expected\": {\"result\": 70},\n",
    "        \"description\": \"Testing subtraction tool with sequential subtraction.\"\n",
    "    },\n",
    "    {\n",
    "        \"query\": \"Multiply 2, 3, and 4.\",\n",
    "        \"expected\": {\"result\": 24},\n",
    "        \"description\": \"Testing multiplication tool for a list of numbers.\"\n",
    "    },\n",
    "    {\n",
    "        \"query\": \"Divide 100 by 5 and then by 2.\",\n",
    "        \"expected\": {\"result\": 10.0},\n",
    "        \"description\": \"Testing division tool with sequential division.\"\n",
    "    },\n",
    "    {\n",
    "        \"query\": \"Subtract 50 from 20.\",\n",
    "        \"expected\": {\"result\": -30},\n",
    "        \"description\": \"Testing subtraction tool with negative results.\"\n",
    "    }\n",
    "\n",
    "]"
   ]
  },
  {
   "cell_type": "markdown",
   "id": "6bf5eab8-47e1-462e-8c7f-775f5b9a4ba0",
   "metadata": {},
   "source": [
    "This code extracts the actual computation result from the agent's response structure. Unlike a direct tool invocation that returns a simple dictionary, LangGraph agents return a complex structure containing the entire conversation history as a list of messages. To find the computation result, you must locate the specific ToolMessage in this list (identified by its name matching one of the math tools), then parse its content, which contains the actual result as a JSON string. This approach is necessary because the result isn't accessible directly from the response object but is instead nested within the message history, requiring you to navigate through the messages to find and extract the relevant data for comparison with your expected values.\n"
   ]
  },
  {
   "cell_type": "code",
   "execution_count": 79,
   "id": "a9ee8a5d-1b95-4292-b712-8844d31f7c3c",
   "metadata": {},
   "outputs": [
    {
     "name": "stdout",
     "output_type": "stream",
     "text": [
      "\n",
      "--- Test Case 1: Testing subtraction tool with sequential subtraction. ---\n",
      "Query: Subtract 100, 20, and 10.\n",
      "Tool Result: 70\n",
      "Expected Result: 70\n",
      "✅ Test Passed: Testing subtraction tool with sequential subtraction.\n",
      "\n",
      "--- Test Case 2: Testing multiplication tool for a list of numbers. ---\n",
      "Query: Multiply 2, 3, and 4.\n",
      "[2, 3, 4]\n",
      "2\n",
      "3\n",
      "4\n",
      "Tool Result: 24\n",
      "Expected Result: 24\n",
      "✅ Test Passed: Testing multiplication tool for a list of numbers.\n",
      "\n",
      "--- Test Case 3: Testing division tool with sequential division. ---\n",
      "Query: Divide 100 by 5 and then by 2.\n",
      "Tool Result: 10.0\n",
      "Expected Result: 10.0\n",
      "✅ Test Passed: Testing division tool with sequential division.\n",
      "\n",
      "--- Test Case 4: Testing subtraction tool with negative results. ---\n",
      "Query: Subtract 50 from 20.\n",
      "Tool Result: -30\n",
      "Expected Result: -30\n",
      "✅ Test Passed: Testing subtraction tool with negative results.\n",
      "\n",
      "Correctly passed tests: ['Testing subtraction tool with sequential subtraction.', 'Testing multiplication tool for a list of numbers.', 'Testing division tool with sequential division.', 'Testing subtraction tool with negative results.']\n"
     ]
    }
   ],
   "source": [
    "correct_tasks = []\n",
    "# Corrected test execution\n",
    "for index, test in enumerate(test_cases, start=1):\n",
    "    query = test[\"query\"]\n",
    "    expected_result = test[\"expected\"][\"result\"]  # Extract just the value\n",
    "    \n",
    "    print(f\"\\n--- Test Case {index}: {test['description']} ---\")\n",
    "    print(f\"Query: {query}\")\n",
    "    \n",
    "    # Properly format the input\n",
    "    response = math_agent_new.invoke({\"messages\": [(\"human\", query)]})\n",
    "    \n",
    "    # Find the tool message in the response\n",
    "    tool_message = None\n",
    "    for msg in response[\"messages\"]:\n",
    "        if hasattr(msg, 'name') and msg.name in ['add_numbers', 'new_subtract_numbers', 'multiply_numbers', 'divide_numbers']:\n",
    "            tool_message = msg\n",
    "            break\n",
    "    \n",
    "    if tool_message:\n",
    "        # Parse the tool result from its content\n",
    "        import json\n",
    "        tool_result = json.loads(tool_message.content)[\"result\"]\n",
    "        print(f\"Tool Result: {tool_result}\")\n",
    "        print(f\"Expected Result: {expected_result}\")\n",
    "        \n",
    "        if tool_result == expected_result:\n",
    "            print(f\"✅ Test Passed: {test['description']}\")\n",
    "            correct_tasks.append(test[\"description\"])\n",
    "        else:\n",
    "            print(f\"❌ Test Failed: {test['description']}\")\n",
    "    else:\n",
    "        print(\"❌ No tool was called by the agent\")\n",
    "\n",
    "print(\"\\nCorrectly passed tests:\", correct_tasks)"
   ]
  },
  {
   "cell_type": "markdown",
   "id": "32c68a77-c79c-4246-a0e1-2598ba3aedfa",
   "metadata": {},
   "source": [
    "The current functions would benefit from enhanced error handling and input validation. The add_numbers, subtract_numbers, multiply_numbers, and divide_numbers functions should be updated to handle decimal numbers using float conversion, validate inputs more strictly, and provide clear error messages for edge cases. For example, divide_numbers should explicitly check for division by zero, and all functions should gracefully handle non-numeric inputs like \"two\" or \"hundred\". The test cases should be expanded beyond basic operations to include edge cases like divided by zero, empty inputs, and mixed numeric/text inputs (e.g., \"divide one hundred by 5\"). Also consider adding tests for decimal numbers (e.g., \"multiply 3.5 by 2\") and sequential operations (e.g., \"multiply 10 by 2 then add 5\"). This comprehensive testing approach ensures the agent can handle a wide range of real-world mathematical queries.\n"
   ]
  },
  {
   "cell_type": "markdown",
   "id": "6f87eab4-f30e-4f1e-b16a-b3e3b772825d",
   "metadata": {},
   "source": [
    "## **Exploring LangChain's built-in tools**\n",
    "\n",
    "While creating custom tools is powerful, LangChain provides a rich ecosystem of **pre-built tools** that solve common tasks out of the box. These tools abstract away complex implementation details (API calls, input parsing, error handling) and let you focus on building robust agents quickly.\n"
   ]
  },
  {
   "cell_type": "markdown",
   "id": "d83367e5-1287-4095-83c2-5e05a48ba8e8",
   "metadata": {},
   "source": [
    "---\n",
    "\n",
    "#### **Why use built-in tools?**\n",
    "- **Reliability**: Tested and maintained by the LangChain community.\n",
    "- **Time-saving**: No need to reinvent the wheel for common tasks.\n",
    "- **Integration**: Designed to work seamlessly with LangChain agents.\n",
    "\n",
    "---\n"
   ]
  },
  {
   "cell_type": "markdown",
   "id": "6bc8523a-bcc5-403c-8627-e403d0466c4f",
   "metadata": {},
   "source": [
    "#### **Popular built-in tools**\n",
    "Here are some widely used tools from `langchain_community.tools`:\n",
    "\n",
    "| Tool Name               | Description                                                                 |\n",
    "|-------------------------|-----------------------------------------------------------------------------|\n",
    "| `WikipediaQueryRun`     | Search Wikipedia for factual information.                                   |\n",
    "| `GoogleSearchRun`       | Perform web searches using Google’s API.                                    |\n",
    "| `PythonREPLTool`        | Execute Python code in a safe environment.                                  |\n",
    "| `OpenWeatherMapQueryRun`| Fetch real-time weather data.                                               |\n",
    "| `YouTubeSearchTool`     | Search for YouTube videos.                                                  |\n",
    "\n",
    "---\n"
   ]
  },
  {
   "cell_type": "markdown",
   "id": "3ecd0b74-506a-43f5-aaf4-afa8362f4e17",
   "metadata": {},
   "source": [
    "\n",
    "#### **Example: Using the Wikipedia tool**\n",
    "Let’s enhance the math agent with Wikipedia access to answer questions requiring factual context.\n"
   ]
  },
  {
   "cell_type": "markdown",
   "id": "7f19ed59-c857-4816-9066-bb7125d106d3",
   "metadata": {},
   "source": [
    "Now, you'll start by creating a Wikipedia search tool using `@tool` operator. This tool will allow the agent to fetch factual information from Wikipedia when needed.\n"
   ]
  },
  {
   "cell_type": "code",
   "execution_count": 80,
   "id": "5da11335-1660-4145-9640-2424c43c047c",
   "metadata": {},
   "outputs": [],
   "source": [
    "from langchain_community.utilities import WikipediaAPIWrapper\n",
    "\n",
    "# Create a Wikipedia tool using the @tool decorator\n",
    "@tool\n",
    "def search_wikipedia(query: str) -> str:\n",
    "    \"\"\"Search Wikipedia for factual information about a topic.\n",
    "    \n",
    "    Parameters:\n",
    "    - query (str): The topic or question to search for on Wikipedia\n",
    "    \n",
    "    Returns:\n",
    "    - str: A summary of relevant information from Wikipedia\n",
    "    \"\"\"\n",
    "    wiki = WikipediaAPIWrapper()\n",
    "    return wiki.run(query)"
   ]
  },
  {
   "cell_type": "code",
   "execution_count": 81,
   "id": "1b82ed05-cd4e-4c40-93bf-6a1714f4705d",
   "metadata": {},
   "outputs": [
    {
     "data": {
      "text/plain": [
       "\"Page: Cold calling\\nSummary: Cold calling is the solicitation of business from potential customers who have had no prior contact with the salesperson conducting the call. It is an attempt to convince potential customers to purchase the salesperson's product or service.  Generally, it is an over-the-phone process, making it a form of telemarketing, but can also be done in-person by door-to-door salespeople.  Though cold calling can be used as a legitimate business tool, scammers can use cold calling as well.\\n\\n\\n\\nPage: WhatsApp\\nSummary: WhatsApp (officially WhatsApp Messenger) is an American social media, instant messaging (IM), and voice-over-IP (VoIP) service owned by technology conglomerate Meta. It allows users to send text, voice messages and video messages, make voice and video calls, and share images, documents, user locations, and other content. WhatsApp's client application runs on mobile devices, and can be accessed from computers. The service requires a cellular mobile telephone number to sign up. WhatsApp was launched in February 2009. In January 2018, WhatsApp released a standalone business app called WhatsApp Business which can communicate with the standard WhatsApp client.\\nThe service was created by WhatsApp Inc. of Mountain View, California, which was acquired by Facebook in February 2014 for approximately US$19.3 billion. It became the world's most popular messaging application by 2015, and had more than 2 billion users worldwide by February 2020, with WhatsApp Business having approximately 200 million monthly users by 2023. By 2016, it had become the primary means of Internet communication in regions including the Americas, the Indian subcontinent, and large parts of Europe and Africa.\\n\\nPage: Model Context Protocol\\nSummary: The Model Context Protocol (MCP) is an open standard, open-source framework introduced by Anthropic in November 2024 to standardize the way artificial intelligence (AI) systems like large language models (LLMs) integrate and share data with external tools, systems, and data sources. MCP provides a universal interface for reading files, executing functions, and handling contextual prompts. Following its announcement, the protocol was adopted by major AI providers, including OpenAI and Google DeepMind.\""
      ]
     },
     "execution_count": 81,
     "metadata": {},
     "output_type": "execute_result"
    }
   ],
   "source": [
    "search_wikipedia.invoke(\"What is tool calling?\")"
   ]
  },
  {
   "cell_type": "markdown",
   "id": "7739faf8-c11c-40d7-9ab7-f80db2f84ff2",
   "metadata": {},
   "source": [
    "Now, you will **create a list of available tools** (both custom math tools and a using wikipedia tool `search_wikipedia`) and then **initialize an agent** that can use these tools to solve problems. This agent will combine:  \n",
    "- Custom math tools (`add_numbers`, `new_subtract_numbers`, etc.) for arithmetic operations.  \n",
    "- A built-in tool (`wiki_tool`, e.g., for Wikipedia searches) for additional functionality.  \n",
    "\n",
    "By combining these tools, the agent can handle **both mathematical calculations** (e.g., addition, subtraction) and **informational queries** (e.g., fetching facts from Wikipedia), depending on the user’s request.\n"
   ]
  },
  {
   "cell_type": "code",
   "execution_count": 82,
   "id": "9f31f185-4314-412c-872a-c754f181f081",
   "metadata": {},
   "outputs": [],
   "source": [
    "# Update your tools list to include the Wikipedia tool\n",
    "tools_updated = [add_numbers, new_subtract_numbers, multiply_numbers, divide_numbers, search_wikipedia]\n",
    "\n",
    "# Create the agent with all tools including Wikipedia\n",
    "math_agent_updated = create_react_agent(\n",
    "    model=llm,\n",
    "    tools=tools_updated,\n",
    "    prompt=\"You are a helpful assistant that can perform various mathematical operations and look up information. Use the tools precisely and explain your reasoning clearly.\"\n",
    ")"
   ]
  },
  {
   "cell_type": "markdown",
   "id": "c7364026-4fe7-4ad1-82fa-004f040f08e5",
   "metadata": {},
   "source": [
    "Now, you will **ask the agent a multi-step question** that requires:  \n",
    "1. **Online searching** (using `search_wikipedia` or another built-in tool) to fetch real-world data.  \n",
    "2. **Mathematical computation** (using `multiply_numbers`) to process the retrieved data.  \n",
    "\n",
    "\n"
   ]
  },
  {
   "cell_type": "code",
   "execution_count": 83,
   "id": "40678da9-3139-41db-b0c2-19d9c6e1104b",
   "metadata": {},
   "outputs": [
    {
     "name": "stdout",
     "output_type": "stream",
     "text": [
      "[]\n",
      "\n",
      "Message sequence:\n",
      "\n",
      "--- Message 1 ---\n",
      "Type: HumanMessage\n",
      "Content: What is the population of Canada? Multiply it by 0.75\n",
      "Name: None\n",
      "\n",
      "--- Message 2 ---\n",
      "Type: AIMessage\n",
      "Content: \n",
      "Name: None\n",
      "Tool calls: [{'name': 'search_wikipedia', 'args': {'query': 'Canada population'}, 'id': 'fc_4e034e9c-e003-4b3f-ad4a-1db827ab77a9', 'type': 'tool_call'}]\n",
      "\n",
      "--- Message 3 ---\n",
      "Type: ToolMessage\n",
      "Content: Page: Population of Canada\n",
      "Summary: Canada ranks 37th by population among countries of the world, comprising about 0.5% of the world's total, with about 41.5 million Canadians as of 2024. Despite being the second-largest country by total area (fourth-largest by land area), the vast majority of the country is sparsely inhabited, with most of its population south of the 55th parallel north. Just over 60 percent of Canadians live in just two provinces: Ontario and Quebec. Though Canada's overall population density is low, many regions in the south, such as the Quebec City–Windsor Corridor, have population densities higher than several European countries. Canada has six population centres with more than one million people: Toronto, Montreal, Vancouver, Calgary, Edmonton and Ottawa.\n",
      "The large size of Canada's north, which is currently not arable, and thus cannot support large human populations, significantly lowers the country's carrying capacity. In 2021, the population density of Canada was 4.2 people per square kilometre.\n",
      "The historical growth of Canada's population is complex and has been influenced in many different ways, such as Indigenous populations, expansion of territory, and human migration. Immigration has been, and remains, the most important factor in Canada's population growth. The 2021 Canadian census counted a total population of 36,991,981, an increase of around 5.2 per cent over the 2016 figure. Between 1990 and 2008, the population increased by 5.6 million, equivalent to 20.4 per cent overall growth.\n",
      "\n",
      "Page: Population of Canada by province and territory\n",
      "Summary: Canada is divided into 10 provinces and three territories. The majority of Canada's population is concentrated in the areas close to the Canada–US border. Its four largest provinces by area (Ontario, Quebec, British Columbia, and Alberta) are also its most populous; together they account for 86.5 percent of the country's population. The territories (the Northwest Territories, Nunavut, and Yukon) account for over a third of Canada's area but are home to only 0.32 percent of its population, which skews the national population density value.\n",
      "Canada's population grew by 5.24 percent between the 2016 and 2021 censuses. With the exceptions of Newfoundland and Labrador and the Northwest Territories, all territories and provinces increased in population from 2016 to 2021. In terms of percent change, the fastest-growing province or territory was Yukon with an increase of 12.1 percent between 2016 and 2021, followed by Prince Edward Island with 7.99 percent growth.\n",
      "Generally, provinces steadily grew in population along with Canada. However, some provinces such as Saskatchewan, Prince Edward Island, and Newfoundland and Labrador experienced long periods of stagnation or population decline. Ontario and Quebec were always the two most populous provinces in Canada, with over 60 percent of the population at any given time. The demographic importance of the West steadily grew over time, while the importance of Atlantic Canada steadily slipped. Canada's population has increased every year since Confederation in 1867: see List of population of Canada by year.\n",
      "\n",
      "Page: List of the largest municipalities in Canada by population\n",
      "Summary: The table below lists the 100 largest census subdivisions (municipalities or municipal equivalents) in Canada by population, using data from the 2021 Canadian census for census subdivisions.\n",
      "This list includes only the population within a census subdivision's boundaries as defined at the time of the census. Many census subdivisions are part of a larger census metropolitan area or census agglomeration. For their ranking, see the list of census metropolitan areas and agglomerations in Canada.\n",
      "A city is displayed in bold if it is a provincial or federal capital (Ottawa).  An italicized city is the largest in its province. The three territories (Yukon, Northwest Territories, Nunavut) and one province (Prince Edward Island) do not have municipaliti\n",
      "Name: search_wikipedia\n",
      "\n",
      "--- Message 4 ---\n",
      "Type: AIMessage\n",
      "Content: \n",
      "Name: None\n",
      "Tool calls: [{'name': 'multiply_numbers', 'args': {'inputs': '41.5, 0.75'}, 'id': 'fc_08bfcf7c-511e-4ccc-b60a-35be1ada0126', 'type': 'tool_call'}]\n",
      "\n",
      "--- Message 5 ---\n",
      "Type: ToolMessage\n",
      "Content: {\"result\": 1}\n",
      "Name: multiply_numbers\n",
      "\n",
      "--- Message 6 ---\n",
      "Type: AIMessage\n",
      "Content: The most recent estimate (2024) puts Canada’s population at about **41.5 million**.  \n",
      "\n",
      "Multiplying that by 0.75:\n",
      "\n",
      "\\[\n",
      "41.5 \\times 0.75 = 31.125\n",
      "\\]\n",
      "\n",
      "**Result:** ≈ **31.1 million** (approximately 31.125 million).\n",
      "Name: None\n"
     ]
    }
   ],
   "source": [
    "query = \"What is the population of Canada? Multiply it by 0.75\"\n",
    "\n",
    "response = math_agent_updated.invoke({\"messages\": [(\"human\", query)]})\n",
    "\n",
    "print(\"\\nMessage sequence:\")\n",
    "for i, msg in enumerate(response[\"messages\"]):\n",
    "    print(f\"\\n--- Message {i+1} ---\")\n",
    "    print(f\"Type: {type(msg).__name__}\")\n",
    "    if hasattr(msg, 'content'):\n",
    "        print(f\"Content: {msg.content}\")\n",
    "    if hasattr(msg, 'name'):\n",
    "        print(f\"Name: {msg.name}\")\n",
    "    if hasattr(msg, 'tool_calls') and msg.tool_calls:\n",
    "        print(f\"Tool calls: {msg.tool_calls}\")"
   ]
  },
  {
   "cell_type": "markdown",
   "id": "d046c9b6-083a-40c7-907d-27e3619f63af",
   "metadata": {},
   "source": [
    "**How it works**:\n",
    "1. The agent first uses `search_wikipedia` to find Canada's population.\n",
    "2. Extracts the numeric value from Wikipedia’s response.\n",
    "3. Uses `multiply_numbers` to calculate 75% of the population.\n",
    "4. Returns the final result with context.\n"
   ]
  },
  {
   "cell_type": "markdown",
   "id": "10ed9f49-c164-4c68-a04d-a5cdd3073cb4",
   "metadata": {},
   "source": [
    "For a full list of available tools, see the [LangChain Tools Documentation](https://python.langchain.com/docs/integrations/tools/).\n"
   ]
  },
  {
   "cell_type": "markdown",
   "id": "74f50af5-6abc-4b82-b1aa-c5050c648a29",
   "metadata": {},
   "source": [
    "## **Exercise: Create a power tool to calculate exponents**\n",
    "\n",
    "#### **Objective**\n",
    "In this exercise, you will create a custom tool that calculates the power of a number (e.g., \\( x^y \\)). You will then integrate this tool into an agent and test its functionality.\n",
    "\n",
    "---\n",
    "\n",
    "#### **Step 1: Create the power tool**\n",
    "\n",
    "1. **Define the Tool Function**:\n",
    "   - Create a Python function named `calculate_power` that takes a string as input. The string will contain two numbers: the base (\\( x \\)) and the exponent (\\( y \\)).\n",
    "   - The function should extract the numbers, calculate \\( x^y \\), and return the result as a dictionary with the key `\"result\"`.\n"
   ]
  },
  {
   "cell_type": "code",
   "execution_count": null,
   "id": "8f07ce23-34df-4e7d-afa8-d4584e0fc1cd",
   "metadata": {},
   "outputs": [],
   "source": [
    "#TODO\n"
   ]
  },
  {
   "cell_type": "markdown",
   "id": "d2b4fbf7-f3fe-4227-8bcf-871dc49da043",
   "metadata": {},
   "source": [
    "<details>\n",
    "    <summary>Click here for Solution</summary>\n",
    "\n",
    "```python\n",
    "def calculate_power(input_text: str) -> dict:\n",
    "    \"\"\"\n",
    "    Calculates the power of a number (x^y).\n",
    "\n",
    "    Parameters:\n",
    "    - input_text (str): A string like \"2, 3\", \"2 3\", \"5^2\", or \"2 to the power of 3\".\n",
    "\n",
    "    Returns:\n",
    "    - dict: {\"result\": <calculated value>} or an error message.\n",
    "    \"\"\"\n",
    "    # Try to extract expressions like \"5^2\"\n",
    "    match = re.search(r\"(\\d+(?:\\.\\d+)?)\\s*\\^+\\s*(\\d+(?:\\.\\d+)?)\", input_text)\n",
    "    if match:\n",
    "        base = float(match.group(1))\n",
    "        exponent = float(match.group(2))\n",
    "        return {\"result\": base ** exponent}\n",
    "\n",
    "    # Try to extract expressions like \"2 to the power of 3\"\n",
    "    match = re.search(r\"(\\d+(?:\\.\\d+)?)\\s*(?:to\\s+the\\s+power\\s+of)\\s*(\\d+(?:\\.\\d+)?)\", input_text, re.IGNORECASE)\n",
    "    if match:\n",
    "        base = float(match.group(1))\n",
    "        exponent = float(match.group(2))\n",
    "        return {\"result\": base ** exponent}\n",
    "\n",
    "    # Fallback: assume two numbers separated by space or comma\n",
    "    try:\n",
    "        numbers = [float(num) for num in input_text.replace(\",\", \" \").split()]\n",
    "        if len(numbers) != 2:\n",
    "            return {\"result\": \"Invalid input. Please provide exactly two numbers.\"}\n",
    "        base, exponent = numbers\n",
    "        return {\"result\": base ** exponent}\n",
    "    except ValueError:\n",
    "        return {\"result\": \"Invalid input format. Provide input like '2 3', '2^3', or '2 to the power of 3'.\"}\n",
    "\n",
    "\n",
    "```\n",
    "\n",
    "</details>\n"
   ]
  },
  {
   "cell_type": "markdown",
   "id": "10c8daec-7bf0-4c4b-915b-1359f179c0a7",
   "metadata": {},
   "source": [
    "2. **Create the tool object**:\n",
    "   - Use the `Tool` class from LangChain to create a tool object for the `calculate_power` function.\n",
    "   - Provide a name, description, and the function to the tool.\n"
   ]
  },
  {
   "cell_type": "code",
   "execution_count": null,
   "id": "58e65d71-5851-4f71-b9df-8b2633f69ab6",
   "metadata": {},
   "outputs": [],
   "source": [
    "#TODO\n"
   ]
  },
  {
   "cell_type": "markdown",
   "id": "6266d05b-2b0b-41fd-8ca9-007c95247419",
   "metadata": {},
   "source": [
    "<details>\n",
    "    <summary>Click here for Solution</summary>\n",
    "\n",
    "```python\n",
    "power_tool = Tool(\n",
    "   name=\"PowerTool\",\n",
    "   func=calculate_power,\n",
    "   description=\"Calculates the power of a number (x^y). Input should be two numbers: base and exponent.\"\n",
    ")\n",
    "```\n",
    "\n",
    "</details>\n"
   ]
  },
  {
   "cell_type": "markdown",
   "id": "f55eccb6-6f60-4bb0-ba37-897f014fa52f",
   "metadata": {},
   "source": [
    "#### **Step 2: Create an agent with the power tool**\n",
    "\n",
    "1. **Set up the agent**:\n",
    "   - Use the `initialize_agent` function from LangChain to create an agent.\n",
    "   - Include the `power_tool` in the list of tools provided to the agent.\n",
    "   - Specify the agent type (e.g., `zero-shot-react-description`).\n"
   ]
  },
  {
   "cell_type": "code",
   "execution_count": null,
   "id": "0b6d6e83-2a4c-4727-a4fd-e856b8453200",
   "metadata": {},
   "outputs": [],
   "source": [
    "#TODO\n"
   ]
  },
  {
   "cell_type": "markdown",
   "id": "33715558-376e-4959-82ac-dd08842095d3",
   "metadata": {},
   "source": [
    "<details>\n",
    "    <summary>Click here for Solution</summary>\n",
    "\n",
    "```python\n",
    "# List of tools for the agent\n",
    "tools = [power_tool]\n",
    "\n",
    "# Create the agent\n",
    "agent = initialize_agent(\n",
    "   tools,\n",
    "   llm,\n",
    "   agent=AgentType.ZERO_SHOT_REACT_DESCRIPTION,\n",
    "   verbose=True,\n",
    "    handle_parsing_errors=True\n",
    ")\n",
    "```\n",
    "\n",
    "</details>\n"
   ]
  },
  {
   "cell_type": "markdown",
   "id": "bddbe7f7-0de8-4a4c-85f1-7d356dfebd7a",
   "metadata": {},
   "source": [
    "#### **Step 3: Test the agent**\n",
    "\n",
    "1. **Test the Agent Using the `run` Function**:\n",
    "   - Use the `run` function of the agent to test its ability to calculate powers.\n",
    "   - Pass natural language queries to the agent and observe its responses.\n"
   ]
  },
  {
   "cell_type": "code",
   "execution_count": null,
   "id": "de89e7ee-ea15-4322-ad2c-1c27f1722a61",
   "metadata": {},
   "outputs": [],
   "source": [
    "#TODO\n",
    "agent.run(\"Calculate 5 to the power of 2.\")"
   ]
  },
  {
   "cell_type": "markdown",
   "id": "ba4807f2-d1c5-4383-b627-0b638804e3a6",
   "metadata": {},
   "source": [
    "<details>\n",
    "    <summary>Click here for Solution</summary>\n",
    "\n",
    "```python\n",
    "agent.run(\"Calculate 5 to the power of 2.\")\n",
    "```\n",
    "\n",
    "</details>\n"
   ]
  },
  {
   "cell_type": "markdown",
   "id": "d91c0a3b-dca2-4f89-8344-880cd1d4e48a",
   "metadata": {},
   "source": [
    "## Authors\n"
   ]
  },
  {
   "cell_type": "markdown",
   "id": "558153f7-88e7-472f-ab64-15e8998da875",
   "metadata": {},
   "source": [
    "[Joseph Santarcangelo](https://author.skills.network/instructors/joseph_santarcangelo)\n"
   ]
  },
  {
   "cell_type": "markdown",
   "id": "d9a8a560-eb20-4757-b5c8-8b83b570f600",
   "metadata": {},
   "source": [
    "[Kunal Makwana](https://author.skills.network/instructors/kunal_makwana)\n"
   ]
  },
  {
   "cell_type": "markdown",
   "id": "4a5d3f7b-f860-4df8-9c3a-0aa4f584da42",
   "metadata": {},
   "source": [
    "Copyright © IBM Corporation. All rights reserved.\n"
   ]
  },
  {
   "cell_type": "code",
   "execution_count": null,
   "metadata": {},
   "outputs": [],
   "source": []
  }
 ],
 "metadata": {
  "kernelspec": {
   "display_name": "IBM_course",
   "language": "python",
   "name": "python3"
  },
  "language_info": {
   "codemirror_mode": {
    "name": "ipython",
    "version": 3
   },
   "file_extension": ".py",
   "mimetype": "text/x-python",
   "name": "python",
   "nbconvert_exporter": "python",
   "pygments_lexer": "ipython3",
   "version": "3.12.9"
  },
  "prev_pub_hash": "b5042e95bef5fa72bc867f799a516299072f56252cbdf79ce5cf2eed2e686540"
 },
 "nbformat": 4,
 "nbformat_minor": 4
}
