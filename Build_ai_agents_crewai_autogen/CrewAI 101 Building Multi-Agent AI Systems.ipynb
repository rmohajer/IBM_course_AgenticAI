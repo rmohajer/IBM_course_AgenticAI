{
 "cells": [
  {
   "cell_type": "markdown",
   "id": "131ada51-80a5-4770-b75c-6e73dbd62711",
   "metadata": {},
   "source": [
    "<p style=\"text-align:center\">\n",
    "    <a href=\"https://skills.network\" target=\"_blank\">\n",
    "    <img src=\"https://cf-courses-data.s3.us.cloud-object-storage.appdomain.cloud/assets/logos/SN_web_lightmode.png\" width=\"200\" alt=\"Skills Network Logo\"  />\n",
    "    </a>\n",
    "</p>\n"
   ]
  },
  {
   "cell_type": "markdown",
   "id": "2d08c97c-ced3-4fd8-a26f-76a72f848410",
   "metadata": {},
   "source": [
    "# **CrewAI 101: Building Multi-Agent AI Systems**\n"
   ]
  },
  {
   "cell_type": "markdown",
   "id": "56d83349-5bc3-4f61-82bf-27b0318142f2",
   "metadata": {},
   "source": [
    "Estimated time needed: **45** minutes\n"
   ]
  },
  {
   "cell_type": "markdown",
   "id": "437e05dd-3c48-4541-90ff-b8d28210e708",
   "metadata": {},
   "source": [
    "In this lab, we build a GenAI-powered content creation pipeline designed to transform raw research into polished, insightful blog posts.\n",
    "\n",
    "We'll build a  CrewAI system which uses a sequential process where a Research Analyst agent gathers cutting-edge information from real-time tools like web search, and a Content Strategist agent who rewrites that information into clear, engaging content for a tech-savvy audience. We'll also create a workflow which demonstrates how autonomous agents can collaborate like human teams, moving from knowledge extraction to audience-ready content, without manual intervention.\n",
    "\n",
    "This project is perfect for beginners who want to learn the fundamentals of multi-agent AI automation using CrewAI. You'll see how roles, tools, and tasks come together to create streamlined, intelligent workflows that save time and enhance content quality.\n"
   ]
  },
  {
   "cell_type": "markdown",
   "id": "c367074b-0b0c-4ed8-926f-faef8405cf3c",
   "metadata": {},
   "source": [
    "## __Table of Contents__\n",
    "\n",
    "<ol>\n",
    "    <li><a href=\"#Objectives\">Objectives</a></li>\n",
    "    <li>\n",
    "        <a href=\"#Setup\">Setup</a>\n",
    "        <ol>\n",
    "            <li><a href=\"#Installing-Required-Libraries\">Installing Required Libraries</a></li>\n",
    "        </ol>\n",
    "    </li>\n",
    "    <li><a href=\"#What-is-CrewAI?\">What is CrewAI?</a></li>\n",
    "    <li><a href=\"#Setting-Up-SerperDevTool\">Setting Up SerperDevTool</a></li>\n",
    "    <li><a href=\"#Setting-up-our-LLM\">Setting up our LLM</a></li>\n",
    "    <li><a href=\"#Agents-in-CrewAI\">Agents in CrewAI</a></li>\n",
    "    <li><a href=\"#Tasks-in-CrewAI\">Tasks in CrewAI</a></li>\n",
    "    <li><a href=\"#CrewAI-Workflow\">CrewAI Workflow</a></li>\n",
    "    \n",
    "    \n",
    "</ol>\n",
    "\n",
    "<a href=\"#Exercises\">Exercises</a>\n"
   ]
  },
  {
   "cell_type": "markdown",
   "id": "0b472a75-313e-4908-8c67-c9838f28bbcb",
   "metadata": {},
   "source": [
    "## Objectives\n",
    "\n",
    "After completing this lab, you will be able to:\n",
    "\n",
    "- Leverage **CrewAI** to automate multi-agent workflows for intelligent content generation.  \n",
    "- Understand the **key components of CrewAI**—agents, tasks, tools, and processes—and how they work together in a sequential pipeline.  \n",
    "- Implement **real-world AI collaboration scenarios**, such as transforming technical research into reader-friendly content.    \n",
    "- Develop foundational skills to **extend and scale CrewAI workflows** across various domains like marketing, education, and research automation.\n"
   ]
  },
  {
   "cell_type": "markdown",
   "id": "4b6252e8-e3af-440c-b1e9-01f9f759f474",
   "metadata": {},
   "source": [
    "## Setup\n"
   ]
  },
  {
   "cell_type": "markdown",
   "id": "c6f9b324-d9f3-4f9a-9d8a-c4de69a1c538",
   "metadata": {},
   "source": [
    "## Required Libraries\n",
    "\n",
    "For this lab, we will be using the following Python libraries:\n",
    "\n",
    "* [`crewai`](https://pypi.org/project/crewai/) – The core framework for building collaborative AI workflows using agents, tasks, and process management.\n",
    "* [`crewai-tools`](https://pypi.org/project/crewai-tools/) – A set of prebuilt tools (like web search, file I/O, and APIs) that can be used by CrewAI agents.\n",
    "* [`langchain`](https://www.langchain.com/) – Provides core utilities for working with LLMs, prompts, tools, and memory management (used under the hood by CrewAI).\n",
    "* [`langchain-community`](https://pypi.org/project/langchain-community/) – Offers integration with open-source and third-party tools used in the broader LangChain ecosystem.\n"
   ]
  },
  {
   "cell_type": "markdown",
   "id": "2443ec48-5dc8-4ade-80e6-40fd0b595a7b",
   "metadata": {},
   "source": [
    "### Installing Required Libraries\n",
    "\n",
    "The following required libraries are __not__ pre-installed in the Skills Network Labs environment. __You will need to run the following cell__ to install them:\n"
   ]
  },
  {
   "cell_type": "code",
   "execution_count": null,
   "id": "fe2e64fc-f270-4025-a930-3757a2da6323",
   "metadata": {},
   "outputs": [],
   "source": [
    "%pip install langchain==0.3.20 | tail -n 1 \n",
    "%pip install crewai==0.80.0 | tail -n 1\n",
    "%pip install langchain-community==0.3.19 | tail -n 1 \n",
    "%pip install crewai-tools==0.38.0 | tail -n 1\n",
    "%pip install databricks-sdk==0.57.0| tail -n 1"
   ]
  },
  {
   "cell_type": "code",
   "execution_count": null,
   "metadata": {},
   "outputs": [
    {
     "name": "stdout",
     "output_type": "stream",
     "text": [
      "/Users/rezamohajerpoor/Documents/Documents/Github/IBM_course_AgenticAI/.venv/bin/python: No module named uv\n",
      "Note: you may need to restart the kernel to use updated packages.\n"
     ]
    }
   ],
   "source": [
    "%uv pip install \"crewai>=0.80.0\"  \"crewai-tools==0.38.0\" \"databricks-sdk==0.57.0\""
   ]
  },
  {
   "cell_type": "markdown",
   "id": "b05ffe30-96d0-4cca-ab6f-80ae579654b8",
   "metadata": {},
   "source": [
    "----\n"
   ]
  },
  {
   "cell_type": "markdown",
   "id": "35229ba1-08c9-4fea-b983-ee749facde39",
   "metadata": {},
   "source": [
    "## **What is CrewAI?**  \n",
    "\n",
    "CrewAI is a **cutting-edge framework** that empowers us to create and manage teams of **autonomous AI agents** designed to collaborate on complex tasks. Think of it as our ultimate toolkit for assembling a team of virtual experts, where each member plays a **specific role**, uses **unique tools**, and works toward **clear goals**. These agents aren’t just working in isolation; they collaborate, communicate, and solve problems as a synchronized team, enabling us to achieve more than ever before.   \n",
    "\n",
    "### **Why CrewAI?**  \n",
    "Imagine you’re leading a project. You need specialists—each with unique expertise—who can work together to achieve a common goal. CrewAI replicates this dynamic in the world of AI by:  \n",
    "- Assigning **roles** to agents based on their purpose (e.g., a planner, an executor, or a coordinator).  \n",
    "- Equipping them with **tools** to perform their tasks efficiently.  \n",
    "- Directing them with **goals** to ensure their efforts align with the broader mission.  \n",
    "\n",
    "This collaborative framework ensures that your AI agents can tackle challenges that are too big or too complex for a single agent to handle. Whether it's **automation**, **decision-making**, or **simulating real-world scenarios**, CrewAI empowers you to orchestrate your AI teams like never before.  \n",
    "\n",
    "### **How CrewAI Works**\n",
    "At its core, CrewAI provides us with a high-level framework to build “crews”—groups of role-playing agents that interact and collaborate to achieve shared objectives. Each agent is:  \n",
    "- **Assigned a Role:** Just like in a real team, every agent has a specialized function, whether it’s planning, executing, or coordinating tasks.  \n",
    "- **Equipped with Tools:** Agents are provided with the resources they need to perform their roles effectively.  \n",
    "- **Directed by Goals:** Clear objectives ensure that every agent’s efforts align with the crew’s mission.  \n"
   ]
  },
  {
   "cell_type": "markdown",
   "id": "514b10eb-bc30-41f2-8169-e8ba041469af",
   "metadata": {},
   "source": [
    "## Setting Up SerperDevTool\n",
    "\n",
    "**What is Serper?**  \n",
    "Serper is a real-time Google Search API that allows AI agents to access up-to-date web information—effectively connecting your workflow to the latest content on the internet.\n",
    "\n",
    "**Why are we using Serper in our workflow?**  \n",
    "Our research agent needs current, reliable information to uncover trends, breakthroughs, and insights on evolving topics like generative AI, quantum computing, or sustainability. Without web access, the agent would be limited to static, pre-trained knowledge and unable to reflect the latest developments.\n",
    "\n",
    "To use the `SerperDevTool`, it requires an **API key**. This key grants access to the web search service and allows our agents to fetch real-time data during execution.\n",
    "\n",
    "> You will need to obtain your API Key from [serper.dev](https://serper.dev).  \n",
    "> - Sign up or log in with your email  \n",
    "> - Navigate to the **Dashboard**  \n",
    "> - Click on **API Keys**  \n",
    "> - Copy the key and replace `API_KEY` in your code with the value provided\n",
    "\n",
    "To learn more about the `SerperDevTool` and its capabilities, visit the [official documentation](https://serper.dev/).\n"
   ]
  },
  {
   "cell_type": "markdown",
   "id": "ab61d24f-0a3c-4df4-aa52-841e7d5d52a7",
   "metadata": {},
   "source": [
    "Enter  API key \n"
   ]
  },
  {
   "cell_type": "code",
   "execution_count": 1,
   "id": "36c1f35e-e3f6-41ff-8ded-cb4e9b441443",
   "metadata": {},
   "outputs": [],
   "source": [
    "import os \n",
    "from langchain_groq import ChatGroq\n",
    "from langchain_mistralai import MistralAIEmbeddings\n",
    "from dotenv import load_dotenv\n",
    "\n",
    "load_dotenv()\n",
    "model_id = \"llama-3.1-8b-instant\" # \tqwen/qwen3-32b  openai/gpt-oss-120b \n",
    "groq_api_key = os.getenv(\"GROQ_API_KEY\")\n",
    "serper_api_key = os.getenv(\"SERPAPI_API_KEY\")\n",
    "os.environ[\"SERPER_API_KEY\"] = serper_api_key\n",
    "llm = ChatGroq(model=model_id,\n",
    "            temperature=0,\n",
    "            max_tokens=None,\n",
    "            timeout=None,\n",
    "            max_retries=2,\n",
    "            verbose=1)"
   ]
  },
  {
   "cell_type": "code",
   "execution_count": 3,
   "metadata": {},
   "outputs": [
    {
     "data": {
      "text/plain": [
       "'a36b541a06d37d8ab2c149877186cf4d7de7976f39657800ebf92fd3032858cb'"
      ]
     },
     "execution_count": 3,
     "metadata": {},
     "output_type": "execute_result"
    }
   ],
   "source": [
    "serper_api_key"
   ]
  },
  {
   "cell_type": "markdown",
   "id": "657b970a-1dee-48b2-8f18-03e08f029ac3",
   "metadata": {},
   "source": [
    "Import ```SerperDevTool``` from ```crewai_tools```. \n"
   ]
  },
  {
   "cell_type": "code",
   "execution_count": null,
   "metadata": {},
   "outputs": [],
   "source": []
  },
  {
   "cell_type": "code",
   "execution_count": 17,
   "metadata": {},
   "outputs": [
    {
     "data": {
      "text/plain": [
       "{'search_metadata': {'id': '68fd4382874d50ee70778116',\n",
       "  'status': 'Success',\n",
       "  'json_endpoint': 'https://serpapi.com/searches/c57bb06ac3ce236e/68fd4382874d50ee70778116.json',\n",
       "  'pixel_position_endpoint': 'https://serpapi.com/searches/c57bb06ac3ce236e/68fd4382874d50ee70778116.json_with_pixel_position',\n",
       "  'created_at': '2025-10-25 21:39:14 UTC',\n",
       "  'processed_at': '2025-10-25 21:39:14 UTC',\n",
       "  'google_url': 'https://www.google.com.au/search?q=steaks+in+Sydney&oq=steaks+in+Sydney&hl=en&gl=us&sourceid=chrome&ie=UTF-8',\n",
       "  'raw_html_file': 'https://serpapi.com/searches/c57bb06ac3ce236e/68fd4382874d50ee70778116.html',\n",
       "  'total_time_taken': 1.32},\n",
       " 'search_parameters': {'engine': 'google',\n",
       "  'q': 'steaks in Sydney',\n",
       "  'google_domain': 'google.com.au',\n",
       "  'hl': 'en',\n",
       "  'gl': 'us',\n",
       "  'device': 'desktop'},\n",
       " 'search_information': {'query_displayed': 'steaks in Sydney',\n",
       "  'total_results': 5400000,\n",
       "  'time_taken_displayed': 0.24,\n",
       "  'organic_results_state': 'Results for exact spelling'},\n",
       " 'local_map': {'image': 'https://www.google.com/maps/vt/data=-WFYaLm-83rQKxQgjJL_6i7Dfmuqm42-dx0av2WIVHwqRZqD668lCPQT2k9vsqNEwKSjwrd1eDP1Wk7BCtejW2jytfxyGwhBvLLOWvs_EJQmqErqHETRczWfm64_hRYDz7wZH6IGmbM6fnlEyGsaeLvkrgUuWSZSRffKo5r9_cdtaUiezylw28KRjDAx47jWi5BZoz3I1Tr7EthOf0XsX6iOfks7i5iiKRqSCj8Klak5RBB4lYLDa7_aHgR9t19Sfv_WJPjrynaWurY5p4yD36gtm0H8SlDbQd9g1RGjWGfg3ybtkNYJAEtRU2J_RWdqA02ZZlnJLIb9HFQbYjgLWwZmMucj1409H3LF-4D_Ivi5Gmz78n7GGKzORIMmANKqi_7eFuEgbAPEABO2l_0FtppVfZee0xXPTApn08L5VqrqP3o2aGSsBfzotn44ntob8cSNdJBsbdq8pkXW6jKM6bMpCYU7Zqhc4Z8MQEP0YLjyu9pBG3QO0G3N3jo3ZcsM-VZtyrLprQRxzZueG91XVcKC_Us_q3XiTpS5linYjyCUtMWmx0xowOYBH84NdjF5ch3jQ4QdprWuUTdRuZ81sfr84zMzdiu6LdkWFPbv5a9C5Rr-NhRZKpKElMzkLP3yHyBMyGnw1VzW4vjx_62MeqWehPp8tnfJTDqBruRIrxhsqOBrcdfwVqemQgmhmtUnJh_Y-OJ-eDrmHXh2_tI4ZjIrHUuPTXxN_GCa2kDuXWKXAiOPXx7p_BKp_kNLV_O5_GrjU0Uk-leMO6sIGLwuxI1Xo2aLYn7t0RrnXGIPjjtl8OtmG91Bu2KTybXZvGHuJ2alO6L39jreGb9eV51zrAagNT4dTjy9oF08QaEYIe-vcJCHJE9hHHxnRmKQDJlcViuPNMknZEy78gDpf6spoH6iH3UgTb-OTkn97VyjVUoexBS_-2heoKIfxqq9Sq3CkqoK9hoWhRY5jXRsRn43u9wJ89aipKVVeLR8bTI133nH6RTmvoV3G95Yiq-Wn69KFp5-Jep9dxE_pIo3fV32F2R6yMoL53Mp9DuYK8BDWrNwae8fajpMgm_cmvo_AAJkq1AEVKXY4tmMcb8Le6qFdJtM3fFjhhamFYdsAjDdhAtebFgcnMXV9ZUUyetGk-FCpRGMJhZc_5IjGic8hH4qNqMiX6GveozWv4VxPB_jdhWZSGoBDj6L5cBGqokakEbgBMpa0ibF8OpYIppbL0w-JeE-dWt05HS39wSmJXZDQc5c5VqgagdMAeW1CMsU2M2Wpj9SE0f9BarDgQGuylYO83mbkU2YukLWEA2gVXJjVOPwC9icSDxhgiX-gc6BIEJHL6YeQm8oPPtNTyRsFlxBEGZLcMQkPujrZjXSKoxx034-0Cq1TsTWfTxyCbibsmWWJJkxpyeJ-9INK1IpWYBCSbZi4SNdLTS2RO-rAZGBaDvNap3v16Z6hb0u3CoJU1P-4VJTAB3ZBAq_kGzbJldSlFlipXKRvScQK_YotYRgZw-U84Es4p6oQmioOiN1eDfDGoVydE-zFq75kA8OL_foUUHe-Gv6WWaLPL75aH2xlwM0CgLgJ4uGT3yy2TEPORNpzccvjgcMoY9IZhwko_R5iaGY0Ysnc17rR_8DDjxPLUMvS4bLQeu5MTjJ9MVe5hD60ypClWbESKWj6m3KDqTE6vMP_RaRUIUZAR_BoWrWqVHX7i0K81JI_BhK93jKLDPpm76XHqhziMJ6kYEqCM-NlFBQNII5p6XxnbxEWbo6ZRdYk6df2CVvGqSmNBEhKkKk2CzZSr1g6qBQ4d2NE7gK_mZdEp2NF15A9ep0kH3_cAb8zqSM0-Sw-lDHIyOTb1eI-Jqo4zz7Ttr8WtHtIkQ3noYQZSxIhGccir8PddJXmo4e_2qtej43sm70Lqiv0m1gSwnBpC3NZxk5T6q59ubuq-G96gFTUkAchk2E3zVJrGiz-EAgXU4Ar-OGVJBtjLhh7NkScZ3SChP13MRzYGgg2VEqdff7mZvkXOIyh4y_lfd6cLytUDfhfhksgnA-dLZd8PkTKE3hFTbGAOm5C5m0f1x25hVZ2nAdVBylQAVNjxHDSqWAM8SIvKBgClIIn08NPwAsJW0In5K0HCB03EmruAH0AC24MpxUhiqFwawR1k7UqTcyHBcjwxy8Cw',\n",
       "  'gps_coordinates': {'latitude': -33.86599699, 'longitude': 151.2061644}},\n",
       " 'local_results': {'places': [{'position': 1,\n",
       "    'rating': 4.7,\n",
       "    'reviews': 1900,\n",
       "    'reviews_original': '(1.9K)',\n",
       "    'price': '$$$',\n",
       "    'description': '\"The steaks were cooked to perfection, tender, and bursting with flavor.\"',\n",
       "    'lsig': 'AB86z5V8l0y0e7iQMkZtiXwTHhdW',\n",
       "    'thumbnail': 'https://serpapi.com/searches/68fd4382874d50ee70778116/images/2c5dc60af2e594eeec02e7366156deb6e663afffef006918892575a32eaae9568ebe5df7c86df0c4.jpeg',\n",
       "    'place_id': '13791265023688233943',\n",
       "    'place_id_search': 'https://serpapi.com/search.json?device=desktop&engine=google&gl=us&google_domain=google.com.au&hl=en&ludocid=13791265023688233943&q=steaks+in+Sydney',\n",
       "    'gps_coordinates': {'latitude': -33.863297, 'longitude': 151.20786},\n",
       "    'title': 'BISTECCA',\n",
       "    'type': 'Steak',\n",
       "    'address': 'Sydney NSW, Australia',\n",
       "    'hours': 'Closed ⋅ Opens 12 PM'},\n",
       "   {'position': 2,\n",
       "    'rating': 4.6,\n",
       "    'reviews': 1200,\n",
       "    'reviews_original': '(1.2K)',\n",
       "    'price': '$$$',\n",
       "    'description': '\"Great service, steak cooked to perfection, and delicious wine and cocktails!\"',\n",
       "    'lsig': 'AB86z5XwKGV_bAJawP7hkp4aFBz8',\n",
       "    'thumbnail': 'https://serpapi.com/searches/68fd4382874d50ee70778116/images/2c5dc60af2e594eeec02e7366156deb675670b7ebed3cbe94132b923537a2d18cd939b3bf13e62e9.jpeg',\n",
       "    'place_id': '8072901867749158458',\n",
       "    'place_id_search': 'https://serpapi.com/search.json?device=desktop&engine=google&gl=us&google_domain=google.com.au&hl=en&ludocid=8072901867749158458&q=steaks+in+Sydney',\n",
       "    'gps_coordinates': {'latitude': -33.86922, 'longitude': 151.21016},\n",
       "    'title': 'The Gidley',\n",
       "    'type': 'Steak',\n",
       "    'address': 'Sydney NSW, Australia',\n",
       "    'hours': 'Closed ⋅ Opens 12 PM'},\n",
       "   {'position': 3,\n",
       "    'rating': 4.1,\n",
       "    'reviews': 2700,\n",
       "    'reviews_original': '(2.7K)',\n",
       "    'price': 'A$20–60',\n",
       "    'description': '\"The meat was cooked perfectly, very tender and flavorful.\"',\n",
       "    'lsig': 'AB86z5VPqWDpqeNcWswQxY3kcHcu',\n",
       "    'thumbnail': 'https://serpapi.com/searches/68fd4382874d50ee70778116/images/2c5dc60af2e594eeec02e7366156deb6f4ccedcd428fac4b2b9d4a5c2cbe53ebd96c2a389568109a.jpeg',\n",
       "    'place_id': '14105451565244101591',\n",
       "    'place_id_search': 'https://serpapi.com/search.json?device=desktop&engine=google&gl=us&google_domain=google.com.au&hl=en&ludocid=14105451565244101591&q=steaks+in+Sydney',\n",
       "    'gps_coordinates': {'latitude': -33.86647, 'longitude': 151.20163},\n",
       "    'title': 'Meat District Co.',\n",
       "    'type': 'Steak',\n",
       "    'address': 'Sydney NSW, Australia',\n",
       "    'hours': 'Closed ⋅ Opens 11:30 AM'}],\n",
       "  'more_locations_link': 'https://www.google.com.au/search?sca_esv=30cc307e8b6ba113&hl=en&gl=us&tbm=lcl&q=steaks+in+Sydney&rflfq=1&num=10&sa=X&ved=2ahUKEwif8qL7p8CQAxVVBEQIHVEmF6YQjGp6BAgyEAE'},\n",
       " 'related_questions': [{'question': 'What cut of steak is Sydney known for?',\n",
       "   'type': 'featured_snippet',\n",
       "   'snippet': 'There are plenty of beef cuts out there, including T-bone and tomahawk steak, but the best steak in Sydney will typically come from one of these cuts: Rib-eye: As the name suggests, rib-eye beef is the part of the cow right next to the ribs, and is cut straight from the centre of the rib.',\n",
       "   'title': 'How to find the best steak in Sydney - The Meat & Wine Co Australia',\n",
       "   'date': 'Feb 27, 2019',\n",
       "   'link': 'https://themeatandwineco.com/blog/how-to-find-the-best-steak-in-sydney/#:~:text=There%20are%20plenty%20of%20beef,the%20centre%20of%20the%20rib.',\n",
       "   'displayed_link': 'https://themeatandwineco.com › blog › how-to-find-the-...',\n",
       "   'source_logo': 'https://serpapi.com/searches/68fd4382874d50ee70778116/images/baff2b9ba6b1213e9769370a644a40e722ea006cd92dea1b64d449f232120c99.png',\n",
       "   'next_page_token': 'eyJvbnMiOiIxMDA0MSIsImZjIjoiRXFFQkNtSkJUR3QwWDNaRllUWm9iM3B1UmxFdGNIVmphR0V0VW1oSk5HOVNYMTk0ZW5sWVQwUndUMTkyV0RaSFJteFdiRk5UU21wNmNrdDJaR2xwT0dSNFNreGpNVU5aVkdkQ1VsUmlVa2xsU2xOYVFXbzJOVkI2Tmt4aFJVMVdkekkzUkRkeFFSSVhaekJRT1dGT0xXdEVUbGRKYTFCSlVEQmplbU56UVc4YUlrRkdUVUZIUjI4M1EydHVTM2RPVXpSYU5tbFVialZmZW1SMk4yeFVha0ZUY0ZFIiwiZmN2IjoiMyIsImVpIjoiZzBQOWFOLWtETldJa1BJUDBjemNzQW8iLCJxYyI6IkNoQnpkR1ZoYTNNZ2FXNGdjM2xrYm1WNUVBQjlja1FLUHciLCJxdWVzdGlvbiI6IldoYXQgY3V0IG9mIHN0ZWFrIGlzIFN5ZG5leSBrbm93biBmb3I/IiwibGsiOiJHaVYzYUdGMElHTjFkQ0J2WmlCemRHVmhheUJwY3lCemVXUnVaWGtnYTI1dmQyNGdabTl5IiwiYnMiOiJjNVhQTVFyQ1FCQUZVR3kzc2d4YnlLQkdDd3N4SGlCWTJna0txY2ZkMVlTc1djaE1XRko0QW51UDRnRThtVkdqaFdoaFBlOV9fb2lOR0NVcE1xaUt3ZTJBMkdBT0djRzYxb1dwSVMtY0wyRG55amk0ZEtPeERQMDNUQjlZTEVVX1NVMXBnQjNzRGNQZU9mM2lSZHNkQi1jcUF0bnpQLUN6Vkt6RThERVFHX1E0RUNpMDF1aDcwNklpTHRGbUdBZW5TUlRLZ2Y5SjhVVkZMdWJMOTRPb2xNWHMwQmdrNE5TQWQ2WFZZNEt0SVc2WHFJeWJ0ZGRqTkpOVC1pX1c3ZHdBIiwiaWQiOiJmY19nMFA5YU4ta0ROV0lrUElQMGN6Y3NBb181In0=',\n",
       "   'serpapi_link': 'https://serpapi.com/search.json?device=desktop&engine=google_related_questions&google_domain=google.com&next_page_token=eyJvbnMiOiIxMDA0MSIsImZjIjoiRXFFQkNtSkJUR3QwWDNaRllUWm9iM3B1UmxFdGNIVmphR0V0VW1oSk5HOVNYMTk0ZW5sWVQwUndUMTkyV0RaSFJteFdiRk5UU21wNmNrdDJaR2xwT0dSNFNreGpNVU5aVkdkQ1VsUmlVa2xsU2xOYVFXbzJOVkI2Tmt4aFJVMVdkekkzUkRkeFFSSVhaekJRT1dGT0xXdEVUbGRKYTFCSlVEQmplbU56UVc4YUlrRkdUVUZIUjI4M1EydHVTM2RPVXpSYU5tbFVialZmZW1SMk4yeFVha0ZUY0ZFIiwiZmN2IjoiMyIsImVpIjoiZzBQOWFOLWtETldJa1BJUDBjemNzQW8iLCJxYyI6IkNoQnpkR1ZoYTNNZ2FXNGdjM2xrYm1WNUVBQjlja1FLUHciLCJxdWVzdGlvbiI6IldoYXQgY3V0IG9mIHN0ZWFrIGlzIFN5ZG5leSBrbm93biBmb3I%2FIiwibGsiOiJHaVYzYUdGMElHTjFkQ0J2WmlCemRHVmhheUJwY3lCemVXUnVaWGtnYTI1dmQyNGdabTl5IiwiYnMiOiJjNVhQTVFyQ1FCQUZVR3kzc2d4YnlLQkdDd3N4SGlCWTJna0txY2ZkMVlTc1djaE1XRko0QW51UDRnRThtVkdqaFdoaFBlOV9fb2lOR0NVcE1xaUt3ZTJBMkdBT0djRzYxb1dwSVMtY0wyRG55amk0ZEtPeERQMDNUQjlZTEVVX1NVMXBnQjNzRGNQZU9mM2lSZHNkQi1jcUF0bnpQLUN6Vkt6RThERVFHX1E0RUNpMDF1aDcwNklpTHRGbUdBZW5TUlRLZ2Y5SjhVVkZMdWJMOTRPb2xNWHMwQmdrNE5TQWQ2WFZZNEt0SVc2WHFJeWJ0ZGRqTkpOVC1pX1c3ZHdBIiwiaWQiOiJmY19nMFA5YU4ta0ROV0lrUElQMGN6Y3NBb181In0%3D'},\n",
       "  {'question': 'Where to get good steak in Sydney?',\n",
       "   'type': 'featured_snippet',\n",
       "   'title': 'Steakhouses in Sydney',\n",
       "   'link': 'https://www.tripadvisor.com.au/Restaurants-g255060-c37-Sydney_New_South_Wales.html',\n",
       "   'list': ['6HEAD Sydney. 4.5. (233 reviews) ... ',\n",
       "    'Chophouse Sydney. 4.2. (583 reviews) ... ',\n",
       "    'Kingsleys Australian Steakhouse. 4.1. (458 reviews) ... ',\n",
       "    'Steersons Steakhouse. 4.2. (372 reviews) ... ',\n",
       "    'Black Bar & Grill. 4.2. (794 reviews) ... ',\n",
       "    \"I'm Angus Steakhouse. 3.8. (1,142 reviews) ... \",\n",
       "    'Bistecca. 4.4. (136 reviews) ... ',\n",
       "    'The Meat & Wine Co Barangaroo. 4.0.'],\n",
       "   'displayed_link': 'https://www.tripadvisor.com.au › Restaurants-g255060-c...',\n",
       "   'source_logo': 'https://serpapi.com/searches/68fd4382874d50ee70778116/images/baff2b9ba6b1213e9769370a644a40e71dc446a0435b088335b1fc7ae339137f.png',\n",
       "   'next_page_token': 'eyJvbnMiOiIxMDA0MSIsImZjIjoiRXFFQkNtSkJUR3QwWDNaRllUWm9iM3B1UmxFdGNIVmphR0V0VW1oSk5HOVNYMTk0ZW5sWVQwUndUMTkyV0RaSFJteFdiRk5UU21wNmNrdDJaR2xwT0dSNFNreGpNVU5aVkdkQ1VsUmlVa2xsU2xOYVFXbzJOVkI2Tmt4aFJVMVdkekkzUkRkeFFSSVhaekJRT1dGT0xXdEVUbGRKYTFCSlVEQmplbU56UVc4YUlrRkdUVUZIUjI4M1EydHVTM2RPVXpSYU5tbFVialZmZW1SMk4yeFVha0ZUY0ZFIiwiZmN2IjoiMyIsImVpIjoiZzBQOWFOLWtETldJa1BJUDBjemNzQW8iLCJxYyI6IkNoQnpkR1ZoYTNNZ2FXNGdjM2xrYm1WNUVBQjlja1FLUHciLCJxdWVzdGlvbiI6IldoZXJlIHRvIGdldCBnb29kIHN0ZWFrIGluIFN5ZG5leT8iLCJsayI6IkdoNTNhR1Z5WlNCMGJ5Qm5aWFFnWjI5dlpDQnpkR1ZoYXlCemVXUnVaWGsiLCJicyI6ImM1WFBNUXJDUUJBRlVHeTNzZ3hieUtCR0N3c3hIaUJZMmdrS3FjZmQxWVNzV2NoTVdGSjRBbnVQNGdFOG1WR2poV2hoUGU5X19vaU5HQ1VwTXFpS3dlMkEyR0FPR2NHNjFvV3BJUy1jTDJEbnlqaTRkS094RFAwM1RCOVlMRVVfU1UxcGdCM3NEY1BlT2YzaVJkc2RCLWNxQXRuelAtQ3pWS3pFOERFUUdfUTRFQ2kwMXVoNzA2SWlMdEZtR0FlblNSVEtnZjlKOFVWRkx1Ykw5NE9vbE1YczBCZ2s0TlNBZDZYVlk0S3RJVzZYcUl5YnRkZGpOSk5ULWlfVzdkd0EiLCJpZCI6ImZjX2cwUDlhTi1rRE5XSWtQSVAwY3pjc0FvXzUifQ==',\n",
       "   'serpapi_link': 'https://serpapi.com/search.json?device=desktop&engine=google_related_questions&google_domain=google.com&next_page_token=eyJvbnMiOiIxMDA0MSIsImZjIjoiRXFFQkNtSkJUR3QwWDNaRllUWm9iM3B1UmxFdGNIVmphR0V0VW1oSk5HOVNYMTk0ZW5sWVQwUndUMTkyV0RaSFJteFdiRk5UU21wNmNrdDJaR2xwT0dSNFNreGpNVU5aVkdkQ1VsUmlVa2xsU2xOYVFXbzJOVkI2Tmt4aFJVMVdkekkzUkRkeFFSSVhaekJRT1dGT0xXdEVUbGRKYTFCSlVEQmplbU56UVc4YUlrRkdUVUZIUjI4M1EydHVTM2RPVXpSYU5tbFVialZmZW1SMk4yeFVha0ZUY0ZFIiwiZmN2IjoiMyIsImVpIjoiZzBQOWFOLWtETldJa1BJUDBjemNzQW8iLCJxYyI6IkNoQnpkR1ZoYTNNZ2FXNGdjM2xrYm1WNUVBQjlja1FLUHciLCJxdWVzdGlvbiI6IldoZXJlIHRvIGdldCBnb29kIHN0ZWFrIGluIFN5ZG5leT8iLCJsayI6IkdoNTNhR1Z5WlNCMGJ5Qm5aWFFnWjI5dlpDQnpkR1ZoYXlCemVXUnVaWGsiLCJicyI6ImM1WFBNUXJDUUJBRlVHeTNzZ3hieUtCR0N3c3hIaUJZMmdrS3FjZmQxWVNzV2NoTVdGSjRBbnVQNGdFOG1WR2poV2hoUGU5X19vaU5HQ1VwTXFpS3dlMkEyR0FPR2NHNjFvV3BJUy1jTDJEbnlqaTRkS094RFAwM1RCOVlMRVVfU1UxcGdCM3NEY1BlT2YzaVJkc2RCLWNxQXRuelAtQ3pWS3pFOERFUUdfUTRFQ2kwMXVoNzA2SWlMdEZtR0FlblNSVEtnZjlKOFVWRkx1Ykw5NE9vbE1YczBCZ2s0TlNBZDZYVlk0S3RJVzZYcUl5YnRkZGpOSk5ULWlfVzdkd0EiLCJpZCI6ImZjX2cwUDlhTi1rRE5XSWtQSVAwY3pjc0FvXzUifQ%3D%3D'},\n",
       "  {'question': 'What are steaks called in Australia?',\n",
       "   'type': 'featured_snippet',\n",
       "   'snippet': 'Cuts of Beef - Oz vs. USA translation',\n",
       "   'table': [['Aussie name(s)', 'US name(s)'],\n",
       "    ['Sirloin, Porterhouse', '(New York or Kansas City) Strip'],\n",
       "    ['Scotch Fillet', 'Ribeye'],\n",
       "    ['Eye Fillet', 'Tenderloin, Filet Mignon'],\n",
       "    ['T-Bone', 'T-Bone / Porterhouse']],\n",
       "   'formatted': [{'aussie_name_s': 'Sirloin, Porterhouse',\n",
       "     'us_name_s': '(New York or Kansas City) Strip'},\n",
       "    {'aussie_name_s': 'Scotch Fillet', 'us_name_s': 'Ribeye'},\n",
       "    {'aussie_name_s': 'Eye Fillet', 'us_name_s': 'Tenderloin, Filet Mignon'},\n",
       "    {'aussie_name_s': 'T-Bone', 'us_name_s': 'T-Bone / Porterhouse'}],\n",
       "   'title': 'Cuts of Beef - Oz vs. USA translation : r/newcastle - Reddit',\n",
       "   'link': 'https://www.reddit.com/r/newcastle/comments/dp1yjd/cuts_of_beef_oz_vs_usa_translation/',\n",
       "   'displayed_link': 'https://www.reddit.com › newcastle › comments › cuts_o...',\n",
       "   'source_logo': 'https://serpapi.com/searches/68fd4382874d50ee70778116/images/baff2b9ba6b1213e9769370a644a40e7b1fea22aa8088fc79a6213384b70f060.png',\n",
       "   'next_page_token': 'eyJvbnMiOiIxMDA0MSIsImZjIjoiRXFFQkNtSkJUR3QwWDNaRllUWm9iM3B1UmxFdGNIVmphR0V0VW1oSk5HOVNYMTk0ZW5sWVQwUndUMTkyV0RaSFJteFdiRk5UU21wNmNrdDJaR2xwT0dSNFNreGpNVU5aVkdkQ1VsUmlVa2xsU2xOYVFXbzJOVkI2Tmt4aFJVMVdkekkzUkRkeFFSSVhaekJRT1dGT0xXdEVUbGRKYTFCSlVEQmplbU56UVc4YUlrRkdUVUZIUjI4M1EydHVTM2RPVXpSYU5tbFVialZmZW1SMk4yeFVha0ZUY0ZFIiwiZmN2IjoiMyIsImVpIjoiZzBQOWFOLWtETldJa1BJUDBjemNzQW8iLCJxYyI6IkNoQnpkR1ZoYTNNZ2FXNGdjM2xrYm1WNUVBQjlja1FLUHciLCJxdWVzdGlvbiI6IldoYXQgYXJlIHN0ZWFrcyBjYWxsZWQgaW4gQXVzdHJhbGlhPyIsImxrIjoiR2lOM2FHRjBJR0Z5WlNCemRHVmhhM01nWTJGc2JHVmtJR2x1SUdGMWMzUnlZV3hwWVEiLCJicyI6ImM1WFBNUXJDUUJBRlVHeTNzZ3hieUtCR0N3c3hIaUJZMmdrS3FjZmQxWVNzV2NoTVdGSjRBbnVQNGdFOG1WR2poV2hoUGU5X19vaU5HQ1VwTXFpS3dlMkEyR0FPR2NHNjFvV3BJUy1jTDJEbnlqaTRkS094RFAwM1RCOVlMRVVfU1UxcGdCM3NEY1BlT2YzaVJkc2RCLWNxQXRuelAtQ3pWS3pFOERFUUdfUTRFQ2kwMXVoNzA2SWlMdEZtR0FlblNSVEtnZjlKOFVWRkx1Ykw5NE9vbE1YczBCZ2s0TlNBZDZYVlk0S3RJVzZYcUl5YnRkZGpOSk5ULWlfVzdkd0EiLCJpZCI6ImZjX2cwUDlhTi1rRE5XSWtQSVAwY3pjc0FvXzUifQ==',\n",
       "   'serpapi_link': 'https://serpapi.com/search.json?device=desktop&engine=google_related_questions&google_domain=google.com&next_page_token=eyJvbnMiOiIxMDA0MSIsImZjIjoiRXFFQkNtSkJUR3QwWDNaRllUWm9iM3B1UmxFdGNIVmphR0V0VW1oSk5HOVNYMTk0ZW5sWVQwUndUMTkyV0RaSFJteFdiRk5UU21wNmNrdDJaR2xwT0dSNFNreGpNVU5aVkdkQ1VsUmlVa2xsU2xOYVFXbzJOVkI2Tmt4aFJVMVdkekkzUkRkeFFSSVhaekJRT1dGT0xXdEVUbGRKYTFCSlVEQmplbU56UVc4YUlrRkdUVUZIUjI4M1EydHVTM2RPVXpSYU5tbFVialZmZW1SMk4yeFVha0ZUY0ZFIiwiZmN2IjoiMyIsImVpIjoiZzBQOWFOLWtETldJa1BJUDBjemNzQW8iLCJxYyI6IkNoQnpkR1ZoYTNNZ2FXNGdjM2xrYm1WNUVBQjlja1FLUHciLCJxdWVzdGlvbiI6IldoYXQgYXJlIHN0ZWFrcyBjYWxsZWQgaW4gQXVzdHJhbGlhPyIsImxrIjoiR2lOM2FHRjBJR0Z5WlNCemRHVmhhM01nWTJGc2JHVmtJR2x1SUdGMWMzUnlZV3hwWVEiLCJicyI6ImM1WFBNUXJDUUJBRlVHeTNzZ3hieUtCR0N3c3hIaUJZMmdrS3FjZmQxWVNzV2NoTVdGSjRBbnVQNGdFOG1WR2poV2hoUGU5X19vaU5HQ1VwTXFpS3dlMkEyR0FPR2NHNjFvV3BJUy1jTDJEbnlqaTRkS094RFAwM1RCOVlMRVVfU1UxcGdCM3NEY1BlT2YzaVJkc2RCLWNxQXRuelAtQ3pWS3pFOERFUUdfUTRFQ2kwMXVoNzA2SWlMdEZtR0FlblNSVEtnZjlKOFVWRkx1Ykw5NE9vbE1YczBCZ2s0TlNBZDZYVlk0S3RJVzZYcUl5YnRkZGpOSk5ULWlfVzdkd0EiLCJpZCI6ImZjX2cwUDlhTi1rRE5XSWtQSVAwY3pjc0FvXzUifQ%3D%3D'},\n",
       "  {'question': \"Is Sydney acclaimed as the world's best steak city?\",\n",
       "   'type': 'featured_snippet',\n",
       "   'snippet': \"Sydney was recognised earlier this year as the 2025 World's Best Steak City; a title earned through the city's remarkable representation on the prestigious World's 101 Best Steak Restaurants list.\",\n",
       "   'title': \"Sydney's world-famous steak scene celebrated in new Rare Medium ...\",\n",
       "   'date': 'Aug 15, 2025',\n",
       "   'link': 'https://www.mla.com.au/news-and-events/industry-news/sydneys-world-famous-steak-scene-celebrated-in-new-rare-medium-episode--powered-by-australian-beef/#:~:text=Sydney%20was%20recognised%20earlier%20this,101%20Best%20Steak%20Restaurants%20list.',\n",
       "   'displayed_link': 'https://www.mla.com.au › industry-news › sydneys-worl...',\n",
       "   'source_logo': 'https://serpapi.com/searches/68fd4382874d50ee70778116/images/baff2b9ba6b1213e9769370a644a40e74caea16bcb5e26073209b38fa5a74351.png',\n",
       "   'next_page_token': 'eyJvbnMiOiIxMDA0MSIsImZjIjoiRXFFQkNtSkJUR3QwWDNaRllUWm9iM3B1UmxFdGNIVmphR0V0VW1oSk5HOVNYMTk0ZW5sWVQwUndUMTkyV0RaSFJteFdiRk5UU21wNmNrdDJaR2xwT0dSNFNreGpNVU5aVkdkQ1VsUmlVa2xsU2xOYVFXbzJOVkI2Tmt4aFJVMVdkekkzUkRkeFFSSVhaekJRT1dGT0xXdEVUbGRKYTFCSlVEQmplbU56UVc4YUlrRkdUVUZIUjI4M1EydHVTM2RPVXpSYU5tbFVialZmZW1SMk4yeFVha0ZUY0ZFIiwiZmN2IjoiMyIsImVpIjoiZzBQOWFOLWtETldJa1BJUDBjemNzQW8iLCJxYyI6IkNoQnpkR1ZoYTNNZ2FXNGdjM2xrYm1WNUVBQjlja1FLUHciLCJxdWVzdGlvbiI6IklzIFN5ZG5leSBhY2NsYWltZWQgYXMgdGhlIHdvcmxkJ3MgYmVzdCBzdGVhayBjaXR5PyIsImxrIjoiR2k5emVXUnVaWGtnWVdOamJHRnBiV1ZrSUdGeklIUm9aU0IzYjNKc1pDZHpJR0psYzNRZ2MzUmxZV3NnWTJsMGVRIiwiYnMiOiJjNVhQTVFyQ1FCQUZVR3kzc2d4YnlLQkdDd3N4SGlCWTJna0txY2ZkMVlTc1djaE1XRko0QW51UDRnRThtVkdqaFdoaFBlOV9fb2lOR0NVcE1xaUt3ZTJBMkdBT0djRzYxb1dwSVMtY0wyRG55amk0ZEtPeERQMDNUQjlZTEVVX1NVMXBnQjNzRGNQZU9mM2lSZHNkQi1jcUF0bnpQLUN6Vkt6RThERVFHX1E0RUNpMDF1aDcwNklpTHRGbUdBZW5TUlRLZ2Y5SjhVVkZMdWJMOTRPb2xNWHMwQmdrNE5TQWQ2WFZZNEt0SVc2WHFJeWJ0ZGRqTkpOVC1pX1c3ZHdBIiwiaWQiOiJmY19nMFA5YU4ta0ROV0lrUElQMGN6Y3NBb181In0=',\n",
       "   'serpapi_link': 'https://serpapi.com/search.json?device=desktop&engine=google_related_questions&google_domain=google.com&next_page_token=eyJvbnMiOiIxMDA0MSIsImZjIjoiRXFFQkNtSkJUR3QwWDNaRllUWm9iM3B1UmxFdGNIVmphR0V0VW1oSk5HOVNYMTk0ZW5sWVQwUndUMTkyV0RaSFJteFdiRk5UU21wNmNrdDJaR2xwT0dSNFNreGpNVU5aVkdkQ1VsUmlVa2xsU2xOYVFXbzJOVkI2Tmt4aFJVMVdkekkzUkRkeFFSSVhaekJRT1dGT0xXdEVUbGRKYTFCSlVEQmplbU56UVc4YUlrRkdUVUZIUjI4M1EydHVTM2RPVXpSYU5tbFVialZmZW1SMk4yeFVha0ZUY0ZFIiwiZmN2IjoiMyIsImVpIjoiZzBQOWFOLWtETldJa1BJUDBjemNzQW8iLCJxYyI6IkNoQnpkR1ZoYTNNZ2FXNGdjM2xrYm1WNUVBQjlja1FLUHciLCJxdWVzdGlvbiI6IklzIFN5ZG5leSBhY2NsYWltZWQgYXMgdGhlIHdvcmxkJ3MgYmVzdCBzdGVhayBjaXR5PyIsImxrIjoiR2k5emVXUnVaWGtnWVdOamJHRnBiV1ZrSUdGeklIUm9aU0IzYjNKc1pDZHpJR0psYzNRZ2MzUmxZV3NnWTJsMGVRIiwiYnMiOiJjNVhQTVFyQ1FCQUZVR3kzc2d4YnlLQkdDd3N4SGlCWTJna0txY2ZkMVlTc1djaE1XRko0QW51UDRnRThtVkdqaFdoaFBlOV9fb2lOR0NVcE1xaUt3ZTJBMkdBT0djRzYxb1dwSVMtY0wyRG55amk0ZEtPeERQMDNUQjlZTEVVX1NVMXBnQjNzRGNQZU9mM2lSZHNkQi1jcUF0bnpQLUN6Vkt6RThERVFHX1E0RUNpMDF1aDcwNklpTHRGbUdBZW5TUlRLZ2Y5SjhVVkZMdWJMOTRPb2xNWHMwQmdrNE5TQWQ2WFZZNEt0SVc2WHFJeWJ0ZGRqTkpOVC1pX1c3ZHdBIiwiaWQiOiJmY19nMFA5YU4ta0ROV0lrUElQMGN6Y3NBb181In0%3D'}],\n",
       " 'organic_results': [{'position': 1,\n",
       "   'title': 'Best Steak in Sydney? : r/foodies_sydney',\n",
       "   'link': 'https://www.reddit.com/r/foodies_sydney/comments/1fpgzc6/best_steak_in_sydney/',\n",
       "   'redirect_link': 'https://www.google.com.au/url?sa=t&source=web&rct=j&opi=89978449&url=https://www.reddit.com/r/foodies_sydney/comments/1fpgzc6/best_steak_in_sydney/&ved=2ahUKEwif8qL7p8CQAxVVBEQIHVEmF6YQFnoECCUQAQ',\n",
       "   'displayed_link': '70+ comments · 1 year ago',\n",
       "   'favicon': 'https://serpapi.com/searches/68fd4382874d50ee70778116/images/ca94df67fde69a55731612d8d35b27040ab16e05ff15f9db80b531982dbf50b2.png',\n",
       "   'snippet': \"For a steak enthusiast I don't think you can go wrong with The Gidley , Bistecca , or Firedoor .\",\n",
       "   'snippet_highlighted_words': ['The Gidley'],\n",
       "   'sitelinks': {'list': [{'title': \"Steakhouse in CBD/Redfern that won't break the bank?\",\n",
       "      'link': 'https://www.reddit.com/r/foodies_sydney/comments/1b8j3lo/steakhouse_in_cbdredfern_that_wont_break_the_bank/',\n",
       "      'answer_count': 29,\n",
       "      'date': 'Mar 7, 2024'},\n",
       "     {'title': 'Amazing Casual Steak Restaurant : r/foodies_sydney',\n",
       "      'link': 'https://www.reddit.com/r/foodies_sydney/comments/1h4fm05/amazing_casual_steak_restaurant/',\n",
       "      'answer_count': 33,\n",
       "      'date': 'Dec 1, 2024'}]},\n",
       "   'source': 'Reddit · r/foodies_sydney'},\n",
       "  {'position': 2,\n",
       "   'title': 'THE 10 BEST Steakhouses in Sydney (Updated 2025)',\n",
       "   'link': 'https://www.tripadvisor.com/Restaurants-g255060-c37-Sydney_New_South_Wales.html',\n",
       "   'redirect_link': 'https://www.google.com.au/url?sa=t&source=web&rct=j&opi=89978449&url=https://www.tripadvisor.com/Restaurants-g255060-c37-Sydney_New_South_Wales.html&ved=2ahUKEwif8qL7p8CQAxVVBEQIHVEmF6YQFnoECCEQAQ',\n",
       "   'displayed_link': 'https://www.tripadvisor.com › ... › Sydney Restaurants',\n",
       "   'thumbnail': 'https://serpapi.com/searches/68fd4382874d50ee70778116/images/ca94df67fde69a55731612d8d35b2704ac6c7ee675efab0472da2f7342c0fe1f.jpeg',\n",
       "   'favicon': 'https://serpapi.com/searches/68fd4382874d50ee70778116/images/ca94df67fde69a55731612d8d35b2704b85cc8fd1ae06b79555980a231bbefb7.png',\n",
       "   'snippet': '1. 6HEAD Sydney. 4.5. (233 reviews) · 2. Chophouse Sydney. 4.2. (583 reviews) · 3. Kingsleys Australian Steakhouse. 4.1. (458 reviews) · 4.',\n",
       "   'snippet_highlighted_words': ['6HEAD Sydney'],\n",
       "   'source': 'Tripadvisor'},\n",
       "  {'position': 3,\n",
       "   'title': 'Best steak in Sydney',\n",
       "   'link': 'http://www.steakboyz.com/sydney.html',\n",
       "   'redirect_link': 'https://www.google.com.au/url?sa=t&source=web&rct=j&opi=89978449&url=http://www.steakboyz.com/sydney.html&ved=2ahUKEwif8qL7p8CQAxVVBEQIHVEmF6YQFnoECB4QAQ',\n",
       "   'displayed_link': 'http://www.steakboyz.com › sydney',\n",
       "   'thumbnail': 'https://serpapi.com/searches/68fd4382874d50ee70778116/images/ca94df67fde69a55731612d8d35b2704178c1f2f6d704a7625623a19c2228ac8.jpeg',\n",
       "   'favicon': 'https://serpapi.com/searches/68fd4382874d50ee70778116/images/ca94df67fde69a55731612d8d35b2704e36d6bafce0839b819535619cfe7a0c2.png',\n",
       "   'snippet': \"SYDNEY reviews · Firedoor 7.5 · Hunter and Barrel 5.9 · Teddy Larkin's Seafood & Steakhouse 7.9 · Elements Bar and Grill 8.4 · Fire & Ice 8.1 · BISTECCA 8.3.\",\n",
       "   'snippet_highlighted_words': ['Firedoor 7.5'],\n",
       "   'source': 'SteakBoyz'},\n",
       "  {'position': 4,\n",
       "   'title': 'I Tried the Best Steak in Australia! (I Lost $446)',\n",
       "   'link': 'https://www.youtube.com/watch?v=ArMeTchJxSQ',\n",
       "   'displayed_link': '849.8K+ views · 2 weeks ago',\n",
       "   'thumbnail': 'https://serpapi.com/searches/68fd4382874d50ee70778116/images/ca94df67fde69a55731612d8d35b270408849edd840293f9ef6494558b38827d.jpeg',\n",
       "   'favicon': 'https://serpapi.com/searches/68fd4382874d50ee70778116/images/ca94df67fde69a55731612d8d35b270454c280b19fb813d3d9e0fe587a5dc5ee.png',\n",
       "   'snippet': 'Our mission is to try the most exclusive steakous in Sydney that serves some of the best Australian steaks you can get like this and this.',\n",
       "   'duration': '28:44',\n",
       "   'video_link': 'https://encrypted-vtbn0.gstatic.com/video?q=tbn:ANd9GcQFvcM02JzZfUiu_SeX0xJwkGNSrLBm71K2Jg',\n",
       "   'source': 'YouTube · Mark Wiens'},\n",
       "  {'position': 5,\n",
       "   'title': 'Discover the Most Unique Steakhouse in Sydney',\n",
       "   'link': 'https://www.tiktok.com/@eatingwithtod/video/7502028580449193238?lang=en',\n",
       "   'displayed_link': '1.7M+ views · 5 months ago',\n",
       "   'thumbnail': 'https://encrypted-tbn0.gstatic.com/images?q=tbn:ANd9GcTufqzHys9IBpcjNnlIHUECrJkX90_Z2LI0DilDiyVlbrkq2eBITldXqw&s',\n",
       "   'favicon': 'https://serpapi.com/searches/68fd4382874d50ee70778116/images/ca94df67fde69a55731612d8d35b270498731682bbb2ed32ef7549e6222bee25.png',\n",
       "   'snippet': \"Explore Bistecca, Sydney's standout steakhouse offering exceptional flavors and a memorable dining experience. Perfect for food lovers!\",\n",
       "   'duration': '1:10',\n",
       "   'source': 'TikTok · Eating with Tod'},\n",
       "  {'position': 6,\n",
       "   'title': 'Bistecca - Italian Steak House and Cocktail Bar',\n",
       "   'link': 'https://www.liquidandlarder.com.au/venues/bistecca/',\n",
       "   'redirect_link': 'https://www.google.com.au/url?sa=t&source=web&rct=j&opi=89978449&url=https://www.liquidandlarder.com.au/venues/bistecca/&ved=2ahUKEwif8qL7p8CQAxVVBEQIHVEmF6YQFnoECEAQAQ',\n",
       "   'displayed_link': 'https://www.liquidandlarder.com.au › venues › bistecca',\n",
       "   'thumbnail': 'https://encrypted-tbn0.gstatic.com/images?q=tbn:ANd9GcSd-iVm9i5ToaW4tEMv6NLd3OKS-soR4x5YitBi5FQmudls14X851OC&usqp=CAE&s',\n",
       "   'favicon': 'https://serpapi.com/searches/68fd4382874d50ee70778116/images/ca94df67fde69a55731612d8d35b2704c55d0c204bd8edc0629a030a78e9ea4e.png',\n",
       "   'snippet': \"Bistecca is a classic Italian cocktail bar and steak restaurant located beneath Sydney's CBD that serves one cut of steak, bistecca.\",\n",
       "   'snippet_highlighted_words': ['Bistecca is a classic Italian cocktail bar and steak restaurant'],\n",
       "   'source': 'Liquid & Larder'},\n",
       "  {'position': 7,\n",
       "   'title': 'The best steak restaurants in Sydney right now',\n",
       "   'link': 'https://www.timeout.com/sydney/restaurants/the-best-steaks-in-sydney',\n",
       "   'redirect_link': 'https://www.google.com.au/url?sa=t&source=web&rct=j&opi=89978449&url=https://www.timeout.com/sydney/restaurants/the-best-steaks-in-sydney&ved=2ahUKEwif8qL7p8CQAxVVBEQIHVEmF6YQFnoECEEQAQ',\n",
       "   'displayed_link': 'https://www.timeout.com › sydney › the-best-steaks-in-...',\n",
       "   'thumbnail': 'https://encrypted-tbn0.gstatic.com/images?q=tbn:ANd9GcQgSn2wBCKGF3fT4spB5xuDr7n0tY1S27R4Rnrd6qD01CGb8nNOCy12&usqp=CAE&s',\n",
       "   'favicon': 'https://serpapi.com/searches/68fd4382874d50ee70778116/images/ca94df67fde69a55731612d8d35b27045c27360d6980a7cb04401db5d766bf82.png',\n",
       "   'date': 'Oct 15, 2025',\n",
       "   'snippet': \"From the prime ribs to the charcoal grilled and the extremely dry-aged, we've picked out the best steaks in Sydney.\",\n",
       "   'snippet_highlighted_words': ['best steaks in Sydney'],\n",
       "   'source': 'Time Out'}],\n",
       " 'perspectives': [{'author': 'Mark Wiens',\n",
       "   'author_description': 'Travel & food blogger',\n",
       "   'source': 'YouTube',\n",
       "   'extensions': ['852.3K+ views '],\n",
       "   'thumbnails': ['https://img.youtube.com/vi/ArMeTchJxSQ/hqdefault.jpg'],\n",
       "   'title': 'I Tried the Best Steak in Australia! (I Lost $446)',\n",
       "   'link': 'https://www.youtube.com/watch?v=ArMeTchJxSQ',\n",
       "   'date': '2 weeks ago',\n",
       "   'video': 'https://encrypted-vtbn0.gstatic.com/video?q=tbn:ANd9GcT91d_tVkjc_s2ibEwkWhShP3tITGBE-Qv8tQ'},\n",
       "  {'author': 'manofmany',\n",
       "   'author_description': \"Australian men's lifestyle site\",\n",
       "   'source': 'Facebook',\n",
       "   'extensions': ['8 reactions '],\n",
       "   'thumbnails': ['https://encrypted-tbn0.gstatic.com/images?q=tbn:ANd9GcTx0Mq1gmml2fsaxa1IQh-5pqZS__O-B5Klnvdzsh29BE1U-szcoGIwuJMWmw&usqp=CAI&s'],\n",
       "   'title': 'Forget the salad, this list is all about Sydney’s juiciest steaks. Check it out: https://f.mtr.cool/wjpzggexgx',\n",
       "   'link': 'https://www.facebook.com/manofmany/posts/forget-the-salad-this-list-is-all-about-sydneys-juiciest-steakscheck-it-out-http/1216754797142874/',\n",
       "   'date': '1 month ago'},\n",
       "  {'author': 'foodblogs',\n",
       "   'author_description': 'Social media management',\n",
       "   'source': 'Instagram',\n",
       "   'extensions': ['160+ likes '],\n",
       "   'thumbnails': ['https://encrypted-tbn0.gstatic.com/images?q=tbn:ANd9GcRhRD6EGvE6beRiQs-YhJrta8UqAd4-D7MoIyCc-g0_oz15_4IE8xcD7KXrM-s&usqp=CAI&s=10'],\n",
       "   'title': 'One of Sydney’s best tomahawk steaks, you need to try this juicy 1.4kg beauty cooked to perfection with buttery mushroom sauce 😋 Served as a platter for two, this massive meal from @meatdistrictcosyd will definitely satisfy your appetite! Don’t miss their burgers, fresh salads, and also another highlight dish for us: the slow-roasted pulled beef brisket in Tuscan bread. So good and flavoursome! Save room for desserts like the pistachio dome, to be enjoyed in an elegant venue with stunning Darling Harbour views! Halal options are available 👌 Share this video with your meat lovers mates! 🥩 Follow us for more drool worthy content like this 🤤 📍 Meat District Co. r3/11 Lime St, Sydney NSW 2000 Highly recommend! [ sponsored video ] #sydney #sydneyfood #sydneyeats #meatlovers #tomahawk #tomahawksteak #steak #steakhouse #steaklovers #explore #explorepage #sydneyrestaurant #sydneyfoodie #kingstreetwharf #meat #darlingharbour #meatlover #foodblogs #placestoeat',\n",
       "   'link': 'https://www.instagram.com/reel/DNp4W6_S4_m/',\n",
       "   'date': 'Aug 22, 2025'},\n",
       "  {'author': 'JarrydHayne',\n",
       "   'author_description': 'Australian rugby league footballer',\n",
       "   'source': 'Facebook',\n",
       "   'extensions': ['130+ reactions '],\n",
       "   'thumbnails': ['https://encrypted-tbn0.gstatic.com/images?q=tbn:ANd9GcTYNAYW37Bd6jhL5rdWNozjURaR2zqCrCIW7GR8thwKMJAC_A-ArH2jO2PaBQ&usqp=CAI&s'],\n",
       "   'title': 'Stop it!! Where is the best steak house in Sydney ??',\n",
       "   'link': 'https://www.facebook.com/JarrydHayne/posts/stop-it-where-is-the-best-steak-house-in-sydney-/1368299274664584/',\n",
       "   'date': 'Aug 25, 2025'},\n",
       "  {'author': 'margaretdoublebay',\n",
       "   'source': 'Instagram',\n",
       "   'extensions': ['140+ likes '],\n",
       "   'thumbnails': ['https://encrypted-tbn0.gstatic.com/images?q=tbn:ANd9GcQBBihJLbz6w2sIctn-4PMOqMOAicpYPltZgF2jTeOq6gw_MmCKDbJ8h69fprU&usqp=CAI&s=10'],\n",
       "   'title': \"We are deeply honoured that Margaret has been recognised as the No. 2 World's Best Steak Restaurant and No.1 in Australia, joining 11 Sydney venues on the World's 101 Best Steak Restaurants list. This recognition not only reflects the extraordinary vibrancy of Sydney's dining scene but also stands as a testament to the exceptional quality of Australia's beef industry.\",\n",
       "   'link': 'https://www.instagram.com/reel/DNMtCYyJEaJ/',\n",
       "   'date': 'Aug 10, 2025',\n",
       "   'video': 'https://encrypted-vtbn0.gstatic.com/video?q=tbn:ANd9GcQathQr0hgSKQwlC8HZVC4jSeZiAnLtPd-IuA'}],\n",
       " 'filters': [{'name': 'Steak',\n",
       "   'parameters': {'uds': 'AOm0WdE2fekQnsyfYEw8JPYozOKz0COWjVtqF1U7Nvrh5-vC9W9SlFeeugGDQ5HzU_mS9JT2cKlTZWfKQ5MjninachL0LaCjHnOgKQaAPMYYccyaEMo5wNXjNPRQ0KnuuCWW_hTygKJ1',\n",
       "    'q': 'Restaurant in sydney'},\n",
       "   'link': 'https://www.google.com.au/search?sca_esv=30cc307e8b6ba113&hl=en&gl=us&q=Restaurant+in+sydney&uds=AOm0WdE2fekQnsyfYEw8JPYozOKz0COWjVtqF1U7Nvrh5-vC9W9SlFeeugGDQ5HzU_mS9JT2cKlTZWfKQ5MjninachL0LaCjHnOgKQaAPMYYccyaEMo5wNXjNPRQ0KnuuCWW_hTygKJ1&sa=X&ved=2ahUKEwif8qL7p8CQAxVVBEQIHVEmF6YQkc0JKAB6BAgbEAE&ictx=0',\n",
       "   'serpapi_link': 'https://serpapi.com/search.json?device=desktop&engine=google&gl=us&google_domain=google.com.au&hl=en&q=Restaurant+in+sydney&uds=AOm0WdE2fekQnsyfYEw8JPYozOKz0COWjVtqF1U7Nvrh5-vC9W9SlFeeugGDQ5HzU_mS9JT2cKlTZWfKQ5MjninachL0LaCjHnOgKQaAPMYYccyaEMo5wNXjNPRQ0KnuuCWW_hTygKJ1'},\n",
       "  {'name': 'Open now',\n",
       "   'parameters': {'uds': 'AOm0WdE2fekQnsyfYEw8JPYozOKzpmqF6PG_qZReoThTvSwa4CMJbikUgZ9VvCr_b-mZPwWIJnqM42i3lQB2BZbEMhDsK_iQYR8obTgtJ0kLXoFnm9BocdAarMfIaClhzWN1_vc_scJ1cMBaU0rRdswTWkt2bmvXqzWtnV5jjNHxJsT2O9CqdsvesAIGz4qmze6yyJ36hytSi7cEmvV5YnBktW4RRge1SUUupYSIXSbsQDsaXkPyuh4Szwup0-3BLi0wPvK7samDg-c5N3vsaW7tlLkxfvEqhjKC0twsiQr1WIF2VwXYJ8M',\n",
       "    'q': 'steaks in Sydney open now'},\n",
       "   'link': 'https://www.google.com.au/search?sca_esv=30cc307e8b6ba113&hl=en&gl=us&q=steaks+in+Sydney+open+now&uds=AOm0WdE2fekQnsyfYEw8JPYozOKzpmqF6PG_qZReoThTvSwa4CMJbikUgZ9VvCr_b-mZPwWIJnqM42i3lQB2BZbEMhDsK_iQYR8obTgtJ0kLXoFnm9BocdAarMfIaClhzWN1_vc_scJ1cMBaU0rRdswTWkt2bmvXqzWtnV5jjNHxJsT2O9CqdsvesAIGz4qmze6yyJ36hytSi7cEmvV5YnBktW4RRge1SUUupYSIXSbsQDsaXkPyuh4Szwup0-3BLi0wPvK7samDg-c5N3vsaW7tlLkxfvEqhjKC0twsiQr1WIF2VwXYJ8M&sa=X&ved=2ahUKEwif8qL7p8CQAxVVBEQIHVEmF6YQxKsJKAB6BAgYEAE&ictx=0',\n",
       "   'serpapi_link': 'https://serpapi.com/search.json?device=desktop&engine=google&gl=us&google_domain=google.com.au&hl=en&q=steaks+in+Sydney+open+now&uds=AOm0WdE2fekQnsyfYEw8JPYozOKzpmqF6PG_qZReoThTvSwa4CMJbikUgZ9VvCr_b-mZPwWIJnqM42i3lQB2BZbEMhDsK_iQYR8obTgtJ0kLXoFnm9BocdAarMfIaClhzWN1_vc_scJ1cMBaU0rRdswTWkt2bmvXqzWtnV5jjNHxJsT2O9CqdsvesAIGz4qmze6yyJ36hytSi7cEmvV5YnBktW4RRge1SUUupYSIXSbsQDsaXkPyuh4Szwup0-3BLi0wPvK7samDg-c5N3vsaW7tlLkxfvEqhjKC0twsiQr1WIF2VwXYJ8M'},\n",
       "  {'name': 'Top rated',\n",
       "   'parameters': {'uds': 'AOm0WdE2fekQnsyfYEw8JPYozOKzpmqF6PG_qZReoThTvSwa4CMJbikUgZ9VvCr_b-mZPwWIJnqM42i3lQB2BZbEMhDsK_iQYR8obTgtJ0kLXoFnm9BocdAarMfIaClhzWN1_veYilNgisFJajT6amb140B0dvKZUOd7lmqOP_1lkIBGWz864hlrIl_NAFtutsEb-K9x1hKt7BMD4j8H43Q1m5TR6Gbk3RROQZuq58huaiZsXrONBz0AnN4KK6S9Q-AWdqc-C_lgFW7f4pKyT5JSGgg5Dwk34pr-o2mkus_2HJinqF1oxEY',\n",
       "    'q': 'top rated steaks in Sydney'},\n",
       "   'link': 'https://www.google.com.au/search?sca_esv=30cc307e8b6ba113&hl=en&gl=us&q=top+rated+steaks+in+Sydney&uds=AOm0WdE2fekQnsyfYEw8JPYozOKzpmqF6PG_qZReoThTvSwa4CMJbikUgZ9VvCr_b-mZPwWIJnqM42i3lQB2BZbEMhDsK_iQYR8obTgtJ0kLXoFnm9BocdAarMfIaClhzWN1_veYilNgisFJajT6amb140B0dvKZUOd7lmqOP_1lkIBGWz864hlrIl_NAFtutsEb-K9x1hKt7BMD4j8H43Q1m5TR6Gbk3RROQZuq58huaiZsXrONBz0AnN4KK6S9Q-AWdqc-C_lgFW7f4pKyT5JSGgg5Dwk34pr-o2mkus_2HJinqF1oxEY&sa=X&ved=2ahUKEwif8qL7p8CQAxVVBEQIHVEmF6YQxKsJKAF6BAgcEAE&ictx=0',\n",
       "   'serpapi_link': 'https://serpapi.com/search.json?device=desktop&engine=google&gl=us&google_domain=google.com.au&hl=en&q=top+rated+steaks+in+Sydney&uds=AOm0WdE2fekQnsyfYEw8JPYozOKzpmqF6PG_qZReoThTvSwa4CMJbikUgZ9VvCr_b-mZPwWIJnqM42i3lQB2BZbEMhDsK_iQYR8obTgtJ0kLXoFnm9BocdAarMfIaClhzWN1_veYilNgisFJajT6amb140B0dvKZUOd7lmqOP_1lkIBGWz864hlrIl_NAFtutsEb-K9x1hKt7BMD4j8H43Q1m5TR6Gbk3RROQZuq58huaiZsXrONBz0AnN4KK6S9Q-AWdqc-C_lgFW7f4pKyT5JSGgg5Dwk34pr-o2mkus_2HJinqF1oxEY'},\n",
       "  {'name': 'Cheap',\n",
       "   'parameters': {'uds': 'AOm0WdE2fekQnsyfYEw8JPYozOKzpmqF6PG_qZReoThTvSwa4CMJbikUgZ9VvCr_b-mZPwWIJnqM42i3lQB2BZbEMhDsK_iQYR8obTgtJ0kLXoFnm9BocdAarMfIaClhzWN1_ve6HRRcASRFOlmn8I47hjheaaNr5qbyVyiCqH1SH4tPrM5h0CZOgqVr_LV_V6clnpPkkbg2P4c8ZF_3XYnE8FqHGQbm8I7bUhCjJYRmBoeI0da8lK0I9cA8D5SxMF5TQ4vFXw38SuCUVXo8SPhynWjO0e6lsw',\n",
       "    'q': 'cheap steaks in Sydney'},\n",
       "   'link': 'https://www.google.com.au/search?sca_esv=30cc307e8b6ba113&hl=en&gl=us&q=cheap+steaks+in+Sydney&uds=AOm0WdE2fekQnsyfYEw8JPYozOKzpmqF6PG_qZReoThTvSwa4CMJbikUgZ9VvCr_b-mZPwWIJnqM42i3lQB2BZbEMhDsK_iQYR8obTgtJ0kLXoFnm9BocdAarMfIaClhzWN1_ve6HRRcASRFOlmn8I47hjheaaNr5qbyVyiCqH1SH4tPrM5h0CZOgqVr_LV_V6clnpPkkbg2P4c8ZF_3XYnE8FqHGQbm8I7bUhCjJYRmBoeI0da8lK0I9cA8D5SxMF5TQ4vFXw38SuCUVXo8SPhynWjO0e6lsw&sa=X&ved=2ahUKEwif8qL7p8CQAxVVBEQIHVEmF6YQxKsJKAJ6BAgaEAE&ictx=0',\n",
       "   'serpapi_link': 'https://serpapi.com/search.json?device=desktop&engine=google&gl=us&google_domain=google.com.au&hl=en&q=cheap+steaks+in+Sydney&uds=AOm0WdE2fekQnsyfYEw8JPYozOKzpmqF6PG_qZReoThTvSwa4CMJbikUgZ9VvCr_b-mZPwWIJnqM42i3lQB2BZbEMhDsK_iQYR8obTgtJ0kLXoFnm9BocdAarMfIaClhzWN1_ve6HRRcASRFOlmn8I47hjheaaNr5qbyVyiCqH1SH4tPrM5h0CZOgqVr_LV_V6clnpPkkbg2P4c8ZF_3XYnE8FqHGQbm8I7bUhCjJYRmBoeI0da8lK0I9cA8D5SxMF5TQ4vFXw38SuCUVXo8SPhynWjO0e6lsw'},\n",
       "  {'name': 'Upscale',\n",
       "   'parameters': {'uds': 'AOm0WdE2fekQnsyfYEw8JPYozOKzpmqF6PG_qZReoThTvSwa4CMJbikUgZ9VvCr_b-mZPwWIJnqM42i3lQB2BZbEMhDsK_iQYR8obTgtJ0kLXoFnm9BocdAarMfIaClhzWN1_vfGTs90tyt0MCc-si6ida5AX38EGunP3Vrqq2J86cVIgZMTR_RJKtPtK9eJnNR-jJlJJbcRG_VPe82p-QAxp8e3ORAgkgRFMCBsuWPAKIXK1Q0MiDzzydPjUVSXKwXrR0YGuWdyKOkiP2eOwDlp0pz9xSWtaEx3XfVsidi14AAhKkTTP-w',\n",
       "    'q': 'upscale steaks in Sydney'},\n",
       "   'link': 'https://www.google.com.au/search?sca_esv=30cc307e8b6ba113&hl=en&gl=us&q=upscale+steaks+in+Sydney&uds=AOm0WdE2fekQnsyfYEw8JPYozOKzpmqF6PG_qZReoThTvSwa4CMJbikUgZ9VvCr_b-mZPwWIJnqM42i3lQB2BZbEMhDsK_iQYR8obTgtJ0kLXoFnm9BocdAarMfIaClhzWN1_vfGTs90tyt0MCc-si6ida5AX38EGunP3Vrqq2J86cVIgZMTR_RJKtPtK9eJnNR-jJlJJbcRG_VPe82p-QAxp8e3ORAgkgRFMCBsuWPAKIXK1Q0MiDzzydPjUVSXKwXrR0YGuWdyKOkiP2eOwDlp0pz9xSWtaEx3XfVsidi14AAhKkTTP-w&sa=X&ved=2ahUKEwif8qL7p8CQAxVVBEQIHVEmF6YQxKsJKAN6BAgZEAE&ictx=0',\n",
       "   'serpapi_link': 'https://serpapi.com/search.json?device=desktop&engine=google&gl=us&google_domain=google.com.au&hl=en&q=upscale+steaks+in+Sydney&uds=AOm0WdE2fekQnsyfYEw8JPYozOKzpmqF6PG_qZReoThTvSwa4CMJbikUgZ9VvCr_b-mZPwWIJnqM42i3lQB2BZbEMhDsK_iQYR8obTgtJ0kLXoFnm9BocdAarMfIaClhzWN1_vfGTs90tyt0MCc-si6ida5AX38EGunP3Vrqq2J86cVIgZMTR_RJKtPtK9eJnNR-jJlJJbcRG_VPe82p-QAxp8e3ORAgkgRFMCBsuWPAKIXK1Q0MiDzzydPjUVSXKwXrR0YGuWdyKOkiP2eOwDlp0pz9xSWtaEx3XfVsidi14AAhKkTTP-w'}],\n",
       " 'related_searches': [{'block_position': 1,\n",
       "   'items': [{'name': 'The Gidley',\n",
       "     'image': 'https://encrypted-tbn0.gstatic.com/images?q=tbn:ANd9GcSGkVreMg41NU9zPW6VbCsY8mpQvPoXeBg53nX2&s=0',\n",
       "     'link': 'https://www.google.com.au/search?sca_esv=30cc307e8b6ba113&hl=en&gl=us&q=The+Gidley&stick=H4sIAAAAAAAAAOMwVOLVT9c3NMyINzcuScvL-cXIsIGF4RULPxeqOEIkvay8PM8guxhJJMvQ0tA0rQQhkmycnZxVYWnxioWXixskUlKVXpCckY1QUW6cHp-ek1OFUJFiXJSXZIhQkZdXkmxkkFuAEMmyyMkzMzQ1RoikZRfGJ2Vb5ixi5QrJSFVwz0zJSa28xSbJsHtRx08W1_2GGy2NN24Se7yd_Zf739q0GSsXcYgFpOYX5KQqJOYU5ysUpyYWJWcopOUXreBgBADMNtwzDAEAAA&sa=X&ved=2ahUKEwif8qL7p8CQAxVVBEQIHVEmF6YQs9oBKAB6BAg4EAo',\n",
       "     'serpapi_link': 'https://serpapi.com/search.json?device=desktop&engine=google&gl=us&google_domain=google.com.au&hl=en&q=The+Gidley&stick=H4sIAAAAAAAAAOMwVOLVT9c3NMyINzcuScvL-cXIsIGF4RULPxeqOEIkvay8PM8guxhJJMvQ0tA0rQQhkmycnZxVYWnxioWXixskUlKVXpCckY1QUW6cHp-ek1OFUJFiXJSXZIhQkZdXkmxkkFuAEMmyyMkzMzQ1RoikZRfGJ2Vb5ixi5QrJSFVwz0zJSa28xSbJsHtRx08W1_2GGy2NN24Se7yd_Zf739q0GSsXcYgFpOYX5KQqJOYU5ysUpyYWJWcopOUXreBgBADMNtwzDAEAAA'},\n",
       "    {'name': 'Bopp & Tone',\n",
       "     'image': 'https://encrypted-tbn0.gstatic.com/images?q=tbn:ANd9GcT-y48ceumdfT_oU5NXxuasRK6NpUPkBKPwiGF5MwAyuv0AepvGhJWf&s=0',\n",
       "     'link': 'https://www.google.com.au/search?sca_esv=30cc307e8b6ba113&hl=en&gl=us&q=Bopp+and+Tone&stick=H4sIAAAAAAAAAOMwVOLVT9c3NEwvKy_PM8gu_sXIsIGF4RULPxdEPCPe3LgkLS8HIQJTiSSSZWhpaJpWghBJNs5OzqqwtHjFwsvFDRIpqUovSM7IRqgoN06PT8_JqUKoSDEuyksyRKjIyytJNjLILUCIZFnk5JkZmhojRNKyC-OTsi1zFrHyOuUXFCgk5qUohOTnpd5ik2TYvajjJ4vrfsONlsYbN4k93s7-y_1vbdqMlYs4xAJS8wtyUhUSc4rzFYpTE4uSMxTS8otWcDACAMS0DfMPAQAA&sa=X&ved=2ahUKEwif8qL7p8CQAxVVBEQIHVEmF6YQs9oBKAB6BAg4EA8',\n",
       "     'serpapi_link': 'https://serpapi.com/search.json?device=desktop&engine=google&gl=us&google_domain=google.com.au&hl=en&q=Bopp+and+Tone&stick=H4sIAAAAAAAAAOMwVOLVT9c3NEwvKy_PM8gu_sXIsIGF4RULPxdEPCPe3LgkLS8HIQJTiSSSZWhpaJpWghBJNs5OzqqwtHjFwsvFDRIpqUovSM7IRqgoN06PT8_JqUKoSDEuyksyRKjIyytJNjLILUCIZFnk5JkZmhojRNKyC-OTsi1zFrHyOuUXFCgk5qUohOTnpd5ik2TYvajjJ4vrfsONlsYbN4k93s7-y_1vbdqMlYs4xAJS8wtyUhUSc4rzFYpTE4uSMxTS8otWcDACAMS0DfMPAQAA'},\n",
       "    {'name': 'BISTECCA',\n",
       "     'image': 'https://encrypted-tbn0.gstatic.com/images?q=tbn:ANd9GcQ79vQMN7i3LaoPegYp3Wa3xnbRYCSaHBBAcojN0AWX4gV5D6KJO71t&s=0',\n",
       "     'link': 'https://www.google.com.au/search?sca_esv=30cc307e8b6ba113&hl=en&gl=us&q=BISTECCA&stick=H4sIAAAAAAAAAOMwVOLVT9c3NEzPMrQ0NE0r-cXIsIGF4RULPxdEPCPe3LgkLS8HIZJeVl6eZ5BdjCQC1YsQSTbOTs6qsLR4xcLLxQ0SKalKL0jOyEaoKDdOj0_PyalCqEgxLspLMkSoyMsrSTYyyC1AiGRZ5OSZGZoaI0TSsgvjk7Itcxaxcjh5Boe4Ojs73mKTZNi9qOMni-t-w42Wxhs3iT3ezv7L_W9t2oyVizjEAlLzC3JSFRJzivMVilMTi5IzFNLyi1ZwMAIA4GY-0AoBAAA&sa=X&ved=2ahUKEwif8qL7p8CQAxVVBEQIHVEmF6YQs9oBKAB6BAg4EBQ',\n",
       "     'serpapi_link': 'https://serpapi.com/search.json?device=desktop&engine=google&gl=us&google_domain=google.com.au&hl=en&q=BISTECCA&stick=H4sIAAAAAAAAAOMwVOLVT9c3NEzPMrQ0NE0r-cXIsIGF4RULPxdEPCPe3LgkLS8HIZJeVl6eZ5BdjCQC1YsQSTbOTs6qsLR4xcLLxQ0SKalKL0jOyEaoKDdOj0_PyalCqEgxLspLMkSoyMsrSTYyyC1AiGRZ5OSZGZoaI0TSsgvjk7Itcxaxcjh5Boe4Ojs73mKTZNi9qOMni-t-w42Wxhs3iT3ezv7L_W9t2oyVizjEAlLzC3JSFRJzivMVilMTi5IzFNLyi1ZwMAIA4GY-0AoBAAA'},\n",
       "    {'name': 'Firedoor Restaurant',\n",
       "     'image': 'https://encrypted-tbn0.gstatic.com/images?q=tbn:ANd9GcSpJ6HLMh_APBkcY2FJL1udFZBWvCfuAwQFFBXnOD76dw3_WiYbgNBl&s=0',\n",
       "     'link': 'https://www.google.com.au/search?sca_esv=30cc307e8b6ba113&hl=en&gl=us&q=Firedoor+Restaurant&stick=H4sIAAAAAAAAAOMwVOLVT9c3NEw2zk7OqrC0-MXIsIGF4RULPxdEPCPe3LgkLS8HIZJeVl6eZ5BdjCSSZWhpaJpWghCBmfaKhZeLGyRSUpVekJyRjVBRbpwen56TU4VQkWJclJdkiFCRl1eSbGSQW4AQybLIyTMzNDVGiKRlF8YnZVvmLGIVdsssSk3Jzy9SCEotLkksLUrMK7nFJsmwe1HHTxbX_YYbLY03bhJ7vJ39l_vf2rQZKxdxiAWk5hfkpCok5hTnKxSnJhYlZyik5Ret4GAEAIhqUL8VAQAA&sa=X&ved=2ahUKEwif8qL7p8CQAxVVBEQIHVEmF6YQs9oBKAB6BAg4EBk',\n",
       "     'serpapi_link': 'https://serpapi.com/search.json?device=desktop&engine=google&gl=us&google_domain=google.com.au&hl=en&q=Firedoor+Restaurant&stick=H4sIAAAAAAAAAOMwVOLVT9c3NEw2zk7OqrC0-MXIsIGF4RULPxdEPCPe3LgkLS8HIZJeVl6eZ5BdjCSSZWhpaJpWghCBmfaKhZeLGyRSUpVekJyRjVBRbpwen56TU4VQkWJclJdkiFCRl1eSbGSQW4AQybLIyTMzNDVGiKRlF8YnZVvmLGIVdsssSk3Jzy9SCEotLkksLUrMK7nFJsmwe1HHTxbX_YYbLY03bhJ7vJ39l_vf2rQZKxdxiAWk5hfkpCok5hTnKxSnJhYlZyik5Ret4GAEAIhqUL8VAQAA'},\n",
       "    {'name': 'Chophouse Sydney',\n",
       "     'image': 'https://encrypted-tbn0.gstatic.com/images?q=tbn:ANd9GcQvRzz7T6gbJGK-kzoXAvBnhgBTAgDY3sIIpmtK&s=0',\n",
       "     'link': 'https://www.google.com.au/search?sca_esv=30cc307e8b6ba113&hl=en&gl=us&q=Chophouse+Sydney&stick=H4sIAAAAAAAAAOMwVOLWT9c3LKlKL0jOyP7FyLCBheEVCz8XL0jUMCPe3LgkLS8HIZJeVl6eZ5BdjCSSZWhpaJpWghBJNs5OzqqwtHjFwsuFbDpCRblxenx6Tk4VQkWKcVFekiFCRV5eSbKRQW4BQiTLIifPzNDUGCGSll0Yn5RtmbOIVcA5I78gI7-0OFUhuDIlL7XyFpskw-5FHT9ZXPcbbrQ03rhJ7PF29l_uf2vTZqxcxCEWkJpfkJOqkJhTnK9QnJpYlJyhkJZftIKDEQCBmIJ0EAEAAA&sa=X&ved=2ahUKEwif8qL7p8CQAxVVBEQIHVEmF6YQs9oBKAB6BAg4EB4',\n",
       "     'serpapi_link': 'https://serpapi.com/search.json?device=desktop&engine=google&gl=us&google_domain=google.com.au&hl=en&q=Chophouse+Sydney&stick=H4sIAAAAAAAAAOMwVOLWT9c3LKlKL0jOyP7FyLCBheEVCz8XL0jUMCPe3LgkLS8HIZJeVl6eZ5BdjCSSZWhpaJpWghBJNs5OzqqwtHjFwsuFbDpCRblxenx6Tk4VQkWKcVFekiFCRV5eSbKRQW4BQiTLIifPzNDUGCGSll0Yn5RtmbOIVcA5I78gI7-0OFUhuDIlL7XyFpskw-5FHT9ZXPcbbrQ03rhJ7PF29l_uf2vTZqxcxCEWkJpfkJOqkJhTnK9QnJpYlJyhkJZftIKDEQCBmIJ0EAEAAA'},\n",
       "    {'name': '20 Chapel',\n",
       "     'image': 'https://encrypted-tbn0.gstatic.com/images?q=tbn:ANd9GcRo5j9eL5EZdY77m8C4LokFHQKYL2HKbPGsKHwRSRN1kwyWafONcC34&s=0',\n",
       "     'link': 'https://www.google.com.au/search?sca_esv=30cc307e8b6ba113&hl=en&gl=us&q=20+Chapel&stick=H4sIAAAAAAAAAOMwVOLVT9c3NCw3To9Pz8mp-sXIsIGF4RULPxdEPCPe3LgkLS8HIZJeVl6eZ5BdjCSSZWhpaJpWghBJNs5OzqqwtHjFwsvFDRIpqUovSM7IRqiA2YdQkWJclJdkiFCRl1eSbGSQW4AQybLIyTMzNDVGiKRlF8YnZVvmLGLlNDJQcM5ILEjNucUmybB7UcdPFtf9hhstjTduEnu8nf2X-9_atBkrF3GIBaTmF-SkKiTmFOcrFKcmFiVnKKTlF63gYAQA1Cp7MwsBAAA&sa=X&ved=2ahUKEwif8qL7p8CQAxVVBEQIHVEmF6YQs9oBKAB6BAg4ECM',\n",
       "     'serpapi_link': 'https://serpapi.com/search.json?device=desktop&engine=google&gl=us&google_domain=google.com.au&hl=en&q=20+Chapel&stick=H4sIAAAAAAAAAOMwVOLVT9c3NCw3To9Pz8mp-sXIsIGF4RULPxdEPCPe3LgkLS8HIZJeVl6eZ5BdjCSSZWhpaJpWghBJNs5OzqqwtHjFwsvFDRIpqUovSM7IRqiA2YdQkWJclJdkiFCRl1eSbGSQW4AQybLIyTMzNDVGiKRlF8YnZVvmLGLlNDJQcM5ILEjNucUmybB7UcdPFtf9hhstjTduEnu8nf2X-9_atBkrF3GIBaTmF-SkKiTmFOcrFKcmFiVnKKTlF63gYAQA1Cp7MwsBAAA'}]},\n",
       "  {'block_position': 1,\n",
       "   'query': 'Best steaks in sydney',\n",
       "   'link': 'https://www.google.com.au/search?sca_esv=30cc307e8b6ba113&hl=en&gl=us&q=Best+steaks+in+sydney&sa=X&ved=2ahUKEwif8qL7p8CQAxVVBEQIHVEmF6YQ1QJ6BAhiEAE',\n",
       "   'serpapi_link': 'https://serpapi.com/search.json?device=desktop&engine=google&gl=us&google_domain=google.com.au&hl=en&q=Best+steaks+in+sydney'},\n",
       "  {'block_position': 1,\n",
       "   'query': 'Ribeye steaks in sydney',\n",
       "   'link': 'https://www.google.com.au/search?sca_esv=30cc307e8b6ba113&hl=en&gl=us&q=Ribeye+steaks+in+sydney&sa=X&ved=2ahUKEwif8qL7p8CQAxVVBEQIHVEmF6YQ1QJ6BAheEAE',\n",
       "   'serpapi_link': 'https://serpapi.com/search.json?device=desktop&engine=google&gl=us&google_domain=google.com.au&hl=en&q=Ribeye+steaks+in+sydney'},\n",
       "  {'block_position': 1,\n",
       "   'query': 'Cheap steaks in sydney',\n",
       "   'link': 'https://www.google.com.au/search?sca_esv=30cc307e8b6ba113&hl=en&gl=us&q=Cheap+steaks+in+sydney&sa=X&ved=2ahUKEwif8qL7p8CQAxVVBEQIHVEmF6YQ1QJ6BAhfEAE',\n",
       "   'serpapi_link': 'https://serpapi.com/search.json?device=desktop&engine=google&gl=us&google_domain=google.com.au&hl=en&q=Cheap+steaks+in+sydney'},\n",
       "  {'block_position': 1,\n",
       "   'query': 'Best steak in Sydney CBD',\n",
       "   'link': 'https://www.google.com.au/search?sca_esv=30cc307e8b6ba113&hl=en&gl=us&q=Best+steak+in+Sydney+CBD&sa=X&ved=2ahUKEwif8qL7p8CQAxVVBEQIHVEmF6YQ1QJ6BAhgEAE',\n",
       "   'serpapi_link': 'https://serpapi.com/search.json?device=desktop&engine=google&gl=us&google_domain=google.com.au&hl=en&q=Best+steak+in+Sydney+CBD'},\n",
       "  {'block_position': 1,\n",
       "   'query': 'Best steak in Sydney with a view',\n",
       "   'link': 'https://www.google.com.au/search?sca_esv=30cc307e8b6ba113&hl=en&gl=us&q=Best+steak+in+Sydney+with+a+view&sa=X&ved=2ahUKEwif8qL7p8CQAxVVBEQIHVEmF6YQ1QJ6BAhjEAE',\n",
       "   'serpapi_link': 'https://serpapi.com/search.json?device=desktop&engine=google&gl=us&google_domain=google.com.au&hl=en&q=Best+steak+in+Sydney+with+a+view'},\n",
       "  {'block_position': 1,\n",
       "   'query': 'Top 10 steak Restaurants Sydney',\n",
       "   'link': 'https://www.google.com.au/search?sca_esv=30cc307e8b6ba113&hl=en&gl=us&q=Top+10+steak+Restaurants+Sydney&sa=X&ved=2ahUKEwif8qL7p8CQAxVVBEQIHVEmF6YQ1QJ6BAhmEAE',\n",
       "   'serpapi_link': 'https://serpapi.com/search.json?device=desktop&engine=google&gl=us&google_domain=google.com.au&hl=en&q=Top+10+steak+Restaurants+Sydney'},\n",
       "  {'block_position': 1,\n",
       "   'query': 'All you can eat steak Sydney',\n",
       "   'link': 'https://www.google.com.au/search?sca_esv=30cc307e8b6ba113&hl=en&gl=us&q=All+you+can+eat+steak+Sydney&sa=X&ved=2ahUKEwif8qL7p8CQAxVVBEQIHVEmF6YQ1QJ6BAhkEAE',\n",
       "   'serpapi_link': 'https://serpapi.com/search.json?device=desktop&engine=google&gl=us&google_domain=google.com.au&hl=en&q=All+you+can+eat+steak+Sydney'},\n",
       "  {'block_position': 1,\n",
       "   'query': 'Best steak Sydney Reddit',\n",
       "   'link': 'https://www.google.com.au/search?sca_esv=30cc307e8b6ba113&hl=en&gl=us&q=Best+steak+Sydney+Reddit&sa=X&ved=2ahUKEwif8qL7p8CQAxVVBEQIHVEmF6YQ1QJ6BAhhEAE',\n",
       "   'serpapi_link': 'https://serpapi.com/search.json?device=desktop&engine=google&gl=us&google_domain=google.com.au&hl=en&q=Best+steak+Sydney+Reddit'}],\n",
       " 'discussions_and_forums': [{'title': \"Steakhouse in CBD/Redfern that won't break the bank?\",\n",
       "   'link': 'https://www.reddit.com/r/foodies_sydney/comments/1b8j3lo/steakhouse_in_cbdredfern_that_wont_break_the_bank/',\n",
       "   'date': '1 year ago',\n",
       "   'extensions': ['r/foodies_sydney', '20+ comments'],\n",
       "   'source': 'Reddit',\n",
       "   'answers': [{'snippet': 'Alfie’s in the CBD does one cut of steak only and it’s currently priced at $39! They also ...',\n",
       "     'link': 'https://www.reddit.com/r/foodies_sydney/comments/1b8j3lo/steakhouse_in_cbdredfern_that_wont_break_the_bank/ktpkhki/',\n",
       "     'extensions': ['Top answer', '25 votes', 'a year ago']},\n",
       "    {'snippet': 'Not quite those areas but Macelleria in Newtown is a great value-to-quality-ratio steak restaurant. ...',\n",
       "     'link': 'https://www.reddit.com/r/foodies_sydney/comments/1b8j3lo/steakhouse_in_cbdredfern_that_wont_break_the_bank/ktppaxk/',\n",
       "     'extensions': ['17 votes', 'a year ago']},\n",
       "    {'snippet': \"What's wrong with you lot? Gidley, chophouse, bistecca???? OP said WONT break the bank. Im ...\",\n",
       "     'link': 'https://www.reddit.com/r/foodies_sydney/comments/1b8j3lo/steakhouse_in_cbdredfern_that_wont_break_the_bank/ktr2yzb/',\n",
       "     'extensions': ['13 votes', 'a year ago']}]},\n",
       "  {'title': 'Steak Restaurant - Sydney Forum',\n",
       "   'link': 'https://www.tripadvisor.com/ShowTopic-g255060-i122-k14614409-Steak_Restaurant-Sydney_New_South_Wales.html',\n",
       "   'date': '1 year ago',\n",
       "   'source': 'Tripadvisor',\n",
       "   'answers': [{'snippet': \"I'd say Kingsleys for steak. Haven't been to Glenmore in years, but definitely recommend Lord Nelson for their beers, and Australian Heritage Hotel for their ...\",\n",
       "     'link': 'https://www.tripadvisor.com/ShowTopic-g255060-i122-k14614409-Steak_Restaurant-Sydney_New_South_Wales.html'}]},\n",
       "  {'title': 'Sydney steakhouse / restaurants - Sydney Forum',\n",
       "   'link': 'https://www.tripadvisor.co.nz/ShowTopic-g255060-i122-k14764192-Sydney_steakhouse_restaurants-Sydney_New_South_Wales.html',\n",
       "   'date': '1 year ago',\n",
       "   'source': 'Tripadvisor',\n",
       "   'answers': [{'snippet': \"Answer 1 of 7: Hi to all foodies and steak lovers out here. I am trying to book restaurants / steakhouse for me and my wife's upcoming trip.\",\n",
       "     'link': 'https://www.tripadvisor.co.nz/ShowTopic-g255060-i122-k14764192-Sydney_steakhouse_restaurants-Sydney_New_South_Wales.html'}]}],\n",
       " 'pagination': {'current': 1,\n",
       "  'next': 'https://www.google.com.au/search?q=steaks+in+Sydney&sca_esv=30cc307e8b6ba113&hl=en&gl=us&ei=g0P9aN-kDNWIkPIP0czcsAo&start=10&sa=N&sstk=Af77f_e3_kOGf9BKlzkc8HMfHXNrSxmzBOZYbQ-ZfLYc5rJOwahZ1h637qH4mqcuvqdoXxzdDwq9TVAxN-zJ6K72V6TcnKOu8-TSYA&ved=2ahUKEwif8qL7p8CQAxVVBEQIHVEmF6YQ8NMDegQICRAW',\n",
       "  'other_pages': {'2': 'https://www.google.com.au/search?q=steaks+in+Sydney&sca_esv=30cc307e8b6ba113&hl=en&gl=us&ei=g0P9aN-kDNWIkPIP0czcsAo&start=10&sa=N&sstk=Af77f_e3_kOGf9BKlzkc8HMfHXNrSxmzBOZYbQ-ZfLYc5rJOwahZ1h637qH4mqcuvqdoXxzdDwq9TVAxN-zJ6K72V6TcnKOu8-TSYA&ved=2ahUKEwif8qL7p8CQAxVVBEQIHVEmF6YQ8tMDegQICRAE',\n",
       "   '3': 'https://www.google.com.au/search?q=steaks+in+Sydney&sca_esv=30cc307e8b6ba113&hl=en&gl=us&ei=g0P9aN-kDNWIkPIP0czcsAo&start=20&sa=N&sstk=Af77f_e3_kOGf9BKlzkc8HMfHXNrSxmzBOZYbQ-ZfLYc5rJOwahZ1h637qH4mqcuvqdoXxzdDwq9TVAxN-zJ6K72V6TcnKOu8-TSYA&ved=2ahUKEwif8qL7p8CQAxVVBEQIHVEmF6YQ8tMDegQICRAG',\n",
       "   '4': 'https://www.google.com.au/search?q=steaks+in+Sydney&sca_esv=30cc307e8b6ba113&hl=en&gl=us&ei=g0P9aN-kDNWIkPIP0czcsAo&start=30&sa=N&sstk=Af77f_e3_kOGf9BKlzkc8HMfHXNrSxmzBOZYbQ-ZfLYc5rJOwahZ1h637qH4mqcuvqdoXxzdDwq9TVAxN-zJ6K72V6TcnKOu8-TSYA&ved=2ahUKEwif8qL7p8CQAxVVBEQIHVEmF6YQ8tMDegQICRAI',\n",
       "   '5': 'https://www.google.com.au/search?q=steaks+in+Sydney&sca_esv=30cc307e8b6ba113&hl=en&gl=us&ei=g0P9aN-kDNWIkPIP0czcsAo&start=40&sa=N&sstk=Af77f_e3_kOGf9BKlzkc8HMfHXNrSxmzBOZYbQ-ZfLYc5rJOwahZ1h637qH4mqcuvqdoXxzdDwq9TVAxN-zJ6K72V6TcnKOu8-TSYA&ved=2ahUKEwif8qL7p8CQAxVVBEQIHVEmF6YQ8tMDegQICRAK',\n",
       "   '6': 'https://www.google.com.au/search?q=steaks+in+Sydney&sca_esv=30cc307e8b6ba113&hl=en&gl=us&ei=g0P9aN-kDNWIkPIP0czcsAo&start=50&sa=N&sstk=Af77f_e3_kOGf9BKlzkc8HMfHXNrSxmzBOZYbQ-ZfLYc5rJOwahZ1h637qH4mqcuvqdoXxzdDwq9TVAxN-zJ6K72V6TcnKOu8-TSYA&ved=2ahUKEwif8qL7p8CQAxVVBEQIHVEmF6YQ8tMDegQICRAM',\n",
       "   '7': 'https://www.google.com.au/search?q=steaks+in+Sydney&sca_esv=30cc307e8b6ba113&hl=en&gl=us&ei=g0P9aN-kDNWIkPIP0czcsAo&start=60&sa=N&sstk=Af77f_e3_kOGf9BKlzkc8HMfHXNrSxmzBOZYbQ-ZfLYc5rJOwahZ1h637qH4mqcuvqdoXxzdDwq9TVAxN-zJ6K72V6TcnKOu8-TSYA&ved=2ahUKEwif8qL7p8CQAxVVBEQIHVEmF6YQ8tMDegQICRAO',\n",
       "   '8': 'https://www.google.com.au/search?q=steaks+in+Sydney&sca_esv=30cc307e8b6ba113&hl=en&gl=us&ei=g0P9aN-kDNWIkPIP0czcsAo&start=70&sa=N&sstk=Af77f_e3_kOGf9BKlzkc8HMfHXNrSxmzBOZYbQ-ZfLYc5rJOwahZ1h637qH4mqcuvqdoXxzdDwq9TVAxN-zJ6K72V6TcnKOu8-TSYA&ved=2ahUKEwif8qL7p8CQAxVVBEQIHVEmF6YQ8tMDegQICRAQ',\n",
       "   '9': 'https://www.google.com.au/search?q=steaks+in+Sydney&sca_esv=30cc307e8b6ba113&hl=en&gl=us&ei=g0P9aN-kDNWIkPIP0czcsAo&start=80&sa=N&sstk=Af77f_e3_kOGf9BKlzkc8HMfHXNrSxmzBOZYbQ-ZfLYc5rJOwahZ1h637qH4mqcuvqdoXxzdDwq9TVAxN-zJ6K72V6TcnKOu8-TSYA&ved=2ahUKEwif8qL7p8CQAxVVBEQIHVEmF6YQ8tMDegQICRAS',\n",
       "   '10': 'https://www.google.com.au/search?q=steaks+in+Sydney&sca_esv=30cc307e8b6ba113&hl=en&gl=us&ei=g0P9aN-kDNWIkPIP0czcsAo&start=90&sa=N&sstk=Af77f_e3_kOGf9BKlzkc8HMfHXNrSxmzBOZYbQ-ZfLYc5rJOwahZ1h637qH4mqcuvqdoXxzdDwq9TVAxN-zJ6K72V6TcnKOu8-TSYA&ved=2ahUKEwif8qL7p8CQAxVVBEQIHVEmF6YQ8tMDegQICRAU'}},\n",
       " 'serpapi_pagination': {'current': 1,\n",
       "  'next_link': 'https://serpapi.com/search.json?device=desktop&engine=google&gl=us&google_domain=google.com.au&hl=en&q=steaks+in+Sydney&start=10',\n",
       "  'next': 'https://serpapi.com/search.json?device=desktop&engine=google&gl=us&google_domain=google.com.au&hl=en&q=steaks+in+Sydney&start=10',\n",
       "  'other_pages': {'2': 'https://serpapi.com/search.json?device=desktop&engine=google&gl=us&google_domain=google.com.au&hl=en&q=steaks+in+Sydney&start=10',\n",
       "   '3': 'https://serpapi.com/search.json?device=desktop&engine=google&gl=us&google_domain=google.com.au&hl=en&q=steaks+in+Sydney&start=20',\n",
       "   '4': 'https://serpapi.com/search.json?device=desktop&engine=google&gl=us&google_domain=google.com.au&hl=en&q=steaks+in+Sydney&start=30',\n",
       "   '5': 'https://serpapi.com/search.json?device=desktop&engine=google&gl=us&google_domain=google.com.au&hl=en&q=steaks+in+Sydney&start=40',\n",
       "   '6': 'https://serpapi.com/search.json?device=desktop&engine=google&gl=us&google_domain=google.com.au&hl=en&q=steaks+in+Sydney&start=50',\n",
       "   '7': 'https://serpapi.com/search.json?device=desktop&engine=google&gl=us&google_domain=google.com.au&hl=en&q=steaks+in+Sydney&start=60',\n",
       "   '8': 'https://serpapi.com/search.json?device=desktop&engine=google&gl=us&google_domain=google.com.au&hl=en&q=steaks+in+Sydney&start=70',\n",
       "   '9': 'https://serpapi.com/search.json?device=desktop&engine=google&gl=us&google_domain=google.com.au&hl=en&q=steaks+in+Sydney&start=80',\n",
       "   '10': 'https://serpapi.com/search.json?device=desktop&engine=google&gl=us&google_domain=google.com.au&hl=en&q=steaks+in+Sydney&start=90'}}}"
      ]
     },
     "execution_count": 17,
     "metadata": {},
     "output_type": "execute_result"
    }
   ],
   "source": [
    "from serpapi import GoogleSearch\n",
    "\n",
    "params = {\n",
    "  \"api_key\": serper_api_key,\n",
    "  \"engine\": \"google\",\n",
    "  \"q\": \"steaks in Sydney\",\n",
    "  \"google_domain\": \"google.com.au\",\n",
    "  \"gl\": \"us\",\n",
    "  \"hl\": \"en\"\n",
    "}\n",
    "\n",
    "search = GoogleSearch(params)\n",
    "results = search.get_dict()\n",
    "results"
   ]
  },
  {
   "cell_type": "code",
   "execution_count": 18,
   "metadata": {},
   "outputs": [
    {
     "ename": "HTTPError",
     "evalue": "403 Client Error: Forbidden for url: https://google.serper.dev/search?q=steaks+in+Sydney&gl=us&hl=en&num=10",
     "output_type": "error",
     "traceback": [
      "\u001b[0;31m---------------------------------------------------------------------------\u001b[0m",
      "\u001b[0;31mHTTPError\u001b[0m                                 Traceback (most recent call last)",
      "Cell \u001b[0;32mIn[18], line 4\u001b[0m\n\u001b[1;32m      1\u001b[0m \u001b[38;5;28;01mfrom\u001b[39;00m\u001b[38;5;250m \u001b[39m\u001b[38;5;21;01mlangchain_community\u001b[39;00m\u001b[38;5;21;01m.\u001b[39;00m\u001b[38;5;21;01mutilities\u001b[39;00m\u001b[38;5;250m \u001b[39m\u001b[38;5;28;01mimport\u001b[39;00m GoogleSerperAPIWrapper\n\u001b[1;32m      2\u001b[0m search \u001b[38;5;241m=\u001b[39m GoogleSerperAPIWrapper()\n\u001b[0;32m----> 4\u001b[0m results \u001b[38;5;241m=\u001b[39m \u001b[43msearch\u001b[49m\u001b[38;5;241;43m.\u001b[39;49m\u001b[43mrun\u001b[49m\u001b[43m(\u001b[49m\u001b[38;5;124;43m'\u001b[39;49m\u001b[38;5;124;43msteaks in Sydney\u001b[39;49m\u001b[38;5;124;43m'\u001b[39;49m\u001b[43m)\u001b[49m\n\u001b[1;32m      5\u001b[0m results\n",
      "File \u001b[0;32m~/Documents/Documents/Github/IBM_course_AgenticAI/.venv/lib/python3.12/site-packages/langchain_community/utilities/google_serper.py:74\u001b[0m, in \u001b[0;36mGoogleSerperAPIWrapper.run\u001b[0;34m(self, query, **kwargs)\u001b[0m\n\u001b[1;32m     72\u001b[0m \u001b[38;5;28;01mdef\u001b[39;00m\u001b[38;5;250m \u001b[39m\u001b[38;5;21mrun\u001b[39m(\u001b[38;5;28mself\u001b[39m, query: \u001b[38;5;28mstr\u001b[39m, \u001b[38;5;241m*\u001b[39m\u001b[38;5;241m*\u001b[39mkwargs: Any) \u001b[38;5;241m-\u001b[39m\u001b[38;5;241m>\u001b[39m \u001b[38;5;28mstr\u001b[39m:\n\u001b[1;32m     73\u001b[0m \u001b[38;5;250m    \u001b[39m\u001b[38;5;124;03m\"\"\"Run query through GoogleSearch and parse result.\"\"\"\u001b[39;00m\n\u001b[0;32m---> 74\u001b[0m     results \u001b[38;5;241m=\u001b[39m \u001b[38;5;28;43mself\u001b[39;49m\u001b[38;5;241;43m.\u001b[39;49m\u001b[43m_google_serper_api_results\u001b[49m\u001b[43m(\u001b[49m\n\u001b[1;32m     75\u001b[0m \u001b[43m        \u001b[49m\u001b[43mquery\u001b[49m\u001b[43m,\u001b[49m\n\u001b[1;32m     76\u001b[0m \u001b[43m        \u001b[49m\u001b[43mgl\u001b[49m\u001b[38;5;241;43m=\u001b[39;49m\u001b[38;5;28;43mself\u001b[39;49m\u001b[38;5;241;43m.\u001b[39;49m\u001b[43mgl\u001b[49m\u001b[43m,\u001b[49m\n\u001b[1;32m     77\u001b[0m \u001b[43m        \u001b[49m\u001b[43mhl\u001b[49m\u001b[38;5;241;43m=\u001b[39;49m\u001b[38;5;28;43mself\u001b[39;49m\u001b[38;5;241;43m.\u001b[39;49m\u001b[43mhl\u001b[49m\u001b[43m,\u001b[49m\n\u001b[1;32m     78\u001b[0m \u001b[43m        \u001b[49m\u001b[43mnum\u001b[49m\u001b[38;5;241;43m=\u001b[39;49m\u001b[38;5;28;43mself\u001b[39;49m\u001b[38;5;241;43m.\u001b[39;49m\u001b[43mk\u001b[49m\u001b[43m,\u001b[49m\n\u001b[1;32m     79\u001b[0m \u001b[43m        \u001b[49m\u001b[43mtbs\u001b[49m\u001b[38;5;241;43m=\u001b[39;49m\u001b[38;5;28;43mself\u001b[39;49m\u001b[38;5;241;43m.\u001b[39;49m\u001b[43mtbs\u001b[49m\u001b[43m,\u001b[49m\n\u001b[1;32m     80\u001b[0m \u001b[43m        \u001b[49m\u001b[43msearch_type\u001b[49m\u001b[38;5;241;43m=\u001b[39;49m\u001b[38;5;28;43mself\u001b[39;49m\u001b[38;5;241;43m.\u001b[39;49m\u001b[43mtype\u001b[49m\u001b[43m,\u001b[49m\n\u001b[1;32m     81\u001b[0m \u001b[43m        \u001b[49m\u001b[38;5;241;43m*\u001b[39;49m\u001b[38;5;241;43m*\u001b[39;49m\u001b[43mkwargs\u001b[49m\u001b[43m,\u001b[49m\n\u001b[1;32m     82\u001b[0m \u001b[43m    \u001b[49m\u001b[43m)\u001b[49m\n\u001b[1;32m     84\u001b[0m     \u001b[38;5;28;01mreturn\u001b[39;00m \u001b[38;5;28mself\u001b[39m\u001b[38;5;241m.\u001b[39m_parse_results(results)\n",
      "File \u001b[0;32m~/Documents/Documents/Github/IBM_course_AgenticAI/.venv/lib/python3.12/site-packages/langchain_community/utilities/google_serper.py:164\u001b[0m, in \u001b[0;36mGoogleSerperAPIWrapper._google_serper_api_results\u001b[0;34m(self, search_term, search_type, **kwargs)\u001b[0m\n\u001b[1;32m    157\u001b[0m params \u001b[38;5;241m=\u001b[39m {\n\u001b[1;32m    158\u001b[0m     \u001b[38;5;124m\"\u001b[39m\u001b[38;5;124mq\u001b[39m\u001b[38;5;124m\"\u001b[39m: search_term,\n\u001b[1;32m    159\u001b[0m     \u001b[38;5;241m*\u001b[39m\u001b[38;5;241m*\u001b[39m{key: value \u001b[38;5;28;01mfor\u001b[39;00m key, value \u001b[38;5;129;01min\u001b[39;00m kwargs\u001b[38;5;241m.\u001b[39mitems() \u001b[38;5;28;01mif\u001b[39;00m value \u001b[38;5;129;01mis\u001b[39;00m \u001b[38;5;129;01mnot\u001b[39;00m \u001b[38;5;28;01mNone\u001b[39;00m},\n\u001b[1;32m    160\u001b[0m }\n\u001b[1;32m    161\u001b[0m response \u001b[38;5;241m=\u001b[39m requests\u001b[38;5;241m.\u001b[39mpost(\n\u001b[1;32m    162\u001b[0m     \u001b[38;5;124mf\u001b[39m\u001b[38;5;124m\"\u001b[39m\u001b[38;5;124mhttps://google.serper.dev/\u001b[39m\u001b[38;5;132;01m{\u001b[39;00msearch_type\u001b[38;5;132;01m}\u001b[39;00m\u001b[38;5;124m\"\u001b[39m, headers\u001b[38;5;241m=\u001b[39mheaders, params\u001b[38;5;241m=\u001b[39mparams\n\u001b[1;32m    163\u001b[0m )\n\u001b[0;32m--> 164\u001b[0m \u001b[43mresponse\u001b[49m\u001b[38;5;241;43m.\u001b[39;49m\u001b[43mraise_for_status\u001b[49m\u001b[43m(\u001b[49m\u001b[43m)\u001b[49m\n\u001b[1;32m    165\u001b[0m search_results \u001b[38;5;241m=\u001b[39m response\u001b[38;5;241m.\u001b[39mjson()\n\u001b[1;32m    166\u001b[0m \u001b[38;5;28;01mreturn\u001b[39;00m search_results\n",
      "File \u001b[0;32m~/Documents/Documents/Github/IBM_course_AgenticAI/.venv/lib/python3.12/site-packages/requests/models.py:1026\u001b[0m, in \u001b[0;36mResponse.raise_for_status\u001b[0;34m(self)\u001b[0m\n\u001b[1;32m   1021\u001b[0m     http_error_msg \u001b[38;5;241m=\u001b[39m (\n\u001b[1;32m   1022\u001b[0m         \u001b[38;5;124mf\u001b[39m\u001b[38;5;124m\"\u001b[39m\u001b[38;5;132;01m{\u001b[39;00m\u001b[38;5;28mself\u001b[39m\u001b[38;5;241m.\u001b[39mstatus_code\u001b[38;5;132;01m}\u001b[39;00m\u001b[38;5;124m Server Error: \u001b[39m\u001b[38;5;132;01m{\u001b[39;00mreason\u001b[38;5;132;01m}\u001b[39;00m\u001b[38;5;124m for url: \u001b[39m\u001b[38;5;132;01m{\u001b[39;00m\u001b[38;5;28mself\u001b[39m\u001b[38;5;241m.\u001b[39murl\u001b[38;5;132;01m}\u001b[39;00m\u001b[38;5;124m\"\u001b[39m\n\u001b[1;32m   1023\u001b[0m     )\n\u001b[1;32m   1025\u001b[0m \u001b[38;5;28;01mif\u001b[39;00m http_error_msg:\n\u001b[0;32m-> 1026\u001b[0m     \u001b[38;5;28;01mraise\u001b[39;00m HTTPError(http_error_msg, response\u001b[38;5;241m=\u001b[39m\u001b[38;5;28mself\u001b[39m)\n",
      "\u001b[0;31mHTTPError\u001b[0m: 403 Client Error: Forbidden for url: https://google.serper.dev/search?q=steaks+in+Sydney&gl=us&hl=en&num=10"
     ]
    }
   ],
   "source": [
    "from langchain_community.utilities import GoogleSerperAPIWrapper\n",
    "search = GoogleSerperAPIWrapper()\n",
    "\n",
    "results = search.run('steaks in Sydney')\n",
    "results"
   ]
  },
  {
   "cell_type": "code",
   "execution_count": 19,
   "id": "75acc998-ca36-410c-8fac-d82f4073a1bb",
   "metadata": {},
   "outputs": [],
   "source": [
    "%%capture\n",
    "\n",
    "from crewai_tools import SerperDevTool"
   ]
  },
  {
   "cell_type": "markdown",
   "id": "61f387ad-e063-4e94-a578-6b39071d80d7",
   "metadata": {},
   "source": [
    "Initialize the SerperDev search tool  object (requires an API key)\n"
   ]
  },
  {
   "cell_type": "code",
   "execution_count": 20,
   "id": "9146be91-1576-46b9-b2b4-1e8d7616a463",
   "metadata": {},
   "outputs": [
    {
     "name": "stdout",
     "output_type": "stream",
     "text": [
      "<class 'crewai_tools.tools.serper_dev_tool.serper_dev_tool.SerperDevTool'>\n"
     ]
    }
   ],
   "source": [
    "search_tool=SerperDevTool()\n",
    "print(type(search_tool))"
   ]
  },
  {
   "cell_type": "markdown",
   "id": "9c7bbe23-21fc-4aa8-8db1-5c940e4f0e56",
   "metadata": {},
   "source": [
    "Run a search query \n"
   ]
  },
  {
   "cell_type": "code",
   "execution_count": 22,
   "id": "b41291f3-c745-40ae-9982-9e59a81e046f",
   "metadata": {},
   "outputs": [
    {
     "name": "stdout",
     "output_type": "stream",
     "text": [
      "Using Tool: Search the internet with Serper\n"
     ]
    },
    {
     "ename": "HTTPError",
     "evalue": "403 Client Error: Forbidden for url: https://google.serper.dev/search",
     "output_type": "error",
     "traceback": [
      "\u001b[0;31m---------------------------------------------------------------------------\u001b[0m",
      "\u001b[0;31mHTTPError\u001b[0m                                 Traceback (most recent call last)",
      "Cell \u001b[0;32mIn[22], line 2\u001b[0m\n\u001b[1;32m      1\u001b[0m search_query \u001b[38;5;241m=\u001b[39m \u001b[38;5;124m\"\u001b[39m\u001b[38;5;124mLatest Breakthroughs in machine learning\u001b[39m\u001b[38;5;124m\"\u001b[39m\n\u001b[0;32m----> 2\u001b[0m search_results \u001b[38;5;241m=\u001b[39m\u001b[43msearch_tool\u001b[49m\u001b[38;5;241;43m.\u001b[39;49m\u001b[43mrun\u001b[49m\u001b[43m(\u001b[49m\u001b[43mquery\u001b[49m\u001b[38;5;241;43m=\u001b[39;49m\u001b[43msearch_query\u001b[49m\u001b[43m \u001b[49m\u001b[43m)\u001b[49m\n\u001b[1;32m      4\u001b[0m \u001b[38;5;66;03m# Print the results\u001b[39;00m\n\u001b[1;32m      5\u001b[0m \u001b[38;5;28mprint\u001b[39m(\u001b[38;5;124mf\u001b[39m\u001b[38;5;124m\"\u001b[39m\u001b[38;5;124mSearch Results for \u001b[39m\u001b[38;5;124m'\u001b[39m\u001b[38;5;132;01m{\u001b[39;00msearch_results\u001b[38;5;132;01m}\u001b[39;00m\u001b[38;5;124m'\u001b[39m\u001b[38;5;124m:\u001b[39m\u001b[38;5;130;01m\\n\u001b[39;00m\u001b[38;5;124m\"\u001b[39m)\n",
      "File \u001b[0;32m~/Documents/Documents/Github/IBM_course_AgenticAI/.venv/lib/python3.12/site-packages/crewai/tools/base_tool.py:88\u001b[0m, in \u001b[0;36mBaseTool.run\u001b[0;34m(self, *args, **kwargs)\u001b[0m\n\u001b[1;32m     82\u001b[0m \u001b[38;5;28;01mdef\u001b[39;00m\u001b[38;5;250m \u001b[39m\u001b[38;5;21mrun\u001b[39m(\n\u001b[1;32m     83\u001b[0m     \u001b[38;5;28mself\u001b[39m,\n\u001b[1;32m     84\u001b[0m     \u001b[38;5;241m*\u001b[39margs: Any,\n\u001b[1;32m     85\u001b[0m     \u001b[38;5;241m*\u001b[39m\u001b[38;5;241m*\u001b[39mkwargs: Any,\n\u001b[1;32m     86\u001b[0m ) \u001b[38;5;241m-\u001b[39m\u001b[38;5;241m>\u001b[39m Any:\n\u001b[1;32m     87\u001b[0m     \u001b[38;5;28mprint\u001b[39m(\u001b[38;5;124mf\u001b[39m\u001b[38;5;124m\"\u001b[39m\u001b[38;5;124mUsing Tool: \u001b[39m\u001b[38;5;132;01m{\u001b[39;00m\u001b[38;5;28mself\u001b[39m\u001b[38;5;241m.\u001b[39mname\u001b[38;5;132;01m}\u001b[39;00m\u001b[38;5;124m\"\u001b[39m)\n\u001b[0;32m---> 88\u001b[0m     result \u001b[38;5;241m=\u001b[39m \u001b[38;5;28;43mself\u001b[39;49m\u001b[38;5;241;43m.\u001b[39;49m\u001b[43m_run\u001b[49m\u001b[43m(\u001b[49m\u001b[38;5;241;43m*\u001b[39;49m\u001b[43margs\u001b[49m\u001b[43m,\u001b[49m\u001b[43m \u001b[49m\u001b[38;5;241;43m*\u001b[39;49m\u001b[38;5;241;43m*\u001b[39;49m\u001b[43mkwargs\u001b[49m\u001b[43m)\u001b[49m\n\u001b[1;32m     90\u001b[0m     \u001b[38;5;66;03m# If _run is async, we safely run it\u001b[39;00m\n\u001b[1;32m     91\u001b[0m     \u001b[38;5;28;01mif\u001b[39;00m asyncio\u001b[38;5;241m.\u001b[39miscoroutine(result):\n",
      "File \u001b[0;32m~/Documents/Documents/Github/IBM_course_AgenticAI/.venv/lib/python3.12/site-packages/crewai_tools/tools/serper_dev_tool/serper_dev_tool.py:219\u001b[0m, in \u001b[0;36mSerperDevTool._run\u001b[0;34m(self, **kwargs)\u001b[0m\n\u001b[1;32m    216\u001b[0m search_type \u001b[38;5;241m=\u001b[39m kwargs\u001b[38;5;241m.\u001b[39mget(\u001b[38;5;124m\"\u001b[39m\u001b[38;5;124msearch_type\u001b[39m\u001b[38;5;124m\"\u001b[39m, \u001b[38;5;28mself\u001b[39m\u001b[38;5;241m.\u001b[39msearch_type)\n\u001b[1;32m    217\u001b[0m save_file \u001b[38;5;241m=\u001b[39m kwargs\u001b[38;5;241m.\u001b[39mget(\u001b[38;5;124m\"\u001b[39m\u001b[38;5;124msave_file\u001b[39m\u001b[38;5;124m\"\u001b[39m, \u001b[38;5;28mself\u001b[39m\u001b[38;5;241m.\u001b[39msave_file)\n\u001b[0;32m--> 219\u001b[0m results \u001b[38;5;241m=\u001b[39m \u001b[38;5;28;43mself\u001b[39;49m\u001b[38;5;241;43m.\u001b[39;49m\u001b[43m_make_api_request\u001b[49m\u001b[43m(\u001b[49m\u001b[43msearch_query\u001b[49m\u001b[43m,\u001b[49m\u001b[43m \u001b[49m\u001b[43msearch_type\u001b[49m\u001b[43m)\u001b[49m\n\u001b[1;32m    221\u001b[0m formatted_results \u001b[38;5;241m=\u001b[39m {\n\u001b[1;32m    222\u001b[0m     \u001b[38;5;124m\"\u001b[39m\u001b[38;5;124msearchParameters\u001b[39m\u001b[38;5;124m\"\u001b[39m: {\n\u001b[1;32m    223\u001b[0m         \u001b[38;5;124m\"\u001b[39m\u001b[38;5;124mq\u001b[39m\u001b[38;5;124m\"\u001b[39m: search_query,\n\u001b[0;32m   (...)\u001b[0m\n\u001b[1;32m    226\u001b[0m     }\n\u001b[1;32m    227\u001b[0m }\n\u001b[1;32m    229\u001b[0m formatted_results\u001b[38;5;241m.\u001b[39mupdate(\u001b[38;5;28mself\u001b[39m\u001b[38;5;241m.\u001b[39m_process_search_results(results, search_type))\n",
      "File \u001b[0;32m~/Documents/Documents/Github/IBM_course_AgenticAI/.venv/lib/python3.12/site-packages/crewai_tools/tools/serper_dev_tool/serper_dev_tool.py:160\u001b[0m, in \u001b[0;36mSerperDevTool._make_api_request\u001b[0;34m(self, search_query, search_type)\u001b[0m\n\u001b[1;32m    156\u001b[0m \u001b[38;5;28;01mtry\u001b[39;00m:\n\u001b[1;32m    157\u001b[0m     response \u001b[38;5;241m=\u001b[39m requests\u001b[38;5;241m.\u001b[39mpost(\n\u001b[1;32m    158\u001b[0m         search_url, headers\u001b[38;5;241m=\u001b[39mheaders, json\u001b[38;5;241m=\u001b[39mjson\u001b[38;5;241m.\u001b[39mloads(payload), timeout\u001b[38;5;241m=\u001b[39m\u001b[38;5;241m10\u001b[39m\n\u001b[1;32m    159\u001b[0m     )\n\u001b[0;32m--> 160\u001b[0m     \u001b[43mresponse\u001b[49m\u001b[38;5;241;43m.\u001b[39;49m\u001b[43mraise_for_status\u001b[49m\u001b[43m(\u001b[49m\u001b[43m)\u001b[49m\n\u001b[1;32m    161\u001b[0m     results \u001b[38;5;241m=\u001b[39m response\u001b[38;5;241m.\u001b[39mjson()\n\u001b[1;32m    162\u001b[0m     \u001b[38;5;28;01mif\u001b[39;00m \u001b[38;5;129;01mnot\u001b[39;00m results:\n",
      "File \u001b[0;32m~/Documents/Documents/Github/IBM_course_AgenticAI/.venv/lib/python3.12/site-packages/requests/models.py:1026\u001b[0m, in \u001b[0;36mResponse.raise_for_status\u001b[0;34m(self)\u001b[0m\n\u001b[1;32m   1021\u001b[0m     http_error_msg \u001b[38;5;241m=\u001b[39m (\n\u001b[1;32m   1022\u001b[0m         \u001b[38;5;124mf\u001b[39m\u001b[38;5;124m\"\u001b[39m\u001b[38;5;132;01m{\u001b[39;00m\u001b[38;5;28mself\u001b[39m\u001b[38;5;241m.\u001b[39mstatus_code\u001b[38;5;132;01m}\u001b[39;00m\u001b[38;5;124m Server Error: \u001b[39m\u001b[38;5;132;01m{\u001b[39;00mreason\u001b[38;5;132;01m}\u001b[39;00m\u001b[38;5;124m for url: \u001b[39m\u001b[38;5;132;01m{\u001b[39;00m\u001b[38;5;28mself\u001b[39m\u001b[38;5;241m.\u001b[39murl\u001b[38;5;132;01m}\u001b[39;00m\u001b[38;5;124m\"\u001b[39m\n\u001b[1;32m   1023\u001b[0m     )\n\u001b[1;32m   1025\u001b[0m \u001b[38;5;28;01mif\u001b[39;00m http_error_msg:\n\u001b[0;32m-> 1026\u001b[0m     \u001b[38;5;28;01mraise\u001b[39;00m HTTPError(http_error_msg, response\u001b[38;5;241m=\u001b[39m\u001b[38;5;28mself\u001b[39m)\n",
      "\u001b[0;31mHTTPError\u001b[0m: 403 Client Error: Forbidden for url: https://google.serper.dev/search"
     ]
    }
   ],
   "source": [
    "search_query = \"Latest Breakthroughs in machine learning\"\n",
    "search_results =search_tool.run(query=search_query )\n",
    "\n",
    "# Print the results\n",
    "print(f\"Search Results for '{search_results}':\\n\")"
   ]
  },
  {
   "cell_type": "markdown",
   "id": "000f7c7c-6257-4d63-a3ce-00b723c98216",
   "metadata": {},
   "source": [
    "The ````search_results```` dictionary has a lot of info, so here is an overview of what each key contains:\n",
    "\n",
    "\n",
    "- **searchParameters**: Query metadata (term, engine, result count)\n",
    "- **organic**: Search results (title, link, snippet, position)\n",
    "- **peopleAlsoAsk**: Related questions with answers\n",
    "- **relatedSearches**: Alternative search queries\n",
    "- **credits**: API usage tracking\n"
   ]
  },
  {
   "cell_type": "code",
   "execution_count": null,
   "id": "7a4db6c5-0c27-4f72-9edd-fd02c170104b",
   "metadata": {},
   "outputs": [],
   "source": [
    "print(\"keys of search_results\", search_results.keys())"
   ]
  },
  {
   "cell_type": "markdown",
   "id": "a1476e2c-ad19-42c5-b9ae-ec63d6123912",
   "metadata": {},
   "source": [
    "## Setting up our LLM\n",
    "\n",
    "Next, we need to set up our **LLM (Large Language Model)**—this can be **any model** based on our needs. Here, we are going to use **Meta Llama 3.3 70b instruct**. The choice of model depends on factors such as **accuracy, speed, and recipe understanding** for our meal planning tasks.\n"
   ]
  },
  {
   "cell_type": "markdown",
   "id": "8178e54d-6fb0-46c5-a5fe-e5efb4d8358d",
   "metadata": {},
   "source": [
    "## **Agents in CrewAI**  \n",
    "\n",
    "In CrewAI, **agents** are the foundational units of any multi-agent system. Each agent is designed to perform a specific role, solve tasks autonomously, and collaborate seamlessly with other agents. They’re more than mere programs—they are your specialized team members in an AI-powered ecosystem.  \n",
    "\n",
    "---\n"
   ]
  },
  {
   "cell_type": "markdown",
   "id": "8793cdb7-218f-4ab4-abdf-12a6e82ee942",
   "metadata": {},
   "source": [
    "\n",
    "\n",
    "A CrewAI agent isn’t just a block of code; it’s a thoughtfully designed entity with the following parameters:  \n",
    "\n",
    "1. **Role**  \n",
    "   An agent’s role defines its purpose in the system. Roles are as diverse as your project needs, such as a **\"Data Researcher\"** hunting for insights or a **\"Reporting Analyst\"** preparing comprehensive summaries.  \n",
    "\n",
    "2. **Goal**  \n",
    "   Each agent operates with a defined goal—a guiding star that shapes its decisions and actions. For instance, an agent with the goal to **“Uncover cutting-edge developments in AI”** will consistently align its behavior to fulfill this objective.  \n",
    "\n",
    "3. **Backstory**  \n",
    "   An agent’s backstory is like its resume, providing context or personality that influences how it behaves and interacts. For example, a seasoned **“Senior Data Researcher”** with years of experience might approach tasks differently from a **“Junior Analyst”** just starting out. This feature adds depth and relatability to agent interactions, making them more dynamic and tailored.  \n",
    "\n",
    "\n",
    "4. **Tools**  \n",
    "   Just like any professional needs the right tools to excel, agents in CrewAI are equipped with specialized tools to boost their performance. Whether it’s a **web search utility** for gathering information, a **data analysis engine** for crunching numbers, or an **API connector** to integrate external services, tools expand an agent’s capabilities. The right tool can help an agent complete its tasks more efficiently and effectively, enabling it to work smarter, not harder.  \n",
    "\n",
    "5. **Configuration**  \n",
    "   Agents in CrewAI are configured using simple YAML files, offering a modular, readable, and scalable approach to defining their attributes. This makes setting up agents intuitive, even for large systems ( in this tutroal we will not use a YML files \n",
    "\n",
    "\n"
   ]
  },
  {
   "cell_type": "markdown",
   "id": "1f893bc4-9b11-4ed4-acbc-aca0436770dc",
   "metadata": {},
   "source": [
    "####  **Defining an Agent Directly as a Python Object**\n",
    "For more flexibility or when working in a programmatic environment, you can define agents directly in your code. This approach allows you to quickly integrate dynamic parameters and logic into the agent’s setup.\n",
    "\n",
    "In this section, we're defining the research agent which will gather and analyze information from the web. This \"Senior Research Analyst\" uses the SerperDevTool to search for relevant content, working independently without delegation. The agent serves as the first step in our workflow, collecting the raw data that other agents will later refine and present.\n",
    "\n",
    "Example of defining an agent in **Python**:\n",
    "\n"
   ]
  },
  {
   "cell_type": "code",
   "execution_count": 23,
   "id": "13d6f89b-3141-415a-a5bb-14fc92134be1",
   "metadata": {},
   "outputs": [],
   "source": [
    "from crewai import Agent\n",
    "\n",
    "research_agent = Agent(\n",
    "  role='Senior Research Analyst',\n",
    "  goal='Uncover cutting-edge information and insights on any subject with comprehensive analysis',\n",
    "  backstory=\"\"\"You are an expert researcher with extensive experience in gathering, analyzing, and synthesizing information across multiple domains. \n",
    "  Your analytical skills allow you to quickly identify key trends, separate fact from opinion, and produce insightful reports on any topic. \n",
    "  You excel at finding reliable sources and extracting valuable information efficiently.\"\"\",\n",
    "  verbose=True,\n",
    "  allow_delegation=False,\n",
    "  llm = llm,\n",
    "  tools=[SerperDevTool()]\n",
    ")"
   ]
  },
  {
   "cell_type": "markdown",
   "id": "1002e339-e418-410f-bb85-c010fa95eb8c",
   "metadata": {},
   "source": [
    "\n",
    "In this Python example, an agent is created with the same role, goal, backstory, and tools as the YAML example. However, this method allows you to easily pass in dynamic variables and parameters at runtime, making it ideal for scenarios where the agent configuration needs to change dynamically.\n"
   ]
  },
  {
   "cell_type": "code",
   "execution_count": 24,
   "id": "fb8b09f4-cace-4aed-9407-79773cbb1c9b",
   "metadata": {},
   "outputs": [
    {
     "data": {
      "text/plain": [
       "Agent(role=Senior Research Analyst, goal=Uncover cutting-edge information and insights on any subject with comprehensive analysis, backstory=You are an expert researcher with extensive experience in gathering, analyzing, and synthesizing information across multiple domains. \n",
       "  Your analytical skills allow you to quickly identify key trends, separate fact from opinion, and produce insightful reports on any topic. \n",
       "  You excel at finding reliable sources and extracting valuable information efficiently.)"
      ]
     },
     "execution_count": 24,
     "metadata": {},
     "output_type": "execute_result"
    }
   ],
   "source": [
    "research_agent"
   ]
  },
  {
   "cell_type": "markdown",
   "id": "15de223a-f210-4635-9c72-5d416a6c6dac",
   "metadata": {},
   "source": [
    "In CrewAI, we use multiple specialized agents to complete complex tasks through collaboration. In our research-report example:\n",
    "\n",
    "1. We created a **Researcher Agent** that gathers information\n",
    "2. Now we will create a **Writer Agent** that takes the output from our Researcher Agent\n",
    "3. The Writer transforms research findings into well-structured content for the target audience\n",
    "\n",
    "Let's create the writer agent with the following parameters:\n",
    "\n",
    "* **role**: 'Tech Content Strategist' - Job function within the workflow\n",
    "* **goal**: 'Craft well-structured and engaging content based on research findings' - The agent's specific objective\n",
    "* **backstory**: Background that shapes the agent's approach and style\n",
    "* **verbose**: True - Controls logging detail level\n",
    "* **allow_delegation**: True - Enables task assignment to other agents\n"
   ]
  },
  {
   "cell_type": "code",
   "execution_count": 25,
   "id": "6453e0a5-893e-44b5-9c37-d3a904f6c77f",
   "metadata": {},
   "outputs": [],
   "source": [
    "# Define your agents with roles and goals\n",
    "# Define the Writer Agent\n",
    "writer_agent = Agent(\n",
    "  role='Tech Content Strategist',\n",
    "  goal='Craft well-structured and engaging content based on research findings',\n",
    "  backstory=\"\"\"You are a skilled content strategist known for translating \n",
    "  complex topics into clear and compelling narratives. Your writing makes \n",
    "  information accessible and engaging for a wide audience.\"\"\",\n",
    "  verbose=True,\n",
    "  llm = llm,\n",
    "  allow_delegation=True\n",
    ")"
   ]
  },
  {
   "cell_type": "code",
   "execution_count": 26,
   "id": "f4d9dab0-b561-4045-9e0c-2a94319ec318",
   "metadata": {},
   "outputs": [
    {
     "data": {
      "text/plain": [
       "Agent(role=Tech Content Strategist, goal=Craft well-structured and engaging content based on research findings, backstory=You are a skilled content strategist known for translating \n",
       "  complex topics into clear and compelling narratives. Your writing makes \n",
       "  information accessible and engaging for a wide audience.)"
      ]
     },
     "execution_count": 26,
     "metadata": {},
     "output_type": "execute_result"
    }
   ],
   "source": [
    "writer_agent "
   ]
  },
  {
   "cell_type": "markdown",
   "id": "b302833e-5a8b-4f1e-8bce-a229e703ce0c",
   "metadata": {},
   "source": [
    "## **Tasks in CrewAI**\n",
    "Tasks are like to-do items for our AI agents. Each task has specific instructions, details, and tools for the agent to follow and complete the job.\n",
    "\n",
    "For example:\n",
    "- A task could ask an agent to \"research the latest AI trends.\"\n",
    "- Another task could ask a different agent to \"write a detailed report based on the research.\"\n",
    "\n"
   ]
  },
  {
   "cell_type": "markdown",
   "id": "971eb6a5-1955-425c-a3a3-a0075e43c688",
   "metadata": {},
   "source": [
    "Here is an outline of the porcess:\n",
    "\n",
    "1. **Define agents** with their roles, goals, and tools\n",
    "2. **Create tasks** and assign them to specific agents\n",
    "3. **Combine agents and tasks** into a Crew with an execution process\n"
   ]
  },
  {
   "cell_type": "markdown",
   "id": "b53957a1-6584-484f-b61f-25c6144043d5",
   "metadata": {},
   "source": [
    "#### **How Tasks Work**  \n",
    "There are two ways tasks can run:  \n",
    "\n",
    "1. **Sequential**: Tasks are executed one after the other, like following a recipe step-by-step. Each task waits for the previous one to finish.  \n",
    "2. **Hierarchical**: Tasks are assigned based on agent skills or roles, and multiple tasks can run in parallel if they don’t depend on each other.  \n",
    "\n",
    "\n"
   ]
  },
  {
   "cell_type": "markdown",
   "id": "c9c9647c-6d3d-428c-8bf9-555f6c5ace58",
   "metadata": {},
   "source": [
    "#### **What Can a Task Include?**\n",
    "Each task has these details:\n",
    "- **Description**: What needs to be done.\n",
    "- **Expected Output**: What the result should look like.\n",
    "- **Agent**: Who’s responsible for the task.\n",
    "- **Tools**: The tools the agent can use for this task.\n",
    "- **Context**: Outputs from other tasks that help this task.\n",
    "- **Async Execution**: Whether the task runs in the background or not.\n",
    "- **Output Format**: Whether the results are plain text, JSON, or a structured model.\n"
   ]
  },
  {
   "cell_type": "markdown",
   "id": "bbc08fd4-48b7-4a2f-9809-e13499a1c436",
   "metadata": {},
   "source": [
    "Here's how we set up a Crew (our team of agents) and tasks in code `research_task` and `writer_task`. \n",
    "\n",
    "In this step, we define a Task for the Researcher Agent. This task will involve gathering and analyzing key insights on any topic specified through the `{topic}` parameter. The agent will use the SerperDevTool to uncover major trends, identify new technologies, and evaluate their effects on the industry. This flexible approach allows us to research different subjects by simply changing the input parameter when kicking off the crew.\n"
   ]
  },
  {
   "cell_type": "code",
   "execution_count": 27,
   "id": "cb379cc5-b292-492f-9e86-332c7e40ac5a",
   "metadata": {},
   "outputs": [],
   "source": [
    "from crewai import Task\n",
    "\n",
    "research_task = Task(\n",
    "  description=\"Analyze the major {topic}, identifying key trends and technologies. Provide a detailed report on their potential impact.\",\n",
    "  agent=research_agent,\n",
    "  expected_output=\"A detailed report on {topic}, including trends, emerging technologies, and their impact.\"\n",
    ")"
   ]
  },
  {
   "cell_type": "markdown",
   "id": "548e7a18-0825-42ba-a2d2-54f8df0f5519",
   "metadata": {},
   "source": [
    "Now, we will define the task for the Writer Agent, who will take the research findings and transform them into a well-structured article. The Writer Agent will ensure the content is engaging, informative, and easy to understand, making complex topics more accessible.\n"
   ]
  },
  {
   "cell_type": "code",
   "execution_count": 28,
   "id": "b4d4de72-f597-485a-a55e-30e9ed697144",
   "metadata": {},
   "outputs": [],
   "source": [
    "# Create a task for the Writer Agent\n",
    "writer_task = Task(\n",
    "  description=\"Create an engaging blog post based on the research findings about {topic}. Tailor the content for a tech-savvy audience, ensuring clarity and interest.\",\n",
    "  agent=writer_agent,\n",
    "  expected_output=\"A 4-paragraph blog post on {topic}, written clearly and engagingly for tech enthusiasts.\"\n",
    ")"
   ]
  },
  {
   "cell_type": "markdown",
   "id": "94422626-1bc1-41b7-86b3-94fd0d2dbd76",
   "metadata": {},
   "source": [
    "## CrewAI Workflow\n",
    "\n",
    "The  `Crew` object, which is the central orchestration mechanism in CrewAI. This crew brings together our specialized agents and their assigned tasks into a cohesive workflow.\n",
    "\n",
    "The `Crew` constructor takes several important parameters:\n",
    "- `agents`: A list of the AI agents that will be part of this crew ```research_agent``` abd  ```writer_agent```\n",
    "- `tasks`: A list of specific tasks these agents will perform ```research_task``` and ```writer_task```\n",
    "- `process`: Defines how tasks will be executed - in this case `Process.sequential means tasks will run one after another in the specified order (research first, then writing)\n",
    "- `verbose`: When set to `True`, this enables detailed logging, making it easier to follow the crew's execution and troubleshoot any issues\n",
    "\n",
    "Once configured, you can start the entire workflow with a single command: `crew.kickoff()`, which will execute the tasks in sequence and return the final results.\n"
   ]
  },
  {
   "cell_type": "code",
   "execution_count": 29,
   "id": "fa5edbd2-722d-4fd3-8ca9-fee96b633f64",
   "metadata": {},
   "outputs": [],
   "source": [
    "from crewai import Crew, Process\n",
    "\n",
    "crew = Crew(\n",
    "    agents=[research_agent, writer_agent],\n",
    "    tasks=[research_task, writer_task],\n",
    "    process=Process.sequential,\n",
    "    verbose=True \n",
    ")"
   ]
  },
  {
   "cell_type": "markdown",
   "id": "a8d262e2-7097-4dad-bd1a-e628a2de1767",
   "metadata": {},
   "source": [
    "The method ```kickoff()``` sets everything rolling - it starts all your agents working on their tasks and returns the results when they're done. By using ```inputs={\"topic\": \"quantum computing breakthroughs of 2024\"}```, we can specify exactly what subject our agents should research, making our system flexible enough to analyze any topic without changing the task definitions.\n"
   ]
  },
  {
   "cell_type": "code",
   "execution_count": 30,
   "id": "93b9006d-8c5a-4235-9e37-9a15ed54de78",
   "metadata": {},
   "outputs": [
    {
     "data": {
      "text/html": [
       "<pre style=\"white-space:pre;overflow-x:auto;line-height:normal;font-family:Menlo,'DejaVu Sans Mono',consolas,'Courier New',monospace\"><span style=\"color: #008080; text-decoration-color: #008080\">╭──────────────────────────────────────────── Crew Execution Started ─────────────────────────────────────────────╮</span>\n",
       "<span style=\"color: #008080; text-decoration-color: #008080\">│</span>                                                                                                                 <span style=\"color: #008080; text-decoration-color: #008080\">│</span>\n",
       "<span style=\"color: #008080; text-decoration-color: #008080\">│</span>  <span style=\"color: #008080; text-decoration-color: #008080; font-weight: bold\">Crew Execution Started</span>                                                                                         <span style=\"color: #008080; text-decoration-color: #008080\">│</span>\n",
       "<span style=\"color: #008080; text-decoration-color: #008080\">│</span>  <span style=\"color: #c0c0c0; text-decoration-color: #c0c0c0\">Name: </span><span style=\"color: #008080; text-decoration-color: #008080\">crew</span>                                                                                                     <span style=\"color: #008080; text-decoration-color: #008080\">│</span>\n",
       "<span style=\"color: #008080; text-decoration-color: #008080\">│</span>  <span style=\"color: #c0c0c0; text-decoration-color: #c0c0c0\">ID: </span><span style=\"color: #008080; text-decoration-color: #008080\">db732da9-9935-4e59-87d3-a67b4d89c9db</span>                                                                       <span style=\"color: #008080; text-decoration-color: #008080\">│</span>\n",
       "<span style=\"color: #008080; text-decoration-color: #008080\">│</span>  <span style=\"color: #c0c0c0; text-decoration-color: #c0c0c0\">Tool Args: </span>                                                                                                    <span style=\"color: #008080; text-decoration-color: #008080\">│</span>\n",
       "<span style=\"color: #008080; text-decoration-color: #008080\">│</span>                                                                                                                 <span style=\"color: #008080; text-decoration-color: #008080\">│</span>\n",
       "<span style=\"color: #008080; text-decoration-color: #008080\">│</span>                                                                                                                 <span style=\"color: #008080; text-decoration-color: #008080\">│</span>\n",
       "<span style=\"color: #008080; text-decoration-color: #008080\">╰─────────────────────────────────────────────────────────────────────────────────────────────────────────────────╯</span>\n",
       "</pre>\n"
      ],
      "text/plain": [
       "\u001b[36m╭─\u001b[0m\u001b[36m───────────────────────────────────────────\u001b[0m\u001b[36m Crew Execution Started \u001b[0m\u001b[36m────────────────────────────────────────────\u001b[0m\u001b[36m─╮\u001b[0m\n",
       "\u001b[36m│\u001b[0m                                                                                                                 \u001b[36m│\u001b[0m\n",
       "\u001b[36m│\u001b[0m  \u001b[1;36mCrew Execution Started\u001b[0m                                                                                         \u001b[36m│\u001b[0m\n",
       "\u001b[36m│\u001b[0m  \u001b[37mName: \u001b[0m\u001b[36mcrew\u001b[0m                                                                                                     \u001b[36m│\u001b[0m\n",
       "\u001b[36m│\u001b[0m  \u001b[37mID: \u001b[0m\u001b[36mdb732da9-9935-4e59-87d3-a67b4d89c9db\u001b[0m                                                                       \u001b[36m│\u001b[0m\n",
       "\u001b[36m│\u001b[0m  \u001b[37mTool Args: \u001b[0m                                                                                                    \u001b[36m│\u001b[0m\n",
       "\u001b[36m│\u001b[0m                                                                                                                 \u001b[36m│\u001b[0m\n",
       "\u001b[36m│\u001b[0m                                                                                                                 \u001b[36m│\u001b[0m\n",
       "\u001b[36m╰─────────────────────────────────────────────────────────────────────────────────────────────────────────────────╯\u001b[0m\n"
      ]
     },
     "metadata": {},
     "output_type": "display_data"
    },
    {
     "data": {
      "text/html": [
       "<pre style=\"white-space:pre;overflow-x:auto;line-height:normal;font-family:Menlo,'DejaVu Sans Mono',consolas,'Courier New',monospace\">\n",
       "</pre>\n"
      ],
      "text/plain": [
       "\n"
      ]
     },
     "metadata": {},
     "output_type": "display_data"
    },
    {
     "data": {
      "text/html": [
       "<pre style=\"white-space:pre;overflow-x:auto;line-height:normal;font-family:Menlo,'DejaVu Sans Mono',consolas,'Courier New',monospace\"></pre>\n"
      ],
      "text/plain": []
     },
     "metadata": {},
     "output_type": "display_data"
    },
    {
     "data": {
      "text/html": [
       "<pre style=\"white-space:pre;overflow-x:auto;line-height:normal;font-family:Menlo,'DejaVu Sans Mono',consolas,'Courier New',monospace\"><span style=\"color: #800080; text-decoration-color: #800080\">╭─────────────────────────────────────────────── 🤖 Agent Started ────────────────────────────────────────────────╮</span>\n",
       "<span style=\"color: #800080; text-decoration-color: #800080\">│</span>                                                                                                                 <span style=\"color: #800080; text-decoration-color: #800080\">│</span>\n",
       "<span style=\"color: #800080; text-decoration-color: #800080\">│</span>  <span style=\"color: #c0c0c0; text-decoration-color: #c0c0c0\">Agent: </span><span style=\"color: #00ff00; text-decoration-color: #00ff00; font-weight: bold\">Senior Research Analyst</span>                                                                                 <span style=\"color: #800080; text-decoration-color: #800080\">│</span>\n",
       "<span style=\"color: #800080; text-decoration-color: #800080\">│</span>                                                                                                                 <span style=\"color: #800080; text-decoration-color: #800080\">│</span>\n",
       "<span style=\"color: #800080; text-decoration-color: #800080\">│</span>  <span style=\"color: #c0c0c0; text-decoration-color: #c0c0c0\">Task: </span><span style=\"color: #00ff00; text-decoration-color: #00ff00\">Analyze the major Latest Generative AI breakthroughs, identifying key trends and technologies. Provide </span>  <span style=\"color: #800080; text-decoration-color: #800080\">│</span>\n",
       "<span style=\"color: #800080; text-decoration-color: #800080\">│</span>  <span style=\"color: #00ff00; text-decoration-color: #00ff00\">a detailed report on their potential impact.</span>                                                                   <span style=\"color: #800080; text-decoration-color: #800080\">│</span>\n",
       "<span style=\"color: #800080; text-decoration-color: #800080\">│</span>                                                                                                                 <span style=\"color: #800080; text-decoration-color: #800080\">│</span>\n",
       "<span style=\"color: #800080; text-decoration-color: #800080\">╰─────────────────────────────────────────────────────────────────────────────────────────────────────────────────╯</span>\n",
       "</pre>\n"
      ],
      "text/plain": [
       "\u001b[35m╭─\u001b[0m\u001b[35m──────────────────────────────────────────────\u001b[0m\u001b[35m 🤖 Agent Started \u001b[0m\u001b[35m───────────────────────────────────────────────\u001b[0m\u001b[35m─╮\u001b[0m\n",
       "\u001b[35m│\u001b[0m                                                                                                                 \u001b[35m│\u001b[0m\n",
       "\u001b[35m│\u001b[0m  \u001b[37mAgent: \u001b[0m\u001b[1;92mSenior Research Analyst\u001b[0m                                                                                 \u001b[35m│\u001b[0m\n",
       "\u001b[35m│\u001b[0m                                                                                                                 \u001b[35m│\u001b[0m\n",
       "\u001b[35m│\u001b[0m  \u001b[37mTask: \u001b[0m\u001b[92mAnalyze the major Latest Generative AI breakthroughs, identifying key trends and technologies. Provide \u001b[0m  \u001b[35m│\u001b[0m\n",
       "\u001b[35m│\u001b[0m  \u001b[92ma detailed report on their potential impact.\u001b[0m                                                                   \u001b[35m│\u001b[0m\n",
       "\u001b[35m│\u001b[0m                                                                                                                 \u001b[35m│\u001b[0m\n",
       "\u001b[35m╰─────────────────────────────────────────────────────────────────────────────────────────────────────────────────╯\u001b[0m\n"
      ]
     },
     "metadata": {},
     "output_type": "display_data"
    },
    {
     "data": {
      "text/html": [
       "<pre style=\"white-space:pre;overflow-x:auto;line-height:normal;font-family:Menlo,'DejaVu Sans Mono',consolas,'Courier New',monospace\">\n",
       "</pre>\n"
      ],
      "text/plain": [
       "\n"
      ]
     },
     "metadata": {},
     "output_type": "display_data"
    },
    {
     "data": {
      "application/vnd.jupyter.widget-view+json": {
       "model_id": "13b2b79d216f43628a7f022c5682f67c",
       "version_major": 2,
       "version_minor": 0
      },
      "text/plain": [
       "Output()"
      ]
     },
     "metadata": {},
     "output_type": "display_data"
    },
    {
     "data": {
      "text/html": [
       "<pre style=\"white-space:pre;overflow-x:auto;line-height:normal;font-family:Menlo,'DejaVu Sans Mono',consolas,'Courier New',monospace\"></pre>\n"
      ],
      "text/plain": []
     },
     "metadata": {},
     "output_type": "display_data"
    },
    {
     "data": {
      "text/html": [
       "<pre style=\"white-space:pre;overflow-x:auto;line-height:normal;font-family:Menlo,'DejaVu Sans Mono',consolas,'Courier New',monospace\"><span style=\"color: #800000; text-decoration-color: #800000\">╭─────────────────────────────────────────────────── LLM Error ───────────────────────────────────────────────────╮</span>\n",
       "<span style=\"color: #800000; text-decoration-color: #800000\">│</span>                                                                                                                 <span style=\"color: #800000; text-decoration-color: #800000\">│</span>\n",
       "<span style=\"color: #800000; text-decoration-color: #800000\">│</span>  <span style=\"color: #800000; text-decoration-color: #800000; font-weight: bold\">❌ LLM Call Failed</span>                                                                                             <span style=\"color: #800000; text-decoration-color: #800000\">│</span>\n",
       "<span style=\"color: #800000; text-decoration-color: #800000\">│</span>  <span style=\"color: #c0c0c0; text-decoration-color: #c0c0c0\">Error: </span><span style=\"color: #800000; text-decoration-color: #800000\">litellm.BadRequestError: LLM Provider NOT provided. Pass in the LLM provider you are trying to call. </span>   <span style=\"color: #800000; text-decoration-color: #800000\">│</span>\n",
       "<span style=\"color: #800000; text-decoration-color: #800000\">│</span>  <span style=\"color: #800000; text-decoration-color: #800000\">You passed model=llama-3.1-8b-instant</span>                                                                          <span style=\"color: #800000; text-decoration-color: #800000\">│</span>\n",
       "<span style=\"color: #800000; text-decoration-color: #800000\">│</span>  <span style=\"color: #800000; text-decoration-color: #800000\"> Pass model as E.g. For 'Huggingface' inference endpoints pass in </span>                                             <span style=\"color: #800000; text-decoration-color: #800000\">│</span>\n",
       "<span style=\"color: #800000; text-decoration-color: #800000\">│</span>  <span style=\"color: #800000; text-decoration-color: #800000\">`completion(model='huggingface/starcoder',..)` Learn more: https://docs.litellm.ai/docs/providers</span>              <span style=\"color: #800000; text-decoration-color: #800000\">│</span>\n",
       "<span style=\"color: #800000; text-decoration-color: #800000\">│</span>                                                                                                                 <span style=\"color: #800000; text-decoration-color: #800000\">│</span>\n",
       "<span style=\"color: #800000; text-decoration-color: #800000\">╰─────────────────────────────────────────────────────────────────────────────────────────────────────────────────╯</span>\n",
       "</pre>\n"
      ],
      "text/plain": [
       "\u001b[31m╭─\u001b[0m\u001b[31m──────────────────────────────────────────────────\u001b[0m\u001b[31m LLM Error \u001b[0m\u001b[31m──────────────────────────────────────────────────\u001b[0m\u001b[31m─╮\u001b[0m\n",
       "\u001b[31m│\u001b[0m                                                                                                                 \u001b[31m│\u001b[0m\n",
       "\u001b[31m│\u001b[0m  \u001b[1;31m❌ LLM Call Failed\u001b[0m                                                                                             \u001b[31m│\u001b[0m\n",
       "\u001b[31m│\u001b[0m  \u001b[37mError: \u001b[0m\u001b[31mlitellm.BadRequestError: LLM Provider NOT provided. Pass in the LLM provider you are trying to call. \u001b[0m   \u001b[31m│\u001b[0m\n",
       "\u001b[31m│\u001b[0m  \u001b[31mYou passed model=llama-3.1-8b-instant\u001b[0m                                                                          \u001b[31m│\u001b[0m\n",
       "\u001b[31m│\u001b[0m  \u001b[31m Pass model as E.g. For 'Huggingface' inference endpoints pass in \u001b[0m                                             \u001b[31m│\u001b[0m\n",
       "\u001b[31m│\u001b[0m  \u001b[31m`completion(model='huggingface/starcoder',..)` Learn more: https://docs.litellm.ai/docs/providers\u001b[0m              \u001b[31m│\u001b[0m\n",
       "\u001b[31m│\u001b[0m                                                                                                                 \u001b[31m│\u001b[0m\n",
       "\u001b[31m╰─────────────────────────────────────────────────────────────────────────────────────────────────────────────────╯\u001b[0m\n"
      ]
     },
     "metadata": {},
     "output_type": "display_data"
    },
    {
     "data": {
      "text/html": [
       "<pre style=\"white-space:pre;overflow-x:auto;line-height:normal;font-family:Menlo,'DejaVu Sans Mono',consolas,'Courier New',monospace\">\n",
       "</pre>\n"
      ],
      "text/plain": [
       "\n"
      ]
     },
     "metadata": {},
     "output_type": "display_data"
    },
    {
     "data": {
      "text/html": [
       "<pre style=\"white-space:pre;overflow-x:auto;line-height:normal;font-family:Menlo,'DejaVu Sans Mono',consolas,'Courier New',monospace\"></pre>\n"
      ],
      "text/plain": []
     },
     "metadata": {},
     "output_type": "display_data"
    },
    {
     "data": {
      "text/html": [
       "<pre style=\"white-space:pre;overflow-x:auto;line-height:normal;font-family:Menlo,'DejaVu Sans Mono',consolas,'Courier New',monospace\"><span style=\"color: #800000; text-decoration-color: #800000\">╭───────────────────────────────────────────────── Task Failure ──────────────────────────────────────────────────╮</span>\n",
       "<span style=\"color: #800000; text-decoration-color: #800000\">│</span>                                                                                                                 <span style=\"color: #800000; text-decoration-color: #800000\">│</span>\n",
       "<span style=\"color: #800000; text-decoration-color: #800000\">│</span>  <span style=\"color: #800000; text-decoration-color: #800000; font-weight: bold\">Task Failed</span>                                                                                                    <span style=\"color: #800000; text-decoration-color: #800000\">│</span>\n",
       "<span style=\"color: #800000; text-decoration-color: #800000\">│</span>  <span style=\"color: #c0c0c0; text-decoration-color: #c0c0c0\">Name: </span><span style=\"color: #800000; text-decoration-color: #800000\">f9cc161a-aee2-4526-8841-a189b7ee898c</span>                                                                     <span style=\"color: #800000; text-decoration-color: #800000\">│</span>\n",
       "<span style=\"color: #800000; text-decoration-color: #800000\">│</span>  <span style=\"color: #c0c0c0; text-decoration-color: #c0c0c0\">Agent: </span><span style=\"color: #800000; text-decoration-color: #800000\">Senior Research Analyst</span>                                                                                 <span style=\"color: #800000; text-decoration-color: #800000\">│</span>\n",
       "<span style=\"color: #800000; text-decoration-color: #800000\">│</span>  <span style=\"color: #c0c0c0; text-decoration-color: #c0c0c0\">Tool Args: </span>                                                                                                    <span style=\"color: #800000; text-decoration-color: #800000\">│</span>\n",
       "<span style=\"color: #800000; text-decoration-color: #800000\">│</span>                                                                                                                 <span style=\"color: #800000; text-decoration-color: #800000\">│</span>\n",
       "<span style=\"color: #800000; text-decoration-color: #800000\">│</span>                                                                                                                 <span style=\"color: #800000; text-decoration-color: #800000\">│</span>\n",
       "<span style=\"color: #800000; text-decoration-color: #800000\">╰─────────────────────────────────────────────────────────────────────────────────────────────────────────────────╯</span>\n",
       "</pre>\n"
      ],
      "text/plain": [
       "\u001b[31m╭─\u001b[0m\u001b[31m────────────────────────────────────────────────\u001b[0m\u001b[31m Task Failure \u001b[0m\u001b[31m─────────────────────────────────────────────────\u001b[0m\u001b[31m─╮\u001b[0m\n",
       "\u001b[31m│\u001b[0m                                                                                                                 \u001b[31m│\u001b[0m\n",
       "\u001b[31m│\u001b[0m  \u001b[1;31mTask Failed\u001b[0m                                                                                                    \u001b[31m│\u001b[0m\n",
       "\u001b[31m│\u001b[0m  \u001b[37mName: \u001b[0m\u001b[31mf9cc161a-aee2-4526-8841-a189b7ee898c\u001b[0m                                                                     \u001b[31m│\u001b[0m\n",
       "\u001b[31m│\u001b[0m  \u001b[37mAgent: \u001b[0m\u001b[31mSenior Research Analyst\u001b[0m                                                                                 \u001b[31m│\u001b[0m\n",
       "\u001b[31m│\u001b[0m  \u001b[37mTool Args: \u001b[0m                                                                                                    \u001b[31m│\u001b[0m\n",
       "\u001b[31m│\u001b[0m                                                                                                                 \u001b[31m│\u001b[0m\n",
       "\u001b[31m│\u001b[0m                                                                                                                 \u001b[31m│\u001b[0m\n",
       "\u001b[31m╰─────────────────────────────────────────────────────────────────────────────────────────────────────────────────╯\u001b[0m\n"
      ]
     },
     "metadata": {},
     "output_type": "display_data"
    },
    {
     "data": {
      "text/html": [
       "<pre style=\"white-space:pre;overflow-x:auto;line-height:normal;font-family:Menlo,'DejaVu Sans Mono',consolas,'Courier New',monospace\">\n",
       "</pre>\n"
      ],
      "text/plain": [
       "\n"
      ]
     },
     "metadata": {},
     "output_type": "display_data"
    },
    {
     "data": {
      "text/html": [
       "<pre style=\"white-space:pre;overflow-x:auto;line-height:normal;font-family:Menlo,'DejaVu Sans Mono',consolas,'Courier New',monospace\"><span style=\"color: #800000; text-decoration-color: #800000\">╭───────────────────────────────────────────────── Crew Failure ──────────────────────────────────────────────────╮</span>\n",
       "<span style=\"color: #800000; text-decoration-color: #800000\">│</span>                                                                                                                 <span style=\"color: #800000; text-decoration-color: #800000\">│</span>\n",
       "<span style=\"color: #800000; text-decoration-color: #800000\">│</span>  <span style=\"color: #800000; text-decoration-color: #800000; font-weight: bold\">Crew Execution Failed</span>                                                                                          <span style=\"color: #800000; text-decoration-color: #800000\">│</span>\n",
       "<span style=\"color: #800000; text-decoration-color: #800000\">│</span>  <span style=\"color: #c0c0c0; text-decoration-color: #c0c0c0\">Name: </span><span style=\"color: #800000; text-decoration-color: #800000\">crew</span>                                                                                                     <span style=\"color: #800000; text-decoration-color: #800000\">│</span>\n",
       "<span style=\"color: #800000; text-decoration-color: #800000\">│</span>  <span style=\"color: #c0c0c0; text-decoration-color: #c0c0c0\">ID: </span><span style=\"color: #800000; text-decoration-color: #800000\">db732da9-9935-4e59-87d3-a67b4d89c9db</span>                                                                       <span style=\"color: #800000; text-decoration-color: #800000\">│</span>\n",
       "<span style=\"color: #800000; text-decoration-color: #800000\">│</span>  <span style=\"color: #c0c0c0; text-decoration-color: #c0c0c0\">Tool Args: </span>                                                                                                    <span style=\"color: #800000; text-decoration-color: #800000\">│</span>\n",
       "<span style=\"color: #800000; text-decoration-color: #800000\">│</span>  <span style=\"color: #c0c0c0; text-decoration-color: #c0c0c0\">Final Output: </span>                                                                                                 <span style=\"color: #800000; text-decoration-color: #800000\">│</span>\n",
       "<span style=\"color: #800000; text-decoration-color: #800000\">│</span>                                                                                                                 <span style=\"color: #800000; text-decoration-color: #800000\">│</span>\n",
       "<span style=\"color: #800000; text-decoration-color: #800000\">│</span>                                                                                                                 <span style=\"color: #800000; text-decoration-color: #800000\">│</span>\n",
       "<span style=\"color: #800000; text-decoration-color: #800000\">╰─────────────────────────────────────────────────────────────────────────────────────────────────────────────────╯</span>\n",
       "</pre>\n"
      ],
      "text/plain": [
       "\u001b[31m╭─\u001b[0m\u001b[31m────────────────────────────────────────────────\u001b[0m\u001b[31m Crew Failure \u001b[0m\u001b[31m─────────────────────────────────────────────────\u001b[0m\u001b[31m─╮\u001b[0m\n",
       "\u001b[31m│\u001b[0m                                                                                                                 \u001b[31m│\u001b[0m\n",
       "\u001b[31m│\u001b[0m  \u001b[1;31mCrew Execution Failed\u001b[0m                                                                                          \u001b[31m│\u001b[0m\n",
       "\u001b[31m│\u001b[0m  \u001b[37mName: \u001b[0m\u001b[31mcrew\u001b[0m                                                                                                     \u001b[31m│\u001b[0m\n",
       "\u001b[31m│\u001b[0m  \u001b[37mID: \u001b[0m\u001b[31mdb732da9-9935-4e59-87d3-a67b4d89c9db\u001b[0m                                                                       \u001b[31m│\u001b[0m\n",
       "\u001b[31m│\u001b[0m  \u001b[37mTool Args: \u001b[0m                                                                                                    \u001b[31m│\u001b[0m\n",
       "\u001b[31m│\u001b[0m  \u001b[37mFinal Output: \u001b[0m                                                                                                 \u001b[31m│\u001b[0m\n",
       "\u001b[31m│\u001b[0m                                                                                                                 \u001b[31m│\u001b[0m\n",
       "\u001b[31m│\u001b[0m                                                                                                                 \u001b[31m│\u001b[0m\n",
       "\u001b[31m╰─────────────────────────────────────────────────────────────────────────────────────────────────────────────────╯\u001b[0m\n"
      ]
     },
     "metadata": {},
     "output_type": "display_data"
    },
    {
     "data": {
      "text/html": [
       "<pre style=\"white-space:pre;overflow-x:auto;line-height:normal;font-family:Menlo,'DejaVu Sans Mono',consolas,'Courier New',monospace\">\n",
       "</pre>\n"
      ],
      "text/plain": [
       "\n"
      ]
     },
     "metadata": {},
     "output_type": "display_data"
    },
    {
     "data": {
      "text/html": [
       "<pre style=\"white-space:pre;overflow-x:auto;line-height:normal;font-family:Menlo,'DejaVu Sans Mono',consolas,'Courier New',monospace\">\n",
       "\n",
       "</pre>\n"
      ],
      "text/plain": [
       "\n",
       "\n"
      ]
     },
     "metadata": {},
     "output_type": "display_data"
    },
    {
     "data": {
      "text/html": [
       "<pre style=\"white-space:pre;overflow-x:auto;line-height:normal;font-family:Menlo,'DejaVu Sans Mono',consolas,'Courier New',monospace\"><span style=\"color: #008080; text-decoration-color: #008080\">╭─────────────────────────────────────────────── </span><span style=\"color: #008080; text-decoration-color: #008080; font-weight: bold\">Execution Traces</span><span style=\"color: #008080; text-decoration-color: #008080\"> ────────────────────────────────────────────────╮</span>\n",
       "<span style=\"color: #008080; text-decoration-color: #008080\">│</span>                                                                                                                 <span style=\"color: #008080; text-decoration-color: #008080\">│</span>\n",
       "<span style=\"color: #008080; text-decoration-color: #008080\">│</span>  <span style=\"color: #008080; text-decoration-color: #008080; font-weight: bold\">🔍 Detailed execution traces are available!</span>                                                                    <span style=\"color: #008080; text-decoration-color: #008080\">│</span>\n",
       "<span style=\"color: #008080; text-decoration-color: #008080\">│</span>                                                                                                                 <span style=\"color: #008080; text-decoration-color: #008080\">│</span>\n",
       "<span style=\"color: #008080; text-decoration-color: #008080\">│</span>  <span style=\"color: #c0c0c0; text-decoration-color: #c0c0c0\">View insights including:</span>                                                                                       <span style=\"color: #008080; text-decoration-color: #008080\">│</span>\n",
       "<span style=\"color: #008080; text-decoration-color: #008080\">│</span>  <span style=\"color: #0000ff; text-decoration-color: #0000ff\">  • Agent decision-making process</span>                                                                              <span style=\"color: #008080; text-decoration-color: #008080\">│</span>\n",
       "<span style=\"color: #008080; text-decoration-color: #008080\">│</span>  <span style=\"color: #0000ff; text-decoration-color: #0000ff\">  • Task execution flow and timing</span>                                                                             <span style=\"color: #008080; text-decoration-color: #008080\">│</span>\n",
       "<span style=\"color: #008080; text-decoration-color: #008080\">│</span>  <span style=\"color: #0000ff; text-decoration-color: #0000ff\">  • Tool usage details</span>                                                                                         <span style=\"color: #008080; text-decoration-color: #008080\">│</span>\n",
       "<span style=\"color: #008080; text-decoration-color: #008080\">│</span>                                                                                                                 <span style=\"color: #008080; text-decoration-color: #008080\">│</span>\n",
       "<span style=\"color: #008080; text-decoration-color: #008080\">╰─────────────────────────────────────────────────────────────────────────────────────────────────────────────────╯</span>\n",
       "</pre>\n"
      ],
      "text/plain": [
       "\u001b[36m╭─\u001b[0m\u001b[36m──────────────────────────────────────────────\u001b[0m\u001b[36m \u001b[0m\u001b[1;36mExecution Traces\u001b[0m\u001b[36m \u001b[0m\u001b[36m───────────────────────────────────────────────\u001b[0m\u001b[36m─╮\u001b[0m\n",
       "\u001b[36m│\u001b[0m                                                                                                                 \u001b[36m│\u001b[0m\n",
       "\u001b[36m│\u001b[0m  \u001b[1;36m🔍 \u001b[0m\u001b[1;36mDetailed execution traces are available!\u001b[0m                                                                    \u001b[36m│\u001b[0m\n",
       "\u001b[36m│\u001b[0m                                                                                                                 \u001b[36m│\u001b[0m\n",
       "\u001b[36m│\u001b[0m  \u001b[37mView insights including:\u001b[0m                                                                                       \u001b[36m│\u001b[0m\n",
       "\u001b[36m│\u001b[0m  \u001b[94m  • Agent decision-making process\u001b[0m                                                                              \u001b[36m│\u001b[0m\n",
       "\u001b[36m│\u001b[0m  \u001b[94m  • Task execution flow and timing\u001b[0m                                                                             \u001b[36m│\u001b[0m\n",
       "\u001b[36m│\u001b[0m  \u001b[94m  • Tool usage details\u001b[0m                                                                                         \u001b[36m│\u001b[0m\n",
       "\u001b[36m│\u001b[0m                                                                                                                 \u001b[36m│\u001b[0m\n",
       "\u001b[36m╰─────────────────────────────────────────────────────────────────────────────────────────────────────────────────╯\u001b[0m\n"
      ]
     },
     "metadata": {},
     "output_type": "display_data"
    },
    {
     "name": "stdout",
     "output_type": "stream",
     "text": [
      "\u001b[37m\u001b[1mWould you like to view your execution traces? [y/N] (20s timeout): \u001b[0m"
     ]
    },
    {
     "name": "stderr",
     "output_type": "stream",
     "text": [
      "Exception in thread Thread-14 (get_input):\n",
      "Traceback (most recent call last):\n",
      "  File \"/opt/homebrew/Cellar/python@3.12/3.12.9/Frameworks/Python.framework/Versions/3.12/lib/python3.12/threading.py\", line 1075, in _bootstrap_inner\n",
      "    self.run()\n",
      "  File \"/Users/rezamohajerpoor/Documents/Documents/Github/IBM_course_AgenticAI/.venv/lib/python3.12/site-packages/ipykernel/ipkernel.py\", line 788, in run_closure\n",
      "    _threading_Thread_run(self)\n",
      "  File \"/opt/homebrew/Cellar/python@3.12/3.12.9/Frameworks/Python.framework/Versions/3.12/lib/python3.12/threading.py\", line 1012, in run\n",
      "    self._target(*self._args, **self._kwargs)\n",
      "  File \"/Users/rezamohajerpoor/Documents/Documents/Github/IBM_course_AgenticAI/.venv/lib/python3.12/site-packages/crewai/events/listeners/tracing/utils.py\", line 359, in get_input\n",
      "    response = input().strip().lower()\n",
      "               ^^^^^^^\n",
      "  File \"/Users/rezamohajerpoor/Documents/Documents/Github/IBM_course_AgenticAI/.venv/lib/python3.12/site-packages/ipykernel/kernelbase.py\", line 1475, in raw_input\n",
      "    self._shell_parent_ident.get(),\n",
      "    ^^^^^^^^^^^^^^^^^^^^^^^^^^^^^^\n",
      "LookupError: <ContextVar name='shell_parent_ident' at 0x103743d80>\n"
     ]
    },
    {
     "ename": "BadRequestError",
     "evalue": "litellm.BadRequestError: LLM Provider NOT provided. Pass in the LLM provider you are trying to call. You passed model=llama-3.1-8b-instant\n Pass model as E.g. For 'Huggingface' inference endpoints pass in `completion(model='huggingface/starcoder',..)` Learn more: https://docs.litellm.ai/docs/providers",
     "output_type": "error",
     "traceback": [
      "\u001b[0;31m---------------------------------------------------------------------------\u001b[0m",
      "\u001b[0;31mBadRequestError\u001b[0m                           Traceback (most recent call last)",
      "Cell \u001b[0;32mIn[30], line 1\u001b[0m\n\u001b[0;32m----> 1\u001b[0m result \u001b[38;5;241m=\u001b[39m \u001b[43mcrew\u001b[49m\u001b[38;5;241;43m.\u001b[39;49m\u001b[43mkickoff\u001b[49m\u001b[43m(\u001b[49m\u001b[43minputs\u001b[49m\u001b[38;5;241;43m=\u001b[39;49m\u001b[43m{\u001b[49m\u001b[38;5;124;43m\"\u001b[39;49m\u001b[38;5;124;43mtopic\u001b[39;49m\u001b[38;5;124;43m\"\u001b[39;49m\u001b[43m:\u001b[49m\u001b[43m \u001b[49m\u001b[38;5;124;43m\"\u001b[39;49m\u001b[38;5;124;43mLatest Generative AI breakthroughs\u001b[39;49m\u001b[38;5;124;43m\"\u001b[39;49m\u001b[43m}\u001b[49m\u001b[43m)\u001b[49m\n",
      "File \u001b[0;32m~/Documents/Documents/Github/IBM_course_AgenticAI/.venv/lib/python3.12/site-packages/crewai/crew.py:696\u001b[0m, in \u001b[0;36mCrew.kickoff\u001b[0;34m(self, inputs)\u001b[0m\n\u001b[1;32m    693\u001b[0m     \u001b[38;5;28mself\u001b[39m\u001b[38;5;241m.\u001b[39m_handle_crew_planning()\n\u001b[1;32m    695\u001b[0m \u001b[38;5;28;01mif\u001b[39;00m \u001b[38;5;28mself\u001b[39m\u001b[38;5;241m.\u001b[39mprocess \u001b[38;5;241m==\u001b[39m Process\u001b[38;5;241m.\u001b[39msequential:\n\u001b[0;32m--> 696\u001b[0m     result \u001b[38;5;241m=\u001b[39m \u001b[38;5;28;43mself\u001b[39;49m\u001b[38;5;241;43m.\u001b[39;49m\u001b[43m_run_sequential_process\u001b[49m\u001b[43m(\u001b[49m\u001b[43m)\u001b[49m\n\u001b[1;32m    697\u001b[0m \u001b[38;5;28;01melif\u001b[39;00m \u001b[38;5;28mself\u001b[39m\u001b[38;5;241m.\u001b[39mprocess \u001b[38;5;241m==\u001b[39m Process\u001b[38;5;241m.\u001b[39mhierarchical:\n\u001b[1;32m    698\u001b[0m     result \u001b[38;5;241m=\u001b[39m \u001b[38;5;28mself\u001b[39m\u001b[38;5;241m.\u001b[39m_run_hierarchical_process()\n",
      "File \u001b[0;32m~/Documents/Documents/Github/IBM_course_AgenticAI/.venv/lib/python3.12/site-packages/crewai/crew.py:810\u001b[0m, in \u001b[0;36mCrew._run_sequential_process\u001b[0;34m(self)\u001b[0m\n\u001b[1;32m    808\u001b[0m \u001b[38;5;28;01mdef\u001b[39;00m\u001b[38;5;250m \u001b[39m\u001b[38;5;21m_run_sequential_process\u001b[39m(\u001b[38;5;28mself\u001b[39m) \u001b[38;5;241m-\u001b[39m\u001b[38;5;241m>\u001b[39m CrewOutput:\n\u001b[1;32m    809\u001b[0m \u001b[38;5;250m    \u001b[39m\u001b[38;5;124;03m\"\"\"Executes tasks sequentially and returns the final output.\"\"\"\u001b[39;00m\n\u001b[0;32m--> 810\u001b[0m     \u001b[38;5;28;01mreturn\u001b[39;00m \u001b[38;5;28;43mself\u001b[39;49m\u001b[38;5;241;43m.\u001b[39;49m\u001b[43m_execute_tasks\u001b[49m\u001b[43m(\u001b[49m\u001b[38;5;28;43mself\u001b[39;49m\u001b[38;5;241;43m.\u001b[39;49m\u001b[43mtasks\u001b[49m\u001b[43m)\u001b[49m\n",
      "File \u001b[0;32m~/Documents/Documents/Github/IBM_course_AgenticAI/.venv/lib/python3.12/site-packages/crewai/crew.py:916\u001b[0m, in \u001b[0;36mCrew._execute_tasks\u001b[0;34m(self, tasks, start_index, was_replayed)\u001b[0m\n\u001b[1;32m    913\u001b[0m     futures\u001b[38;5;241m.\u001b[39mclear()\n\u001b[1;32m    915\u001b[0m context \u001b[38;5;241m=\u001b[39m \u001b[38;5;28mself\u001b[39m\u001b[38;5;241m.\u001b[39m_get_context(task, task_outputs)\n\u001b[0;32m--> 916\u001b[0m task_output \u001b[38;5;241m=\u001b[39m \u001b[43mtask\u001b[49m\u001b[38;5;241;43m.\u001b[39;49m\u001b[43mexecute_sync\u001b[49m\u001b[43m(\u001b[49m\n\u001b[1;32m    917\u001b[0m \u001b[43m    \u001b[49m\u001b[43magent\u001b[49m\u001b[38;5;241;43m=\u001b[39;49m\u001b[43magent_to_use\u001b[49m\u001b[43m,\u001b[49m\n\u001b[1;32m    918\u001b[0m \u001b[43m    \u001b[49m\u001b[43mcontext\u001b[49m\u001b[38;5;241;43m=\u001b[39;49m\u001b[43mcontext\u001b[49m\u001b[43m,\u001b[49m\n\u001b[1;32m    919\u001b[0m \u001b[43m    \u001b[49m\u001b[43mtools\u001b[49m\u001b[38;5;241;43m=\u001b[39;49m\u001b[43mcast\u001b[49m\u001b[43m(\u001b[49m\u001b[38;5;28;43mlist\u001b[39;49m\u001b[43m[\u001b[49m\u001b[43mBaseTool\u001b[49m\u001b[43m]\u001b[49m\u001b[43m,\u001b[49m\u001b[43m \u001b[49m\u001b[43mtools_for_task\u001b[49m\u001b[43m)\u001b[49m\u001b[43m,\u001b[49m\n\u001b[1;32m    920\u001b[0m \u001b[43m\u001b[49m\u001b[43m)\u001b[49m\n\u001b[1;32m    921\u001b[0m task_outputs\u001b[38;5;241m.\u001b[39mappend(task_output)\n\u001b[1;32m    922\u001b[0m \u001b[38;5;28mself\u001b[39m\u001b[38;5;241m.\u001b[39m_process_task_result(task, task_output)\n",
      "File \u001b[0;32m~/Documents/Documents/Github/IBM_course_AgenticAI/.venv/lib/python3.12/site-packages/crewai/task.py:381\u001b[0m, in \u001b[0;36mTask.execute_sync\u001b[0;34m(self, agent, context, tools)\u001b[0m\n\u001b[1;32m    374\u001b[0m \u001b[38;5;28;01mdef\u001b[39;00m\u001b[38;5;250m \u001b[39m\u001b[38;5;21mexecute_sync\u001b[39m(\n\u001b[1;32m    375\u001b[0m     \u001b[38;5;28mself\u001b[39m,\n\u001b[1;32m    376\u001b[0m     agent: Optional[BaseAgent] \u001b[38;5;241m=\u001b[39m \u001b[38;5;28;01mNone\u001b[39;00m,\n\u001b[1;32m    377\u001b[0m     context: Optional[\u001b[38;5;28mstr\u001b[39m] \u001b[38;5;241m=\u001b[39m \u001b[38;5;28;01mNone\u001b[39;00m,\n\u001b[1;32m    378\u001b[0m     tools: Optional[List[BaseTool]] \u001b[38;5;241m=\u001b[39m \u001b[38;5;28;01mNone\u001b[39;00m,\n\u001b[1;32m    379\u001b[0m ) \u001b[38;5;241m-\u001b[39m\u001b[38;5;241m>\u001b[39m TaskOutput:\n\u001b[1;32m    380\u001b[0m \u001b[38;5;250m    \u001b[39m\u001b[38;5;124;03m\"\"\"Execute the task synchronously.\"\"\"\u001b[39;00m\n\u001b[0;32m--> 381\u001b[0m     \u001b[38;5;28;01mreturn\u001b[39;00m \u001b[38;5;28;43mself\u001b[39;49m\u001b[38;5;241;43m.\u001b[39;49m\u001b[43m_execute_core\u001b[49m\u001b[43m(\u001b[49m\u001b[43magent\u001b[49m\u001b[43m,\u001b[49m\u001b[43m \u001b[49m\u001b[43mcontext\u001b[49m\u001b[43m,\u001b[49m\u001b[43m \u001b[49m\u001b[43mtools\u001b[49m\u001b[43m)\u001b[49m\n",
      "File \u001b[0;32m~/Documents/Documents/Github/IBM_course_AgenticAI/.venv/lib/python3.12/site-packages/crewai/task.py:529\u001b[0m, in \u001b[0;36mTask._execute_core\u001b[0;34m(self, agent, context, tools)\u001b[0m\n\u001b[1;32m    527\u001b[0m \u001b[38;5;28mself\u001b[39m\u001b[38;5;241m.\u001b[39mend_time \u001b[38;5;241m=\u001b[39m datetime\u001b[38;5;241m.\u001b[39mdatetime\u001b[38;5;241m.\u001b[39mnow()\n\u001b[1;32m    528\u001b[0m crewai_event_bus\u001b[38;5;241m.\u001b[39memit(\u001b[38;5;28mself\u001b[39m, TaskFailedEvent(error\u001b[38;5;241m=\u001b[39m\u001b[38;5;28mstr\u001b[39m(e), task\u001b[38;5;241m=\u001b[39m\u001b[38;5;28mself\u001b[39m))\n\u001b[0;32m--> 529\u001b[0m \u001b[38;5;28;01mraise\u001b[39;00m e\n",
      "File \u001b[0;32m~/Documents/Documents/Github/IBM_course_AgenticAI/.venv/lib/python3.12/site-packages/crewai/task.py:445\u001b[0m, in \u001b[0;36mTask._execute_core\u001b[0;34m(self, agent, context, tools)\u001b[0m\n\u001b[1;32m    443\u001b[0m \u001b[38;5;28mself\u001b[39m\u001b[38;5;241m.\u001b[39mprocessed_by_agents\u001b[38;5;241m.\u001b[39madd(agent\u001b[38;5;241m.\u001b[39mrole)\n\u001b[1;32m    444\u001b[0m crewai_event_bus\u001b[38;5;241m.\u001b[39memit(\u001b[38;5;28mself\u001b[39m, TaskStartedEvent(context\u001b[38;5;241m=\u001b[39mcontext, task\u001b[38;5;241m=\u001b[39m\u001b[38;5;28mself\u001b[39m))\n\u001b[0;32m--> 445\u001b[0m result \u001b[38;5;241m=\u001b[39m \u001b[43magent\u001b[49m\u001b[38;5;241;43m.\u001b[39;49m\u001b[43mexecute_task\u001b[49m\u001b[43m(\u001b[49m\n\u001b[1;32m    446\u001b[0m \u001b[43m    \u001b[49m\u001b[43mtask\u001b[49m\u001b[38;5;241;43m=\u001b[39;49m\u001b[38;5;28;43mself\u001b[39;49m\u001b[43m,\u001b[49m\n\u001b[1;32m    447\u001b[0m \u001b[43m    \u001b[49m\u001b[43mcontext\u001b[49m\u001b[38;5;241;43m=\u001b[39;49m\u001b[43mcontext\u001b[49m\u001b[43m,\u001b[49m\n\u001b[1;32m    448\u001b[0m \u001b[43m    \u001b[49m\u001b[43mtools\u001b[49m\u001b[38;5;241;43m=\u001b[39;49m\u001b[43mtools\u001b[49m\u001b[43m,\u001b[49m\n\u001b[1;32m    449\u001b[0m \u001b[43m\u001b[49m\u001b[43m)\u001b[49m\n\u001b[1;32m    451\u001b[0m pydantic_output, json_output \u001b[38;5;241m=\u001b[39m \u001b[38;5;28mself\u001b[39m\u001b[38;5;241m.\u001b[39m_export_output(result)\n\u001b[1;32m    452\u001b[0m task_output \u001b[38;5;241m=\u001b[39m TaskOutput(\n\u001b[1;32m    453\u001b[0m     name\u001b[38;5;241m=\u001b[39m\u001b[38;5;28mself\u001b[39m\u001b[38;5;241m.\u001b[39mname \u001b[38;5;129;01mor\u001b[39;00m \u001b[38;5;28mself\u001b[39m\u001b[38;5;241m.\u001b[39mdescription,\n\u001b[1;32m    454\u001b[0m     description\u001b[38;5;241m=\u001b[39m\u001b[38;5;28mself\u001b[39m\u001b[38;5;241m.\u001b[39mdescription,\n\u001b[0;32m   (...)\u001b[0m\n\u001b[1;32m    460\u001b[0m     output_format\u001b[38;5;241m=\u001b[39m\u001b[38;5;28mself\u001b[39m\u001b[38;5;241m.\u001b[39m_get_output_format(),\n\u001b[1;32m    461\u001b[0m )\n",
      "File \u001b[0;32m~/Documents/Documents/Github/IBM_course_AgenticAI/.venv/lib/python3.12/site-packages/crewai/agent.py:475\u001b[0m, in \u001b[0;36mAgent.execute_task\u001b[0;34m(self, task, context, tools)\u001b[0m\n\u001b[1;32m    465\u001b[0m \u001b[38;5;28;01mif\u001b[39;00m e\u001b[38;5;241m.\u001b[39m\u001b[38;5;18m__class__\u001b[39m\u001b[38;5;241m.\u001b[39m\u001b[38;5;18m__module__\u001b[39m\u001b[38;5;241m.\u001b[39mstartswith(\u001b[38;5;124m\"\u001b[39m\u001b[38;5;124mlitellm\u001b[39m\u001b[38;5;124m\"\u001b[39m):\n\u001b[1;32m    466\u001b[0m     \u001b[38;5;66;03m# Do not retry on litellm errors\u001b[39;00m\n\u001b[1;32m    467\u001b[0m     crewai_event_bus\u001b[38;5;241m.\u001b[39memit(\n\u001b[1;32m    468\u001b[0m         \u001b[38;5;28mself\u001b[39m,\n\u001b[1;32m    469\u001b[0m         event\u001b[38;5;241m=\u001b[39mAgentExecutionErrorEvent(\n\u001b[0;32m   (...)\u001b[0m\n\u001b[1;32m    473\u001b[0m         ),\n\u001b[1;32m    474\u001b[0m     )\n\u001b[0;32m--> 475\u001b[0m     \u001b[38;5;28;01mraise\u001b[39;00m e\n\u001b[1;32m    476\u001b[0m \u001b[38;5;28mself\u001b[39m\u001b[38;5;241m.\u001b[39m_times_executed \u001b[38;5;241m+\u001b[39m\u001b[38;5;241m=\u001b[39m \u001b[38;5;241m1\u001b[39m\n\u001b[1;32m    477\u001b[0m \u001b[38;5;28;01mif\u001b[39;00m \u001b[38;5;28mself\u001b[39m\u001b[38;5;241m.\u001b[39m_times_executed \u001b[38;5;241m>\u001b[39m \u001b[38;5;28mself\u001b[39m\u001b[38;5;241m.\u001b[39mmax_retry_limit:\n",
      "File \u001b[0;32m~/Documents/Documents/Github/IBM_course_AgenticAI/.venv/lib/python3.12/site-packages/crewai/agent.py:451\u001b[0m, in \u001b[0;36mAgent.execute_task\u001b[0;34m(self, task, context, tools)\u001b[0m\n\u001b[1;32m    447\u001b[0m         result \u001b[38;5;241m=\u001b[39m \u001b[38;5;28mself\u001b[39m\u001b[38;5;241m.\u001b[39m_execute_with_timeout(\n\u001b[1;32m    448\u001b[0m             task_prompt, task, \u001b[38;5;28mself\u001b[39m\u001b[38;5;241m.\u001b[39mmax_execution_time\n\u001b[1;32m    449\u001b[0m         )\n\u001b[1;32m    450\u001b[0m     \u001b[38;5;28;01melse\u001b[39;00m:\n\u001b[0;32m--> 451\u001b[0m         result \u001b[38;5;241m=\u001b[39m \u001b[38;5;28;43mself\u001b[39;49m\u001b[38;5;241;43m.\u001b[39;49m\u001b[43m_execute_without_timeout\u001b[49m\u001b[43m(\u001b[49m\u001b[43mtask_prompt\u001b[49m\u001b[43m,\u001b[49m\u001b[43m \u001b[49m\u001b[43mtask\u001b[49m\u001b[43m)\u001b[49m\n\u001b[1;32m    453\u001b[0m \u001b[38;5;28;01mexcept\u001b[39;00m \u001b[38;5;167;01mTimeoutError\u001b[39;00m \u001b[38;5;28;01mas\u001b[39;00m e:\n\u001b[1;32m    454\u001b[0m     \u001b[38;5;66;03m# Propagate TimeoutError without retry\u001b[39;00m\n\u001b[1;32m    455\u001b[0m     crewai_event_bus\u001b[38;5;241m.\u001b[39memit(\n\u001b[1;32m    456\u001b[0m         \u001b[38;5;28mself\u001b[39m,\n\u001b[1;32m    457\u001b[0m         event\u001b[38;5;241m=\u001b[39mAgentExecutionErrorEvent(\n\u001b[0;32m   (...)\u001b[0m\n\u001b[1;32m    461\u001b[0m         ),\n\u001b[1;32m    462\u001b[0m     )\n",
      "File \u001b[0;32m~/Documents/Documents/Github/IBM_course_AgenticAI/.venv/lib/python3.12/site-packages/crewai/agent.py:547\u001b[0m, in \u001b[0;36mAgent._execute_without_timeout\u001b[0;34m(self, task_prompt, task)\u001b[0m\n\u001b[1;32m    537\u001b[0m \u001b[38;5;28;01mdef\u001b[39;00m\u001b[38;5;250m \u001b[39m\u001b[38;5;21m_execute_without_timeout\u001b[39m(\u001b[38;5;28mself\u001b[39m, task_prompt: \u001b[38;5;28mstr\u001b[39m, task: Task) \u001b[38;5;241m-\u001b[39m\u001b[38;5;241m>\u001b[39m \u001b[38;5;28mstr\u001b[39m:\n\u001b[1;32m    538\u001b[0m \u001b[38;5;250m    \u001b[39m\u001b[38;5;124;03m\"\"\"Execute a task without a timeout.\u001b[39;00m\n\u001b[1;32m    539\u001b[0m \n\u001b[1;32m    540\u001b[0m \u001b[38;5;124;03m    Args:\u001b[39;00m\n\u001b[0;32m   (...)\u001b[0m\n\u001b[1;32m    545\u001b[0m \u001b[38;5;124;03m        The output of the agent.\u001b[39;00m\n\u001b[1;32m    546\u001b[0m \u001b[38;5;124;03m    \"\"\"\u001b[39;00m\n\u001b[0;32m--> 547\u001b[0m     \u001b[38;5;28;01mreturn\u001b[39;00m \u001b[38;5;28;43mself\u001b[39;49m\u001b[38;5;241;43m.\u001b[39;49m\u001b[43magent_executor\u001b[49m\u001b[38;5;241;43m.\u001b[39;49m\u001b[43minvoke\u001b[49m\u001b[43m(\u001b[49m\n\u001b[1;32m    548\u001b[0m \u001b[43m        \u001b[49m\u001b[43m{\u001b[49m\n\u001b[1;32m    549\u001b[0m \u001b[43m            \u001b[49m\u001b[38;5;124;43m\"\u001b[39;49m\u001b[38;5;124;43minput\u001b[39;49m\u001b[38;5;124;43m\"\u001b[39;49m\u001b[43m:\u001b[49m\u001b[43m \u001b[49m\u001b[43mtask_prompt\u001b[49m\u001b[43m,\u001b[49m\n\u001b[1;32m    550\u001b[0m \u001b[43m            \u001b[49m\u001b[38;5;124;43m\"\u001b[39;49m\u001b[38;5;124;43mtool_names\u001b[39;49m\u001b[38;5;124;43m\"\u001b[39;49m\u001b[43m:\u001b[49m\u001b[43m \u001b[49m\u001b[38;5;28;43mself\u001b[39;49m\u001b[38;5;241;43m.\u001b[39;49m\u001b[43magent_executor\u001b[49m\u001b[38;5;241;43m.\u001b[39;49m\u001b[43mtools_names\u001b[49m\u001b[43m,\u001b[49m\n\u001b[1;32m    551\u001b[0m \u001b[43m            \u001b[49m\u001b[38;5;124;43m\"\u001b[39;49m\u001b[38;5;124;43mtools\u001b[39;49m\u001b[38;5;124;43m\"\u001b[39;49m\u001b[43m:\u001b[49m\u001b[43m \u001b[49m\u001b[38;5;28;43mself\u001b[39;49m\u001b[38;5;241;43m.\u001b[39;49m\u001b[43magent_executor\u001b[49m\u001b[38;5;241;43m.\u001b[39;49m\u001b[43mtools_description\u001b[49m\u001b[43m,\u001b[49m\n\u001b[1;32m    552\u001b[0m \u001b[43m            \u001b[49m\u001b[38;5;124;43m\"\u001b[39;49m\u001b[38;5;124;43mask_for_human_input\u001b[39;49m\u001b[38;5;124;43m\"\u001b[39;49m\u001b[43m:\u001b[49m\u001b[43m \u001b[49m\u001b[43mtask\u001b[49m\u001b[38;5;241;43m.\u001b[39;49m\u001b[43mhuman_input\u001b[49m\u001b[43m,\u001b[49m\n\u001b[1;32m    553\u001b[0m \u001b[43m        \u001b[49m\u001b[43m}\u001b[49m\n\u001b[1;32m    554\u001b[0m \u001b[43m    \u001b[49m\u001b[43m)\u001b[49m[\u001b[38;5;124m\"\u001b[39m\u001b[38;5;124moutput\u001b[39m\u001b[38;5;124m\"\u001b[39m]\n",
      "File \u001b[0;32m~/Documents/Documents/Github/IBM_course_AgenticAI/.venv/lib/python3.12/site-packages/crewai/agents/crew_agent_executor.py:149\u001b[0m, in \u001b[0;36mCrewAgentExecutor.invoke\u001b[0;34m(self, inputs)\u001b[0m\n\u001b[1;32m    146\u001b[0m \u001b[38;5;28mself\u001b[39m\u001b[38;5;241m.\u001b[39mask_for_human_input \u001b[38;5;241m=\u001b[39m \u001b[38;5;28mbool\u001b[39m(inputs\u001b[38;5;241m.\u001b[39mget(\u001b[38;5;124m\"\u001b[39m\u001b[38;5;124mask_for_human_input\u001b[39m\u001b[38;5;124m\"\u001b[39m, \u001b[38;5;28;01mFalse\u001b[39;00m))\n\u001b[1;32m    148\u001b[0m \u001b[38;5;28;01mtry\u001b[39;00m:\n\u001b[0;32m--> 149\u001b[0m     formatted_answer \u001b[38;5;241m=\u001b[39m \u001b[38;5;28;43mself\u001b[39;49m\u001b[38;5;241;43m.\u001b[39;49m\u001b[43m_invoke_loop\u001b[49m\u001b[43m(\u001b[49m\u001b[43m)\u001b[49m\n\u001b[1;32m    150\u001b[0m \u001b[38;5;28;01mexcept\u001b[39;00m \u001b[38;5;167;01mAssertionError\u001b[39;00m:\n\u001b[1;32m    151\u001b[0m     \u001b[38;5;28mself\u001b[39m\u001b[38;5;241m.\u001b[39m_printer\u001b[38;5;241m.\u001b[39mprint(\n\u001b[1;32m    152\u001b[0m         content\u001b[38;5;241m=\u001b[39m\u001b[38;5;124m\"\u001b[39m\u001b[38;5;124mAgent failed to reach a final answer. This is likely a bug - please report it.\u001b[39m\u001b[38;5;124m\"\u001b[39m,\n\u001b[1;32m    153\u001b[0m         color\u001b[38;5;241m=\u001b[39m\u001b[38;5;124m\"\u001b[39m\u001b[38;5;124mred\u001b[39m\u001b[38;5;124m\"\u001b[39m,\n\u001b[1;32m    154\u001b[0m     )\n",
      "File \u001b[0;32m~/Documents/Documents/Github/IBM_course_AgenticAI/.venv/lib/python3.12/site-packages/crewai/agents/crew_agent_executor.py:243\u001b[0m, in \u001b[0;36mCrewAgentExecutor._invoke_loop\u001b[0;34m(self)\u001b[0m\n\u001b[1;32m    240\u001b[0m \u001b[38;5;28;01mexcept\u001b[39;00m \u001b[38;5;167;01mException\u001b[39;00m \u001b[38;5;28;01mas\u001b[39;00m e:\n\u001b[1;32m    241\u001b[0m     \u001b[38;5;28;01mif\u001b[39;00m e\u001b[38;5;241m.\u001b[39m\u001b[38;5;18m__class__\u001b[39m\u001b[38;5;241m.\u001b[39m\u001b[38;5;18m__module__\u001b[39m\u001b[38;5;241m.\u001b[39mstartswith(\u001b[38;5;124m\"\u001b[39m\u001b[38;5;124mlitellm\u001b[39m\u001b[38;5;124m\"\u001b[39m):\n\u001b[1;32m    242\u001b[0m         \u001b[38;5;66;03m# Do not retry on litellm errors\u001b[39;00m\n\u001b[0;32m--> 243\u001b[0m         \u001b[38;5;28;01mraise\u001b[39;00m e\n\u001b[1;32m    244\u001b[0m     \u001b[38;5;28;01mif\u001b[39;00m is_context_length_exceeded(e):\n\u001b[1;32m    245\u001b[0m         handle_context_length(\n\u001b[1;32m    246\u001b[0m             respect_context_window\u001b[38;5;241m=\u001b[39m\u001b[38;5;28mself\u001b[39m\u001b[38;5;241m.\u001b[39mrespect_context_window,\n\u001b[1;32m    247\u001b[0m             printer\u001b[38;5;241m=\u001b[39m\u001b[38;5;28mself\u001b[39m\u001b[38;5;241m.\u001b[39m_printer,\n\u001b[0;32m   (...)\u001b[0m\n\u001b[1;32m    251\u001b[0m             i18n\u001b[38;5;241m=\u001b[39m\u001b[38;5;28mself\u001b[39m\u001b[38;5;241m.\u001b[39m_i18n,\n\u001b[1;32m    252\u001b[0m         )\n",
      "File \u001b[0;32m~/Documents/Documents/Github/IBM_course_AgenticAI/.venv/lib/python3.12/site-packages/crewai/agents/crew_agent_executor.py:189\u001b[0m, in \u001b[0;36mCrewAgentExecutor._invoke_loop\u001b[0;34m(self)\u001b[0m\n\u001b[1;32m    178\u001b[0m     formatted_answer \u001b[38;5;241m=\u001b[39m handle_max_iterations_exceeded(\n\u001b[1;32m    179\u001b[0m         formatted_answer,\n\u001b[1;32m    180\u001b[0m         printer\u001b[38;5;241m=\u001b[39m\u001b[38;5;28mself\u001b[39m\u001b[38;5;241m.\u001b[39m_printer,\n\u001b[0;32m   (...)\u001b[0m\n\u001b[1;32m    184\u001b[0m         callbacks\u001b[38;5;241m=\u001b[39m\u001b[38;5;28mself\u001b[39m\u001b[38;5;241m.\u001b[39mcallbacks,\n\u001b[1;32m    185\u001b[0m     )\n\u001b[1;32m    187\u001b[0m enforce_rpm_limit(\u001b[38;5;28mself\u001b[39m\u001b[38;5;241m.\u001b[39mrequest_within_rpm_limit)\n\u001b[0;32m--> 189\u001b[0m answer \u001b[38;5;241m=\u001b[39m \u001b[43mget_llm_response\u001b[49m\u001b[43m(\u001b[49m\n\u001b[1;32m    190\u001b[0m \u001b[43m    \u001b[49m\u001b[43mllm\u001b[49m\u001b[38;5;241;43m=\u001b[39;49m\u001b[38;5;28;43mself\u001b[39;49m\u001b[38;5;241;43m.\u001b[39;49m\u001b[43mllm\u001b[49m\u001b[43m,\u001b[49m\n\u001b[1;32m    191\u001b[0m \u001b[43m    \u001b[49m\u001b[43mmessages\u001b[49m\u001b[38;5;241;43m=\u001b[39;49m\u001b[38;5;28;43mself\u001b[39;49m\u001b[38;5;241;43m.\u001b[39;49m\u001b[43mmessages\u001b[49m\u001b[43m,\u001b[49m\n\u001b[1;32m    192\u001b[0m \u001b[43m    \u001b[49m\u001b[43mcallbacks\u001b[49m\u001b[38;5;241;43m=\u001b[39;49m\u001b[38;5;28;43mself\u001b[39;49m\u001b[38;5;241;43m.\u001b[39;49m\u001b[43mcallbacks\u001b[49m\u001b[43m,\u001b[49m\n\u001b[1;32m    193\u001b[0m \u001b[43m    \u001b[49m\u001b[43mprinter\u001b[49m\u001b[38;5;241;43m=\u001b[39;49m\u001b[38;5;28;43mself\u001b[39;49m\u001b[38;5;241;43m.\u001b[39;49m\u001b[43m_printer\u001b[49m\u001b[43m,\u001b[49m\n\u001b[1;32m    194\u001b[0m \u001b[43m    \u001b[49m\u001b[43mfrom_task\u001b[49m\u001b[38;5;241;43m=\u001b[39;49m\u001b[38;5;28;43mself\u001b[39;49m\u001b[38;5;241;43m.\u001b[39;49m\u001b[43mtask\u001b[49m\u001b[43m,\u001b[49m\n\u001b[1;32m    195\u001b[0m \u001b[43m\u001b[49m\u001b[43m)\u001b[49m\n\u001b[1;32m    196\u001b[0m formatted_answer \u001b[38;5;241m=\u001b[39m process_llm_response(answer, \u001b[38;5;28mself\u001b[39m\u001b[38;5;241m.\u001b[39muse_stop_words)\n\u001b[1;32m    198\u001b[0m \u001b[38;5;28;01mif\u001b[39;00m \u001b[38;5;28misinstance\u001b[39m(formatted_answer, AgentAction):\n\u001b[1;32m    199\u001b[0m     \u001b[38;5;66;03m# Extract agent fingerprint if available\u001b[39;00m\n",
      "File \u001b[0;32m~/Documents/Documents/Github/IBM_course_AgenticAI/.venv/lib/python3.12/site-packages/crewai/utilities/agent_utils.py:159\u001b[0m, in \u001b[0;36mget_llm_response\u001b[0;34m(llm, messages, callbacks, printer, from_task, from_agent)\u001b[0m\n\u001b[1;32m    152\u001b[0m     answer \u001b[38;5;241m=\u001b[39m llm\u001b[38;5;241m.\u001b[39mcall(\n\u001b[1;32m    153\u001b[0m         messages,\n\u001b[1;32m    154\u001b[0m         callbacks\u001b[38;5;241m=\u001b[39mcallbacks,\n\u001b[1;32m    155\u001b[0m         from_task\u001b[38;5;241m=\u001b[39mfrom_task,\n\u001b[1;32m    156\u001b[0m         from_agent\u001b[38;5;241m=\u001b[39mfrom_agent,\n\u001b[1;32m    157\u001b[0m     )\n\u001b[1;32m    158\u001b[0m \u001b[38;5;28;01mexcept\u001b[39;00m \u001b[38;5;167;01mException\u001b[39;00m \u001b[38;5;28;01mas\u001b[39;00m e:\n\u001b[0;32m--> 159\u001b[0m     \u001b[38;5;28;01mraise\u001b[39;00m e\n\u001b[1;32m    160\u001b[0m \u001b[38;5;28;01mif\u001b[39;00m \u001b[38;5;129;01mnot\u001b[39;00m answer:\n\u001b[1;32m    161\u001b[0m     printer\u001b[38;5;241m.\u001b[39mprint(\n\u001b[1;32m    162\u001b[0m         content\u001b[38;5;241m=\u001b[39m\u001b[38;5;124m\"\u001b[39m\u001b[38;5;124mReceived None or empty response from LLM call.\u001b[39m\u001b[38;5;124m\"\u001b[39m,\n\u001b[1;32m    163\u001b[0m         color\u001b[38;5;241m=\u001b[39m\u001b[38;5;124m\"\u001b[39m\u001b[38;5;124mred\u001b[39m\u001b[38;5;124m\"\u001b[39m,\n\u001b[1;32m    164\u001b[0m     )\n",
      "File \u001b[0;32m~/Documents/Documents/Github/IBM_course_AgenticAI/.venv/lib/python3.12/site-packages/crewai/utilities/agent_utils.py:152\u001b[0m, in \u001b[0;36mget_llm_response\u001b[0;34m(llm, messages, callbacks, printer, from_task, from_agent)\u001b[0m\n\u001b[1;32m    150\u001b[0m \u001b[38;5;250m\u001b[39m\u001b[38;5;124;03m\"\"\"Call the LLM and return the response, handling any invalid responses.\"\"\"\u001b[39;00m\n\u001b[1;32m    151\u001b[0m \u001b[38;5;28;01mtry\u001b[39;00m:\n\u001b[0;32m--> 152\u001b[0m     answer \u001b[38;5;241m=\u001b[39m \u001b[43mllm\u001b[49m\u001b[38;5;241;43m.\u001b[39;49m\u001b[43mcall\u001b[49m\u001b[43m(\u001b[49m\n\u001b[1;32m    153\u001b[0m \u001b[43m        \u001b[49m\u001b[43mmessages\u001b[49m\u001b[43m,\u001b[49m\n\u001b[1;32m    154\u001b[0m \u001b[43m        \u001b[49m\u001b[43mcallbacks\u001b[49m\u001b[38;5;241;43m=\u001b[39;49m\u001b[43mcallbacks\u001b[49m\u001b[43m,\u001b[49m\n\u001b[1;32m    155\u001b[0m \u001b[43m        \u001b[49m\u001b[43mfrom_task\u001b[49m\u001b[38;5;241;43m=\u001b[39;49m\u001b[43mfrom_task\u001b[49m\u001b[43m,\u001b[49m\n\u001b[1;32m    156\u001b[0m \u001b[43m        \u001b[49m\u001b[43mfrom_agent\u001b[49m\u001b[38;5;241;43m=\u001b[39;49m\u001b[43mfrom_agent\u001b[49m\u001b[43m,\u001b[49m\n\u001b[1;32m    157\u001b[0m \u001b[43m    \u001b[49m\u001b[43m)\u001b[49m\n\u001b[1;32m    158\u001b[0m \u001b[38;5;28;01mexcept\u001b[39;00m \u001b[38;5;167;01mException\u001b[39;00m \u001b[38;5;28;01mas\u001b[39;00m e:\n\u001b[1;32m    159\u001b[0m     \u001b[38;5;28;01mraise\u001b[39;00m e\n",
      "File \u001b[0;32m~/Documents/Documents/Github/IBM_course_AgenticAI/.venv/lib/python3.12/site-packages/crewai/llm.py:1032\u001b[0m, in \u001b[0;36mLLM.call\u001b[0;34m(self, messages, tools, callbacks, available_functions, from_task, from_agent)\u001b[0m\n\u001b[1;32m   1028\u001b[0m         \u001b[38;5;28;01mreturn\u001b[39;00m \u001b[38;5;28mself\u001b[39m\u001b[38;5;241m.\u001b[39m_handle_streaming_response(\n\u001b[1;32m   1029\u001b[0m             params, callbacks, available_functions, from_task, from_agent\n\u001b[1;32m   1030\u001b[0m         )\n\u001b[1;32m   1031\u001b[0m     \u001b[38;5;28;01melse\u001b[39;00m:\n\u001b[0;32m-> 1032\u001b[0m         \u001b[38;5;28;01mreturn\u001b[39;00m \u001b[38;5;28;43mself\u001b[39;49m\u001b[38;5;241;43m.\u001b[39;49m\u001b[43m_handle_non_streaming_response\u001b[49m\u001b[43m(\u001b[49m\n\u001b[1;32m   1033\u001b[0m \u001b[43m            \u001b[49m\u001b[43mparams\u001b[49m\u001b[43m,\u001b[49m\u001b[43m \u001b[49m\u001b[43mcallbacks\u001b[49m\u001b[43m,\u001b[49m\u001b[43m \u001b[49m\u001b[43mavailable_functions\u001b[49m\u001b[43m,\u001b[49m\u001b[43m \u001b[49m\u001b[43mfrom_task\u001b[49m\u001b[43m,\u001b[49m\u001b[43m \u001b[49m\u001b[43mfrom_agent\u001b[49m\n\u001b[1;32m   1034\u001b[0m \u001b[43m        \u001b[49m\u001b[43m)\u001b[49m\n\u001b[1;32m   1036\u001b[0m \u001b[38;5;28;01mexcept\u001b[39;00m LLMContextLengthExceededException:\n\u001b[1;32m   1037\u001b[0m     \u001b[38;5;66;03m# Re-raise LLMContextLengthExceededException as it should be handled\u001b[39;00m\n\u001b[1;32m   1038\u001b[0m     \u001b[38;5;66;03m# by the CrewAgentExecutor._invoke_loop method, which can then decide\u001b[39;00m\n\u001b[1;32m   1039\u001b[0m     \u001b[38;5;66;03m# whether to summarize the content or abort based on the respect_context_window flag\u001b[39;00m\n\u001b[1;32m   1040\u001b[0m     \u001b[38;5;28;01mraise\u001b[39;00m\n",
      "File \u001b[0;32m~/Documents/Documents/Github/IBM_course_AgenticAI/.venv/lib/python3.12/site-packages/crewai/llm.py:813\u001b[0m, in \u001b[0;36mLLM._handle_non_streaming_response\u001b[0;34m(self, params, callbacks, available_functions, from_task, from_agent)\u001b[0m\n\u001b[1;32m    807\u001b[0m \u001b[38;5;66;03m# --- 1) Make the completion call\u001b[39;00m\n\u001b[1;32m    808\u001b[0m \u001b[38;5;28;01mtry\u001b[39;00m:\n\u001b[1;32m    809\u001b[0m     \u001b[38;5;66;03m# Attempt to make the completion call, but catch context window errors\u001b[39;00m\n\u001b[1;32m    810\u001b[0m     \u001b[38;5;66;03m# and convert them to our own exception type for consistent handling\u001b[39;00m\n\u001b[1;32m    811\u001b[0m     \u001b[38;5;66;03m# across the codebase. This allows CrewAgentExecutor to handle context\u001b[39;00m\n\u001b[1;32m    812\u001b[0m     \u001b[38;5;66;03m# length issues appropriately.\u001b[39;00m\n\u001b[0;32m--> 813\u001b[0m     response \u001b[38;5;241m=\u001b[39m \u001b[43mlitellm\u001b[49m\u001b[38;5;241;43m.\u001b[39;49m\u001b[43mcompletion\u001b[49m\u001b[43m(\u001b[49m\u001b[38;5;241;43m*\u001b[39;49m\u001b[38;5;241;43m*\u001b[39;49m\u001b[43mparams\u001b[49m\u001b[43m)\u001b[49m\n\u001b[1;32m    815\u001b[0m \u001b[38;5;28;01mexcept\u001b[39;00m ContextWindowExceededError \u001b[38;5;28;01mas\u001b[39;00m e:\n\u001b[1;32m    816\u001b[0m     \u001b[38;5;66;03m# Convert litellm's context window error to our own exception type\u001b[39;00m\n\u001b[1;32m    817\u001b[0m     \u001b[38;5;66;03m# for consistent handling in the rest of the codebase\u001b[39;00m\n\u001b[1;32m    818\u001b[0m     \u001b[38;5;28;01mraise\u001b[39;00m LLMContextLengthExceededException(\u001b[38;5;28mstr\u001b[39m(e))\n",
      "File \u001b[0;32m~/Documents/Documents/Github/IBM_course_AgenticAI/.venv/lib/python3.12/site-packages/litellm/utils.py:1330\u001b[0m, in \u001b[0;36mclient.<locals>.wrapper\u001b[0;34m(*args, **kwargs)\u001b[0m\n\u001b[1;32m   1326\u001b[0m \u001b[38;5;28;01mif\u001b[39;00m logging_obj:\n\u001b[1;32m   1327\u001b[0m     logging_obj\u001b[38;5;241m.\u001b[39mfailure_handler(\n\u001b[1;32m   1328\u001b[0m         e, traceback_exception, start_time, end_time\n\u001b[1;32m   1329\u001b[0m     )  \u001b[38;5;66;03m# DO NOT MAKE THREADED - router retry fallback relies on this!\u001b[39;00m\n\u001b[0;32m-> 1330\u001b[0m \u001b[38;5;28;01mraise\u001b[39;00m e\n",
      "File \u001b[0;32m~/Documents/Documents/Github/IBM_course_AgenticAI/.venv/lib/python3.12/site-packages/litellm/utils.py:1205\u001b[0m, in \u001b[0;36mclient.<locals>.wrapper\u001b[0;34m(*args, **kwargs)\u001b[0m\n\u001b[1;32m   1203\u001b[0m         print_verbose(\u001b[38;5;124mf\u001b[39m\u001b[38;5;124m\"\u001b[39m\u001b[38;5;124mError while checking max token limit: \u001b[39m\u001b[38;5;132;01m{\u001b[39;00m\u001b[38;5;28mstr\u001b[39m(e)\u001b[38;5;132;01m}\u001b[39;00m\u001b[38;5;124m\"\u001b[39m)\n\u001b[1;32m   1204\u001b[0m \u001b[38;5;66;03m# MODEL CALL\u001b[39;00m\n\u001b[0;32m-> 1205\u001b[0m result \u001b[38;5;241m=\u001b[39m \u001b[43moriginal_function\u001b[49m\u001b[43m(\u001b[49m\u001b[38;5;241;43m*\u001b[39;49m\u001b[43margs\u001b[49m\u001b[43m,\u001b[49m\u001b[43m \u001b[49m\u001b[38;5;241;43m*\u001b[39;49m\u001b[38;5;241;43m*\u001b[39;49m\u001b[43mkwargs\u001b[49m\u001b[43m)\u001b[49m\n\u001b[1;32m   1206\u001b[0m end_time \u001b[38;5;241m=\u001b[39m datetime\u001b[38;5;241m.\u001b[39mdatetime\u001b[38;5;241m.\u001b[39mnow()\n\u001b[1;32m   1207\u001b[0m \u001b[38;5;28;01mif\u001b[39;00m _is_streaming_request(\n\u001b[1;32m   1208\u001b[0m     kwargs\u001b[38;5;241m=\u001b[39mkwargs,\n\u001b[1;32m   1209\u001b[0m     call_type\u001b[38;5;241m=\u001b[39mcall_type,\n\u001b[1;32m   1210\u001b[0m ):\n",
      "File \u001b[0;32m~/Documents/Documents/Github/IBM_course_AgenticAI/.venv/lib/python3.12/site-packages/litellm/main.py:3427\u001b[0m, in \u001b[0;36mcompletion\u001b[0;34m(model, messages, timeout, temperature, top_p, n, stream, stream_options, stop, max_completion_tokens, max_tokens, modalities, prediction, audio, presence_penalty, frequency_penalty, logit_bias, user, reasoning_effort, response_format, seed, tools, tool_choice, logprobs, top_logprobs, parallel_tool_calls, web_search_options, deployment_id, extra_headers, functions, function_call, base_url, api_version, api_key, model_list, thinking, **kwargs)\u001b[0m\n\u001b[1;32m   3424\u001b[0m     \u001b[38;5;28;01mreturn\u001b[39;00m response\n\u001b[1;32m   3425\u001b[0m \u001b[38;5;28;01mexcept\u001b[39;00m \u001b[38;5;167;01mException\u001b[39;00m \u001b[38;5;28;01mas\u001b[39;00m e:\n\u001b[1;32m   3426\u001b[0m     \u001b[38;5;66;03m## Map to OpenAI Exception\u001b[39;00m\n\u001b[0;32m-> 3427\u001b[0m     \u001b[38;5;28;01mraise\u001b[39;00m exception_type(\n\u001b[1;32m   3428\u001b[0m         model\u001b[38;5;241m=\u001b[39mmodel,\n\u001b[1;32m   3429\u001b[0m         custom_llm_provider\u001b[38;5;241m=\u001b[39mcustom_llm_provider,\n\u001b[1;32m   3430\u001b[0m         original_exception\u001b[38;5;241m=\u001b[39me,\n\u001b[1;32m   3431\u001b[0m         completion_kwargs\u001b[38;5;241m=\u001b[39margs,\n\u001b[1;32m   3432\u001b[0m         extra_kwargs\u001b[38;5;241m=\u001b[39mkwargs,\n\u001b[1;32m   3433\u001b[0m     )\n",
      "File \u001b[0;32m~/Documents/Documents/Github/IBM_course_AgenticAI/.venv/lib/python3.12/site-packages/litellm/main.py:1097\u001b[0m, in \u001b[0;36mcompletion\u001b[0;34m(model, messages, timeout, temperature, top_p, n, stream, stream_options, stop, max_completion_tokens, max_tokens, modalities, prediction, audio, presence_penalty, frequency_penalty, logit_bias, user, reasoning_effort, response_format, seed, tools, tool_choice, logprobs, top_logprobs, parallel_tool_calls, web_search_options, deployment_id, extra_headers, functions, function_call, base_url, api_version, api_key, model_list, thinking, **kwargs)\u001b[0m\n\u001b[1;32m   1095\u001b[0m     model \u001b[38;5;241m=\u001b[39m deployment_id\n\u001b[1;32m   1096\u001b[0m     custom_llm_provider \u001b[38;5;241m=\u001b[39m \u001b[38;5;124m\"\u001b[39m\u001b[38;5;124mazure\u001b[39m\u001b[38;5;124m\"\u001b[39m\n\u001b[0;32m-> 1097\u001b[0m model, custom_llm_provider, dynamic_api_key, api_base \u001b[38;5;241m=\u001b[39m \u001b[43mget_llm_provider\u001b[49m\u001b[43m(\u001b[49m\n\u001b[1;32m   1098\u001b[0m \u001b[43m    \u001b[49m\u001b[43mmodel\u001b[49m\u001b[38;5;241;43m=\u001b[39;49m\u001b[43mmodel\u001b[49m\u001b[43m,\u001b[49m\n\u001b[1;32m   1099\u001b[0m \u001b[43m    \u001b[49m\u001b[43mcustom_llm_provider\u001b[49m\u001b[38;5;241;43m=\u001b[39;49m\u001b[43mcustom_llm_provider\u001b[49m\u001b[43m,\u001b[49m\n\u001b[1;32m   1100\u001b[0m \u001b[43m    \u001b[49m\u001b[43mapi_base\u001b[49m\u001b[38;5;241;43m=\u001b[39;49m\u001b[43mapi_base\u001b[49m\u001b[43m,\u001b[49m\n\u001b[1;32m   1101\u001b[0m \u001b[43m    \u001b[49m\u001b[43mapi_key\u001b[49m\u001b[38;5;241;43m=\u001b[39;49m\u001b[43mapi_key\u001b[49m\u001b[43m,\u001b[49m\n\u001b[1;32m   1102\u001b[0m \u001b[43m\u001b[49m\u001b[43m)\u001b[49m\n\u001b[1;32m   1104\u001b[0m \u001b[38;5;28;01mif\u001b[39;00m (\n\u001b[1;32m   1105\u001b[0m     provider_specific_header \u001b[38;5;129;01mis\u001b[39;00m \u001b[38;5;129;01mnot\u001b[39;00m \u001b[38;5;28;01mNone\u001b[39;00m\n\u001b[1;32m   1106\u001b[0m     \u001b[38;5;129;01mand\u001b[39;00m provider_specific_header[\u001b[38;5;124m\"\u001b[39m\u001b[38;5;124mcustom_llm_provider\u001b[39m\u001b[38;5;124m\"\u001b[39m] \u001b[38;5;241m==\u001b[39m custom_llm_provider\n\u001b[1;32m   1107\u001b[0m ):\n\u001b[1;32m   1108\u001b[0m     headers\u001b[38;5;241m.\u001b[39mupdate(provider_specific_header[\u001b[38;5;124m\"\u001b[39m\u001b[38;5;124mextra_headers\u001b[39m\u001b[38;5;124m\"\u001b[39m])\n",
      "File \u001b[0;32m~/Documents/Documents/Github/IBM_course_AgenticAI/.venv/lib/python3.12/site-packages/litellm/litellm_core_utils/get_llm_provider_logic.py:391\u001b[0m, in \u001b[0;36mget_llm_provider\u001b[0;34m(model, custom_llm_provider, api_base, api_key, litellm_params)\u001b[0m\n\u001b[1;32m    389\u001b[0m \u001b[38;5;28;01mexcept\u001b[39;00m \u001b[38;5;167;01mException\u001b[39;00m \u001b[38;5;28;01mas\u001b[39;00m e:\n\u001b[1;32m    390\u001b[0m     \u001b[38;5;28;01mif\u001b[39;00m \u001b[38;5;28misinstance\u001b[39m(e, litellm\u001b[38;5;241m.\u001b[39mexceptions\u001b[38;5;241m.\u001b[39mBadRequestError):\n\u001b[0;32m--> 391\u001b[0m         \u001b[38;5;28;01mraise\u001b[39;00m e\n\u001b[1;32m    392\u001b[0m     \u001b[38;5;28;01melse\u001b[39;00m:\n\u001b[1;32m    393\u001b[0m         error_str \u001b[38;5;241m=\u001b[39m (\n\u001b[1;32m    394\u001b[0m             \u001b[38;5;124mf\u001b[39m\u001b[38;5;124m\"\u001b[39m\u001b[38;5;124mGetLLMProvider Exception - \u001b[39m\u001b[38;5;132;01m{\u001b[39;00m\u001b[38;5;28mstr\u001b[39m(e)\u001b[38;5;132;01m}\u001b[39;00m\u001b[38;5;130;01m\\n\u001b[39;00m\u001b[38;5;130;01m\\n\u001b[39;00m\u001b[38;5;124moriginal model: \u001b[39m\u001b[38;5;132;01m{\u001b[39;00mmodel\u001b[38;5;132;01m}\u001b[39;00m\u001b[38;5;124m\"\u001b[39m\n\u001b[1;32m    395\u001b[0m         )\n",
      "File \u001b[0;32m~/Documents/Documents/Github/IBM_course_AgenticAI/.venv/lib/python3.12/site-packages/litellm/litellm_core_utils/get_llm_provider_logic.py:368\u001b[0m, in \u001b[0;36mget_llm_provider\u001b[0;34m(model, custom_llm_provider, api_base, api_key, litellm_params)\u001b[0m\n\u001b[1;32m    366\u001b[0m     error_str \u001b[38;5;241m=\u001b[39m \u001b[38;5;124mf\u001b[39m\u001b[38;5;124m\"\u001b[39m\u001b[38;5;124mLLM Provider NOT provided. Pass in the LLM provider you are trying to call. You passed model=\u001b[39m\u001b[38;5;132;01m{\u001b[39;00mmodel\u001b[38;5;132;01m}\u001b[39;00m\u001b[38;5;130;01m\\n\u001b[39;00m\u001b[38;5;124m Pass model as E.g. For \u001b[39m\u001b[38;5;124m'\u001b[39m\u001b[38;5;124mHuggingface\u001b[39m\u001b[38;5;124m'\u001b[39m\u001b[38;5;124m inference endpoints pass in `completion(model=\u001b[39m\u001b[38;5;124m'\u001b[39m\u001b[38;5;124mhuggingface/starcoder\u001b[39m\u001b[38;5;124m'\u001b[39m\u001b[38;5;124m,..)` Learn more: https://docs.litellm.ai/docs/providers\u001b[39m\u001b[38;5;124m\"\u001b[39m\n\u001b[1;32m    367\u001b[0m     \u001b[38;5;66;03m# maps to openai.NotFoundError, this is raised when openai does not recognize the llm\u001b[39;00m\n\u001b[0;32m--> 368\u001b[0m     \u001b[38;5;28;01mraise\u001b[39;00m litellm\u001b[38;5;241m.\u001b[39mexceptions\u001b[38;5;241m.\u001b[39mBadRequestError(  \u001b[38;5;66;03m# type: ignore\u001b[39;00m\n\u001b[1;32m    369\u001b[0m         message\u001b[38;5;241m=\u001b[39merror_str,\n\u001b[1;32m    370\u001b[0m         model\u001b[38;5;241m=\u001b[39mmodel,\n\u001b[1;32m    371\u001b[0m         response\u001b[38;5;241m=\u001b[39mhttpx\u001b[38;5;241m.\u001b[39mResponse(\n\u001b[1;32m    372\u001b[0m             status_code\u001b[38;5;241m=\u001b[39m\u001b[38;5;241m400\u001b[39m,\n\u001b[1;32m    373\u001b[0m             content\u001b[38;5;241m=\u001b[39merror_str,\n\u001b[1;32m    374\u001b[0m             request\u001b[38;5;241m=\u001b[39mhttpx\u001b[38;5;241m.\u001b[39mRequest(method\u001b[38;5;241m=\u001b[39m\u001b[38;5;124m\"\u001b[39m\u001b[38;5;124mcompletion\u001b[39m\u001b[38;5;124m\"\u001b[39m, url\u001b[38;5;241m=\u001b[39m\u001b[38;5;124m\"\u001b[39m\u001b[38;5;124mhttps://github.com/BerriAI/litellm\u001b[39m\u001b[38;5;124m\"\u001b[39m),  \u001b[38;5;66;03m# type: ignore\u001b[39;00m\n\u001b[1;32m    375\u001b[0m         ),\n\u001b[1;32m    376\u001b[0m         llm_provider\u001b[38;5;241m=\u001b[39m\u001b[38;5;124m\"\u001b[39m\u001b[38;5;124m\"\u001b[39m,\n\u001b[1;32m    377\u001b[0m     )\n\u001b[1;32m    378\u001b[0m \u001b[38;5;28;01mif\u001b[39;00m api_base \u001b[38;5;129;01mis\u001b[39;00m \u001b[38;5;129;01mnot\u001b[39;00m \u001b[38;5;28;01mNone\u001b[39;00m \u001b[38;5;129;01mand\u001b[39;00m \u001b[38;5;129;01mnot\u001b[39;00m \u001b[38;5;28misinstance\u001b[39m(api_base, \u001b[38;5;28mstr\u001b[39m):\n\u001b[1;32m    379\u001b[0m     \u001b[38;5;28;01mraise\u001b[39;00m \u001b[38;5;167;01mException\u001b[39;00m(\n\u001b[1;32m    380\u001b[0m         \u001b[38;5;124m\"\u001b[39m\u001b[38;5;124mapi base needs to be a string. api_base=\u001b[39m\u001b[38;5;132;01m{}\u001b[39;00m\u001b[38;5;124m\"\u001b[39m\u001b[38;5;241m.\u001b[39mformat(api_base)\n\u001b[1;32m    381\u001b[0m     )\n",
      "\u001b[0;31mBadRequestError\u001b[0m: litellm.BadRequestError: LLM Provider NOT provided. Pass in the LLM provider you are trying to call. You passed model=llama-3.1-8b-instant\n Pass model as E.g. For 'Huggingface' inference endpoints pass in `completion(model='huggingface/starcoder',..)` Learn more: https://docs.litellm.ai/docs/providers"
     ]
    }
   ],
   "source": [
    "result = crew.kickoff(inputs={\"topic\": \"Latest Generative AI breakthroughs\"})"
   ]
  },
  {
   "cell_type": "markdown",
   "id": "3d96147f-c34a-417a-8dca-1515b88018f2",
   "metadata": {},
   "source": [
    "The result is a ```crew_output``` \n"
   ]
  },
  {
   "cell_type": "code",
   "execution_count": 31,
   "id": "b997404a-6481-48c9-b7a5-499afa7c8d45",
   "metadata": {},
   "outputs": [
    {
     "ename": "NameError",
     "evalue": "name 'result' is not defined",
     "output_type": "error",
     "traceback": [
      "\u001b[0;31m---------------------------------------------------------------------------\u001b[0m",
      "\u001b[0;31mNameError\u001b[0m                                 Traceback (most recent call last)",
      "Cell \u001b[0;32mIn[31], line 1\u001b[0m\n\u001b[0;32m----> 1\u001b[0m \u001b[38;5;28mtype\u001b[39m(\u001b[43mresult\u001b[49m)\n",
      "\u001b[0;31mNameError\u001b[0m: name 'result' is not defined"
     ]
    }
   ],
   "source": [
    "type(result)"
   ]
  },
  {
   "cell_type": "code",
   "execution_count": null,
   "id": "e9f70786-56c6-4692-9161-973541402429",
   "metadata": {},
   "outputs": [],
   "source": [
    "result"
   ]
  },
  {
   "cell_type": "markdown",
   "id": "e66f7063-02c1-413b-b7ba-9a850a4c9dd6",
   "metadata": {},
   "source": [
    "The `result.raw` output text contains the final content produced by our last agent in the workflow. We can easily access this text to see the complete results:\n"
   ]
  },
  {
   "cell_type": "code",
   "execution_count": null,
   "id": "b9e07f56-feb0-4b19-bfea-5e17f88ec91a",
   "metadata": {},
   "outputs": [],
   "source": [
    "final_output = result.raw\n",
    "print(\"Final output:\", final_output)"
   ]
  },
  {
   "cell_type": "markdown",
   "id": "a291537f-7dec-46be-a76f-54727fb3f9fc",
   "metadata": {},
   "source": [
    "The `tasks_output` list gives us access to outputs from each task in the order they were executed:\n"
   ]
  },
  {
   "cell_type": "code",
   "execution_count": null,
   "id": "b2e12351-1b95-4202-85f0-cea754ac75a4",
   "metadata": {},
   "outputs": [],
   "source": [
    "tasks_outputs = result.tasks_output"
   ]
  },
  {
   "cell_type": "markdown",
   "id": "cd5cc689-233a-4f08-b170-f25505bbbbdf",
   "metadata": {},
   "source": [
    "We see the output of the research task object. This lets us access both the task description and the content the agent produced:\n"
   ]
  },
  {
   "cell_type": "code",
   "execution_count": null,
   "id": "127625be-de41-48d7-b61a-a2665511225e",
   "metadata": {},
   "outputs": [],
   "source": [
    "print(\"Task Description\", tasks_outputs[0].description)\n",
    "print(\"Output of research task \",tasks_outputs[0])"
   ]
  },
  {
   "cell_type": "markdown",
   "id": "4323f37e-2b27-459e-a1c9-95a83fa8c23d",
   "metadata": {},
   "source": [
    "We also have the description and output for the writer task using the raw property:\n"
   ]
  },
  {
   "cell_type": "code",
   "execution_count": null,
   "id": "5c8570f4-76ad-4965-aa33-f29a6e78e2e0",
   "metadata": {},
   "outputs": [],
   "source": [
    "print(\"Writer task description:\", tasks_outputs[1].description)\n",
    "print(\" \\nOutput of writer task:\", tasks_outputs[1].raw)"
   ]
  },
  {
   "cell_type": "markdown",
   "id": "94061df7-77f2-4160-8753-d68487444508",
   "metadata": {},
   "source": [
    "\n",
    "In addition to the task output, we can access the agent that performed each task:\n"
   ]
  },
  {
   "cell_type": "code",
   "execution_count": null,
   "id": "cc553c5f-f42c-4ab6-b19d-9222860383ee",
   "metadata": {},
   "outputs": [],
   "source": [
    "print(\"We can get the agent for researcher task:  \",tasks_outputs[0].agent)\n",
    "print(\"We can get the agent for the writer task: \",tasks_outputs[1].agent)"
   ]
  },
  {
   "cell_type": "markdown",
   "id": "560ede4c-d820-493a-9f33-4e490568c5c0",
   "metadata": {},
   "source": [
    "---\n",
    "After your agents complete their tasks, CrewAI provides detailed performance metrics that help you monitor resource usage and optimize your multi-agent systems. Token usage analytics are particularly important as they directly impact operational costs and system efficiency.\n"
   ]
  },
  {
   "cell_type": "code",
   "execution_count": null,
   "id": "2cb3d4cf-1379-4dc2-8082-f2ebc143beeb",
   "metadata": {},
   "outputs": [],
   "source": [
    "token_count = result.token_usage.total_tokens\n",
    "prompt_tokens = result.token_usage.prompt_tokens\n",
    "completion_tokens = result.token_usage.completion_tokens\n",
    "\n",
    "print(f\"Total tokens used: {token_count}\")\n",
    "print(f\"Prompt tokens: {prompt_tokens} (used for instructions to the model)\")\n",
    "print(f\"Completion tokens: {completion_tokens} (generated in response)\")"
   ]
  },
  {
   "cell_type": "markdown",
   "id": "7c28788f-4188-42e7-bc43-46ff427d330c",
   "metadata": {},
   "source": [
    "## Exercises \n",
    "In these exercises, you will create a web publishing component for your fact-checking application by implementing a web designer agent and task. This final piece will transform the analyzed and written content into a professional webpage that presents verification results clearly to users.\n"
   ]
  },
  {
   "cell_type": "markdown",
   "id": "91ed5e7d-be27-45a5-aa65-a607da0b7902",
   "metadata": {},
   "source": [
    "### Exercise 1: Create a Social Media Strategist Agent\n",
    "\n",
    "Create a Social Media Agent which curates a summary and a short-form version (such as tweets or LinkedIn posts).\n"
   ]
  },
  {
   "cell_type": "code",
   "execution_count": null,
   "id": "d0d1b4df-c902-42ce-b39b-892d2b26446f",
   "metadata": {},
   "outputs": [],
   "source": [
    "#TODO"
   ]
  },
  {
   "cell_type": "markdown",
   "id": "c14256b5-088b-4480-9421-7c166b7118e1",
   "metadata": {},
   "source": [
    "<details>\n",
    "    <summary>Click here for the solution</summary>\n",
    "\n",
    "```python\n",
    "\n",
    "social_agent = Agent(\n",
    "    role='Social Media Strategist',\n",
    "    goal='Generate engaging social media snippets based on the full article',\n",
    "    backstory=\"A digital storyteller who excels at crafting compelling posts to drive engagement and traffic.\",\n",
    "    verbose=True\n",
    ")\n",
    "\n",
    "\n",
    "```\n",
    "\n",
    "</details>\n"
   ]
  },
  {
   "cell_type": "markdown",
   "id": "257490b7-b9f8-496c-8773-a1cdb6fcdfb8",
   "metadata": {},
   "source": [
    "### Exercise 2: Defining a Social Media Strategy Task\n",
    "\n",
    "Create a task for the Social Media Strategist agent to generate engaging and platform-specific posts (such as LinkedIn or X/Twitter) based on the research and blog content. This agent will help amplify the reach of your content by distilling key insights into short, compelling messages.\n"
   ]
  },
  {
   "cell_type": "code",
   "execution_count": null,
   "id": "e584a97b-3b6e-41d2-baa0-4ecf0c51559c",
   "metadata": {},
   "outputs": [],
   "source": [
    "#TODO"
   ]
  },
  {
   "cell_type": "markdown",
   "id": "5b38858b-50aa-4129-9596-26e0b0350ae1",
   "metadata": {},
   "source": [
    "<details>\n",
    "    <summary>Click here for the solution</summary>\n",
    "\n",
    "```python\n",
    "social_task = Task(\n",
    "    description=(\n",
    "        \"Summarize the blog post about {topic} into 2–3 engaging social media posts \"\n",
    "        \"suitable for platforms like LinkedIn or Twitter. Make sure the tone is informative, \"\n",
    "        \"professional, and encourages further reading.\"\n",
    "    ),\n",
    "    agent=social_agent,\n",
    "    expected_output=\"A series of 2–3 well-written social posts highlighting the key insights from the blog content.\"\n",
    ")\n",
    "```\n",
    "\n",
    "</details>\n"
   ]
  },
  {
   "cell_type": "markdown",
   "id": "7bbde17a-236a-4c31-9758-fce732930a0a",
   "metadata": {},
   "source": [
    "### Exercise 3: Create a Complete Crew Object \n",
    "\n",
    "Include research, writing, and social media agents along with their tasks, configured for sequential processing with verbose output and apply the method ```kickoff()``` method.\n"
   ]
  },
  {
   "cell_type": "code",
   "execution_count": null,
   "id": "ab8ed39c-7910-470f-a0d1-13831a119d75",
   "metadata": {},
   "outputs": [],
   "source": [
    "#TODO"
   ]
  },
  {
   "cell_type": "markdown",
   "id": "12a2a815-0da8-43d7-853c-dadb2387ce99",
   "metadata": {},
   "source": [
    "<details>\n",
    "    <summary>Click here for the solution</summary>\n",
    "\n",
    "```python\n",
    "crew = Crew(\n",
    "    agents=[research_agent, writer_agent, social_agent],\n",
    "    tasks=[research_task, writer_task, social_task],\n",
    "    process=Process.sequential,  # Tasks will be executed one after another\n",
    "    verbose=True\n",
    ")\n",
    "\n",
    "# Run the crew and capture the final output (includes research, blog post, and social media content)\n",
    "result = crew.kickoff(inputs={\"topic\": \"Latest Generative AI breakthroughs\"})\n",
    "```\n",
    "\n",
    "</details>\n"
   ]
  },
  {
   "cell_type": "markdown",
   "id": "bc7d580e-7e51-4155-a31e-e34aee43fbb2",
   "metadata": {},
   "source": [
    "## Authors\n"
   ]
  },
  {
   "cell_type": "markdown",
   "id": "9e969752-9cd6-47b8-bcb1-93b945d3cf09",
   "metadata": {},
   "source": [
    "[Karan Goswami](https://author.skills.network/instructors/karan_goswami)\n",
    "\n",
    "[Kunal Makwana](https://author.skills.network/instructors/kunal_makwana)\n"
   ]
  },
  {
   "cell_type": "markdown",
   "id": "6e9f044e-6a51-4e13-9f02-ae98c532b578",
   "metadata": {},
   "source": [
    "## Change Log\n",
    "\n",
    "<details>\n",
    "    <summary>Click here for the changelog</summary>\n",
    "\n",
    "|Date (YYYY-MM-DD)|Version|Changed By|Change Description|\n",
    "|-|-|-|-|\n",
    "|2025-07-17|0.1|Karan Goswami|Initial version created|\n",
    "|2025-07-22|0.2|Steve Ryan|ID review|\n",
    "\n",
    "</details>\n",
    "\n",
    "---\n",
    "\n",
    "\n",
    "Copyright © IBM Corporation. All rights reserved.\n"
   ]
  }
 ],
 "metadata": {
  "kernelspec": {
   "display_name": "IBM_course_AgenticAI",
   "language": "python",
   "name": "python3"
  },
  "language_info": {
   "codemirror_mode": {
    "name": "ipython",
    "version": 3
   },
   "file_extension": ".py",
   "mimetype": "text/x-python",
   "name": "python",
   "nbconvert_exporter": "python",
   "pygments_lexer": "ipython3",
   "version": "3.12.9"
  },
  "prev_pub_hash": "5b234fe413aef6fba0ec65d459d1dea37b8056ba10d7f08d7ca7267857dd2754"
 },
 "nbformat": 4,
 "nbformat_minor": 4
}
