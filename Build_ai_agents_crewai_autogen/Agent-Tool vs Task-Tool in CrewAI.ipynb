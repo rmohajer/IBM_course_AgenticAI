{
 "cells": [
  {
   "cell_type": "markdown",
   "id": "81b99481-db6d-48fb-a33a-629a86b71fb5",
   "metadata": {},
   "source": [
    "<p style=\"text-align:center\">\n",
    "    <a href=\"https://skills.network\" target=\"_blank\">\n",
    "    <img src=\"https://cf-courses-data.s3.us.cloud-object-storage.appdomain.cloud/assets/logos/SN_web_lightmode.png\" width=\"200\" alt=\"Skills Network Logo\"  />\n",
    "    </a>\n",
    "</p>\n"
   ]
  },
  {
   "cell_type": "markdown",
   "id": "27d63fc8-22ff-4e05-b961-c37d1bdcdc61",
   "metadata": {},
   "source": [
    "# **Agents with Tools versus Tasks with Tools in CrewAI**\n"
   ]
  },
  {
   "cell_type": "markdown",
   "id": "c90a9db5-8c16-4252-89f2-58449513de3a",
   "metadata": {},
   "source": [
    "Estimated time needed: **30** minutes\n",
    "\n"
   ]
  },
  {
   "cell_type": "markdown",
   "id": "fa8139ef-fbd9-4cd3-8253-79e580df84c7",
   "metadata": {},
   "source": [
    "Build a specialized agentic AI chatbot with CrewAI in only 30 minutes! This lab will teach you how to use tools with agentic workflows to solve real-world challenges. You'll create and orchestrate AI agents, define multi-step workflows, and explore the differences between assigning tools at the Agent level versus the Task level. This hands-on project is a necessity for all software and machine learning engineers looking to build more efficient and reliable multi-agent systems.\n",
    "\n",
    "Here's your challenge: You've been hired by \"The Daily Dish,\" a popular restaurant with a customer service problem. Chef Maria, the owner, needs your help: \"My team spends hours answering the same questions about reservations, menu details, and our location,\" she explains. \"Build me a chatbot that can handle these inquiries intelligently, so my staff can focus on creating exceptional dining experiences.\" Chef Maria provides a PDF of frequently asked questions (FAQs) to serve as the primary knowledge base.\n",
    "\n",
    "You'll solve this by building a crew of AI agents that can search the FAQ document, browse the web for supplementary information, and synthesize the findings into a friendly, helpful response for the customer. Most importantly, you will learn how to make this process more robust and efficient by assigning tools directly to the tasks that need them.\n"
   ]
  },
  {
   "cell_type": "markdown",
   "id": "6c9d46d8-c521-4c58-8f89-ee9bf8bfb51f",
   "metadata": {},
   "source": [
    "\n",
    "## __Table of Contents__<a id=\"toc\"></a>\n",
    "<ol>\n",
    "    <li><a href=\"#Learning-Objectives\">Learning Objectives</a></li>\n",
    "    <li>\n",
    "        <a href=\"#Setup\">Setup</a>\n",
    "        <ol>\n",
    "            <li><a href=\"#Installing-Required-Libraries\">Installing Required Libraries</a></li>\n",
    "            <li><a href=\"#Importing-Required-Libraries\">Importing Required Libraries</a></li>\n",
    "        </ol>\n",
    "    </li>\n",
    "    <li>\n",
    "        <a href=\"#Project-Roadmap\">Project Roadmap</a>\n",
    "        <ol>\n",
    "            <li><a href=\"#Agentic-AI-with-CrewAI\">Agentic AI with CrewAI</a></li>\n",
    "            <li><a href=\"#The-Role-of-Tools:-Agent-Centric-versus-Task-Centric\">The Role of Tools: Agent-Centric versus Task-Centric</a></li>\n",
    "        </ol>\n",
    "    </li>\n",
    "    <li><a href=\"#Writing-the-Code\">Writing the Code</a>\n",
    "        <ol>\n",
    "            <li><a href=\"#Configuring-our-LLM\">Configuring our LLM</a></li>\n",
    "            <li><a href=\"#Defining-Tools-for-Information-Gathering\">Defining Tools for Information Gathering</a></li>\n",
    "            <li><a href=\"#Approach-1:-The-Standard-Method-(Agent-Centric-Tools)\">Approach 1: The Standard Method (Agent-Centric Tools)</a></li>\n",
    "            <li><a href=\"#Approach-2:-A-More-Focused-Method-(Task-Centric-Tools)\">Approach 2: A More Focused Method (Task-Centric Tools)</a></li>\n",
    "            <li><a href=\"#Chatbot-Execution\">Chatbot Execution</a></li>\n",
    "        </ol>\n",
    "    </li>\n",
    "    <li><a href=\"#Conclusion\">Conclusion</a></li>\n",
    "    <li><a href=\"#Extending-CrewAI-with-Custom-Functions\">Extending CrewAI with Custom Functions</a></li>\n",
    "</ol>\n"
   ]
  },
  {
   "cell_type": "markdown",
   "id": "388838cb-1142-4ec6-8c61-ee7307fdfa9b",
   "metadata": {},
   "source": [
    "## Learning Objectives\n",
    "\n",
    "After completing this lab you will be able to:\n",
    "\n",
    "- Build a customer service chatbot using a multi-agent CrewAI workflow.\n",
    "- Implement tools for information retrieval from both local documents (PDFs) and the web.\n",
    "- Understand and contrast the two primary methods for tool usage in CrewAI: Agent-level versus Task-level assignment.\n",
    "- Design more efficient, predictable, and maintainable agentic workflows by assigning tools directly to tasks.\n"
   ]
  },
  {
   "cell_type": "markdown",
   "id": "3009e032-a89c-40e2-b3fc-b65c9d306f94",
   "metadata": {},
   "source": [
    "---\n"
   ]
  },
  {
   "cell_type": "markdown",
   "id": "3f8c59cf-0bd0-4278-806b-dec7a59d0fd0",
   "metadata": {},
   "source": [
    "## Setup\n"
   ]
  },
  {
   "cell_type": "markdown",
   "id": "04447434-0e3b-4e5d-9c59-9249eff5b5c9",
   "metadata": {},
   "source": [
    "For this lab, we will be using the following libraries:\n",
    "\n",
    "* [`crewai`](https://docs.crewai.com/introduction) for creating AI Agents and orchestrating workflows.\n",
    "* [`crewai_tools`](https://docs.crewai.com/core-concepts/Tools/) to equip our AI Agents with powerful pre-built tools.\n",
    "* [`langchain-community`](https://python.langchain.com/docs/integrations/tools/) for additional community-provided tools.\n",
    "* [`langchain-huggingface`](https://python.langchain.com/docs/integrations/providers/huggingface/) to power our PDF searching tool.\n",
    "* [`sentence-transformers`](https://python.langchain.com/docs/integrations/text_embedding/sentence_transformers/) as the embedding model for our PDF searching tool.\n"
   ]
  },
  {
   "cell_type": "markdown",
   "id": "a70f61e6-7b17-4c4f-82f7-45c66cbce677",
   "metadata": {},
   "source": [
    "### Installing Required Libraries\n",
    "\n",
    "Installing the libraries might take a few minutes. If you find any pip dependency errors, simply restart the kernel by going to `Kernel -> Restart Kernel` and execute the next cell (not the one below).\n"
   ]
  },
  {
   "cell_type": "code",
   "execution_count": null,
   "id": "d0a086fd-370e-46fe-afac-f16a77f94779",
   "metadata": {},
   "outputs": [],
   "source": [
    "%%capture\n",
    "%pip install crewai==0.186.1\n",
    "%pip install crewai-tools==0.71.0\n",
    "%pip install langchain-community==0.3.29\n",
    "%pip install langchain-huggingface==0.3.1\n",
    "%pip install sentence-transformers==5.1.0"
   ]
  },
  {
   "cell_type": "code",
   "execution_count": 7,
   "metadata": {},
   "outputs": [
    {
     "name": "stdout",
     "output_type": "stream",
     "text": [
      "\u001b[2mUsing Python 3.12.9 environment at: /Users/rezamohajerpoor/Documents/Documents/Github/IBM_course_AgenticAI/.venv\u001b[0m\n",
      "\u001b[2K\u001b[2mResolved \u001b[1m210 packages\u001b[0m \u001b[2min 705ms\u001b[0m\u001b[0m                                       \u001b[0m\n",
      "\u001b[2K\u001b[37m⠙\u001b[0m \u001b[2mPreparing packages...\u001b[0m (0/1)                                                   \n",
      "\u001b[2K\u001b[1A\u001b[37m⠙\u001b[0m \u001b[2mPreparing packages...\u001b[0m (0/1)--------------\u001b[0m\u001b[0m     0 B/9.57 MiB            \u001b[1A\n",
      "\u001b[2K\u001b[1A\u001b[37m⠙\u001b[0m \u001b[2mPreparing packages...\u001b[0m (0/1)--------------\u001b[0m\u001b[0m 16.00 KiB/9.57 MiB          \u001b[1A\n",
      "\u001b[2K\u001b[1A\u001b[37m⠙\u001b[0m \u001b[2mPreparing packages...\u001b[0m (0/1)--------------\u001b[0m\u001b[0m 17.48 KiB/9.57 MiB          \u001b[1A\n",
      "\u001b[2K\u001b[1A\u001b[37m⠙\u001b[0m \u001b[2mPreparing packages...\u001b[0m (0/1)--------------\u001b[0m\u001b[0m 33.48 KiB/9.57 MiB          \u001b[1A\n",
      "\u001b[2K\u001b[1A\u001b[37m⠙\u001b[0m \u001b[2mPreparing packages...\u001b[0m (0/1)--------------\u001b[0m\u001b[0m 49.48 KiB/9.57 MiB          \u001b[1A\n",
      "\u001b[2K\u001b[1A\u001b[37m⠙\u001b[0m \u001b[2mPreparing packages...\u001b[0m (0/1)--------------\u001b[0m\u001b[0m 56.67 KiB/9.57 MiB          \u001b[1A\n",
      "\u001b[2K\u001b[1A\u001b[37m⠙\u001b[0m \u001b[2mPreparing packages...\u001b[0m (0/1)--------------\u001b[0m\u001b[0m 65.41 KiB/9.57 MiB          \u001b[1A\n",
      "\u001b[2K\u001b[1A\u001b[37m⠙\u001b[0m \u001b[2mPreparing packages...\u001b[0m (0/1)--------------\u001b[0m\u001b[0m 81.41 KiB/9.57 MiB          \u001b[1A\n",
      "\u001b[2K\u001b[1A\u001b[37m⠙\u001b[0m \u001b[2mPreparing packages...\u001b[0m (0/1)--------------\u001b[0m\u001b[0m 97.41 KiB/9.57 MiB          \u001b[1A\n",
      "\u001b[2K\u001b[1A\u001b[37m⠙\u001b[0m \u001b[2mPreparing packages...\u001b[0m (0/1)--------------\u001b[0m\u001b[0m 113.41 KiB/9.57 MiB         \u001b[1A\n",
      "\u001b[2K\u001b[1A\u001b[37m⠙\u001b[0m \u001b[2mPreparing packages...\u001b[0m (0/1)--------------\u001b[0m\u001b[0m 117.84 KiB/9.57 MiB         \u001b[1A\n",
      "\u001b[2K\u001b[1A\u001b[37m⠙\u001b[0m \u001b[2mPreparing packages...\u001b[0m (0/1)--------------\u001b[0m\u001b[0m 133.84 KiB/9.57 MiB         \u001b[1A\n",
      "\u001b[2K\u001b[1A\u001b[37m⠙\u001b[0m \u001b[2mPreparing packages...\u001b[0m (0/1)--------------\u001b[0m\u001b[0m 135.32 KiB/9.57 MiB         \u001b[1A\n",
      "\u001b[2K\u001b[1A\u001b[37m⠙\u001b[0m \u001b[2mPreparing packages...\u001b[0m (0/1)--------------\u001b[0m\u001b[0m 151.32 KiB/9.57 MiB         \u001b[1A\n",
      "\u001b[2K\u001b[1A\u001b[37m⠙\u001b[0m \u001b[2mPreparing packages...\u001b[0m (0/1)--------------\u001b[0m\u001b[0m 167.32 KiB/9.57 MiB         \u001b[1A\n",
      "\u001b[2K\u001b[1A\u001b[37m⠙\u001b[0m \u001b[2mPreparing packages...\u001b[0m (0/1)--------------\u001b[0m\u001b[0m 179.01 KiB/9.57 MiB         \u001b[1A\n",
      "\u001b[2K\u001b[1A\u001b[37m⠙\u001b[0m \u001b[2mPreparing packages...\u001b[0m (0/1)--------------\u001b[0m\u001b[0m 187.75 KiB/9.57 MiB         \u001b[1A\n",
      "\u001b[2K\u001b[1A\u001b[37m⠙\u001b[0m \u001b[2mPreparing packages...\u001b[0m (0/1)--------------\u001b[0m\u001b[0m 266.19 KiB/9.57 MiB         \u001b[1A\n",
      "\u001b[2K\u001b[1A\u001b[37m⠙\u001b[0m \u001b[2mPreparing packages...\u001b[0m (0/1)--------------\u001b[0m\u001b[0m 593.57 KiB/9.57 MiB         \u001b[1A\n",
      "\u001b[2K\u001b[1A\u001b[37m⠙\u001b[0m \u001b[2mPreparing packages...\u001b[0m (0/1)--------------\u001b[0m\u001b[0m 912.82 KiB/9.57 MiB         \u001b[1A\n",
      "\u001b[2K\u001b[1A\u001b[37m⠹\u001b[0m \u001b[2mPreparing packages...\u001b[0m (0/1)--------------\u001b[0m\u001b[0m 1.18 MiB/9.57 MiB           \u001b[1A\n",
      "\u001b[2K\u001b[1A\u001b[37m⠸\u001b[0m \u001b[2mPreparing packages...\u001b[0m (0/1)--------------\u001b[0m\u001b[0m 1.56 MiB/9.57 MiB           \u001b[1A\n",
      "\u001b[2K\u001b[1A\u001b[37m⠸\u001b[0m \u001b[2mPreparing packages...\u001b[0m (0/1)--------------\u001b[0m\u001b[0m 1.56 MiB/9.57 MiB           \u001b[1A\n",
      "\u001b[2K\u001b[1A\u001b[37m⠸\u001b[0m \u001b[2mPreparing packages...\u001b[0m (0/1)--------------\u001b[0m\u001b[0m 1.57 MiB/9.57 MiB           \u001b[1A\n",
      "\u001b[2K\u001b[1A\u001b[37m⠸\u001b[0m \u001b[2mPreparing packages...\u001b[0m (0/1)--------------\u001b[0m\u001b[0m 1.59 MiB/9.57 MiB           \u001b[1A\n",
      "\u001b[2K\u001b[1A\u001b[37m⠸\u001b[0m \u001b[2mPreparing packages...\u001b[0m (0/1)--------------\u001b[0m\u001b[0m 2.11 MiB/9.57 MiB           \u001b[1A\n",
      "\u001b[2K\u001b[1A\u001b[37m⠸\u001b[0m \u001b[2mPreparing packages...\u001b[0m (0/1)--------------\u001b[0m\u001b[0m 2.84 MiB/9.57 MiB           \u001b[1A\n",
      "\u001b[2K\u001b[1A\u001b[37m⠸\u001b[0m \u001b[2mPreparing packages...\u001b[0m (0/1)--------------\u001b[0m\u001b[0m 3.48 MiB/9.57 MiB           \u001b[1A\n",
      "\u001b[2K\u001b[1A\u001b[37m⠼\u001b[0m \u001b[2mPreparing packages...\u001b[0m (0/1)--------------\u001b[0m\u001b[0m 3.80 MiB/9.57 MiB           \u001b[1A\n",
      "\u001b[2K\u001b[1A\u001b[37m⠼\u001b[0m \u001b[2mPreparing packages...\u001b[0m (0/1)--------------\u001b[0m\u001b[0m 4.14 MiB/9.57 MiB           \u001b[1A\n",
      "\u001b[2K\u001b[1A\u001b[37m⠼\u001b[0m \u001b[2mPreparing packages...\u001b[0m (0/1)--------------\u001b[0m\u001b[0m 4.45 MiB/9.57 MiB           \u001b[1A\n",
      "\u001b[2K\u001b[1A\u001b[37m⠼\u001b[0m \u001b[2mPreparing packages...\u001b[0m (0/1)--------------\u001b[0m\u001b[0m 4.78 MiB/9.57 MiB           \u001b[1A\n",
      "\u001b[2K\u001b[1A\u001b[37m⠴\u001b[0m \u001b[2mPreparing packages...\u001b[0m (0/1)m-------------\u001b[0m\u001b[0m 5.11 MiB/9.57 MiB           \u001b[1A\n",
      "\u001b[2K\u001b[1A\u001b[37m⠴\u001b[0m \u001b[2mPreparing packages...\u001b[0m (0/1)2m------------\u001b[0m\u001b[0m 5.44 MiB/9.57 MiB           \u001b[1A\n",
      "\u001b[2K\u001b[1A\u001b[37m⠴\u001b[0m \u001b[2mPreparing packages...\u001b[0m (0/1)[2m-----------\u001b[0m\u001b[0m 5.75 MiB/9.57 MiB           \u001b[1A\n",
      "\u001b[2K\u001b[1A\u001b[37m⠴\u001b[0m \u001b[2mPreparing packages...\u001b[0m (0/1)\u001b[2m----------\u001b[0m\u001b[0m 6.07 MiB/9.57 MiB           \u001b[1A\n",
      "\u001b[2K\u001b[1A\u001b[37m⠦\u001b[0m \u001b[2mPreparing packages...\u001b[0m (0/1)-\u001b[2m---------\u001b[0m\u001b[0m 6.38 MiB/9.57 MiB           \u001b[1A\n",
      "\u001b[2K\u001b[1A\u001b[37m⠦\u001b[0m \u001b[2mPreparing packages...\u001b[0m (0/1)--\u001b[2m--------\u001b[0m\u001b[0m 6.71 MiB/9.57 MiB           \u001b[1A\n",
      "\u001b[2K\u001b[1A\u001b[37m⠦\u001b[0m \u001b[2mPreparing packages...\u001b[0m (0/1)---\u001b[2m-------\u001b[0m\u001b[0m 7.04 MiB/9.57 MiB           \u001b[1A\n",
      "\u001b[2K\u001b[1A\u001b[37m⠦\u001b[0m \u001b[2mPreparing packages...\u001b[0m (0/1)----\u001b[2m------\u001b[0m\u001b[0m 7.37 MiB/9.57 MiB           \u001b[1A\n",
      "\u001b[2K\u001b[1A\u001b[37m⠧\u001b[0m \u001b[2mPreparing packages...\u001b[0m (0/1)-----\u001b[2m-----\u001b[0m\u001b[0m 7.70 MiB/9.57 MiB           \u001b[1A\n",
      "\u001b[2K\u001b[1A\u001b[37m⠧\u001b[0m \u001b[2mPreparing packages...\u001b[0m (0/1)------\u001b[2m----\u001b[0m\u001b[0m 8.01 MiB/9.57 MiB           \u001b[1A\n",
      "\u001b[2K\u001b[1A\u001b[37m⠧\u001b[0m \u001b[2mPreparing packages...\u001b[0m (0/1)-------\u001b[2m---\u001b[0m\u001b[0m 8.33 MiB/9.57 MiB           \u001b[1A\n",
      "\u001b[2K\u001b[1A\u001b[37m⠧\u001b[0m \u001b[2mPreparing packages...\u001b[0m (0/1)--------\u001b[2m--\u001b[0m\u001b[0m 8.67 MiB/9.57 MiB           \u001b[1A\n",
      "\u001b[2K\u001b[1A\u001b[37m⠇\u001b[0m \u001b[2mPreparing packages...\u001b[0m (0/1)---------\u001b[2m-\u001b[0m\u001b[0m 8.98 MiB/9.57 MiB           \u001b[1A\n",
      "\u001b[2K\u001b[2mPrepared \u001b[1m1 package\u001b[0m \u001b[2min 1.49s\u001b[0m\u001b[0m                                                  \u001b[1A\n",
      "\u001b[2mUninstalled \u001b[1m1 package\u001b[0m \u001b[2min 309ms\u001b[0m\u001b[0m\n",
      "\u001b[2K\u001b[2mInstalled \u001b[1m1 package\u001b[0m \u001b[2min 41ms\u001b[0m\u001b[0m                                 \u001b[0m\n",
      " \u001b[31m-\u001b[39m \u001b[1mtransformers\u001b[0m\u001b[2m==4.57.1\u001b[0m\n",
      " \u001b[32m+\u001b[39m \u001b[1mtransformers\u001b[0m\u001b[2m==4.46.3\u001b[0m\n",
      "Note: you may need to restart the kernel to use updated packages.\n"
     ]
    }
   ],
   "source": [
    "%uv pip install \"crewai>=0.80.0\"  \"crewai-tools==0.38.0\" \"databricks-sdk==0.57.0\" \"sentence-transformers==5.1.0\""
   ]
  },
  {
   "cell_type": "markdown",
   "id": "16c3f407-707a-46ef-a702-5e55575cd15b",
   "metadata": {},
   "source": [
    "### Importing Required Libraries\n"
   ]
  },
  {
   "cell_type": "code",
   "execution_count": 3,
   "id": "bfcd3338-9536-46a8-88ec-ae4f61c438aa",
   "metadata": {},
   "outputs": [
    {
     "name": "stderr",
     "output_type": "stream",
     "text": [
      "/Users/rezamohajerpoor/Documents/Documents/Github/IBM_course_AgenticAI/.venv/lib/python3.12/site-packages/pydantic/_internal/_fields.py:172: UserWarning: Field name \"schema\" in \"DatabricksQueryToolSchema\" shadows an attribute in parent \"BaseModel\"\n",
      "  warnings.warn(\n",
      "/Users/rezamohajerpoor/Documents/Documents/Github/IBM_course_AgenticAI/.venv/lib/python3.12/site-packages/pydantic/_internal/_generate_schema.py:547: UserWarning: <built-in function callable> is not a Python type (it may be an instance of an object), Pydantic will allow any object with no validation since we cannot even enforce that the input is an instance of the given type. To get rid of this error wrap the type with `pydantic.SkipValidation`.\n",
      "  warn(\n",
      "/Users/rezamohajerpoor/Documents/Documents/Github/IBM_course_AgenticAI/.venv/lib/python3.12/site-packages/crewai_tools/tools/scrapegraph_scrape_tool/scrapegraph_scrape_tool.py:34: PydanticDeprecatedSince20: Pydantic V1 style `@validator` validators are deprecated. You should migrate to Pydantic V2 style `@field_validator` validators, see the migration guide for more details. Deprecated in Pydantic V2.0 to be removed in V3.0. See Pydantic V2 Migration Guide at https://errors.pydantic.dev/2.9/migration/\n",
      "  @validator(\"website_url\")\n",
      "/Users/rezamohajerpoor/Documents/Documents/Github/IBM_course_AgenticAI/.venv/lib/python3.12/site-packages/crewai_tools/tools/selenium_scraping_tool/selenium_scraping_tool.py:26: PydanticDeprecatedSince20: Pydantic V1 style `@validator` validators are deprecated. You should migrate to Pydantic V2 style `@field_validator` validators, see the migration guide for more details. Deprecated in Pydantic V2.0 to be removed in V3.0. See Pydantic V2 Migration Guide at https://errors.pydantic.dev/2.9/migration/\n",
      "  @validator(\"website_url\")\n",
      "/Users/rezamohajerpoor/Documents/Documents/Github/IBM_course_AgenticAI/.venv/lib/python3.12/site-packages/crewai_tools/tools/vision_tool/vision_tool.py:15: PydanticDeprecatedSince20: Pydantic V1 style `@validator` validators are deprecated. You should migrate to Pydantic V2 style `@field_validator` validators, see the migration guide for more details. Deprecated in Pydantic V2.0 to be removed in V3.0. See Pydantic V2 Migration Guide at https://errors.pydantic.dev/2.9/migration/\n",
      "  @validator(\"image_path_url\")\n"
     ]
    }
   ],
   "source": [
    "from crewai import Agent, Task, Crew, Process\n",
    "from crewai import LLM\n",
    "from crewai_tools import PDFSearchTool, SerperDevTool"
   ]
  },
  {
   "cell_type": "markdown",
   "id": "b400f973-10bd-4a2d-bea3-9f67acf073a9",
   "metadata": {},
   "source": [
    "---\n"
   ]
  },
  {
   "cell_type": "markdown",
   "id": "c8c24af8-936a-4f80-a4b3-f37f463fb6f3",
   "metadata": {},
   "source": [
    "## Project Roadmap\n"
   ]
  },
  {
   "cell_type": "markdown",
   "id": "71f403ce-ea84-4494-a6cf-015926555f08",
   "metadata": {},
   "source": [
    "### Agentic AI with CrewAI\n",
    "\n",
    "At a high level, instead of designing complex, rigid code for this chatbot, we delegate the work to a team—or **Crew**—of AI Agents.\n",
    "\n",
    "An **AI Agent** is an autonomous worker. Like any worker, it needs a clear job description, which we provide through specific parameters:\n",
    "- **Role:** What is its primary function? (for example, \"Customer Service Specialist\")\n",
    "- **Goal:** What is it trying to achieve? (for example, \"Answer customer questions accurately\")\n",
    "- **Backstory:** What context does it need to perform its role effectively?\n",
    "- **Tools:** What resources can it use to accomplish its goal? (for example, a PDF search tool, a web browser)\n",
    "\n",
    "Once we have our agents, we define the **Tasks** they need to complete. A **Crew** then orchestrates this entire process, managing the agents and ensuring tasks are executed in the correct order to achieve the final objective.\n"
   ]
  },
  {
   "cell_type": "markdown",
   "id": "17d0b334-279b-421f-8116-eb4cdef1ec51",
   "metadata": {},
   "source": [
    "### The Role of Tools: Agent-Centric versus Task-Centric\n",
    "\n",
    "A key decision in CrewAI is *how* to give tools to your agents. There are two main strategies, and understanding the difference is crucial for building robust applications.\n",
    "\n",
    "**1. Agent-Centric Approach (The Generalist):**\n",
    "This is the most common method. You give an agent a 'toolbox' containing all the tools it might possibly need. The agent then uses its intelligence (the LLM's reasoning ability) to decide which tool is best for the situation at hand. This is flexible but can sometimes lead to the agent making mistakes or using tools inefficiently.\n",
    "\n",
    "![Diagram 1](https://cf-courses-data.s3.us.cloud-object-storage.appdomain.cloud/NPYpo2eWUERulpzrm9xYtw/Adobe%20Express%20-%20file.jpg)\n",
    "\n",
    "**2. Task-Centric Approach (The Specialist):**\n",
    "In this more advanced approach, you don't give the tools to the agent directly. Instead, you attach specific tools to the specific **Tasks** that require them. When the agent starts a task, it is temporarily granted access to only the tools needed for that job. This creates a much more focused and predictable workflow.\n",
    "\n",
    "![Diagram 2.jpg](https://cf-courses-data.s3.us.cloud-object-storage.appdomain.cloud/olP9UG8s4B7QnOJhCRH4aA/Diagram%202.jpg)\n"
   ]
  },
  {
   "cell_type": "markdown",
   "id": "92238cd3-5acb-46a2-b911-1f8c7c02e66b",
   "metadata": {},
   "source": [
    "---\n"
   ]
  },
  {
   "cell_type": "markdown",
   "id": "9a008991-c59d-46cb-bae7-32d96d9946d0",
   "metadata": {},
   "source": [
    "## Writing the Code\n"
   ]
  },
  {
   "cell_type": "markdown",
   "id": "9da920d8-d1ea-4d81-9bce-37d0aa45f97b",
   "metadata": {},
   "source": [
    "### Configuring our LLM\n",
    "\n",
    "First, we configure the Language Model (LLM) that will power our agents' reasoning and language generation. We're using IBM's WatsonX `Granite 3.3` model. Although other models could be used, this one provides a good balance of performance and cost for our use case.\n"
   ]
  },
  {
   "cell_type": "code",
   "execution_count": 1,
   "id": "09c99239-1b3f-47d2-a747-c427a622251c",
   "metadata": {},
   "outputs": [
    {
     "name": "stderr",
     "output_type": "stream",
     "text": [
      "The cache for model files in Transformers v4.22.0 has been updated. Migrating your old cache. This is a one-time only operation. You can interrupt this and resume the migration later on by calling `transformers.utils.move_cache()`.\n"
     ]
    },
    {
     "data": {
      "application/vnd.jupyter.widget-view+json": {
       "model_id": "c3d7761b5e3441d2b2eccc17a031f1c8",
       "version_major": 2,
       "version_minor": 0
      },
      "text/plain": [
       "0it [00:00, ?it/s]"
      ]
     },
     "metadata": {},
     "output_type": "display_data"
    },
    {
     "name": "stderr",
     "output_type": "stream",
     "text": [
      "/Users/rezamohajerpoor/Documents/Documents/Github/IBM_course_AgenticAI/.venv/lib/python3.12/site-packages/pydantic/_internal/_fields.py:132: UserWarning: Field \"model_name\" in EmbeddingOptions has conflict with protected namespace \"model_\".\n",
      "\n",
      "You may be able to resolve this warning by setting `model_config['protected_namespaces'] = ()`.\n",
      "  warnings.warn(\n"
     ]
    }
   ],
   "source": [
    "import os \n",
    "from langchain_groq import ChatGroq\n",
    "from langchain_mistralai import MistralAIEmbeddings\n",
    "from dotenv import load_dotenv\n",
    "from crewai import LLM\n",
    "\n",
    "load_dotenv()\n",
    "model_id = \"llama-3.1-8b-instant\" # \tqwen/qwen3-32b  openai/gpt-oss-120b \n",
    "groq_api_key = os.getenv(\"GROQ_API_KEY\")\n",
    "serper_api_key = os.getenv(\"SERPAPI_API_KEY\")\n",
    "os.environ[\"SERPER_API_KEY\"] = serper_api_key\n",
    "\n",
    "\n",
    "llm = LLM(model=\"groq/llama-3.1-8b-instant\")"
   ]
  },
  {
   "cell_type": "markdown",
   "id": "37d438ad-72fe-4cbc-9f56-4a77f57236e1",
   "metadata": {},
   "source": [
    "### Defining Tools for Information Gathering\n",
    "\n",
    "Our chatbot needs to access information from two sources: Daily Dish's FAQ PDF and the general internet. To do this, we'll instantiate two tools.\n",
    "\n",
    "1.  **`PDFSearchTool`**: This tool, from the `crewai_tools` library, will index the provided PDF document. When used, it performs a semantic search to find the most relevant sections of the PDF related to a query.\n",
    "2.  **`SerperDevTool`**: This simple tool from `crewai_tools` allows an agent to perform a web search using SerperAPI.\n",
    "\n",
    "\n",
    "To use `SerperDevTool`, we first need an **API key**—a crucial credential that grants access to web searches. Once we have the API key, we can import the library and integrate it into our customer service workflow.  \n",
    "\n",
    "> You will need to get the API Key from `serper.dev` website. To get the API key, create an account using your email if you have registered or login if you already have an account. Once you are logged in, you will be on the `Dashboard` section. Click on `API Keys` and you will find your API key. Copy the key and replace it with `API_KEY` here.\n",
    "\n",
    "To get the API key and for more details on `SerperDevTool` and its capabilities, visit the official webpage: [SerperDevTool Documentation](https://serper.dev/).\n"
   ]
  },
  {
   "cell_type": "markdown",
   "id": "6f2a8099-b49b-4463-90d8-78e91146bfca",
   "metadata": {},
   "source": [
    "### Initializing Serper Dev Tool: \n"
   ]
  },
  {
   "cell_type": "code",
   "execution_count": 4,
   "id": "b9b283e3-acd8-4f2a-a0d9-4479cf3336d9",
   "metadata": {},
   "outputs": [],
   "source": [
    "web_search_tool = SerperDevTool()"
   ]
  },
  {
   "cell_type": "markdown",
   "id": "94d7b4da-5d12-45ca-a18c-84a038ad184a",
   "metadata": {},
   "source": [
    "### Creating our PDF Search Tool: \n"
   ]
  },
  {
   "cell_type": "code",
   "execution_count": null,
   "id": "c588ffa4-034e-4042-85a8-6ca8a1e7ca28",
   "metadata": {},
   "outputs": [],
   "source": [
    "import warnings\n",
    "warnings.filterwarnings('ignore') #Keeps Jupyter Notebook clean (not part of functionality)\n",
    "\n",
    "pdf_search_tool = PDFSearchTool(\n",
    "    pdf=\"https://cf-courses-data.s3.us.cloud-object-storage.appdomain.cloud/7vgNfis17dQfjHAiIKkBOg/The-Daily-Dish-FAQ.pdf\",\n",
    "    config=dict(\n",
    "        embedder=dict(\n",
    "            provider=\"huggingface\",\n",
    "            config=dict(\n",
    "                model=\"sentence-transformers/all-MiniLM-L6-v2\"\n",
    "            )\n",
    "        )\n",
    "    )\n",
    ")"
   ]
  },
  {
   "cell_type": "markdown",
   "id": "5df2f07c-5f0c-4c1e-a893-6b484080e0f1",
   "metadata": {},
   "source": [
    "### Approach 1: The Standard Method (Agent-Centric Tools)\n",
    "\n",
    "First, we'll build the chatbot using the conventional approach where we give our agent a toolbox with all the necessary tools. The agent will be responsible for deciding whether to search the PDF or generate a response with just it's LLM.\n",
    "\n",
    "#### **Step 1.1: Create the Agent**\n",
    "\n",
    "We define an `Inquiry Specialist Agent` whose job is to answer questions. Notice that the `tools` parameter is a list containing the `pdf_search_tool` and `web_search_tool`.\n"
   ]
  },
  {
   "cell_type": "code",
   "execution_count": null,
   "id": "e73f1226-8710-408d-9ebf-716b014bafef",
   "metadata": {},
   "outputs": [],
   "source": [
    "agent_centric_agent = Agent(\n",
    "    role=\"The Daily Dish Inquiry Specialist\",\n",
    "    goal=\"\"\"Accurately answer customer questions about The Daily Dish restaurant. \n",
    "    You must decide whether to use the restaurant's FAQ PDF or a web search to find the best answer.\"\"\",\n",
    "    backstory=\"\"\"You are an AI assistant for 'The Daily Dish'.\n",
    "    You have access to two tools: one for searching the restaurant's FAQ document and another for searching the web.\n",
    "    Your job is to analyze the user's question and choose the most appropriate tool to find the information needed to provide a helpful response.\"\"\",\n",
    "    # tools=[pdf_search_tool, web_search_tool],\n",
    "    tools=[pdf_search_tool],\n",
    "    verbose=True,\n",
    "    allow_delegation=False,\n",
    "    llm=llm\n",
    ")"
   ]
  },
  {
   "cell_type": "markdown",
   "id": "cc9eb363-696c-45a8-b4d6-e717f6a9972a",
   "metadata": {},
   "source": [
    "#### **Step 1.2: Define the Task**\n",
    "\n",
    "We create a single, broad task that instructs the agent to handle the customer's query.\n"
   ]
  },
  {
   "cell_type": "code",
   "execution_count": null,
   "id": "e528d4de-cd68-4381-b2f1-157dad1899a7",
   "metadata": {},
   "outputs": [],
   "source": [
    "agent_centric_task = Task(\n",
    "    description=\"Answer the following customer query: '{customer_query}'. \"\n",
    "                \"Analyze the question and use the tools at your disposal (PDF search or web search) to find the most relevant information. \"\n",
    "                \"Synthesize the findings into a clear and friendly response.\",\n",
    "    expected_output=\"A comprehensive and well-formatted answer to the customer's query.\",\n",
    "    agent=agent_centric_agent\n",
    ")"
   ]
  },
  {
   "cell_type": "markdown",
   "id": "ff3fbb55-c2d2-4249-b567-6d7c3d2650dd",
   "metadata": {},
   "source": [
    "#### **Step 1.3: Assemble the Crew**\n",
    "\n",
    "Finally, we create the Crew. It's a simple setup with our one agent and one task.\n"
   ]
  },
  {
   "cell_type": "code",
   "execution_count": null,
   "id": "d75c60f3-b375-4a6b-bca8-9db5be06a874",
   "metadata": {},
   "outputs": [],
   "source": [
    "agent_centric_crew = Crew(\n",
    "    agents=[agent_centric_agent],\n",
    "    tasks=[agent_centric_task],\n",
    "    process=Process.sequential,\n",
    "    verbose=False\n",
    ")"
   ]
  },
  {
   "cell_type": "markdown",
   "id": "520f6eef-f886-45f0-8454-ce7d1b9ad6ba",
   "metadata": {},
   "source": [
    "Before executing the crew, let's download the FAQ file that we have curated with all the questions and answers. As you execute the below line of code, the file will be downloaded, which you will be able to access from the file library on the left of your screen.\n"
   ]
  },
  {
   "cell_type": "code",
   "execution_count": null,
   "id": "68c24dc3-a2e4-4948-b655-1805726fbc22",
   "metadata": {},
   "outputs": [],
   "source": [
    "# Download the FAQ document for the tool to use\n",
    "!wget https://cf-courses-data.s3.us.cloud-object-storage.appdomain.cloud/7vgNfis17dQfjHAiIKkBOg/The-Daily-Dish-FAQ.pdf"
   ]
  },
  {
   "cell_type": "markdown",
   "id": "0fad07f7-008e-4a49-a292-37ce47286d17",
   "metadata": {},
   "source": [
    "Try asking the following questions:\n",
    "\n",
    "1. What are the timings?\n",
    "2. What is the phone number?\n",
    "3. What is the location?\n",
    "\n",
    "You could also ask some combinations of other questions that you will find in the FAQ PDF itself.\n"
   ]
  },
  {
   "cell_type": "code",
   "execution_count": null,
   "id": "ce9385a6-7722-4fd2-b475-912b7eb4b9ae",
   "metadata": {},
   "outputs": [],
   "source": [
    "print(\"\\nWelcome to The Daily Dish Chatbot!\")\n",
    "print(\"What would you like to know? (Type 'exit' to quit)\")\n",
    "\n",
    "while True: \n",
    "    user_input = input(\"\\nYour question: \").lower()\n",
    "    if user_input == 'exit':\n",
    "        print(\"Thank you for chatting. Have a great day!\")\n",
    "        break\n",
    "    \n",
    "    if not user_input:\n",
    "        print(\"Please type a question.\")\n",
    "        continue\n",
    "\n",
    "    try:\n",
    "        # Here we use our more advanced, task-centric crew\n",
    "        result_agent_centric = agent_centric_crew.kickoff(inputs={'customer_query': user_input})\n",
    "        print(\"\\n--- The Daily Dish Assistant ---\")\n",
    "        print(result_agent_centric)\n",
    "        print(\"--------------------------------\")\n",
    "    except Exception as e:\n",
    "        print(f\"An error occurred: {e}\")"
   ]
  },
  {
   "cell_type": "markdown",
   "id": "dd0364ee-611f-4114-900f-2e3422d0154d",
   "metadata": {},
   "source": [
    "This approach works, and because we set `verbose=True` to Agent, we see the agent spending thought process on *which tool to choose*. For a simple query, this is fine. But in a complex workflow with many tools and steps, this ambiguity can lead to errors or inefficient tool usage. Now, let's see a better way.\n"
   ]
  },
  {
   "cell_type": "markdown",
   "id": "cc875c61-4685-46d1-91ee-cb838fae898f",
   "metadata": {},
   "source": [
    "### Approach 2: A More Focused Method (Task-Centric Tools)\n",
    "\n",
    "Now, we'll refactor our solution to use a task-centric approach. We will create a multi-step process where each step (Task) has its own dedicated tool. This makes the agent's job simpler and the overall workflow more reliable.\n",
    "\n",
    "Our new workflow will have two tasks:\n",
    "1.  **Search the FAQ:** This task will *only* use the `PDFSearchTool`.\n",
    "2.  **Draft the Response:** This task will use the information from the first two tasks to write the final answer. It needs no tools.\n",
    "\n",
    "#### **Step 2.1: Create the Agent**\n",
    "\n",
    "This time, we create a `Customer Service Specialist` agent. Notice the critical difference: the `tools` list is **empty**. We are not giving the agent its toolbox upfront. However, even if we gave the agent many many tools, they would simply be completely overriden by the tools in the task.\n"
   ]
  },
  {
   "cell_type": "code",
   "execution_count": null,
   "id": "75c56fe4-70e7-4dca-bbe7-9f6af492f463",
   "metadata": {},
   "outputs": [],
   "source": [
    "task_centric_agent = Agent(\n",
    "    role=\"Customer Service Specialist\",\n",
    "    goal=\"Provide exceptional customer service by following a multi-step process to answer customer questions accurately.\",\n",
    "    backstory=\"\"\"You are an AI assistant for 'The Daily Dish'.\n",
    "    You are an expert at following instructions. You will be given a sequence of tasks to complete.\n",
    "    For each task, you will be provided with the specific tool needed to accomplish it.\n",
    "    Your job is to execute each task diligently and pass the results to the next step.\"\"\",\n",
    "    tools=[], # The agent is not given any tools directly\n",
    "    verbose=True,\n",
    "    allow_delegation=False,\n",
    "    llm=llm\n",
    ")"
   ]
  },
  {
   "cell_type": "markdown",
   "id": "660baa99-a48d-4bc8-81dd-520af7da1b3e",
   "metadata": {},
   "source": [
    "#### **Step 2.2: Define the Tasks with Specific Tools**\n",
    "\n",
    "Here is the core of the new approach. We define two distinct tasks. For the first two, we use the `tools` parameter within the `Task` definition itself to assign a specific tool to that step.\n",
    "\n",
    "- **`faq_search_task`**: Is exclusively paired with `pdf_search_tool`.\n",
    "- **`response_drafting_task`**: Needs the output (context) from the previous tasks but requires no tools of its own.\n"
   ]
  },
  {
   "cell_type": "code",
   "execution_count": null,
   "id": "d205c216-be90-41eb-8612-49fd7abc8d60",
   "metadata": {},
   "outputs": [],
   "source": [
    "faq_search_task = Task(\n",
    "    description=\"Search the restaurant's FAQ PDF for information related to the customer's query: '{customer_query}'.\",\n",
    "    expected_output=\"A snippet of the most relevant information from the PDF, or a statement that the information was not found.\",\n",
    "    tools=[pdf_search_tool], # Tool assigned directly to the task\n",
    "    agent=task_centric_agent\n",
    ")\n",
    "\n",
    "response_drafting_task = Task(\n",
    "    description=\"Using the information gathered from the FAQ search, draft a friendly and comprehensive response to the customer's query: '{customer_query}'.\",\n",
    "    expected_output=\"The final, customer-facing response.\",\n",
    "    agent=task_centric_agent,\n",
    "    context=[faq_search_task]\n",
    ")"
   ]
  },
  {
   "cell_type": "markdown",
   "id": "19753b4d-a3a8-4c79-9e6a-f0d914c99559",
   "metadata": {},
   "source": [
    "#### **Step 2.3: Assemble the New Crew**\n",
    "\n",
    "We assemble our new crew, providing the single agent and the list of three tasks. The `Process.sequential` setting ensures the tasks run in the order we've listed them.\n"
   ]
  },
  {
   "cell_type": "code",
   "execution_count": null,
   "id": "74d14c37-8e36-467d-a0d7-d3613029d092",
   "metadata": {},
   "outputs": [],
   "source": [
    "task_centric_crew = Crew(\n",
    "    agents=[task_centric_agent],\n",
    "    tasks=[faq_search_task, response_drafting_task],\n",
    "    process=Process.sequential,\n",
    "    verbose=True\n",
    ")"
   ]
  },
  {
   "cell_type": "markdown",
   "id": "7901c96a-ff1b-481e-8613-7a5de937ae48",
   "metadata": {},
   "source": [
    "### Chatbot Execution\n",
    "\n",
    "This final script runs the interactive chatbot. It uses a `while` loop to repeatedly get user input. The core of the interaction is `task_centric_crew.kickoff(...)`. This method activates the entire task-centric system we just defined.\n",
    "\n",
    "When you run this, the agent will no longer have to *think* about which tool to use. It will simply execute Task 1 with the PDF tool, then Task 2 with the web search tool, and finally Task 3 to generate the response. The process is deterministic, efficient, and easier to debug.\n"
   ]
  },
  {
   "cell_type": "markdown",
   "id": "cf768d29-7cf2-418b-8b2e-f99d5fc193c2",
   "metadata": {},
   "source": [
    "Try asking the following questions:\n",
    "\n",
    "1. What are the timings?\n",
    "2. What is the phone number?\n",
    "3. What is the location?\n",
    "\n",
    "You could also ask some combinations of other questions that you will find in the FAQ PDF itself.\n"
   ]
  },
  {
   "cell_type": "code",
   "execution_count": null,
   "id": "91a740bf-8f59-4034-924f-76d27ac2e4db",
   "metadata": {},
   "outputs": [],
   "source": [
    "print(\"\\nWelcome to The Daily Dish Chatbot!\")\n",
    "print(\"What would you like to know? (Type 'exit' to quit)\")\n",
    "\n",
    "while True: \n",
    "    user_input = input(\"\\nYour question: \").lower()\n",
    "    if user_input == 'exit':\n",
    "        print(\"Thank you for chatting. Have a great day!\")\n",
    "        break\n",
    "    \n",
    "    if not user_input:\n",
    "        print(\"Please type a question.\")\n",
    "        continue\n",
    "\n",
    "    try:\n",
    "        # Here we use our more advanced, task-centric crew\n",
    "        result_task_centric = task_centric_crew.kickoff(inputs={'customer_query': user_input})\n",
    "        print(\"\\n--- The Daily Dish Assistant ---\")\n",
    "        print(result_task_centric)\n",
    "        print(\"--------------------------------\")\n",
    "    except Exception as e:\n",
    "        print(f\"An error occurred: {e}\")"
   ]
  },
  {
   "cell_type": "markdown",
   "id": "2142931f-ac93-490d-88fa-6355c2f1c27b",
   "metadata": {},
   "source": [
    "<!-- ## Conclusion\n",
    "\n",
    "In this lab, you built a sophisticated customer service chatbot and, more importantly, explored a fundamental concept in CrewAI: the strategic assignment of tools.\n",
    "\n",
    "You saw two approaches:\n",
    "1.  **Agent-Centric:** Flexible and easy to set up, but relies on the agent's reasoning to select tools, which can be inefficient or unpredictable in complex scenarios.\n",
    "2.  **Task-Centric:** More structured and robust. By assigning tools directly to the tasks that need them, you create a clear, deterministic, and efficient workflow.\n",
    "\n",
    "**Key Advantages of Task-Centric Tools:**\n",
    "- **Focus & Efficiency:** The agent doesn't waste time or processing power deciding which tool to use. It's told exactly what to use for each step.\n",
    "- **Clarity & Maintainability:** The workflow is explicit and easy to follow. Anyone reading the code can see precisely which task uses which tool.\n",
    "- **Control & Security:** This pattern allows for fine-grained control, granting an agent access to a powerful tool only for the specific duration of a single task.\n",
    "\n",
    "Although the agent-centric approach has its place, mastering the task-centric method is a key step toward building truly professional, production-grade multi-agent systems with CrewAI.\n",
    " -->\n",
    "\n",
    "## Conclusion\n",
    "\n",
    "In this lab, you built a sophisticated customer service chatbot and, more importantly, explored a fundamental concept in CrewAI: the strategic assignment of tools.\n",
    "\n",
    "You saw two approaches:\n",
    "1. **Agent‑Centric:** Flexible and easy to set up, but relies on the agent's reasoning to select tools, which can be inefficient or unpredictable in complex scenarios.  \n",
    "2. **Task‑Centric:** More structured and robust. By assigning tools directly to the tasks that need them, you create a clear, deterministic, and efficient workflow.\n",
    "\n",
    "| Aspect             | Agent‑Centric Output                                                   | Task‑Centric Output                                                       |\n",
    "|--------------------|-------------------------------------------------------------------------|----------------------------------------------------------------------------|\n",
    "| **Predictability** | Varies run‑to‑run based on the LLM’s tool choice and phrasing.          | Consistent across runs thanks to fixed task‑to‑tool mapping.              |\n",
    "| **Debuggability**  | Harder to trace—calls and errors are buried in the LLM’s reasoning.     | Easy to debug—each task’s inputs, outputs, and errors are explicitly logged. |\n",
    "| **Reusability**    | You get a free‑form text blob that you must parse yourself.             | You get structured intermediate results (for example, JSON or code blocks) ready for reuse. |\n",
    "| **Structure**¹     | Search and formatting are blended in one step.                          | A separate formatting task produces a clean, structured final message.    |\n",
    "\n",
    "This “Structure” difference exists only because we introduced a dedicated formatting task in the Task‑Centric workflow.\n",
    "\n",
    "**Key Advantages of Task‑Centric Tools:**\n",
    "- **Focus & Efficiency:** The agent doesn't waste time or processing power deciding which tool to use. It's told exactly what to use for each step.  \n",
    "- **Clarity & Maintainability:** The workflow is explicit and easy to follow. Anyone reading the code can see precisely which task uses which tool.  \n",
    "- **Control & Security:** This pattern allows for fine‑grained control, granting an agent access to a powerful tool only for the specific duration of a single task.\n",
    "\n",
    "While the agent‑centric approach has its place, mastering the task‑centric method is a key step toward building truly professional, production‑grade multi‑agent systems with CrewAI.\n"
   ]
  },
  {
   "cell_type": "markdown",
   "id": "ceeb1a34-53c3-47a5-9e5e-ea3bbbf625f4",
   "metadata": {},
   "source": [
    "## Extending CrewAI with Custom Functions\n"
   ]
  },
  {
   "cell_type": "markdown",
   "id": "19817457-1a13-4496-a8b0-f2a058a002f7",
   "metadata": {},
   "source": [
    "In CrewAI, **tools** (or Functions) are functional components that agents can call to perform specific actions, such as searching the web, reading PDFs, or doing calculations. Although CrewAI provides several built-in tools, we can also create our **own custom tools** to extend its capabilities for domain-specific or utility tasks.\n",
    "\n",
    "Custom tools are simply Python functions that are **wrapped using the `@tool` decorator** from `crewai.tools`. This allows CrewAI agents to recognize, reason about, and invoke those functions during task execution.\n"
   ]
  },
  {
   "cell_type": "markdown",
   "id": "98c9469a-bbac-43ae-872b-c2dac22aa6ac",
   "metadata": {},
   "source": [
    "Let's see how we can create an **add tool** using CrewAI’s `@tool` decorator. Just like LangChain allows custom tool creation using its own `@tool` decorator, CrewAI also provides a simple way to register functions as tools that agents can invoke during task execution.\n",
    "\n",
    "To define a tool in CrewAI:\n",
    "\n",
    "- You annotate your function with `@tool(\"Tool Name\")`.\n",
    "- You provide a **docstring**, which acts as the tool's self-description and helps the language model understand what the tool does.\n",
    "- Then you implement the **function body**, which contains the actual logic.\n"
   ]
  },
  {
   "cell_type": "code",
   "execution_count": 1,
   "id": "a5bf6823-0990-44ea-b5e3-8fd3e7325984",
   "metadata": {},
   "outputs": [
    {
     "name": "stderr",
     "output_type": "stream",
     "text": [
      "/Users/rezamohajerpoor/Documents/Documents/Github/IBM_course_AgenticAI/.venv/lib/python3.12/site-packages/pydantic/_internal/_fields.py:132: UserWarning: Field \"model_name\" in EmbeddingOptions has conflict with protected namespace \"model_\".\n",
      "\n",
      "You may be able to resolve this warning by setting `model_config['protected_namespaces'] = ()`.\n",
      "  warnings.warn(\n"
     ]
    }
   ],
   "source": [
    "from crewai.tools import tool\n",
    "import re\n",
    "\n",
    "@tool(\"Add Two Numbers Tool\")\n",
    "def add_numbers(data: str) -> int:\n",
    "    \"\"\"\n",
    "    Extracts and adds integers from the input string.\n",
    "    Example input: 'add 1 and 2' or '[1,2,3,4]'\n",
    "    Output: sum of the numbers\n",
    "    \"\"\"\n",
    "    # Find all integers in the string\n",
    "    numbers = list(map(int, re.findall(r'-?\\d+', data)))\n",
    "    return sum(numbers)"
   ]
  },
  {
   "cell_type": "markdown",
   "id": "d1ae9916-2365-4bf8-9e7c-4d54a8094825",
   "metadata": {},
   "source": [
    "Now, let's create another tool called `multiply_numbers`. This tool takes a string input such as `\"multiply 2 and 3\"` or `\"values are [2,3,4]\"`, extracts all the integers from the text, and returns their **product** as an integer.\n"
   ]
  },
  {
   "cell_type": "code",
   "execution_count": null,
   "id": "975e172a-defb-4a7c-a2ad-dd32272dc5e4",
   "metadata": {},
   "outputs": [],
   "source": [
    "from functools import reduce\n",
    "\n",
    "@tool(\"Multiply Numbers Tool\")\n",
    "def multiply_numbers(data: str) -> int:\n",
    "    \"\"\"\n",
    "    Extracts and multiplies integers from the input string.\n",
    "    Example input: 'multiply 2 and 3' or '[2,3,4]'\n",
    "    Output: the product of all numbers found\n",
    "    \"\"\"\n",
    "    numbers = list(map(int, re.findall(r'-?\\d+', data)))\n",
    "    return reduce(lambda x, y: x * y, numbers, 1)"
   ]
  },
  {
   "cell_type": "markdown",
   "id": "cfa741bd-8cde-41cf-9a5d-9acc44356cf9",
   "metadata": {},
   "source": [
    "Now, we create a `Calculator Agent` with a clear goal being to extract, add or multiply numbers based on a user's query. We provide the relevant backstory, the tools that we created, and the LLM itself.\n"
   ]
  },
  {
   "cell_type": "code",
   "execution_count": null,
   "id": "3bb88bcc-74eb-428b-843f-0373f6eede0f",
   "metadata": {},
   "outputs": [],
   "source": [
    "calculator_agent = Agent(\n",
    "    role=\"Calculator\",\n",
    "    goal=\"Extracts, adds, or multiplies numbers when asked, using the Add Two Numbers and Multiply Numbers tools.\",\n",
    "    backstory=\"An expert at parsing numeric instructions and computing sums or products.\",\n",
    "    tools=[add_numbers, multiply_numbers],\n",
    "    llm=llm,\n",
    "    allow_delegation=False\n",
    ")"
   ]
  },
  {
   "cell_type": "markdown",
   "id": "7c5380f1-1aef-4081-9a0f-742e3ff48388",
   "metadata": {},
   "source": [
    "We also create a `Calculation Task` by providing a clear description, an expected output, and an agent.\n"
   ]
  },
  {
   "cell_type": "code",
   "execution_count": null,
   "id": "7a090662-0612-4cb9-a3d5-32f1545fd9b5",
   "metadata": {},
   "outputs": [],
   "source": [
    "calculation_task = Task(\n",
    "    description=\"Extract numbers from '{numbers}' and either add or multiply them, depending on the natural-language instruction.\",\n",
    "    expected_output=\"An integer result (sum or product) based on the user’s request.\",\n",
    "    agent=calculator_agent\n",
    ")"
   ]
  },
  {
   "cell_type": "markdown",
   "id": "98cd6f0a-ec41-42c9-bd4b-479bbc75dff7",
   "metadata": {},
   "source": [
    "Now let's bring together the created agent and task in a `Crew`.\n"
   ]
  },
  {
   "cell_type": "code",
   "execution_count": null,
   "id": "d0283df0-842b-4674-a76f-48e4bc1c870a",
   "metadata": {},
   "outputs": [],
   "source": [
    "crew = Crew(\n",
    "    agents=[calculator_agent],\n",
    "    tasks=[calculation_task],\n",
    "    # verbose=True #Uncomment this to see the steps taken to get the final answer\n",
    ")"
   ]
  },
  {
   "cell_type": "markdown",
   "id": "f91f3232-3094-4c64-86cb-2cd213ea6ff5",
   "metadata": {},
   "source": [
    "Let's run the crew by providing a user query in `.kickoff()` and check the output.\n"
   ]
  },
  {
   "cell_type": "code",
   "execution_count": null,
   "id": "75d0fe06-e932-4502-b00e-0b297a72c3d2",
   "metadata": {},
   "outputs": [],
   "source": [
    "# Inputs for addition…\n",
    "result = crew.kickoff(inputs={'numbers': 'please add 4, 5, and 6'})\n",
    "print(\"Sum result:\", result)"
   ]
  },
  {
   "cell_type": "code",
   "execution_count": null,
   "id": "b0862a18-9f36-4617-91f4-73a8e4f01d83",
   "metadata": {},
   "outputs": [],
   "source": [
    "# Inputs for multiplication…\n",
    "result = crew.kickoff(inputs={'numbers': 'multiply 7 and 8 also 9 dont forget 10'})\n",
    "print(\"Product result:\", result)"
   ]
  },
  {
   "cell_type": "markdown",
   "id": "fcce918e-2905-4c6f-a520-e2e48e9ea2d7",
   "metadata": {},
   "source": [
    "## Authors\n",
    "\n",
    "[Abdul Fatir](https://www.linkedin.com/in/abdul-fatir)\n",
    "\n",
    "Abdul specializes in Data Science, Machine Learning, and AI. He has deep expertise in understanding how the latest technologies work, and their applications.  \n",
    "Feel free to contact him with questions about this project or any other AI/ML topics.\n",
    "\n",
    "[Karan Goswami](https://author.skills.network/instructors/karan_goswami) is a Data Scientist at IBM and is pursuing Master's student at McMaster university with a major in AI. He is fluent in Generative AI, AI/ML topics. He has many projects published on [CognitiveClass.ai](https://cognitiveclass.ai). Feel free to connect with him if you need any help or just want to connect!\n"
   ]
  },
  {
   "cell_type": "markdown",
   "id": "55d38a00-3e49-458e-a39e-0f81c23125aa",
   "metadata": {},
   "source": [
    "## Change Log\n",
    "\n",
    "<details>\n",
    "    <summary>Click here for the changelog</summary>\n",
    "\n",
    "|Date (YYYY-MM-DD)|Version|Changed By|Change Description|\n",
    "|-|-|-|-|\n",
    "|2025-07-27|1.0|Abdul Fatir|Initial version created|\n",
    "|2025-08-02|1.1|Steve Ryan|ID review and format fixes|\n",
    "|2025-08-04|1.2|Leah Hanson|QA review and grammar/IBM style guide adherencefixes|\n",
    "</details>\n",
    "\n",
    "---\n",
    "\n"
   ]
  },
  {
   "cell_type": "markdown",
   "id": "c93f1cf7-7c99-4e73-a76a-1a2361c49e6b",
   "metadata": {},
   "source": [
    "Copyright © IBM Corporation. All rights reserved.\n"
   ]
  },
  {
   "cell_type": "code",
   "execution_count": null,
   "id": "510692ee-293c-4f7e-a685-d2e60c033f9a",
   "metadata": {},
   "outputs": [],
   "source": []
  }
 ],
 "metadata": {
  "kernelspec": {
   "display_name": "IBM_course_AgenticAI",
   "language": "python",
   "name": "python3"
  },
  "language_info": {
   "codemirror_mode": {
    "name": "ipython",
    "version": 3
   },
   "file_extension": ".py",
   "mimetype": "text/x-python",
   "name": "python",
   "nbconvert_exporter": "python",
   "pygments_lexer": "ipython3",
   "version": "3.12.9"
  },
  "prev_pub_hash": "3c70b7116cab9544e06924fc1bc724b867d8fbe08c46b9bfabe059c7bdfcc27d"
 },
 "nbformat": 4,
 "nbformat_minor": 4
}
